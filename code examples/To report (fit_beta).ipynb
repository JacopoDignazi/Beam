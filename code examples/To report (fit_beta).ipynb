{
 "cells": [
  {
   "cell_type": "code",
   "execution_count": 1,
   "id": "11228487",
   "metadata": {},
   "outputs": [],
   "source": [
    "import beam as bm\n",
    "\n",
    "\n",
    "import numpy as np\n",
    "import matplotlib.pyplot as plt\n",
    "import os    \n",
    "os.environ['KMP_DUPLICATE_LIB_OK']='True' \n",
    "\n",
    "from tqdm.notebook import tqdm"
   ]
  },
  {
   "cell_type": "code",
   "execution_count": 2,
   "id": "60056e4d",
   "metadata": {},
   "outputs": [
    {
     "name": "stdout",
     "output_type": "stream",
     "text": [
      " current OPERATION_MODE='class'\n",
      " Set OPERATION_MODE='function'\n"
     ]
    }
   ],
   "source": [
    "bm.set_operation_mode('fn')"
   ]
  },
  {
   "cell_type": "code",
   "execution_count": 3,
   "id": "f2a284c0",
   "metadata": {},
   "outputs": [],
   "source": [
    "def model_builder_bysent(sentiment_value):\n",
    "    assert np.abs(sentiment_value)<=1\n",
    "    mkt=bm.Market()\n",
    "    mkt.add_partition(1000, 'fixed_sentiment')\n",
    "    mkt.set_part_sentiment('fixed_sentiment', bm.sentiment_start_at_value(sentiment_value))\n",
    "#     mkt.add_metric('sigma_scatter', bm.mtr_sigma_scatter)\n",
    "    mkt.add_metric('avg_sigma', bm.mtr_avg_sigma)\n",
    "    mkt.add_metric('sct_abs_eq_dist', bm.mtr_sct_abs_eq_dist) #<--- tutti i valori della distanza in valore assoluto dall'equilibrio\n",
    "    mkt.add_metric('abs_avg_eq_dist', bm.mtr_abs_avg_eq_dist) #<--- valore assoluto della distanza media dall'equilibrio\n",
    "    return mkt"
   ]
  },
  {
   "cell_type": "code",
   "execution_count": 4,
   "id": "4d4182c5",
   "metadata": {},
   "outputs": [
    {
     "name": "stdout",
     "output_type": "stream",
     "text": [
      "added required result avg_price\n",
      "added required result avg_sigma\n",
      "added required result abs_avg_eq_dist\n",
      "added required result sct_abs_eq_dist\n"
     ]
    }
   ],
   "source": [
    "lab=bm.Lab(model_builder_bysent)\n",
    "# lab.add_metric('sigma_scatter')\n",
    "lab.add_metric('avg_sigma')\n",
    "# lab.add_metric('avg_eq_dist')\n",
    "lab.add_metric('abs_avg_eq_dist')\n",
    "lab.add_metric('sct_abs_eq_dist')"
   ]
  },
  {
   "cell_type": "code",
   "execution_count": 5,
   "id": "a1d3d9f6",
   "metadata": {},
   "outputs": [
    {
     "name": "stdout",
     "output_type": "stream",
     "text": [
      "sentiment_values=array([-0.9, -0.8, -0.7, -0.6, -0.5, -0.4, -0.3, -0.2, -0.1,  0. ,  0.1,\n",
      "        0.2,  0.3,  0.4,  0.5,  0.6,  0.7,  0.8,  0.9])\n"
     ]
    }
   ],
   "source": [
    "sentiment_values=np.linspace(-0.9, 0.9, 19)\n",
    "\n",
    "print(f\"{sentiment_values=}\")"
   ]
  },
  {
   "cell_type": "code",
   "execution_count": 6,
   "id": "4dc4d6b6",
   "metadata": {},
   "outputs": [
    {
     "name": "stdout",
     "output_type": "stream",
     "text": [
      "run 1 of 190 total--------------------------------sentiment_value=-0.9 iteration 1 of 10\n",
      "\n",
      "Building partition fixed_sentiment of 1000 agents\n",
      "\n",
      "  all agents tot_wealth will be: 10000\n",
      "  all agents sigma_prop will be: 0.5\n"
     ]
    },
    {
     "data": {
      "application/vnd.jupyter.widget-view+json": {
       "model_id": "90d9575191b842dabdae2fe4e5062cfe",
       "version_major": 2,
       "version_minor": 0
      },
      "text/plain": [
       "  0%|          | 0/150 [00:00<?, ?it/s]"
      ]
     },
     "metadata": {},
     "output_type": "display_data"
    },
    {
     "name": "stdout",
     "output_type": "stream",
     "text": [
      "run 2 of 190 total--------------------------------sentiment_value=-0.9 iteration 2 of 10\n",
      "\n",
      "Building partition fixed_sentiment of 1000 agents\n",
      "\n",
      "  all agents tot_wealth will be: 10000\n",
      "  all agents sigma_prop will be: 0.5\n"
     ]
    },
    {
     "data": {
      "application/vnd.jupyter.widget-view+json": {
       "model_id": "02834e80d3904ded9dfa8430a3a359ed",
       "version_major": 2,
       "version_minor": 0
      },
      "text/plain": [
       "  0%|          | 0/150 [00:00<?, ?it/s]"
      ]
     },
     "metadata": {},
     "output_type": "display_data"
    },
    {
     "name": "stdout",
     "output_type": "stream",
     "text": [
      "run 3 of 190 total--------------------------------sentiment_value=-0.9 iteration 3 of 10\n",
      "\n",
      "Building partition fixed_sentiment of 1000 agents\n",
      "\n",
      "  all agents tot_wealth will be: 10000\n",
      "  all agents sigma_prop will be: 0.5\n"
     ]
    },
    {
     "data": {
      "application/vnd.jupyter.widget-view+json": {
       "model_id": "45f36d721ced47ac8cfe8e2c042bc0ee",
       "version_major": 2,
       "version_minor": 0
      },
      "text/plain": [
       "  0%|          | 0/150 [00:00<?, ?it/s]"
      ]
     },
     "metadata": {},
     "output_type": "display_data"
    },
    {
     "name": "stdout",
     "output_type": "stream",
     "text": [
      "run 4 of 190 total--------------------------------sentiment_value=-0.9 iteration 4 of 10\n",
      "\n",
      "Building partition fixed_sentiment of 1000 agents\n",
      "\n",
      "  all agents tot_wealth will be: 10000\n",
      "  all agents sigma_prop will be: 0.5\n"
     ]
    },
    {
     "data": {
      "application/vnd.jupyter.widget-view+json": {
       "model_id": "481d111ac03a4c38bb63cd4f77165348",
       "version_major": 2,
       "version_minor": 0
      },
      "text/plain": [
       "  0%|          | 0/150 [00:00<?, ?it/s]"
      ]
     },
     "metadata": {},
     "output_type": "display_data"
    },
    {
     "name": "stdout",
     "output_type": "stream",
     "text": [
      "run 5 of 190 total--------------------------------sentiment_value=-0.9 iteration 5 of 10\n",
      "\n",
      "Building partition fixed_sentiment of 1000 agents\n",
      "\n",
      "  all agents tot_wealth will be: 10000\n",
      "  all agents sigma_prop will be: 0.5\n"
     ]
    },
    {
     "data": {
      "application/vnd.jupyter.widget-view+json": {
       "model_id": "087b4d50545544c694ac872e412a07b4",
       "version_major": 2,
       "version_minor": 0
      },
      "text/plain": [
       "  0%|          | 0/150 [00:00<?, ?it/s]"
      ]
     },
     "metadata": {},
     "output_type": "display_data"
    },
    {
     "name": "stdout",
     "output_type": "stream",
     "text": [
      "run 6 of 190 total--------------------------------sentiment_value=-0.9 iteration 6 of 10\n",
      "\n",
      "Building partition fixed_sentiment of 1000 agents\n",
      "\n",
      "  all agents tot_wealth will be: 10000\n",
      "  all agents sigma_prop will be: 0.5\n"
     ]
    },
    {
     "data": {
      "application/vnd.jupyter.widget-view+json": {
       "model_id": "a607e99feb0541ab974f256143041194",
       "version_major": 2,
       "version_minor": 0
      },
      "text/plain": [
       "  0%|          | 0/150 [00:00<?, ?it/s]"
      ]
     },
     "metadata": {},
     "output_type": "display_data"
    },
    {
     "name": "stdout",
     "output_type": "stream",
     "text": [
      "run 7 of 190 total--------------------------------sentiment_value=-0.9 iteration 7 of 10\n",
      "\n",
      "Building partition fixed_sentiment of 1000 agents\n",
      "\n",
      "  all agents tot_wealth will be: 10000\n",
      "  all agents sigma_prop will be: 0.5\n"
     ]
    },
    {
     "data": {
      "application/vnd.jupyter.widget-view+json": {
       "model_id": "4dd02234ee1f481a81b380bd75c2f25a",
       "version_major": 2,
       "version_minor": 0
      },
      "text/plain": [
       "  0%|          | 0/150 [00:00<?, ?it/s]"
      ]
     },
     "metadata": {},
     "output_type": "display_data"
    },
    {
     "name": "stdout",
     "output_type": "stream",
     "text": [
      "run 8 of 190 total--------------------------------sentiment_value=-0.9 iteration 8 of 10\n",
      "\n",
      "Building partition fixed_sentiment of 1000 agents\n",
      "\n",
      "  all agents tot_wealth will be: 10000\n",
      "  all agents sigma_prop will be: 0.5\n"
     ]
    },
    {
     "data": {
      "application/vnd.jupyter.widget-view+json": {
       "model_id": "3db66387ba8d4df7880b3fd877d96a71",
       "version_major": 2,
       "version_minor": 0
      },
      "text/plain": [
       "  0%|          | 0/150 [00:00<?, ?it/s]"
      ]
     },
     "metadata": {},
     "output_type": "display_data"
    },
    {
     "name": "stdout",
     "output_type": "stream",
     "text": [
      "run 9 of 190 total--------------------------------sentiment_value=-0.9 iteration 9 of 10\n",
      "\n",
      "Building partition fixed_sentiment of 1000 agents\n",
      "\n",
      "  all agents tot_wealth will be: 10000\n",
      "  all agents sigma_prop will be: 0.5\n"
     ]
    },
    {
     "data": {
      "application/vnd.jupyter.widget-view+json": {
       "model_id": "c5ba8b036b8a4a61b13b762fe3e186de",
       "version_major": 2,
       "version_minor": 0
      },
      "text/plain": [
       "  0%|          | 0/150 [00:00<?, ?it/s]"
      ]
     },
     "metadata": {},
     "output_type": "display_data"
    },
    {
     "name": "stdout",
     "output_type": "stream",
     "text": [
      "run 10 of 190 total-------------------------------sentiment_value=-0.9 iteration 10 of 10\n",
      "\n",
      "Building partition fixed_sentiment of 1000 agents\n",
      "\n",
      "  all agents tot_wealth will be: 10000\n",
      "  all agents sigma_prop will be: 0.5\n"
     ]
    },
    {
     "data": {
      "application/vnd.jupyter.widget-view+json": {
       "model_id": "003e3c585d7f4e64928129e26c5813bc",
       "version_major": 2,
       "version_minor": 0
      },
      "text/plain": [
       "  0%|          | 0/150 [00:00<?, ?it/s]"
      ]
     },
     "metadata": {},
     "output_type": "display_data"
    },
    {
     "name": "stdout",
     "output_type": "stream",
     "text": [
      "run 11 of 190 total-------------------------------sentiment_value=-0.8 iteration 1 of 10\n",
      "\n",
      "Building partition fixed_sentiment of 1000 agents\n",
      "\n",
      "  all agents tot_wealth will be: 10000\n",
      "  all agents sigma_prop will be: 0.5\n"
     ]
    },
    {
     "data": {
      "application/vnd.jupyter.widget-view+json": {
       "model_id": "18e13892789a45acaa3e10c194b4d11d",
       "version_major": 2,
       "version_minor": 0
      },
      "text/plain": [
       "  0%|          | 0/150 [00:00<?, ?it/s]"
      ]
     },
     "metadata": {},
     "output_type": "display_data"
    },
    {
     "name": "stdout",
     "output_type": "stream",
     "text": [
      "run 12 of 190 total-------------------------------sentiment_value=-0.8 iteration 2 of 10\n",
      "\n",
      "Building partition fixed_sentiment of 1000 agents\n",
      "\n",
      "  all agents tot_wealth will be: 10000\n",
      "  all agents sigma_prop will be: 0.5\n"
     ]
    },
    {
     "data": {
      "application/vnd.jupyter.widget-view+json": {
       "model_id": "959d8a95067c46f1ae8eec78011acb77",
       "version_major": 2,
       "version_minor": 0
      },
      "text/plain": [
       "  0%|          | 0/150 [00:00<?, ?it/s]"
      ]
     },
     "metadata": {},
     "output_type": "display_data"
    },
    {
     "name": "stdout",
     "output_type": "stream",
     "text": [
      "run 13 of 190 total-------------------------------sentiment_value=-0.8 iteration 3 of 10\n",
      "\n",
      "Building partition fixed_sentiment of 1000 agents\n",
      "\n",
      "  all agents tot_wealth will be: 10000\n",
      "  all agents sigma_prop will be: 0.5\n"
     ]
    },
    {
     "data": {
      "application/vnd.jupyter.widget-view+json": {
       "model_id": "b0b707e387ed42aea7af8d1b209fef99",
       "version_major": 2,
       "version_minor": 0
      },
      "text/plain": [
       "  0%|          | 0/150 [00:00<?, ?it/s]"
      ]
     },
     "metadata": {},
     "output_type": "display_data"
    },
    {
     "name": "stdout",
     "output_type": "stream",
     "text": [
      "run 14 of 190 total-------------------------------sentiment_value=-0.8 iteration 4 of 10\n",
      "\n",
      "Building partition fixed_sentiment of 1000 agents\n",
      "\n",
      "  all agents tot_wealth will be: 10000\n",
      "  all agents sigma_prop will be: 0.5\n"
     ]
    },
    {
     "data": {
      "application/vnd.jupyter.widget-view+json": {
       "model_id": "36ac08f06c7f4e66ad6deac42da64282",
       "version_major": 2,
       "version_minor": 0
      },
      "text/plain": [
       "  0%|          | 0/150 [00:00<?, ?it/s]"
      ]
     },
     "metadata": {},
     "output_type": "display_data"
    },
    {
     "name": "stdout",
     "output_type": "stream",
     "text": [
      "run 15 of 190 total-------------------------------sentiment_value=-0.8 iteration 5 of 10\n",
      "\n",
      "Building partition fixed_sentiment of 1000 agents\n",
      "\n",
      "  all agents tot_wealth will be: 10000\n",
      "  all agents sigma_prop will be: 0.5\n"
     ]
    },
    {
     "data": {
      "application/vnd.jupyter.widget-view+json": {
       "model_id": "738e94300b964382bbdd879ae9f512fe",
       "version_major": 2,
       "version_minor": 0
      },
      "text/plain": [
       "  0%|          | 0/150 [00:00<?, ?it/s]"
      ]
     },
     "metadata": {},
     "output_type": "display_data"
    },
    {
     "name": "stdout",
     "output_type": "stream",
     "text": [
      "run 16 of 190 total-------------------------------sentiment_value=-0.8 iteration 6 of 10\n",
      "\n",
      "Building partition fixed_sentiment of 1000 agents\n",
      "\n",
      "  all agents tot_wealth will be: 10000\n",
      "  all agents sigma_prop will be: 0.5\n"
     ]
    },
    {
     "data": {
      "application/vnd.jupyter.widget-view+json": {
       "model_id": "df8a4fde13d249fe93b4bb4768636505",
       "version_major": 2,
       "version_minor": 0
      },
      "text/plain": [
       "  0%|          | 0/150 [00:00<?, ?it/s]"
      ]
     },
     "metadata": {},
     "output_type": "display_data"
    },
    {
     "name": "stdout",
     "output_type": "stream",
     "text": [
      "run 17 of 190 total-------------------------------sentiment_value=-0.8 iteration 7 of 10\n",
      "\n",
      "Building partition fixed_sentiment of 1000 agents\n",
      "\n",
      "  all agents tot_wealth will be: 10000\n",
      "  all agents sigma_prop will be: 0.5\n"
     ]
    },
    {
     "data": {
      "application/vnd.jupyter.widget-view+json": {
       "model_id": "e9d9af4c6dfb46748353160b3bce7382",
       "version_major": 2,
       "version_minor": 0
      },
      "text/plain": [
       "  0%|          | 0/150 [00:00<?, ?it/s]"
      ]
     },
     "metadata": {},
     "output_type": "display_data"
    },
    {
     "name": "stdout",
     "output_type": "stream",
     "text": [
      "run 18 of 190 total-------------------------------sentiment_value=-0.8 iteration 8 of 10\n",
      "\n",
      "Building partition fixed_sentiment of 1000 agents\n",
      "\n",
      "  all agents tot_wealth will be: 10000\n",
      "  all agents sigma_prop will be: 0.5\n"
     ]
    },
    {
     "data": {
      "application/vnd.jupyter.widget-view+json": {
       "model_id": "5990abc4361e4020a477222f50726005",
       "version_major": 2,
       "version_minor": 0
      },
      "text/plain": [
       "  0%|          | 0/150 [00:00<?, ?it/s]"
      ]
     },
     "metadata": {},
     "output_type": "display_data"
    },
    {
     "name": "stdout",
     "output_type": "stream",
     "text": [
      "run 19 of 190 total-------------------------------sentiment_value=-0.8 iteration 9 of 10\n",
      "\n",
      "Building partition fixed_sentiment of 1000 agents\n",
      "\n",
      "  all agents tot_wealth will be: 10000\n",
      "  all agents sigma_prop will be: 0.5\n"
     ]
    },
    {
     "data": {
      "application/vnd.jupyter.widget-view+json": {
       "model_id": "c1aff9501a3041f6a35e3706e4fe2dd3",
       "version_major": 2,
       "version_minor": 0
      },
      "text/plain": [
       "  0%|          | 0/150 [00:00<?, ?it/s]"
      ]
     },
     "metadata": {},
     "output_type": "display_data"
    },
    {
     "name": "stdout",
     "output_type": "stream",
     "text": [
      "run 20 of 190 total-------------------------------sentiment_value=-0.8 iteration 10 of 10\n",
      "\n",
      "Building partition fixed_sentiment of 1000 agents\n",
      "\n",
      "  all agents tot_wealth will be: 10000\n",
      "  all agents sigma_prop will be: 0.5\n"
     ]
    },
    {
     "data": {
      "application/vnd.jupyter.widget-view+json": {
       "model_id": "b0ae64fb36ad41ffbcc81f70f19e94a8",
       "version_major": 2,
       "version_minor": 0
      },
      "text/plain": [
       "  0%|          | 0/150 [00:00<?, ?it/s]"
      ]
     },
     "metadata": {},
     "output_type": "display_data"
    },
    {
     "name": "stdout",
     "output_type": "stream",
     "text": [
      "run 21 of 190 total-------------------------------sentiment_value=-0.7 iteration 1 of 10\n",
      "\n",
      "Building partition fixed_sentiment of 1000 agents\n",
      "\n",
      "  all agents tot_wealth will be: 10000\n",
      "  all agents sigma_prop will be: 0.5\n"
     ]
    },
    {
     "data": {
      "application/vnd.jupyter.widget-view+json": {
       "model_id": "dacfd1b8840c4cd5ac212fb33659ffbe",
       "version_major": 2,
       "version_minor": 0
      },
      "text/plain": [
       "  0%|          | 0/150 [00:00<?, ?it/s]"
      ]
     },
     "metadata": {},
     "output_type": "display_data"
    },
    {
     "name": "stdout",
     "output_type": "stream",
     "text": [
      "run 22 of 190 total-------------------------------sentiment_value=-0.7 iteration 2 of 10\n",
      "\n",
      "Building partition fixed_sentiment of 1000 agents\n",
      "\n",
      "  all agents tot_wealth will be: 10000\n",
      "  all agents sigma_prop will be: 0.5\n"
     ]
    },
    {
     "data": {
      "application/vnd.jupyter.widget-view+json": {
       "model_id": "58d79209a6df47ea8f6d205a15a8c735",
       "version_major": 2,
       "version_minor": 0
      },
      "text/plain": [
       "  0%|          | 0/150 [00:00<?, ?it/s]"
      ]
     },
     "metadata": {},
     "output_type": "display_data"
    },
    {
     "name": "stdout",
     "output_type": "stream",
     "text": [
      "run 23 of 190 total-------------------------------sentiment_value=-0.7 iteration 3 of 10\n",
      "\n",
      "Building partition fixed_sentiment of 1000 agents\n",
      "\n",
      "  all agents tot_wealth will be: 10000\n",
      "  all agents sigma_prop will be: 0.5\n"
     ]
    },
    {
     "data": {
      "application/vnd.jupyter.widget-view+json": {
       "model_id": "47ae2edd922a4c93aef59590a460461c",
       "version_major": 2,
       "version_minor": 0
      },
      "text/plain": [
       "  0%|          | 0/150 [00:00<?, ?it/s]"
      ]
     },
     "metadata": {},
     "output_type": "display_data"
    },
    {
     "name": "stdout",
     "output_type": "stream",
     "text": [
      "run 24 of 190 total-------------------------------sentiment_value=-0.7 iteration 4 of 10\n",
      "\n",
      "Building partition fixed_sentiment of 1000 agents\n",
      "\n",
      "  all agents tot_wealth will be: 10000\n",
      "  all agents sigma_prop will be: 0.5\n"
     ]
    },
    {
     "data": {
      "application/vnd.jupyter.widget-view+json": {
       "model_id": "271b0351597c4d26bac65a793786e66d",
       "version_major": 2,
       "version_minor": 0
      },
      "text/plain": [
       "  0%|          | 0/150 [00:00<?, ?it/s]"
      ]
     },
     "metadata": {},
     "output_type": "display_data"
    },
    {
     "name": "stdout",
     "output_type": "stream",
     "text": [
      "run 25 of 190 total-------------------------------sentiment_value=-0.7 iteration 5 of 10\n",
      "\n",
      "Building partition fixed_sentiment of 1000 agents\n",
      "\n",
      "  all agents tot_wealth will be: 10000\n",
      "  all agents sigma_prop will be: 0.5\n"
     ]
    },
    {
     "data": {
      "application/vnd.jupyter.widget-view+json": {
       "model_id": "c95ef0e1a88e4a7dbf4be106f23b8cdc",
       "version_major": 2,
       "version_minor": 0
      },
      "text/plain": [
       "  0%|          | 0/150 [00:00<?, ?it/s]"
      ]
     },
     "metadata": {},
     "output_type": "display_data"
    },
    {
     "name": "stdout",
     "output_type": "stream",
     "text": [
      "run 26 of 190 total-------------------------------sentiment_value=-0.7 iteration 6 of 10\n",
      "\n",
      "Building partition fixed_sentiment of 1000 agents\n",
      "\n",
      "  all agents tot_wealth will be: 10000\n",
      "  all agents sigma_prop will be: 0.5\n"
     ]
    },
    {
     "data": {
      "application/vnd.jupyter.widget-view+json": {
       "model_id": "2d1b0832896c409bb586039cf4cd2e7f",
       "version_major": 2,
       "version_minor": 0
      },
      "text/plain": [
       "  0%|          | 0/150 [00:00<?, ?it/s]"
      ]
     },
     "metadata": {},
     "output_type": "display_data"
    },
    {
     "name": "stdout",
     "output_type": "stream",
     "text": [
      "run 27 of 190 total-------------------------------sentiment_value=-0.7 iteration 7 of 10\n",
      "\n",
      "Building partition fixed_sentiment of 1000 agents\n",
      "\n",
      "  all agents tot_wealth will be: 10000\n",
      "  all agents sigma_prop will be: 0.5\n"
     ]
    },
    {
     "data": {
      "application/vnd.jupyter.widget-view+json": {
       "model_id": "f1dedf79618141a9b329bc9f18f88784",
       "version_major": 2,
       "version_minor": 0
      },
      "text/plain": [
       "  0%|          | 0/150 [00:00<?, ?it/s]"
      ]
     },
     "metadata": {},
     "output_type": "display_data"
    },
    {
     "name": "stdout",
     "output_type": "stream",
     "text": [
      "run 28 of 190 total-------------------------------sentiment_value=-0.7 iteration 8 of 10\n",
      "\n",
      "Building partition fixed_sentiment of 1000 agents\n",
      "\n",
      "  all agents tot_wealth will be: 10000\n",
      "  all agents sigma_prop will be: 0.5\n"
     ]
    },
    {
     "data": {
      "application/vnd.jupyter.widget-view+json": {
       "model_id": "9928cd2a525c4b0f843e1f730e81a11c",
       "version_major": 2,
       "version_minor": 0
      },
      "text/plain": [
       "  0%|          | 0/150 [00:00<?, ?it/s]"
      ]
     },
     "metadata": {},
     "output_type": "display_data"
    },
    {
     "name": "stdout",
     "output_type": "stream",
     "text": [
      "run 29 of 190 total-------------------------------sentiment_value=-0.7 iteration 9 of 10\n",
      "\n",
      "Building partition fixed_sentiment of 1000 agents\n",
      "\n",
      "  all agents tot_wealth will be: 10000\n",
      "  all agents sigma_prop will be: 0.5\n"
     ]
    },
    {
     "data": {
      "application/vnd.jupyter.widget-view+json": {
       "model_id": "f43d11c5b3bf48f383f024fa17b0688e",
       "version_major": 2,
       "version_minor": 0
      },
      "text/plain": [
       "  0%|          | 0/150 [00:00<?, ?it/s]"
      ]
     },
     "metadata": {},
     "output_type": "display_data"
    },
    {
     "name": "stdout",
     "output_type": "stream",
     "text": [
      "run 30 of 190 total-------------------------------sentiment_value=-0.7 iteration 10 of 10\n",
      "\n",
      "Building partition fixed_sentiment of 1000 agents\n",
      "\n",
      "  all agents tot_wealth will be: 10000\n",
      "  all agents sigma_prop will be: 0.5\n"
     ]
    },
    {
     "data": {
      "application/vnd.jupyter.widget-view+json": {
       "model_id": "1362506fb83742e99c3b92eef15adb06",
       "version_major": 2,
       "version_minor": 0
      },
      "text/plain": [
       "  0%|          | 0/150 [00:00<?, ?it/s]"
      ]
     },
     "metadata": {},
     "output_type": "display_data"
    },
    {
     "name": "stdout",
     "output_type": "stream",
     "text": [
      "run 31 of 190 total-------------------------------sentiment_value=-0.6 iteration 1 of 10\n",
      "\n",
      "Building partition fixed_sentiment of 1000 agents\n",
      "\n",
      "  all agents tot_wealth will be: 10000\n",
      "  all agents sigma_prop will be: 0.5\n"
     ]
    },
    {
     "data": {
      "application/vnd.jupyter.widget-view+json": {
       "model_id": "613740694f1b49118dc77cce1c5327c3",
       "version_major": 2,
       "version_minor": 0
      },
      "text/plain": [
       "  0%|          | 0/150 [00:00<?, ?it/s]"
      ]
     },
     "metadata": {},
     "output_type": "display_data"
    },
    {
     "name": "stdout",
     "output_type": "stream",
     "text": [
      "run 32 of 190 total-------------------------------sentiment_value=-0.6 iteration 2 of 10\n",
      "\n",
      "Building partition fixed_sentiment of 1000 agents\n",
      "\n",
      "  all agents tot_wealth will be: 10000\n",
      "  all agents sigma_prop will be: 0.5\n"
     ]
    },
    {
     "data": {
      "application/vnd.jupyter.widget-view+json": {
       "model_id": "cfbd0853062c487898f69141d71c9268",
       "version_major": 2,
       "version_minor": 0
      },
      "text/plain": [
       "  0%|          | 0/150 [00:00<?, ?it/s]"
      ]
     },
     "metadata": {},
     "output_type": "display_data"
    },
    {
     "name": "stdout",
     "output_type": "stream",
     "text": [
      "run 33 of 190 total-------------------------------sentiment_value=-0.6 iteration 3 of 10\n",
      "\n",
      "Building partition fixed_sentiment of 1000 agents\n",
      "\n",
      "  all agents tot_wealth will be: 10000\n",
      "  all agents sigma_prop will be: 0.5\n"
     ]
    },
    {
     "data": {
      "application/vnd.jupyter.widget-view+json": {
       "model_id": "1a7d2cde1b1244d1b3be733dcec410f3",
       "version_major": 2,
       "version_minor": 0
      },
      "text/plain": [
       "  0%|          | 0/150 [00:00<?, ?it/s]"
      ]
     },
     "metadata": {},
     "output_type": "display_data"
    },
    {
     "name": "stdout",
     "output_type": "stream",
     "text": [
      "run 34 of 190 total-------------------------------sentiment_value=-0.6 iteration 4 of 10\n",
      "\n",
      "Building partition fixed_sentiment of 1000 agents\n",
      "\n",
      "  all agents tot_wealth will be: 10000\n",
      "  all agents sigma_prop will be: 0.5\n"
     ]
    },
    {
     "data": {
      "application/vnd.jupyter.widget-view+json": {
       "model_id": "bd574c267b974c64a522c4f25c02c55f",
       "version_major": 2,
       "version_minor": 0
      },
      "text/plain": [
       "  0%|          | 0/150 [00:00<?, ?it/s]"
      ]
     },
     "metadata": {},
     "output_type": "display_data"
    },
    {
     "name": "stdout",
     "output_type": "stream",
     "text": [
      "run 35 of 190 total-------------------------------sentiment_value=-0.6 iteration 5 of 10\n",
      "\n",
      "Building partition fixed_sentiment of 1000 agents\n",
      "\n",
      "  all agents tot_wealth will be: 10000\n",
      "  all agents sigma_prop will be: 0.5\n"
     ]
    },
    {
     "data": {
      "application/vnd.jupyter.widget-view+json": {
       "model_id": "01978a658d6c4e4b9bf99b21526cd5da",
       "version_major": 2,
       "version_minor": 0
      },
      "text/plain": [
       "  0%|          | 0/150 [00:00<?, ?it/s]"
      ]
     },
     "metadata": {},
     "output_type": "display_data"
    },
    {
     "name": "stdout",
     "output_type": "stream",
     "text": [
      "run 36 of 190 total-------------------------------sentiment_value=-0.6 iteration 6 of 10\n",
      "\n",
      "Building partition fixed_sentiment of 1000 agents\n",
      "\n",
      "  all agents tot_wealth will be: 10000\n",
      "  all agents sigma_prop will be: 0.5\n"
     ]
    },
    {
     "data": {
      "application/vnd.jupyter.widget-view+json": {
       "model_id": "840c5b7217ee409f84055f6d0fcaa2f8",
       "version_major": 2,
       "version_minor": 0
      },
      "text/plain": [
       "  0%|          | 0/150 [00:00<?, ?it/s]"
      ]
     },
     "metadata": {},
     "output_type": "display_data"
    },
    {
     "name": "stdout",
     "output_type": "stream",
     "text": [
      "run 37 of 190 total-------------------------------sentiment_value=-0.6 iteration 7 of 10\n",
      "\n",
      "Building partition fixed_sentiment of 1000 agents\n",
      "\n",
      "  all agents tot_wealth will be: 10000\n",
      "  all agents sigma_prop will be: 0.5\n"
     ]
    },
    {
     "data": {
      "application/vnd.jupyter.widget-view+json": {
       "model_id": "46ac7db42ba44e6591715c0465be32a7",
       "version_major": 2,
       "version_minor": 0
      },
      "text/plain": [
       "  0%|          | 0/150 [00:00<?, ?it/s]"
      ]
     },
     "metadata": {},
     "output_type": "display_data"
    },
    {
     "name": "stdout",
     "output_type": "stream",
     "text": [
      "run 38 of 190 total-------------------------------sentiment_value=-0.6 iteration 8 of 10\n",
      "\n",
      "Building partition fixed_sentiment of 1000 agents\n",
      "\n",
      "  all agents tot_wealth will be: 10000\n",
      "  all agents sigma_prop will be: 0.5\n"
     ]
    },
    {
     "data": {
      "application/vnd.jupyter.widget-view+json": {
       "model_id": "bbbd598b07944a0cb7e46fde9202c5b8",
       "version_major": 2,
       "version_minor": 0
      },
      "text/plain": [
       "  0%|          | 0/150 [00:00<?, ?it/s]"
      ]
     },
     "metadata": {},
     "output_type": "display_data"
    },
    {
     "name": "stdout",
     "output_type": "stream",
     "text": [
      "run 39 of 190 total-------------------------------sentiment_value=-0.6 iteration 9 of 10\n",
      "\n",
      "Building partition fixed_sentiment of 1000 agents\n",
      "\n",
      "  all agents tot_wealth will be: 10000\n",
      "  all agents sigma_prop will be: 0.5\n"
     ]
    },
    {
     "data": {
      "application/vnd.jupyter.widget-view+json": {
       "model_id": "0658896440e14010a1fc8019fe188d5a",
       "version_major": 2,
       "version_minor": 0
      },
      "text/plain": [
       "  0%|          | 0/150 [00:00<?, ?it/s]"
      ]
     },
     "metadata": {},
     "output_type": "display_data"
    },
    {
     "name": "stdout",
     "output_type": "stream",
     "text": [
      "run 40 of 190 total-------------------------------sentiment_value=-0.6 iteration 10 of 10\n",
      "\n",
      "Building partition fixed_sentiment of 1000 agents\n",
      "\n",
      "  all agents tot_wealth will be: 10000\n",
      "  all agents sigma_prop will be: 0.5\n"
     ]
    },
    {
     "data": {
      "application/vnd.jupyter.widget-view+json": {
       "model_id": "7706946db5034d4cade3ac4f42ef2613",
       "version_major": 2,
       "version_minor": 0
      },
      "text/plain": [
       "  0%|          | 0/150 [00:00<?, ?it/s]"
      ]
     },
     "metadata": {},
     "output_type": "display_data"
    },
    {
     "name": "stdout",
     "output_type": "stream",
     "text": [
      "run 41 of 190 total-------------------------------sentiment_value=-0.5 iteration 1 of 10\n",
      "\n",
      "Building partition fixed_sentiment of 1000 agents\n",
      "\n",
      "  all agents tot_wealth will be: 10000\n",
      "  all agents sigma_prop will be: 0.5\n"
     ]
    },
    {
     "data": {
      "application/vnd.jupyter.widget-view+json": {
       "model_id": "45747bf5b3b443a6b5a9953b32527809",
       "version_major": 2,
       "version_minor": 0
      },
      "text/plain": [
       "  0%|          | 0/150 [00:00<?, ?it/s]"
      ]
     },
     "metadata": {},
     "output_type": "display_data"
    },
    {
     "name": "stdout",
     "output_type": "stream",
     "text": [
      "run 42 of 190 total-------------------------------sentiment_value=-0.5 iteration 2 of 10\n",
      "\n",
      "Building partition fixed_sentiment of 1000 agents\n",
      "\n",
      "  all agents tot_wealth will be: 10000\n",
      "  all agents sigma_prop will be: 0.5\n"
     ]
    },
    {
     "data": {
      "application/vnd.jupyter.widget-view+json": {
       "model_id": "70ac2f36438f4e179a1d0c500819e482",
       "version_major": 2,
       "version_minor": 0
      },
      "text/plain": [
       "  0%|          | 0/150 [00:00<?, ?it/s]"
      ]
     },
     "metadata": {},
     "output_type": "display_data"
    },
    {
     "name": "stdout",
     "output_type": "stream",
     "text": [
      "run 43 of 190 total-------------------------------sentiment_value=-0.5 iteration 3 of 10\n",
      "\n",
      "Building partition fixed_sentiment of 1000 agents\n",
      "\n",
      "  all agents tot_wealth will be: 10000\n",
      "  all agents sigma_prop will be: 0.5\n"
     ]
    },
    {
     "data": {
      "application/vnd.jupyter.widget-view+json": {
       "model_id": "761c7250e1384cacadbe95c92320d514",
       "version_major": 2,
       "version_minor": 0
      },
      "text/plain": [
       "  0%|          | 0/150 [00:00<?, ?it/s]"
      ]
     },
     "metadata": {},
     "output_type": "display_data"
    },
    {
     "name": "stdout",
     "output_type": "stream",
     "text": [
      "run 44 of 190 total-------------------------------sentiment_value=-0.5 iteration 4 of 10\n",
      "\n",
      "Building partition fixed_sentiment of 1000 agents\n",
      "\n",
      "  all agents tot_wealth will be: 10000\n",
      "  all agents sigma_prop will be: 0.5\n"
     ]
    },
    {
     "data": {
      "application/vnd.jupyter.widget-view+json": {
       "model_id": "d7d2c5cab68f4864918c64b9873ee97d",
       "version_major": 2,
       "version_minor": 0
      },
      "text/plain": [
       "  0%|          | 0/150 [00:00<?, ?it/s]"
      ]
     },
     "metadata": {},
     "output_type": "display_data"
    },
    {
     "name": "stdout",
     "output_type": "stream",
     "text": [
      "run 45 of 190 total-------------------------------sentiment_value=-0.5 iteration 5 of 10\n",
      "\n",
      "Building partition fixed_sentiment of 1000 agents\n",
      "\n",
      "  all agents tot_wealth will be: 10000\n",
      "  all agents sigma_prop will be: 0.5\n"
     ]
    },
    {
     "data": {
      "application/vnd.jupyter.widget-view+json": {
       "model_id": "00b7d7aef0484a0caff87aff2bb5c1ea",
       "version_major": 2,
       "version_minor": 0
      },
      "text/plain": [
       "  0%|          | 0/150 [00:00<?, ?it/s]"
      ]
     },
     "metadata": {},
     "output_type": "display_data"
    },
    {
     "name": "stdout",
     "output_type": "stream",
     "text": [
      "run 46 of 190 total-------------------------------sentiment_value=-0.5 iteration 6 of 10\n",
      "\n",
      "Building partition fixed_sentiment of 1000 agents\n",
      "\n",
      "  all agents tot_wealth will be: 10000\n",
      "  all agents sigma_prop will be: 0.5\n"
     ]
    },
    {
     "data": {
      "application/vnd.jupyter.widget-view+json": {
       "model_id": "9de58187bc554640b8c6a3b127114a3a",
       "version_major": 2,
       "version_minor": 0
      },
      "text/plain": [
       "  0%|          | 0/150 [00:00<?, ?it/s]"
      ]
     },
     "metadata": {},
     "output_type": "display_data"
    },
    {
     "name": "stdout",
     "output_type": "stream",
     "text": [
      "run 47 of 190 total-------------------------------sentiment_value=-0.5 iteration 7 of 10\n",
      "\n",
      "Building partition fixed_sentiment of 1000 agents\n",
      "\n",
      "  all agents tot_wealth will be: 10000\n",
      "  all agents sigma_prop will be: 0.5\n"
     ]
    },
    {
     "data": {
      "application/vnd.jupyter.widget-view+json": {
       "model_id": "e68070a608c14012b1e7dcd8d4299ad3",
       "version_major": 2,
       "version_minor": 0
      },
      "text/plain": [
       "  0%|          | 0/150 [00:00<?, ?it/s]"
      ]
     },
     "metadata": {},
     "output_type": "display_data"
    },
    {
     "name": "stdout",
     "output_type": "stream",
     "text": [
      "run 48 of 190 total-------------------------------sentiment_value=-0.5 iteration 8 of 10\n",
      "\n",
      "Building partition fixed_sentiment of 1000 agents\n",
      "\n",
      "  all agents tot_wealth will be: 10000\n",
      "  all agents sigma_prop will be: 0.5\n"
     ]
    },
    {
     "data": {
      "application/vnd.jupyter.widget-view+json": {
       "model_id": "81968ffb9a724a94b9151503a6d22425",
       "version_major": 2,
       "version_minor": 0
      },
      "text/plain": [
       "  0%|          | 0/150 [00:00<?, ?it/s]"
      ]
     },
     "metadata": {},
     "output_type": "display_data"
    },
    {
     "name": "stdout",
     "output_type": "stream",
     "text": [
      "run 49 of 190 total-------------------------------sentiment_value=-0.5 iteration 9 of 10\n",
      "\n",
      "Building partition fixed_sentiment of 1000 agents\n",
      "\n",
      "  all agents tot_wealth will be: 10000\n",
      "  all agents sigma_prop will be: 0.5\n"
     ]
    },
    {
     "data": {
      "application/vnd.jupyter.widget-view+json": {
       "model_id": "e71ceb7b5ba2471e865f19a94dd1c2ff",
       "version_major": 2,
       "version_minor": 0
      },
      "text/plain": [
       "  0%|          | 0/150 [00:00<?, ?it/s]"
      ]
     },
     "metadata": {},
     "output_type": "display_data"
    },
    {
     "name": "stdout",
     "output_type": "stream",
     "text": [
      "run 50 of 190 total-------------------------------sentiment_value=-0.5 iteration 10 of 10\n",
      "\n",
      "Building partition fixed_sentiment of 1000 agents\n",
      "\n",
      "  all agents tot_wealth will be: 10000\n",
      "  all agents sigma_prop will be: 0.5\n"
     ]
    },
    {
     "data": {
      "application/vnd.jupyter.widget-view+json": {
       "model_id": "ae839d306f1a449ab202d836124a16a7",
       "version_major": 2,
       "version_minor": 0
      },
      "text/plain": [
       "  0%|          | 0/150 [00:00<?, ?it/s]"
      ]
     },
     "metadata": {},
     "output_type": "display_data"
    },
    {
     "name": "stdout",
     "output_type": "stream",
     "text": [
      "run 51 of 190 total-------------------------------sentiment_value=-0.4 iteration 1 of 10\n",
      "\n",
      "Building partition fixed_sentiment of 1000 agents\n",
      "\n",
      "  all agents tot_wealth will be: 10000\n",
      "  all agents sigma_prop will be: 0.5\n"
     ]
    },
    {
     "data": {
      "application/vnd.jupyter.widget-view+json": {
       "model_id": "8c45a6379095435aa338eda44c7b372e",
       "version_major": 2,
       "version_minor": 0
      },
      "text/plain": [
       "  0%|          | 0/150 [00:00<?, ?it/s]"
      ]
     },
     "metadata": {},
     "output_type": "display_data"
    },
    {
     "name": "stdout",
     "output_type": "stream",
     "text": [
      "run 52 of 190 total-------------------------------sentiment_value=-0.4 iteration 2 of 10\n",
      "\n",
      "Building partition fixed_sentiment of 1000 agents\n",
      "\n",
      "  all agents tot_wealth will be: 10000\n",
      "  all agents sigma_prop will be: 0.5\n"
     ]
    },
    {
     "data": {
      "application/vnd.jupyter.widget-view+json": {
       "model_id": "cd469f31dd404e699b2cc556c5a67af0",
       "version_major": 2,
       "version_minor": 0
      },
      "text/plain": [
       "  0%|          | 0/150 [00:00<?, ?it/s]"
      ]
     },
     "metadata": {},
     "output_type": "display_data"
    },
    {
     "name": "stdout",
     "output_type": "stream",
     "text": [
      "run 53 of 190 total-------------------------------sentiment_value=-0.4 iteration 3 of 10\n",
      "\n",
      "Building partition fixed_sentiment of 1000 agents\n",
      "\n",
      "  all agents tot_wealth will be: 10000\n",
      "  all agents sigma_prop will be: 0.5\n"
     ]
    },
    {
     "data": {
      "application/vnd.jupyter.widget-view+json": {
       "model_id": "da30110d5dec456baad4481a3dba3938",
       "version_major": 2,
       "version_minor": 0
      },
      "text/plain": [
       "  0%|          | 0/150 [00:00<?, ?it/s]"
      ]
     },
     "metadata": {},
     "output_type": "display_data"
    },
    {
     "name": "stdout",
     "output_type": "stream",
     "text": [
      "run 54 of 190 total-------------------------------sentiment_value=-0.4 iteration 4 of 10\n",
      "\n",
      "Building partition fixed_sentiment of 1000 agents\n",
      "\n",
      "  all agents tot_wealth will be: 10000\n",
      "  all agents sigma_prop will be: 0.5\n"
     ]
    },
    {
     "data": {
      "application/vnd.jupyter.widget-view+json": {
       "model_id": "76ab460ee0764a2396540f5283530eb4",
       "version_major": 2,
       "version_minor": 0
      },
      "text/plain": [
       "  0%|          | 0/150 [00:00<?, ?it/s]"
      ]
     },
     "metadata": {},
     "output_type": "display_data"
    },
    {
     "name": "stdout",
     "output_type": "stream",
     "text": [
      "run 55 of 190 total-------------------------------sentiment_value=-0.4 iteration 5 of 10\n",
      "\n",
      "Building partition fixed_sentiment of 1000 agents\n",
      "\n",
      "  all agents tot_wealth will be: 10000\n",
      "  all agents sigma_prop will be: 0.5\n"
     ]
    },
    {
     "data": {
      "application/vnd.jupyter.widget-view+json": {
       "model_id": "8e1a13be2958427089b5ce6548d3f50d",
       "version_major": 2,
       "version_minor": 0
      },
      "text/plain": [
       "  0%|          | 0/150 [00:00<?, ?it/s]"
      ]
     },
     "metadata": {},
     "output_type": "display_data"
    },
    {
     "name": "stdout",
     "output_type": "stream",
     "text": [
      "run 56 of 190 total-------------------------------sentiment_value=-0.4 iteration 6 of 10\n",
      "\n",
      "Building partition fixed_sentiment of 1000 agents\n",
      "\n",
      "  all agents tot_wealth will be: 10000\n",
      "  all agents sigma_prop will be: 0.5\n"
     ]
    },
    {
     "data": {
      "application/vnd.jupyter.widget-view+json": {
       "model_id": "c0c0766a211b4a2da28d43480bd95037",
       "version_major": 2,
       "version_minor": 0
      },
      "text/plain": [
       "  0%|          | 0/150 [00:00<?, ?it/s]"
      ]
     },
     "metadata": {},
     "output_type": "display_data"
    },
    {
     "name": "stdout",
     "output_type": "stream",
     "text": [
      "run 57 of 190 total-------------------------------sentiment_value=-0.4 iteration 7 of 10\n",
      "\n",
      "Building partition fixed_sentiment of 1000 agents\n",
      "\n",
      "  all agents tot_wealth will be: 10000\n",
      "  all agents sigma_prop will be: 0.5\n"
     ]
    },
    {
     "data": {
      "application/vnd.jupyter.widget-view+json": {
       "model_id": "7b848e4f11184998a1753397742a71fd",
       "version_major": 2,
       "version_minor": 0
      },
      "text/plain": [
       "  0%|          | 0/150 [00:00<?, ?it/s]"
      ]
     },
     "metadata": {},
     "output_type": "display_data"
    },
    {
     "name": "stdout",
     "output_type": "stream",
     "text": [
      "run 58 of 190 total-------------------------------sentiment_value=-0.4 iteration 8 of 10\n",
      "\n",
      "Building partition fixed_sentiment of 1000 agents\n",
      "\n",
      "  all agents tot_wealth will be: 10000\n",
      "  all agents sigma_prop will be: 0.5\n"
     ]
    },
    {
     "data": {
      "application/vnd.jupyter.widget-view+json": {
       "model_id": "15c6e9227acd44d0990b07a264e69259",
       "version_major": 2,
       "version_minor": 0
      },
      "text/plain": [
       "  0%|          | 0/150 [00:00<?, ?it/s]"
      ]
     },
     "metadata": {},
     "output_type": "display_data"
    },
    {
     "name": "stdout",
     "output_type": "stream",
     "text": [
      "run 59 of 190 total-------------------------------sentiment_value=-0.4 iteration 9 of 10\n",
      "\n",
      "Building partition fixed_sentiment of 1000 agents\n",
      "\n",
      "  all agents tot_wealth will be: 10000\n",
      "  all agents sigma_prop will be: 0.5\n"
     ]
    },
    {
     "data": {
      "application/vnd.jupyter.widget-view+json": {
       "model_id": "437943486d4a413286cc4688b84dca12",
       "version_major": 2,
       "version_minor": 0
      },
      "text/plain": [
       "  0%|          | 0/150 [00:00<?, ?it/s]"
      ]
     },
     "metadata": {},
     "output_type": "display_data"
    },
    {
     "name": "stdout",
     "output_type": "stream",
     "text": [
      "run 60 of 190 total-------------------------------sentiment_value=-0.4 iteration 10 of 10\n",
      "\n",
      "Building partition fixed_sentiment of 1000 agents\n",
      "\n",
      "  all agents tot_wealth will be: 10000\n",
      "  all agents sigma_prop will be: 0.5\n"
     ]
    },
    {
     "data": {
      "application/vnd.jupyter.widget-view+json": {
       "model_id": "09b74b37c62d45e4b5facd171e41ce54",
       "version_major": 2,
       "version_minor": 0
      },
      "text/plain": [
       "  0%|          | 0/150 [00:00<?, ?it/s]"
      ]
     },
     "metadata": {},
     "output_type": "display_data"
    },
    {
     "name": "stdout",
     "output_type": "stream",
     "text": [
      "run 61 of 190 total-------------------------------sentiment_value=-0.29999999999999993 iteration 1 of 10\n",
      "\n",
      "Building partition fixed_sentiment of 1000 agents\n",
      "\n",
      "  all agents tot_wealth will be: 10000\n",
      "  all agents sigma_prop will be: 0.5\n"
     ]
    },
    {
     "data": {
      "application/vnd.jupyter.widget-view+json": {
       "model_id": "782bd48554334f6baa9f51357d824374",
       "version_major": 2,
       "version_minor": 0
      },
      "text/plain": [
       "  0%|          | 0/150 [00:00<?, ?it/s]"
      ]
     },
     "metadata": {},
     "output_type": "display_data"
    },
    {
     "name": "stdout",
     "output_type": "stream",
     "text": [
      "run 62 of 190 total-------------------------------sentiment_value=-0.29999999999999993 iteration 2 of 10\n",
      "\n",
      "Building partition fixed_sentiment of 1000 agents\n",
      "\n",
      "  all agents tot_wealth will be: 10000\n",
      "  all agents sigma_prop will be: 0.5\n"
     ]
    },
    {
     "data": {
      "application/vnd.jupyter.widget-view+json": {
       "model_id": "79052ba9c6fa4aa18b2e0d017b0b82b1",
       "version_major": 2,
       "version_minor": 0
      },
      "text/plain": [
       "  0%|          | 0/150 [00:00<?, ?it/s]"
      ]
     },
     "metadata": {},
     "output_type": "display_data"
    },
    {
     "name": "stdout",
     "output_type": "stream",
     "text": [
      "run 63 of 190 total-------------------------------sentiment_value=-0.29999999999999993 iteration 3 of 10\n",
      "\n",
      "Building partition fixed_sentiment of 1000 agents\n",
      "\n",
      "  all agents tot_wealth will be: 10000\n",
      "  all agents sigma_prop will be: 0.5\n"
     ]
    },
    {
     "data": {
      "application/vnd.jupyter.widget-view+json": {
       "model_id": "e3d000faea304f28b20ae3152246622f",
       "version_major": 2,
       "version_minor": 0
      },
      "text/plain": [
       "  0%|          | 0/150 [00:00<?, ?it/s]"
      ]
     },
     "metadata": {},
     "output_type": "display_data"
    },
    {
     "name": "stdout",
     "output_type": "stream",
     "text": [
      "run 64 of 190 total-------------------------------sentiment_value=-0.29999999999999993 iteration 4 of 10\n",
      "\n",
      "Building partition fixed_sentiment of 1000 agents\n",
      "\n",
      "  all agents tot_wealth will be: 10000\n",
      "  all agents sigma_prop will be: 0.5\n"
     ]
    },
    {
     "data": {
      "application/vnd.jupyter.widget-view+json": {
       "model_id": "05c96adb856e4ad1b7bc704f2e7ea188",
       "version_major": 2,
       "version_minor": 0
      },
      "text/plain": [
       "  0%|          | 0/150 [00:00<?, ?it/s]"
      ]
     },
     "metadata": {},
     "output_type": "display_data"
    },
    {
     "name": "stdout",
     "output_type": "stream",
     "text": [
      "run 65 of 190 total-------------------------------sentiment_value=-0.29999999999999993 iteration 5 of 10\n",
      "\n",
      "Building partition fixed_sentiment of 1000 agents\n",
      "\n",
      "  all agents tot_wealth will be: 10000\n",
      "  all agents sigma_prop will be: 0.5\n"
     ]
    },
    {
     "data": {
      "application/vnd.jupyter.widget-view+json": {
       "model_id": "01e3c07e3a424941a3e0c38c3ff5a677",
       "version_major": 2,
       "version_minor": 0
      },
      "text/plain": [
       "  0%|          | 0/150 [00:00<?, ?it/s]"
      ]
     },
     "metadata": {},
     "output_type": "display_data"
    },
    {
     "name": "stdout",
     "output_type": "stream",
     "text": [
      "run 66 of 190 total-------------------------------sentiment_value=-0.29999999999999993 iteration 6 of 10\n",
      "\n",
      "Building partition fixed_sentiment of 1000 agents\n",
      "\n",
      "  all agents tot_wealth will be: 10000\n",
      "  all agents sigma_prop will be: 0.5\n"
     ]
    },
    {
     "data": {
      "application/vnd.jupyter.widget-view+json": {
       "model_id": "779a76913d694c87ad1d118726b4e853",
       "version_major": 2,
       "version_minor": 0
      },
      "text/plain": [
       "  0%|          | 0/150 [00:00<?, ?it/s]"
      ]
     },
     "metadata": {},
     "output_type": "display_data"
    },
    {
     "name": "stdout",
     "output_type": "stream",
     "text": [
      "run 67 of 190 total-------------------------------sentiment_value=-0.29999999999999993 iteration 7 of 10\n",
      "\n",
      "Building partition fixed_sentiment of 1000 agents\n",
      "\n",
      "  all agents tot_wealth will be: 10000\n",
      "  all agents sigma_prop will be: 0.5\n"
     ]
    },
    {
     "data": {
      "application/vnd.jupyter.widget-view+json": {
       "model_id": "db5e4b4a1db9486a8191b4cf9debe8c7",
       "version_major": 2,
       "version_minor": 0
      },
      "text/plain": [
       "  0%|          | 0/150 [00:00<?, ?it/s]"
      ]
     },
     "metadata": {},
     "output_type": "display_data"
    },
    {
     "name": "stdout",
     "output_type": "stream",
     "text": [
      "run 68 of 190 total-------------------------------sentiment_value=-0.29999999999999993 iteration 8 of 10\n",
      "\n",
      "Building partition fixed_sentiment of 1000 agents\n",
      "\n",
      "  all agents tot_wealth will be: 10000\n",
      "  all agents sigma_prop will be: 0.5\n"
     ]
    },
    {
     "data": {
      "application/vnd.jupyter.widget-view+json": {
       "model_id": "234a67f7df9c4ebcb32f6d1d0de32ac5",
       "version_major": 2,
       "version_minor": 0
      },
      "text/plain": [
       "  0%|          | 0/150 [00:00<?, ?it/s]"
      ]
     },
     "metadata": {},
     "output_type": "display_data"
    },
    {
     "name": "stdout",
     "output_type": "stream",
     "text": [
      "run 69 of 190 total-------------------------------sentiment_value=-0.29999999999999993 iteration 9 of 10\n",
      "\n",
      "Building partition fixed_sentiment of 1000 agents\n",
      "\n",
      "  all agents tot_wealth will be: 10000\n",
      "  all agents sigma_prop will be: 0.5\n"
     ]
    },
    {
     "data": {
      "application/vnd.jupyter.widget-view+json": {
       "model_id": "38cbd3258bac407c9ecac2daec0a692e",
       "version_major": 2,
       "version_minor": 0
      },
      "text/plain": [
       "  0%|          | 0/150 [00:00<?, ?it/s]"
      ]
     },
     "metadata": {},
     "output_type": "display_data"
    },
    {
     "name": "stdout",
     "output_type": "stream",
     "text": [
      "run 70 of 190 total-------------------------------sentiment_value=-0.29999999999999993 iteration 10 of 10\n",
      "\n",
      "Building partition fixed_sentiment of 1000 agents\n",
      "\n",
      "  all agents tot_wealth will be: 10000\n",
      "  all agents sigma_prop will be: 0.5\n"
     ]
    },
    {
     "data": {
      "application/vnd.jupyter.widget-view+json": {
       "model_id": "a4134593db224b04827a6012498f816f",
       "version_major": 2,
       "version_minor": 0
      },
      "text/plain": [
       "  0%|          | 0/150 [00:00<?, ?it/s]"
      ]
     },
     "metadata": {},
     "output_type": "display_data"
    },
    {
     "name": "stdout",
     "output_type": "stream",
     "text": [
      "run 71 of 190 total-------------------------------sentiment_value=-0.19999999999999996 iteration 1 of 10\n",
      "\n",
      "Building partition fixed_sentiment of 1000 agents\n",
      "\n",
      "  all agents tot_wealth will be: 10000\n",
      "  all agents sigma_prop will be: 0.5\n"
     ]
    },
    {
     "data": {
      "application/vnd.jupyter.widget-view+json": {
       "model_id": "dfcef5dfe07a4e798d1dca517e29cd43",
       "version_major": 2,
       "version_minor": 0
      },
      "text/plain": [
       "  0%|          | 0/150 [00:00<?, ?it/s]"
      ]
     },
     "metadata": {},
     "output_type": "display_data"
    },
    {
     "name": "stdout",
     "output_type": "stream",
     "text": [
      "run 72 of 190 total-------------------------------sentiment_value=-0.19999999999999996 iteration 2 of 10\n",
      "\n",
      "Building partition fixed_sentiment of 1000 agents\n",
      "\n",
      "  all agents tot_wealth will be: 10000\n",
      "  all agents sigma_prop will be: 0.5\n"
     ]
    },
    {
     "data": {
      "application/vnd.jupyter.widget-view+json": {
       "model_id": "2e181cd232f644bfa45357467c03d7c4",
       "version_major": 2,
       "version_minor": 0
      },
      "text/plain": [
       "  0%|          | 0/150 [00:00<?, ?it/s]"
      ]
     },
     "metadata": {},
     "output_type": "display_data"
    },
    {
     "name": "stdout",
     "output_type": "stream",
     "text": [
      "run 73 of 190 total-------------------------------sentiment_value=-0.19999999999999996 iteration 3 of 10\n",
      "\n",
      "Building partition fixed_sentiment of 1000 agents\n",
      "\n",
      "  all agents tot_wealth will be: 10000\n",
      "  all agents sigma_prop will be: 0.5\n"
     ]
    },
    {
     "data": {
      "application/vnd.jupyter.widget-view+json": {
       "model_id": "32c28c610bd44261b6d295b9ee525d6e",
       "version_major": 2,
       "version_minor": 0
      },
      "text/plain": [
       "  0%|          | 0/150 [00:00<?, ?it/s]"
      ]
     },
     "metadata": {},
     "output_type": "display_data"
    },
    {
     "name": "stdout",
     "output_type": "stream",
     "text": [
      "run 74 of 190 total-------------------------------sentiment_value=-0.19999999999999996 iteration 4 of 10\n",
      "\n",
      "Building partition fixed_sentiment of 1000 agents\n",
      "\n",
      "  all agents tot_wealth will be: 10000\n",
      "  all agents sigma_prop will be: 0.5\n"
     ]
    },
    {
     "data": {
      "application/vnd.jupyter.widget-view+json": {
       "model_id": "6e21af6ef49c4799bfa42d0bd0688305",
       "version_major": 2,
       "version_minor": 0
      },
      "text/plain": [
       "  0%|          | 0/150 [00:00<?, ?it/s]"
      ]
     },
     "metadata": {},
     "output_type": "display_data"
    },
    {
     "name": "stdout",
     "output_type": "stream",
     "text": [
      "run 75 of 190 total-------------------------------sentiment_value=-0.19999999999999996 iteration 5 of 10\n",
      "\n",
      "Building partition fixed_sentiment of 1000 agents\n",
      "\n",
      "  all agents tot_wealth will be: 10000\n",
      "  all agents sigma_prop will be: 0.5\n"
     ]
    },
    {
     "data": {
      "application/vnd.jupyter.widget-view+json": {
       "model_id": "27035f27ecb743f58fcdf91b20a3ee57",
       "version_major": 2,
       "version_minor": 0
      },
      "text/plain": [
       "  0%|          | 0/150 [00:00<?, ?it/s]"
      ]
     },
     "metadata": {},
     "output_type": "display_data"
    },
    {
     "name": "stdout",
     "output_type": "stream",
     "text": [
      "run 76 of 190 total-------------------------------sentiment_value=-0.19999999999999996 iteration 6 of 10\n",
      "\n",
      "Building partition fixed_sentiment of 1000 agents\n",
      "\n",
      "  all agents tot_wealth will be: 10000\n",
      "  all agents sigma_prop will be: 0.5\n"
     ]
    },
    {
     "data": {
      "application/vnd.jupyter.widget-view+json": {
       "model_id": "4a247dcae9494506af77719e452b33c4",
       "version_major": 2,
       "version_minor": 0
      },
      "text/plain": [
       "  0%|          | 0/150 [00:00<?, ?it/s]"
      ]
     },
     "metadata": {},
     "output_type": "display_data"
    },
    {
     "name": "stdout",
     "output_type": "stream",
     "text": [
      "run 77 of 190 total-------------------------------sentiment_value=-0.19999999999999996 iteration 7 of 10\n",
      "\n",
      "Building partition fixed_sentiment of 1000 agents\n",
      "\n",
      "  all agents tot_wealth will be: 10000\n",
      "  all agents sigma_prop will be: 0.5\n"
     ]
    },
    {
     "data": {
      "application/vnd.jupyter.widget-view+json": {
       "model_id": "8346f6bf94ec43da87b6326b5cc5ab4e",
       "version_major": 2,
       "version_minor": 0
      },
      "text/plain": [
       "  0%|          | 0/150 [00:00<?, ?it/s]"
      ]
     },
     "metadata": {},
     "output_type": "display_data"
    },
    {
     "name": "stdout",
     "output_type": "stream",
     "text": [
      "run 78 of 190 total-------------------------------sentiment_value=-0.19999999999999996 iteration 8 of 10\n",
      "\n",
      "Building partition fixed_sentiment of 1000 agents\n",
      "\n",
      "  all agents tot_wealth will be: 10000\n",
      "  all agents sigma_prop will be: 0.5\n"
     ]
    },
    {
     "data": {
      "application/vnd.jupyter.widget-view+json": {
       "model_id": "a37ed4de5a2f4eba8e146c7b61fe252f",
       "version_major": 2,
       "version_minor": 0
      },
      "text/plain": [
       "  0%|          | 0/150 [00:00<?, ?it/s]"
      ]
     },
     "metadata": {},
     "output_type": "display_data"
    },
    {
     "name": "stdout",
     "output_type": "stream",
     "text": [
      "run 79 of 190 total-------------------------------sentiment_value=-0.19999999999999996 iteration 9 of 10\n",
      "\n",
      "Building partition fixed_sentiment of 1000 agents\n",
      "\n",
      "  all agents tot_wealth will be: 10000\n",
      "  all agents sigma_prop will be: 0.5\n"
     ]
    },
    {
     "data": {
      "application/vnd.jupyter.widget-view+json": {
       "model_id": "08d89c0c76cf4654a547122094d482a2",
       "version_major": 2,
       "version_minor": 0
      },
      "text/plain": [
       "  0%|          | 0/150 [00:00<?, ?it/s]"
      ]
     },
     "metadata": {},
     "output_type": "display_data"
    },
    {
     "name": "stdout",
     "output_type": "stream",
     "text": [
      "run 80 of 190 total-------------------------------sentiment_value=-0.19999999999999996 iteration 10 of 10\n",
      "\n",
      "Building partition fixed_sentiment of 1000 agents\n",
      "\n",
      "  all agents tot_wealth will be: 10000\n",
      "  all agents sigma_prop will be: 0.5\n"
     ]
    },
    {
     "data": {
      "application/vnd.jupyter.widget-view+json": {
       "model_id": "bd000665cd9b4520b07099c32c5b27d9",
       "version_major": 2,
       "version_minor": 0
      },
      "text/plain": [
       "  0%|          | 0/150 [00:00<?, ?it/s]"
      ]
     },
     "metadata": {},
     "output_type": "display_data"
    },
    {
     "name": "stdout",
     "output_type": "stream",
     "text": [
      "run 81 of 190 total-------------------------------sentiment_value=-0.09999999999999998 iteration 1 of 10\n",
      "\n",
      "Building partition fixed_sentiment of 1000 agents\n",
      "\n",
      "  all agents tot_wealth will be: 10000\n",
      "  all agents sigma_prop will be: 0.5\n"
     ]
    },
    {
     "data": {
      "application/vnd.jupyter.widget-view+json": {
       "model_id": "d6b925d6caf64220b1fbb0e86f1f6e21",
       "version_major": 2,
       "version_minor": 0
      },
      "text/plain": [
       "  0%|          | 0/150 [00:00<?, ?it/s]"
      ]
     },
     "metadata": {},
     "output_type": "display_data"
    },
    {
     "name": "stdout",
     "output_type": "stream",
     "text": [
      "run 82 of 190 total-------------------------------sentiment_value=-0.09999999999999998 iteration 2 of 10\n",
      "\n",
      "Building partition fixed_sentiment of 1000 agents\n",
      "\n",
      "  all agents tot_wealth will be: 10000\n",
      "  all agents sigma_prop will be: 0.5\n"
     ]
    },
    {
     "data": {
      "application/vnd.jupyter.widget-view+json": {
       "model_id": "49e8d64fc31f4cf6b86f400334d96f38",
       "version_major": 2,
       "version_minor": 0
      },
      "text/plain": [
       "  0%|          | 0/150 [00:00<?, ?it/s]"
      ]
     },
     "metadata": {},
     "output_type": "display_data"
    },
    {
     "name": "stdout",
     "output_type": "stream",
     "text": [
      "run 83 of 190 total-------------------------------sentiment_value=-0.09999999999999998 iteration 3 of 10\n",
      "\n",
      "Building partition fixed_sentiment of 1000 agents\n",
      "\n",
      "  all agents tot_wealth will be: 10000\n",
      "  all agents sigma_prop will be: 0.5\n"
     ]
    },
    {
     "data": {
      "application/vnd.jupyter.widget-view+json": {
       "model_id": "42342054a6734f2980d35677da9639e6",
       "version_major": 2,
       "version_minor": 0
      },
      "text/plain": [
       "  0%|          | 0/150 [00:00<?, ?it/s]"
      ]
     },
     "metadata": {},
     "output_type": "display_data"
    },
    {
     "name": "stdout",
     "output_type": "stream",
     "text": [
      "run 84 of 190 total-------------------------------sentiment_value=-0.09999999999999998 iteration 4 of 10\n",
      "\n",
      "Building partition fixed_sentiment of 1000 agents\n",
      "\n",
      "  all agents tot_wealth will be: 10000\n",
      "  all agents sigma_prop will be: 0.5\n"
     ]
    },
    {
     "data": {
      "application/vnd.jupyter.widget-view+json": {
       "model_id": "c9324453470245c1a0401d7457c18dc8",
       "version_major": 2,
       "version_minor": 0
      },
      "text/plain": [
       "  0%|          | 0/150 [00:00<?, ?it/s]"
      ]
     },
     "metadata": {},
     "output_type": "display_data"
    },
    {
     "name": "stdout",
     "output_type": "stream",
     "text": [
      "run 85 of 190 total-------------------------------sentiment_value=-0.09999999999999998 iteration 5 of 10\n",
      "\n",
      "Building partition fixed_sentiment of 1000 agents\n",
      "\n",
      "  all agents tot_wealth will be: 10000\n",
      "  all agents sigma_prop will be: 0.5\n"
     ]
    },
    {
     "data": {
      "application/vnd.jupyter.widget-view+json": {
       "model_id": "f86874c675a84006a16961a863f53fe7",
       "version_major": 2,
       "version_minor": 0
      },
      "text/plain": [
       "  0%|          | 0/150 [00:00<?, ?it/s]"
      ]
     },
     "metadata": {},
     "output_type": "display_data"
    },
    {
     "name": "stdout",
     "output_type": "stream",
     "text": [
      "run 86 of 190 total-------------------------------sentiment_value=-0.09999999999999998 iteration 6 of 10\n",
      "\n",
      "Building partition fixed_sentiment of 1000 agents\n",
      "\n",
      "  all agents tot_wealth will be: 10000\n",
      "  all agents sigma_prop will be: 0.5\n"
     ]
    },
    {
     "data": {
      "application/vnd.jupyter.widget-view+json": {
       "model_id": "9ee5050c04184f69ab838b7211c02972",
       "version_major": 2,
       "version_minor": 0
      },
      "text/plain": [
       "  0%|          | 0/150 [00:00<?, ?it/s]"
      ]
     },
     "metadata": {},
     "output_type": "display_data"
    },
    {
     "name": "stdout",
     "output_type": "stream",
     "text": [
      "run 87 of 190 total-------------------------------sentiment_value=-0.09999999999999998 iteration 7 of 10\n",
      "\n",
      "Building partition fixed_sentiment of 1000 agents\n",
      "\n",
      "  all agents tot_wealth will be: 10000\n",
      "  all agents sigma_prop will be: 0.5\n"
     ]
    },
    {
     "data": {
      "application/vnd.jupyter.widget-view+json": {
       "model_id": "e81b26e2c7744933828a971c0f327b22",
       "version_major": 2,
       "version_minor": 0
      },
      "text/plain": [
       "  0%|          | 0/150 [00:00<?, ?it/s]"
      ]
     },
     "metadata": {},
     "output_type": "display_data"
    },
    {
     "name": "stdout",
     "output_type": "stream",
     "text": [
      "run 88 of 190 total-------------------------------sentiment_value=-0.09999999999999998 iteration 8 of 10\n",
      "\n",
      "Building partition fixed_sentiment of 1000 agents\n",
      "\n",
      "  all agents tot_wealth will be: 10000\n",
      "  all agents sigma_prop will be: 0.5\n"
     ]
    },
    {
     "data": {
      "application/vnd.jupyter.widget-view+json": {
       "model_id": "d731e44d9530472b8e051f17d0e87553",
       "version_major": 2,
       "version_minor": 0
      },
      "text/plain": [
       "  0%|          | 0/150 [00:00<?, ?it/s]"
      ]
     },
     "metadata": {},
     "output_type": "display_data"
    },
    {
     "name": "stdout",
     "output_type": "stream",
     "text": [
      "run 89 of 190 total-------------------------------sentiment_value=-0.09999999999999998 iteration 9 of 10\n",
      "\n",
      "Building partition fixed_sentiment of 1000 agents\n",
      "\n",
      "  all agents tot_wealth will be: 10000\n",
      "  all agents sigma_prop will be: 0.5\n"
     ]
    },
    {
     "data": {
      "application/vnd.jupyter.widget-view+json": {
       "model_id": "72bd50980cd240e8be467c1aa387d48b",
       "version_major": 2,
       "version_minor": 0
      },
      "text/plain": [
       "  0%|          | 0/150 [00:00<?, ?it/s]"
      ]
     },
     "metadata": {},
     "output_type": "display_data"
    },
    {
     "name": "stdout",
     "output_type": "stream",
     "text": [
      "run 90 of 190 total-------------------------------sentiment_value=-0.09999999999999998 iteration 10 of 10\n",
      "\n",
      "Building partition fixed_sentiment of 1000 agents\n",
      "\n",
      "  all agents tot_wealth will be: 10000\n",
      "  all agents sigma_prop will be: 0.5\n"
     ]
    },
    {
     "data": {
      "application/vnd.jupyter.widget-view+json": {
       "model_id": "fe30ac26f72a4812b2a16e5c7acf79d5",
       "version_major": 2,
       "version_minor": 0
      },
      "text/plain": [
       "  0%|          | 0/150 [00:00<?, ?it/s]"
      ]
     },
     "metadata": {},
     "output_type": "display_data"
    },
    {
     "name": "stdout",
     "output_type": "stream",
     "text": [
      "run 91 of 190 total-------------------------------sentiment_value=0.0 iteration 1 of 10\n",
      "\n",
      "Building partition fixed_sentiment of 1000 agents\n",
      "\n",
      "  all agents tot_wealth will be: 10000\n",
      "  all agents sigma_prop will be: 0.5\n"
     ]
    },
    {
     "data": {
      "application/vnd.jupyter.widget-view+json": {
       "model_id": "f4d4d81d142646bfa595b02ea64190e8",
       "version_major": 2,
       "version_minor": 0
      },
      "text/plain": [
       "  0%|          | 0/150 [00:00<?, ?it/s]"
      ]
     },
     "metadata": {},
     "output_type": "display_data"
    },
    {
     "name": "stdout",
     "output_type": "stream",
     "text": [
      "run 92 of 190 total-------------------------------sentiment_value=0.0 iteration 2 of 10\n",
      "\n",
      "Building partition fixed_sentiment of 1000 agents\n",
      "\n",
      "  all agents tot_wealth will be: 10000\n",
      "  all agents sigma_prop will be: 0.5\n"
     ]
    },
    {
     "data": {
      "application/vnd.jupyter.widget-view+json": {
       "model_id": "fd985861880f46cab1c36a70fc935194",
       "version_major": 2,
       "version_minor": 0
      },
      "text/plain": [
       "  0%|          | 0/150 [00:00<?, ?it/s]"
      ]
     },
     "metadata": {},
     "output_type": "display_data"
    },
    {
     "name": "stdout",
     "output_type": "stream",
     "text": [
      "run 93 of 190 total-------------------------------sentiment_value=0.0 iteration 3 of 10\n",
      "\n",
      "Building partition fixed_sentiment of 1000 agents\n",
      "\n",
      "  all agents tot_wealth will be: 10000\n",
      "  all agents sigma_prop will be: 0.5\n"
     ]
    },
    {
     "data": {
      "application/vnd.jupyter.widget-view+json": {
       "model_id": "82aab0f57c1a4840b8cff977d76a4555",
       "version_major": 2,
       "version_minor": 0
      },
      "text/plain": [
       "  0%|          | 0/150 [00:00<?, ?it/s]"
      ]
     },
     "metadata": {},
     "output_type": "display_data"
    },
    {
     "name": "stdout",
     "output_type": "stream",
     "text": [
      "run 94 of 190 total-------------------------------sentiment_value=0.0 iteration 4 of 10\n",
      "\n",
      "Building partition fixed_sentiment of 1000 agents\n",
      "\n",
      "  all agents tot_wealth will be: 10000\n",
      "  all agents sigma_prop will be: 0.5\n"
     ]
    },
    {
     "data": {
      "application/vnd.jupyter.widget-view+json": {
       "model_id": "6040b8e7a6184cf3befba237fc113957",
       "version_major": 2,
       "version_minor": 0
      },
      "text/plain": [
       "  0%|          | 0/150 [00:00<?, ?it/s]"
      ]
     },
     "metadata": {},
     "output_type": "display_data"
    },
    {
     "name": "stdout",
     "output_type": "stream",
     "text": [
      "run 95 of 190 total-------------------------------sentiment_value=0.0 iteration 5 of 10\n",
      "\n",
      "Building partition fixed_sentiment of 1000 agents\n",
      "\n",
      "  all agents tot_wealth will be: 10000\n",
      "  all agents sigma_prop will be: 0.5\n"
     ]
    },
    {
     "data": {
      "application/vnd.jupyter.widget-view+json": {
       "model_id": "43461d32dfd44fec8fc1bc07ee9f4aa2",
       "version_major": 2,
       "version_minor": 0
      },
      "text/plain": [
       "  0%|          | 0/150 [00:00<?, ?it/s]"
      ]
     },
     "metadata": {},
     "output_type": "display_data"
    },
    {
     "name": "stdout",
     "output_type": "stream",
     "text": [
      "run 96 of 190 total-------------------------------sentiment_value=0.0 iteration 6 of 10\n",
      "\n",
      "Building partition fixed_sentiment of 1000 agents\n",
      "\n",
      "  all agents tot_wealth will be: 10000\n",
      "  all agents sigma_prop will be: 0.5\n"
     ]
    },
    {
     "data": {
      "application/vnd.jupyter.widget-view+json": {
       "model_id": "0069f34d15ef46bfac0539dc8fd52fbe",
       "version_major": 2,
       "version_minor": 0
      },
      "text/plain": [
       "  0%|          | 0/150 [00:00<?, ?it/s]"
      ]
     },
     "metadata": {},
     "output_type": "display_data"
    },
    {
     "name": "stdout",
     "output_type": "stream",
     "text": [
      "run 97 of 190 total-------------------------------sentiment_value=0.0 iteration 7 of 10\n",
      "\n",
      "Building partition fixed_sentiment of 1000 agents\n",
      "\n",
      "  all agents tot_wealth will be: 10000\n",
      "  all agents sigma_prop will be: 0.5\n"
     ]
    },
    {
     "data": {
      "application/vnd.jupyter.widget-view+json": {
       "model_id": "77ed30170e374650896e321ecd0c9bc4",
       "version_major": 2,
       "version_minor": 0
      },
      "text/plain": [
       "  0%|          | 0/150 [00:00<?, ?it/s]"
      ]
     },
     "metadata": {},
     "output_type": "display_data"
    },
    {
     "name": "stdout",
     "output_type": "stream",
     "text": [
      "run 98 of 190 total-------------------------------sentiment_value=0.0 iteration 8 of 10\n",
      "\n",
      "Building partition fixed_sentiment of 1000 agents\n",
      "\n",
      "  all agents tot_wealth will be: 10000\n",
      "  all agents sigma_prop will be: 0.5\n"
     ]
    },
    {
     "data": {
      "application/vnd.jupyter.widget-view+json": {
       "model_id": "f621bd926a77404da3cef0a8b9f2d3fd",
       "version_major": 2,
       "version_minor": 0
      },
      "text/plain": [
       "  0%|          | 0/150 [00:00<?, ?it/s]"
      ]
     },
     "metadata": {},
     "output_type": "display_data"
    },
    {
     "name": "stdout",
     "output_type": "stream",
     "text": [
      "run 99 of 190 total-------------------------------sentiment_value=0.0 iteration 9 of 10\n",
      "\n",
      "Building partition fixed_sentiment of 1000 agents\n",
      "\n",
      "  all agents tot_wealth will be: 10000\n",
      "  all agents sigma_prop will be: 0.5\n"
     ]
    },
    {
     "data": {
      "application/vnd.jupyter.widget-view+json": {
       "model_id": "1db231df528049e7aa0eb0a33bb7714e",
       "version_major": 2,
       "version_minor": 0
      },
      "text/plain": [
       "  0%|          | 0/150 [00:00<?, ?it/s]"
      ]
     },
     "metadata": {},
     "output_type": "display_data"
    },
    {
     "name": "stdout",
     "output_type": "stream",
     "text": [
      "run 100 of 190 total------------------------------sentiment_value=0.0 iteration 10 of 10\n",
      "\n",
      "Building partition fixed_sentiment of 1000 agents\n",
      "\n",
      "  all agents tot_wealth will be: 10000\n",
      "  all agents sigma_prop will be: 0.5\n"
     ]
    },
    {
     "data": {
      "application/vnd.jupyter.widget-view+json": {
       "model_id": "8ecc05e47839491db22e12ca044a9163",
       "version_major": 2,
       "version_minor": 0
      },
      "text/plain": [
       "  0%|          | 0/150 [00:00<?, ?it/s]"
      ]
     },
     "metadata": {},
     "output_type": "display_data"
    },
    {
     "name": "stdout",
     "output_type": "stream",
     "text": [
      "run 101 of 190 total------------------------------sentiment_value=0.09999999999999998 iteration 1 of 10\n",
      "\n",
      "Building partition fixed_sentiment of 1000 agents\n",
      "\n",
      "  all agents tot_wealth will be: 10000\n",
      "  all agents sigma_prop will be: 0.5\n"
     ]
    },
    {
     "data": {
      "application/vnd.jupyter.widget-view+json": {
       "model_id": "03df5103bec04879b9c6678abb6bdea4",
       "version_major": 2,
       "version_minor": 0
      },
      "text/plain": [
       "  0%|          | 0/150 [00:00<?, ?it/s]"
      ]
     },
     "metadata": {},
     "output_type": "display_data"
    },
    {
     "name": "stdout",
     "output_type": "stream",
     "text": [
      "run 102 of 190 total------------------------------sentiment_value=0.09999999999999998 iteration 2 of 10\n",
      "\n",
      "Building partition fixed_sentiment of 1000 agents\n",
      "\n",
      "  all agents tot_wealth will be: 10000\n",
      "  all agents sigma_prop will be: 0.5\n"
     ]
    },
    {
     "data": {
      "application/vnd.jupyter.widget-view+json": {
       "model_id": "596d3935277745ecbb0422bed7db7b90",
       "version_major": 2,
       "version_minor": 0
      },
      "text/plain": [
       "  0%|          | 0/150 [00:00<?, ?it/s]"
      ]
     },
     "metadata": {},
     "output_type": "display_data"
    },
    {
     "name": "stdout",
     "output_type": "stream",
     "text": [
      "run 103 of 190 total------------------------------sentiment_value=0.09999999999999998 iteration 3 of 10\n",
      "\n",
      "Building partition fixed_sentiment of 1000 agents\n",
      "\n",
      "  all agents tot_wealth will be: 10000\n",
      "  all agents sigma_prop will be: 0.5\n"
     ]
    },
    {
     "data": {
      "application/vnd.jupyter.widget-view+json": {
       "model_id": "55650c1307704707b95e85f4c6c8645a",
       "version_major": 2,
       "version_minor": 0
      },
      "text/plain": [
       "  0%|          | 0/150 [00:00<?, ?it/s]"
      ]
     },
     "metadata": {},
     "output_type": "display_data"
    },
    {
     "name": "stdout",
     "output_type": "stream",
     "text": [
      "run 104 of 190 total------------------------------sentiment_value=0.09999999999999998 iteration 4 of 10\n",
      "\n",
      "Building partition fixed_sentiment of 1000 agents\n",
      "\n",
      "  all agents tot_wealth will be: 10000\n",
      "  all agents sigma_prop will be: 0.5\n"
     ]
    },
    {
     "data": {
      "application/vnd.jupyter.widget-view+json": {
       "model_id": "cf25ee26d94e47f2a55210cfd6cacfb8",
       "version_major": 2,
       "version_minor": 0
      },
      "text/plain": [
       "  0%|          | 0/150 [00:00<?, ?it/s]"
      ]
     },
     "metadata": {},
     "output_type": "display_data"
    },
    {
     "name": "stdout",
     "output_type": "stream",
     "text": [
      "run 105 of 190 total------------------------------sentiment_value=0.09999999999999998 iteration 5 of 10\n",
      "\n",
      "Building partition fixed_sentiment of 1000 agents\n",
      "\n",
      "  all agents tot_wealth will be: 10000\n",
      "  all agents sigma_prop will be: 0.5\n"
     ]
    },
    {
     "data": {
      "application/vnd.jupyter.widget-view+json": {
       "model_id": "0df35f8e54ee4599af926ec6360b77af",
       "version_major": 2,
       "version_minor": 0
      },
      "text/plain": [
       "  0%|          | 0/150 [00:00<?, ?it/s]"
      ]
     },
     "metadata": {},
     "output_type": "display_data"
    },
    {
     "name": "stdout",
     "output_type": "stream",
     "text": [
      "run 106 of 190 total------------------------------sentiment_value=0.09999999999999998 iteration 6 of 10\n",
      "\n",
      "Building partition fixed_sentiment of 1000 agents\n",
      "\n",
      "  all agents tot_wealth will be: 10000\n",
      "  all agents sigma_prop will be: 0.5\n"
     ]
    },
    {
     "data": {
      "application/vnd.jupyter.widget-view+json": {
       "model_id": "faa4942e3a634c99b6e9e70e65b095a8",
       "version_major": 2,
       "version_minor": 0
      },
      "text/plain": [
       "  0%|          | 0/150 [00:00<?, ?it/s]"
      ]
     },
     "metadata": {},
     "output_type": "display_data"
    },
    {
     "name": "stdout",
     "output_type": "stream",
     "text": [
      "run 107 of 190 total------------------------------sentiment_value=0.09999999999999998 iteration 7 of 10\n",
      "\n",
      "Building partition fixed_sentiment of 1000 agents\n",
      "\n",
      "  all agents tot_wealth will be: 10000\n",
      "  all agents sigma_prop will be: 0.5\n"
     ]
    },
    {
     "data": {
      "application/vnd.jupyter.widget-view+json": {
       "model_id": "e096bdc1514644159590c736c9f6cd13",
       "version_major": 2,
       "version_minor": 0
      },
      "text/plain": [
       "  0%|          | 0/150 [00:00<?, ?it/s]"
      ]
     },
     "metadata": {},
     "output_type": "display_data"
    },
    {
     "name": "stdout",
     "output_type": "stream",
     "text": [
      "run 108 of 190 total------------------------------sentiment_value=0.09999999999999998 iteration 8 of 10\n",
      "\n",
      "Building partition fixed_sentiment of 1000 agents\n",
      "\n",
      "  all agents tot_wealth will be: 10000\n",
      "  all agents sigma_prop will be: 0.5\n"
     ]
    },
    {
     "data": {
      "application/vnd.jupyter.widget-view+json": {
       "model_id": "6a7ace048c7a4d119bf09fc37fd78d49",
       "version_major": 2,
       "version_minor": 0
      },
      "text/plain": [
       "  0%|          | 0/150 [00:00<?, ?it/s]"
      ]
     },
     "metadata": {},
     "output_type": "display_data"
    },
    {
     "name": "stdout",
     "output_type": "stream",
     "text": [
      "run 109 of 190 total------------------------------sentiment_value=0.09999999999999998 iteration 9 of 10\n",
      "\n",
      "Building partition fixed_sentiment of 1000 agents\n",
      "\n",
      "  all agents tot_wealth will be: 10000\n",
      "  all agents sigma_prop will be: 0.5\n"
     ]
    },
    {
     "data": {
      "application/vnd.jupyter.widget-view+json": {
       "model_id": "52002728bf904c36b36f650fff5e40e2",
       "version_major": 2,
       "version_minor": 0
      },
      "text/plain": [
       "  0%|          | 0/150 [00:00<?, ?it/s]"
      ]
     },
     "metadata": {},
     "output_type": "display_data"
    },
    {
     "name": "stdout",
     "output_type": "stream",
     "text": [
      "run 110 of 190 total------------------------------sentiment_value=0.09999999999999998 iteration 10 of 10\n",
      "\n",
      "Building partition fixed_sentiment of 1000 agents\n",
      "\n",
      "  all agents tot_wealth will be: 10000\n",
      "  all agents sigma_prop will be: 0.5\n"
     ]
    },
    {
     "data": {
      "application/vnd.jupyter.widget-view+json": {
       "model_id": "6b1364b3d71a44808709c3ae118b1c53",
       "version_major": 2,
       "version_minor": 0
      },
      "text/plain": [
       "  0%|          | 0/150 [00:00<?, ?it/s]"
      ]
     },
     "metadata": {},
     "output_type": "display_data"
    },
    {
     "name": "stdout",
     "output_type": "stream",
     "text": [
      "run 111 of 190 total------------------------------sentiment_value=0.20000000000000007 iteration 1 of 10\n",
      "\n",
      "Building partition fixed_sentiment of 1000 agents\n",
      "\n",
      "  all agents tot_wealth will be: 10000\n",
      "  all agents sigma_prop will be: 0.5\n"
     ]
    },
    {
     "data": {
      "application/vnd.jupyter.widget-view+json": {
       "model_id": "e3d98839cd8d479088a55ae81de7e440",
       "version_major": 2,
       "version_minor": 0
      },
      "text/plain": [
       "  0%|          | 0/150 [00:00<?, ?it/s]"
      ]
     },
     "metadata": {},
     "output_type": "display_data"
    },
    {
     "name": "stdout",
     "output_type": "stream",
     "text": [
      "run 112 of 190 total------------------------------sentiment_value=0.20000000000000007 iteration 2 of 10\n",
      "\n",
      "Building partition fixed_sentiment of 1000 agents\n",
      "\n",
      "  all agents tot_wealth will be: 10000\n",
      "  all agents sigma_prop will be: 0.5\n"
     ]
    },
    {
     "data": {
      "application/vnd.jupyter.widget-view+json": {
       "model_id": "38998b748bb045579280e757a36e4f9f",
       "version_major": 2,
       "version_minor": 0
      },
      "text/plain": [
       "  0%|          | 0/150 [00:00<?, ?it/s]"
      ]
     },
     "metadata": {},
     "output_type": "display_data"
    },
    {
     "name": "stdout",
     "output_type": "stream",
     "text": [
      "run 113 of 190 total------------------------------sentiment_value=0.20000000000000007 iteration 3 of 10\n",
      "\n",
      "Building partition fixed_sentiment of 1000 agents\n",
      "\n",
      "  all agents tot_wealth will be: 10000\n",
      "  all agents sigma_prop will be: 0.5\n"
     ]
    },
    {
     "data": {
      "application/vnd.jupyter.widget-view+json": {
       "model_id": "8ff0996f9aa14a5a94b256a640c3d997",
       "version_major": 2,
       "version_minor": 0
      },
      "text/plain": [
       "  0%|          | 0/150 [00:00<?, ?it/s]"
      ]
     },
     "metadata": {},
     "output_type": "display_data"
    },
    {
     "name": "stdout",
     "output_type": "stream",
     "text": [
      "run 114 of 190 total------------------------------sentiment_value=0.20000000000000007 iteration 4 of 10\n",
      "\n",
      "Building partition fixed_sentiment of 1000 agents\n",
      "\n",
      "  all agents tot_wealth will be: 10000\n",
      "  all agents sigma_prop will be: 0.5\n"
     ]
    },
    {
     "data": {
      "application/vnd.jupyter.widget-view+json": {
       "model_id": "b75fd68774d1400799812cbfe3234884",
       "version_major": 2,
       "version_minor": 0
      },
      "text/plain": [
       "  0%|          | 0/150 [00:00<?, ?it/s]"
      ]
     },
     "metadata": {},
     "output_type": "display_data"
    },
    {
     "name": "stdout",
     "output_type": "stream",
     "text": [
      "run 115 of 190 total------------------------------sentiment_value=0.20000000000000007 iteration 5 of 10\n",
      "\n",
      "Building partition fixed_sentiment of 1000 agents\n",
      "\n",
      "  all agents tot_wealth will be: 10000\n",
      "  all agents sigma_prop will be: 0.5\n"
     ]
    },
    {
     "data": {
      "application/vnd.jupyter.widget-view+json": {
       "model_id": "dd7d7d06500d47418c6c150090b80bdd",
       "version_major": 2,
       "version_minor": 0
      },
      "text/plain": [
       "  0%|          | 0/150 [00:00<?, ?it/s]"
      ]
     },
     "metadata": {},
     "output_type": "display_data"
    },
    {
     "name": "stdout",
     "output_type": "stream",
     "text": [
      "run 116 of 190 total------------------------------sentiment_value=0.20000000000000007 iteration 6 of 10\n",
      "\n",
      "Building partition fixed_sentiment of 1000 agents\n",
      "\n",
      "  all agents tot_wealth will be: 10000\n",
      "  all agents sigma_prop will be: 0.5\n"
     ]
    },
    {
     "data": {
      "application/vnd.jupyter.widget-view+json": {
       "model_id": "ffeca476ca8b4e15885b5b168e9f4414",
       "version_major": 2,
       "version_minor": 0
      },
      "text/plain": [
       "  0%|          | 0/150 [00:00<?, ?it/s]"
      ]
     },
     "metadata": {},
     "output_type": "display_data"
    },
    {
     "name": "stdout",
     "output_type": "stream",
     "text": [
      "run 117 of 190 total------------------------------sentiment_value=0.20000000000000007 iteration 7 of 10\n",
      "\n",
      "Building partition fixed_sentiment of 1000 agents\n",
      "\n",
      "  all agents tot_wealth will be: 10000\n",
      "  all agents sigma_prop will be: 0.5\n"
     ]
    },
    {
     "data": {
      "application/vnd.jupyter.widget-view+json": {
       "model_id": "3ecdb0bb4a684247afc649ce3b57ca63",
       "version_major": 2,
       "version_minor": 0
      },
      "text/plain": [
       "  0%|          | 0/150 [00:00<?, ?it/s]"
      ]
     },
     "metadata": {},
     "output_type": "display_data"
    },
    {
     "name": "stdout",
     "output_type": "stream",
     "text": [
      "run 118 of 190 total------------------------------sentiment_value=0.20000000000000007 iteration 8 of 10\n",
      "\n",
      "Building partition fixed_sentiment of 1000 agents\n",
      "\n",
      "  all agents tot_wealth will be: 10000\n",
      "  all agents sigma_prop will be: 0.5\n"
     ]
    },
    {
     "data": {
      "application/vnd.jupyter.widget-view+json": {
       "model_id": "8e7fb0963d1e493c8aa60f9bf5920093",
       "version_major": 2,
       "version_minor": 0
      },
      "text/plain": [
       "  0%|          | 0/150 [00:00<?, ?it/s]"
      ]
     },
     "metadata": {},
     "output_type": "display_data"
    },
    {
     "name": "stdout",
     "output_type": "stream",
     "text": [
      "run 119 of 190 total------------------------------sentiment_value=0.20000000000000007 iteration 9 of 10\n",
      "\n",
      "Building partition fixed_sentiment of 1000 agents\n",
      "\n",
      "  all agents tot_wealth will be: 10000\n",
      "  all agents sigma_prop will be: 0.5\n"
     ]
    },
    {
     "data": {
      "application/vnd.jupyter.widget-view+json": {
       "model_id": "9cce0b4d503f4555b3af4e4eb8a1f3b4",
       "version_major": 2,
       "version_minor": 0
      },
      "text/plain": [
       "  0%|          | 0/150 [00:00<?, ?it/s]"
      ]
     },
     "metadata": {},
     "output_type": "display_data"
    },
    {
     "name": "stdout",
     "output_type": "stream",
     "text": [
      "run 120 of 190 total------------------------------sentiment_value=0.20000000000000007 iteration 10 of 10\n",
      "\n",
      "Building partition fixed_sentiment of 1000 agents\n",
      "\n",
      "  all agents tot_wealth will be: 10000\n",
      "  all agents sigma_prop will be: 0.5\n"
     ]
    },
    {
     "data": {
      "application/vnd.jupyter.widget-view+json": {
       "model_id": "79a3c4f6107c46d5bdbb5637f6d4f8f9",
       "version_major": 2,
       "version_minor": 0
      },
      "text/plain": [
       "  0%|          | 0/150 [00:00<?, ?it/s]"
      ]
     },
     "metadata": {},
     "output_type": "display_data"
    },
    {
     "name": "stdout",
     "output_type": "stream",
     "text": [
      "run 121 of 190 total------------------------------sentiment_value=0.30000000000000016 iteration 1 of 10\n",
      "\n",
      "Building partition fixed_sentiment of 1000 agents\n",
      "\n",
      "  all agents tot_wealth will be: 10000\n",
      "  all agents sigma_prop will be: 0.5\n"
     ]
    },
    {
     "data": {
      "application/vnd.jupyter.widget-view+json": {
       "model_id": "a6feb9a8eae0478fb13e2bcf479f42d5",
       "version_major": 2,
       "version_minor": 0
      },
      "text/plain": [
       "  0%|          | 0/150 [00:00<?, ?it/s]"
      ]
     },
     "metadata": {},
     "output_type": "display_data"
    },
    {
     "name": "stdout",
     "output_type": "stream",
     "text": [
      "run 122 of 190 total------------------------------sentiment_value=0.30000000000000016 iteration 2 of 10\n",
      "\n",
      "Building partition fixed_sentiment of 1000 agents\n",
      "\n",
      "  all agents tot_wealth will be: 10000\n",
      "  all agents sigma_prop will be: 0.5\n"
     ]
    },
    {
     "data": {
      "application/vnd.jupyter.widget-view+json": {
       "model_id": "33e4bd5c5e824752a1066db095b92c62",
       "version_major": 2,
       "version_minor": 0
      },
      "text/plain": [
       "  0%|          | 0/150 [00:00<?, ?it/s]"
      ]
     },
     "metadata": {},
     "output_type": "display_data"
    },
    {
     "name": "stdout",
     "output_type": "stream",
     "text": [
      "run 123 of 190 total------------------------------sentiment_value=0.30000000000000016 iteration 3 of 10\n",
      "\n",
      "Building partition fixed_sentiment of 1000 agents\n",
      "\n",
      "  all agents tot_wealth will be: 10000\n",
      "  all agents sigma_prop will be: 0.5\n"
     ]
    },
    {
     "data": {
      "application/vnd.jupyter.widget-view+json": {
       "model_id": "2c20daa575ce469e96b99187746d6ebd",
       "version_major": 2,
       "version_minor": 0
      },
      "text/plain": [
       "  0%|          | 0/150 [00:00<?, ?it/s]"
      ]
     },
     "metadata": {},
     "output_type": "display_data"
    },
    {
     "name": "stdout",
     "output_type": "stream",
     "text": [
      "run 124 of 190 total------------------------------sentiment_value=0.30000000000000016 iteration 4 of 10\n",
      "\n",
      "Building partition fixed_sentiment of 1000 agents\n",
      "\n",
      "  all agents tot_wealth will be: 10000\n",
      "  all agents sigma_prop will be: 0.5\n"
     ]
    },
    {
     "data": {
      "application/vnd.jupyter.widget-view+json": {
       "model_id": "196ba309a73c42dea197344566dda31d",
       "version_major": 2,
       "version_minor": 0
      },
      "text/plain": [
       "  0%|          | 0/150 [00:00<?, ?it/s]"
      ]
     },
     "metadata": {},
     "output_type": "display_data"
    },
    {
     "name": "stdout",
     "output_type": "stream",
     "text": [
      "run 125 of 190 total------------------------------sentiment_value=0.30000000000000016 iteration 5 of 10\n",
      "\n",
      "Building partition fixed_sentiment of 1000 agents\n",
      "\n",
      "  all agents tot_wealth will be: 10000\n",
      "  all agents sigma_prop will be: 0.5\n"
     ]
    },
    {
     "data": {
      "application/vnd.jupyter.widget-view+json": {
       "model_id": "e26117e3f4fa4b22ba0906201781491d",
       "version_major": 2,
       "version_minor": 0
      },
      "text/plain": [
       "  0%|          | 0/150 [00:00<?, ?it/s]"
      ]
     },
     "metadata": {},
     "output_type": "display_data"
    },
    {
     "name": "stdout",
     "output_type": "stream",
     "text": [
      "run 126 of 190 total------------------------------sentiment_value=0.30000000000000016 iteration 6 of 10\n",
      "\n",
      "Building partition fixed_sentiment of 1000 agents\n",
      "\n",
      "  all agents tot_wealth will be: 10000\n",
      "  all agents sigma_prop will be: 0.5\n"
     ]
    },
    {
     "data": {
      "application/vnd.jupyter.widget-view+json": {
       "model_id": "871d0d387df84270835b142b55be4b9b",
       "version_major": 2,
       "version_minor": 0
      },
      "text/plain": [
       "  0%|          | 0/150 [00:00<?, ?it/s]"
      ]
     },
     "metadata": {},
     "output_type": "display_data"
    },
    {
     "name": "stdout",
     "output_type": "stream",
     "text": [
      "run 127 of 190 total------------------------------sentiment_value=0.30000000000000016 iteration 7 of 10\n",
      "\n",
      "Building partition fixed_sentiment of 1000 agents\n",
      "\n",
      "  all agents tot_wealth will be: 10000\n",
      "  all agents sigma_prop will be: 0.5\n"
     ]
    },
    {
     "data": {
      "application/vnd.jupyter.widget-view+json": {
       "model_id": "4f6229aa7c8a4476af32b2ee3fd743db",
       "version_major": 2,
       "version_minor": 0
      },
      "text/plain": [
       "  0%|          | 0/150 [00:00<?, ?it/s]"
      ]
     },
     "metadata": {},
     "output_type": "display_data"
    },
    {
     "name": "stdout",
     "output_type": "stream",
     "text": [
      "run 128 of 190 total------------------------------sentiment_value=0.30000000000000016 iteration 8 of 10\n",
      "\n",
      "Building partition fixed_sentiment of 1000 agents\n",
      "\n",
      "  all agents tot_wealth will be: 10000\n",
      "  all agents sigma_prop will be: 0.5\n"
     ]
    },
    {
     "data": {
      "application/vnd.jupyter.widget-view+json": {
       "model_id": "fc226233f245476cbb0d4b871f16f91b",
       "version_major": 2,
       "version_minor": 0
      },
      "text/plain": [
       "  0%|          | 0/150 [00:00<?, ?it/s]"
      ]
     },
     "metadata": {},
     "output_type": "display_data"
    },
    {
     "name": "stdout",
     "output_type": "stream",
     "text": [
      "run 129 of 190 total------------------------------sentiment_value=0.30000000000000016 iteration 9 of 10\n",
      "\n",
      "Building partition fixed_sentiment of 1000 agents\n",
      "\n",
      "  all agents tot_wealth will be: 10000\n",
      "  all agents sigma_prop will be: 0.5\n"
     ]
    },
    {
     "data": {
      "application/vnd.jupyter.widget-view+json": {
       "model_id": "e072e702d1314509aa3a8f0651411936",
       "version_major": 2,
       "version_minor": 0
      },
      "text/plain": [
       "  0%|          | 0/150 [00:00<?, ?it/s]"
      ]
     },
     "metadata": {},
     "output_type": "display_data"
    },
    {
     "name": "stdout",
     "output_type": "stream",
     "text": [
      "run 130 of 190 total------------------------------sentiment_value=0.30000000000000016 iteration 10 of 10\n",
      "\n",
      "Building partition fixed_sentiment of 1000 agents\n",
      "\n",
      "  all agents tot_wealth will be: 10000\n",
      "  all agents sigma_prop will be: 0.5\n"
     ]
    },
    {
     "data": {
      "application/vnd.jupyter.widget-view+json": {
       "model_id": "e4d5070c5e6d49b8988d30d239a43224",
       "version_major": 2,
       "version_minor": 0
      },
      "text/plain": [
       "  0%|          | 0/150 [00:00<?, ?it/s]"
      ]
     },
     "metadata": {},
     "output_type": "display_data"
    },
    {
     "name": "stdout",
     "output_type": "stream",
     "text": [
      "run 131 of 190 total------------------------------sentiment_value=0.4 iteration 1 of 10\n",
      "\n",
      "Building partition fixed_sentiment of 1000 agents\n",
      "\n",
      "  all agents tot_wealth will be: 10000\n",
      "  all agents sigma_prop will be: 0.5\n"
     ]
    },
    {
     "data": {
      "application/vnd.jupyter.widget-view+json": {
       "model_id": "8808050395da4327a0a4ff4c40fd8794",
       "version_major": 2,
       "version_minor": 0
      },
      "text/plain": [
       "  0%|          | 0/150 [00:00<?, ?it/s]"
      ]
     },
     "metadata": {},
     "output_type": "display_data"
    },
    {
     "name": "stdout",
     "output_type": "stream",
     "text": [
      "run 132 of 190 total------------------------------sentiment_value=0.4 iteration 2 of 10\n",
      "\n",
      "Building partition fixed_sentiment of 1000 agents\n",
      "\n",
      "  all agents tot_wealth will be: 10000\n",
      "  all agents sigma_prop will be: 0.5\n"
     ]
    },
    {
     "data": {
      "application/vnd.jupyter.widget-view+json": {
       "model_id": "88111f8529104a80adffab2ee71dc3b0",
       "version_major": 2,
       "version_minor": 0
      },
      "text/plain": [
       "  0%|          | 0/150 [00:00<?, ?it/s]"
      ]
     },
     "metadata": {},
     "output_type": "display_data"
    },
    {
     "name": "stdout",
     "output_type": "stream",
     "text": [
      "run 133 of 190 total------------------------------sentiment_value=0.4 iteration 3 of 10\n",
      "\n",
      "Building partition fixed_sentiment of 1000 agents\n",
      "\n",
      "  all agents tot_wealth will be: 10000\n",
      "  all agents sigma_prop will be: 0.5\n"
     ]
    },
    {
     "data": {
      "application/vnd.jupyter.widget-view+json": {
       "model_id": "15467dcee1334ef39daa80d4b6f46bfe",
       "version_major": 2,
       "version_minor": 0
      },
      "text/plain": [
       "  0%|          | 0/150 [00:00<?, ?it/s]"
      ]
     },
     "metadata": {},
     "output_type": "display_data"
    },
    {
     "name": "stdout",
     "output_type": "stream",
     "text": [
      "run 134 of 190 total------------------------------sentiment_value=0.4 iteration 4 of 10\n",
      "\n",
      "Building partition fixed_sentiment of 1000 agents\n",
      "\n",
      "  all agents tot_wealth will be: 10000\n",
      "  all agents sigma_prop will be: 0.5\n"
     ]
    },
    {
     "data": {
      "application/vnd.jupyter.widget-view+json": {
       "model_id": "f7198b0163ac4240a7d15de3027654c7",
       "version_major": 2,
       "version_minor": 0
      },
      "text/plain": [
       "  0%|          | 0/150 [00:00<?, ?it/s]"
      ]
     },
     "metadata": {},
     "output_type": "display_data"
    },
    {
     "name": "stdout",
     "output_type": "stream",
     "text": [
      "run 135 of 190 total------------------------------sentiment_value=0.4 iteration 5 of 10\n",
      "\n",
      "Building partition fixed_sentiment of 1000 agents\n",
      "\n",
      "  all agents tot_wealth will be: 10000\n",
      "  all agents sigma_prop will be: 0.5\n"
     ]
    },
    {
     "data": {
      "application/vnd.jupyter.widget-view+json": {
       "model_id": "3fc88266c8c84eb589867a61c102f468",
       "version_major": 2,
       "version_minor": 0
      },
      "text/plain": [
       "  0%|          | 0/150 [00:00<?, ?it/s]"
      ]
     },
     "metadata": {},
     "output_type": "display_data"
    },
    {
     "name": "stdout",
     "output_type": "stream",
     "text": [
      "run 136 of 190 total------------------------------sentiment_value=0.4 iteration 6 of 10\n",
      "\n",
      "Building partition fixed_sentiment of 1000 agents\n",
      "\n",
      "  all agents tot_wealth will be: 10000\n",
      "  all agents sigma_prop will be: 0.5\n"
     ]
    },
    {
     "data": {
      "application/vnd.jupyter.widget-view+json": {
       "model_id": "903468b040604a65ae5ce94a090ef621",
       "version_major": 2,
       "version_minor": 0
      },
      "text/plain": [
       "  0%|          | 0/150 [00:00<?, ?it/s]"
      ]
     },
     "metadata": {},
     "output_type": "display_data"
    },
    {
     "name": "stdout",
     "output_type": "stream",
     "text": [
      "run 137 of 190 total------------------------------sentiment_value=0.4 iteration 7 of 10\n",
      "\n",
      "Building partition fixed_sentiment of 1000 agents\n",
      "\n",
      "  all agents tot_wealth will be: 10000\n",
      "  all agents sigma_prop will be: 0.5\n"
     ]
    },
    {
     "data": {
      "application/vnd.jupyter.widget-view+json": {
       "model_id": "7f3e12cb261243e68f341a6a5466417e",
       "version_major": 2,
       "version_minor": 0
      },
      "text/plain": [
       "  0%|          | 0/150 [00:00<?, ?it/s]"
      ]
     },
     "metadata": {},
     "output_type": "display_data"
    },
    {
     "name": "stdout",
     "output_type": "stream",
     "text": [
      "run 138 of 190 total------------------------------sentiment_value=0.4 iteration 8 of 10\n",
      "\n",
      "Building partition fixed_sentiment of 1000 agents\n",
      "\n",
      "  all agents tot_wealth will be: 10000\n",
      "  all agents sigma_prop will be: 0.5\n"
     ]
    },
    {
     "data": {
      "application/vnd.jupyter.widget-view+json": {
       "model_id": "5fb58602b2b74e45a2896ce2cc633aec",
       "version_major": 2,
       "version_minor": 0
      },
      "text/plain": [
       "  0%|          | 0/150 [00:00<?, ?it/s]"
      ]
     },
     "metadata": {},
     "output_type": "display_data"
    },
    {
     "name": "stdout",
     "output_type": "stream",
     "text": [
      "run 139 of 190 total------------------------------sentiment_value=0.4 iteration 9 of 10\n",
      "\n",
      "Building partition fixed_sentiment of 1000 agents\n",
      "\n",
      "  all agents tot_wealth will be: 10000\n",
      "  all agents sigma_prop will be: 0.5\n"
     ]
    },
    {
     "data": {
      "application/vnd.jupyter.widget-view+json": {
       "model_id": "f53ffd20d8b44fb1b9a622c26b839c6c",
       "version_major": 2,
       "version_minor": 0
      },
      "text/plain": [
       "  0%|          | 0/150 [00:00<?, ?it/s]"
      ]
     },
     "metadata": {},
     "output_type": "display_data"
    },
    {
     "name": "stdout",
     "output_type": "stream",
     "text": [
      "run 140 of 190 total------------------------------sentiment_value=0.4 iteration 10 of 10\n",
      "\n",
      "Building partition fixed_sentiment of 1000 agents\n",
      "\n",
      "  all agents tot_wealth will be: 10000\n",
      "  all agents sigma_prop will be: 0.5\n"
     ]
    },
    {
     "data": {
      "application/vnd.jupyter.widget-view+json": {
       "model_id": "082149838cd4457da37a2cd1dafb6d64",
       "version_major": 2,
       "version_minor": 0
      },
      "text/plain": [
       "  0%|          | 0/150 [00:00<?, ?it/s]"
      ]
     },
     "metadata": {},
     "output_type": "display_data"
    },
    {
     "name": "stdout",
     "output_type": "stream",
     "text": [
      "run 141 of 190 total------------------------------sentiment_value=0.5000000000000001 iteration 1 of 10\n",
      "\n",
      "Building partition fixed_sentiment of 1000 agents\n",
      "\n",
      "  all agents tot_wealth will be: 10000\n",
      "  all agents sigma_prop will be: 0.5\n"
     ]
    },
    {
     "data": {
      "application/vnd.jupyter.widget-view+json": {
       "model_id": "afb1117d0bd1447880e43295e7b09c62",
       "version_major": 2,
       "version_minor": 0
      },
      "text/plain": [
       "  0%|          | 0/150 [00:00<?, ?it/s]"
      ]
     },
     "metadata": {},
     "output_type": "display_data"
    },
    {
     "name": "stdout",
     "output_type": "stream",
     "text": [
      "run 142 of 190 total------------------------------sentiment_value=0.5000000000000001 iteration 2 of 10\n",
      "\n",
      "Building partition fixed_sentiment of 1000 agents\n",
      "\n",
      "  all agents tot_wealth will be: 10000\n",
      "  all agents sigma_prop will be: 0.5\n"
     ]
    },
    {
     "data": {
      "application/vnd.jupyter.widget-view+json": {
       "model_id": "cfa4e7b72f284547ab215016cb1a9ed8",
       "version_major": 2,
       "version_minor": 0
      },
      "text/plain": [
       "  0%|          | 0/150 [00:00<?, ?it/s]"
      ]
     },
     "metadata": {},
     "output_type": "display_data"
    },
    {
     "name": "stdout",
     "output_type": "stream",
     "text": [
      "run 143 of 190 total------------------------------sentiment_value=0.5000000000000001 iteration 3 of 10\n",
      "\n",
      "Building partition fixed_sentiment of 1000 agents\n",
      "\n",
      "  all agents tot_wealth will be: 10000\n",
      "  all agents sigma_prop will be: 0.5\n"
     ]
    },
    {
     "data": {
      "application/vnd.jupyter.widget-view+json": {
       "model_id": "b7745a75b13b4abea1aa21c03e46fd47",
       "version_major": 2,
       "version_minor": 0
      },
      "text/plain": [
       "  0%|          | 0/150 [00:00<?, ?it/s]"
      ]
     },
     "metadata": {},
     "output_type": "display_data"
    },
    {
     "name": "stdout",
     "output_type": "stream",
     "text": [
      "run 144 of 190 total------------------------------sentiment_value=0.5000000000000001 iteration 4 of 10\n",
      "\n",
      "Building partition fixed_sentiment of 1000 agents\n",
      "\n",
      "  all agents tot_wealth will be: 10000\n",
      "  all agents sigma_prop will be: 0.5\n"
     ]
    },
    {
     "data": {
      "application/vnd.jupyter.widget-view+json": {
       "model_id": "36208005024944d9a4342f5b8450aa56",
       "version_major": 2,
       "version_minor": 0
      },
      "text/plain": [
       "  0%|          | 0/150 [00:00<?, ?it/s]"
      ]
     },
     "metadata": {},
     "output_type": "display_data"
    },
    {
     "name": "stdout",
     "output_type": "stream",
     "text": [
      "run 145 of 190 total------------------------------sentiment_value=0.5000000000000001 iteration 5 of 10\n",
      "\n",
      "Building partition fixed_sentiment of 1000 agents\n",
      "\n",
      "  all agents tot_wealth will be: 10000\n",
      "  all agents sigma_prop will be: 0.5\n"
     ]
    },
    {
     "data": {
      "application/vnd.jupyter.widget-view+json": {
       "model_id": "574e01e0c21349dfa92f65c2ab3db45a",
       "version_major": 2,
       "version_minor": 0
      },
      "text/plain": [
       "  0%|          | 0/150 [00:00<?, ?it/s]"
      ]
     },
     "metadata": {},
     "output_type": "display_data"
    },
    {
     "name": "stdout",
     "output_type": "stream",
     "text": [
      "run 146 of 190 total------------------------------sentiment_value=0.5000000000000001 iteration 6 of 10\n",
      "\n",
      "Building partition fixed_sentiment of 1000 agents\n",
      "\n",
      "  all agents tot_wealth will be: 10000\n",
      "  all agents sigma_prop will be: 0.5\n"
     ]
    },
    {
     "data": {
      "application/vnd.jupyter.widget-view+json": {
       "model_id": "860fa67f12d94cf18bca769c1327582f",
       "version_major": 2,
       "version_minor": 0
      },
      "text/plain": [
       "  0%|          | 0/150 [00:00<?, ?it/s]"
      ]
     },
     "metadata": {},
     "output_type": "display_data"
    },
    {
     "name": "stdout",
     "output_type": "stream",
     "text": [
      "run 147 of 190 total------------------------------sentiment_value=0.5000000000000001 iteration 7 of 10\n",
      "\n",
      "Building partition fixed_sentiment of 1000 agents\n",
      "\n",
      "  all agents tot_wealth will be: 10000\n",
      "  all agents sigma_prop will be: 0.5\n"
     ]
    },
    {
     "data": {
      "application/vnd.jupyter.widget-view+json": {
       "model_id": "70a6232b6f3e457788f5bd991ebd0316",
       "version_major": 2,
       "version_minor": 0
      },
      "text/plain": [
       "  0%|          | 0/150 [00:00<?, ?it/s]"
      ]
     },
     "metadata": {},
     "output_type": "display_data"
    },
    {
     "name": "stdout",
     "output_type": "stream",
     "text": [
      "run 148 of 190 total------------------------------sentiment_value=0.5000000000000001 iteration 8 of 10\n",
      "\n",
      "Building partition fixed_sentiment of 1000 agents\n",
      "\n",
      "  all agents tot_wealth will be: 10000\n",
      "  all agents sigma_prop will be: 0.5\n"
     ]
    },
    {
     "data": {
      "application/vnd.jupyter.widget-view+json": {
       "model_id": "ee8897a966164f0aa040461f6b7e00b0",
       "version_major": 2,
       "version_minor": 0
      },
      "text/plain": [
       "  0%|          | 0/150 [00:00<?, ?it/s]"
      ]
     },
     "metadata": {},
     "output_type": "display_data"
    },
    {
     "name": "stdout",
     "output_type": "stream",
     "text": [
      "run 149 of 190 total------------------------------sentiment_value=0.5000000000000001 iteration 9 of 10\n",
      "\n",
      "Building partition fixed_sentiment of 1000 agents\n",
      "\n",
      "  all agents tot_wealth will be: 10000\n",
      "  all agents sigma_prop will be: 0.5\n"
     ]
    },
    {
     "data": {
      "application/vnd.jupyter.widget-view+json": {
       "model_id": "528dc9399c304e5a9e57b7dae8d36722",
       "version_major": 2,
       "version_minor": 0
      },
      "text/plain": [
       "  0%|          | 0/150 [00:00<?, ?it/s]"
      ]
     },
     "metadata": {},
     "output_type": "display_data"
    },
    {
     "name": "stdout",
     "output_type": "stream",
     "text": [
      "run 150 of 190 total------------------------------sentiment_value=0.5000000000000001 iteration 10 of 10\n",
      "\n",
      "Building partition fixed_sentiment of 1000 agents\n",
      "\n",
      "  all agents tot_wealth will be: 10000\n",
      "  all agents sigma_prop will be: 0.5\n"
     ]
    },
    {
     "data": {
      "application/vnd.jupyter.widget-view+json": {
       "model_id": "8452155eef3c4bfd923ee1dea5a07fd8",
       "version_major": 2,
       "version_minor": 0
      },
      "text/plain": [
       "  0%|          | 0/150 [00:00<?, ?it/s]"
      ]
     },
     "metadata": {},
     "output_type": "display_data"
    },
    {
     "name": "stdout",
     "output_type": "stream",
     "text": [
      "run 151 of 190 total------------------------------sentiment_value=0.6 iteration 1 of 10\n",
      "\n",
      "Building partition fixed_sentiment of 1000 agents\n",
      "\n",
      "  all agents tot_wealth will be: 10000\n",
      "  all agents sigma_prop will be: 0.5\n"
     ]
    },
    {
     "data": {
      "application/vnd.jupyter.widget-view+json": {
       "model_id": "9b5313d75e4c4873b0959d571c56f341",
       "version_major": 2,
       "version_minor": 0
      },
      "text/plain": [
       "  0%|          | 0/150 [00:00<?, ?it/s]"
      ]
     },
     "metadata": {},
     "output_type": "display_data"
    },
    {
     "name": "stdout",
     "output_type": "stream",
     "text": [
      "run 152 of 190 total------------------------------sentiment_value=0.6 iteration 2 of 10\n",
      "\n",
      "Building partition fixed_sentiment of 1000 agents\n",
      "\n",
      "  all agents tot_wealth will be: 10000\n",
      "  all agents sigma_prop will be: 0.5\n"
     ]
    },
    {
     "data": {
      "application/vnd.jupyter.widget-view+json": {
       "model_id": "7b8dceae6c294ad3b14cd5f090b38808",
       "version_major": 2,
       "version_minor": 0
      },
      "text/plain": [
       "  0%|          | 0/150 [00:00<?, ?it/s]"
      ]
     },
     "metadata": {},
     "output_type": "display_data"
    },
    {
     "name": "stdout",
     "output_type": "stream",
     "text": [
      "run 153 of 190 total------------------------------sentiment_value=0.6 iteration 3 of 10\n",
      "\n",
      "Building partition fixed_sentiment of 1000 agents\n",
      "\n",
      "  all agents tot_wealth will be: 10000\n",
      "  all agents sigma_prop will be: 0.5\n"
     ]
    },
    {
     "data": {
      "application/vnd.jupyter.widget-view+json": {
       "model_id": "994b076a3898491ba63306def1edd11c",
       "version_major": 2,
       "version_minor": 0
      },
      "text/plain": [
       "  0%|          | 0/150 [00:00<?, ?it/s]"
      ]
     },
     "metadata": {},
     "output_type": "display_data"
    },
    {
     "name": "stdout",
     "output_type": "stream",
     "text": [
      "run 154 of 190 total------------------------------sentiment_value=0.6 iteration 4 of 10\n",
      "\n",
      "Building partition fixed_sentiment of 1000 agents\n",
      "\n",
      "  all agents tot_wealth will be: 10000\n",
      "  all agents sigma_prop will be: 0.5\n"
     ]
    },
    {
     "data": {
      "application/vnd.jupyter.widget-view+json": {
       "model_id": "90ff0104018e4f228abb56725ff7da5f",
       "version_major": 2,
       "version_minor": 0
      },
      "text/plain": [
       "  0%|          | 0/150 [00:00<?, ?it/s]"
      ]
     },
     "metadata": {},
     "output_type": "display_data"
    },
    {
     "name": "stdout",
     "output_type": "stream",
     "text": [
      "run 155 of 190 total------------------------------sentiment_value=0.6 iteration 5 of 10\n",
      "\n",
      "Building partition fixed_sentiment of 1000 agents\n",
      "\n",
      "  all agents tot_wealth will be: 10000\n",
      "  all agents sigma_prop will be: 0.5\n"
     ]
    },
    {
     "data": {
      "application/vnd.jupyter.widget-view+json": {
       "model_id": "14e65a5bc3b14c758edf6d3b63510fa8",
       "version_major": 2,
       "version_minor": 0
      },
      "text/plain": [
       "  0%|          | 0/150 [00:00<?, ?it/s]"
      ]
     },
     "metadata": {},
     "output_type": "display_data"
    },
    {
     "name": "stdout",
     "output_type": "stream",
     "text": [
      "run 156 of 190 total------------------------------sentiment_value=0.6 iteration 6 of 10\n",
      "\n",
      "Building partition fixed_sentiment of 1000 agents\n",
      "\n",
      "  all agents tot_wealth will be: 10000\n",
      "  all agents sigma_prop will be: 0.5\n"
     ]
    },
    {
     "data": {
      "application/vnd.jupyter.widget-view+json": {
       "model_id": "1c124031e520448d870d874cb60ecbc5",
       "version_major": 2,
       "version_minor": 0
      },
      "text/plain": [
       "  0%|          | 0/150 [00:00<?, ?it/s]"
      ]
     },
     "metadata": {},
     "output_type": "display_data"
    },
    {
     "name": "stdout",
     "output_type": "stream",
     "text": [
      "run 157 of 190 total------------------------------sentiment_value=0.6 iteration 7 of 10\n",
      "\n",
      "Building partition fixed_sentiment of 1000 agents\n",
      "\n",
      "  all agents tot_wealth will be: 10000\n",
      "  all agents sigma_prop will be: 0.5\n"
     ]
    },
    {
     "data": {
      "application/vnd.jupyter.widget-view+json": {
       "model_id": "9ecee62895c341ed80493a3326451f4a",
       "version_major": 2,
       "version_minor": 0
      },
      "text/plain": [
       "  0%|          | 0/150 [00:00<?, ?it/s]"
      ]
     },
     "metadata": {},
     "output_type": "display_data"
    },
    {
     "name": "stdout",
     "output_type": "stream",
     "text": [
      "run 158 of 190 total------------------------------sentiment_value=0.6 iteration 8 of 10\n",
      "\n",
      "Building partition fixed_sentiment of 1000 agents\n",
      "\n",
      "  all agents tot_wealth will be: 10000\n",
      "  all agents sigma_prop will be: 0.5\n"
     ]
    },
    {
     "data": {
      "application/vnd.jupyter.widget-view+json": {
       "model_id": "50ea7cc8dba54acc9ea6065b68feb06d",
       "version_major": 2,
       "version_minor": 0
      },
      "text/plain": [
       "  0%|          | 0/150 [00:00<?, ?it/s]"
      ]
     },
     "metadata": {},
     "output_type": "display_data"
    },
    {
     "name": "stdout",
     "output_type": "stream",
     "text": [
      "run 159 of 190 total------------------------------sentiment_value=0.6 iteration 9 of 10\n",
      "\n",
      "Building partition fixed_sentiment of 1000 agents\n",
      "\n",
      "  all agents tot_wealth will be: 10000\n",
      "  all agents sigma_prop will be: 0.5\n"
     ]
    },
    {
     "data": {
      "application/vnd.jupyter.widget-view+json": {
       "model_id": "67d8a0db778b400e993e05842db24c3b",
       "version_major": 2,
       "version_minor": 0
      },
      "text/plain": [
       "  0%|          | 0/150 [00:00<?, ?it/s]"
      ]
     },
     "metadata": {},
     "output_type": "display_data"
    },
    {
     "name": "stdout",
     "output_type": "stream",
     "text": [
      "run 160 of 190 total------------------------------sentiment_value=0.6 iteration 10 of 10\n",
      "\n",
      "Building partition fixed_sentiment of 1000 agents\n",
      "\n",
      "  all agents tot_wealth will be: 10000\n",
      "  all agents sigma_prop will be: 0.5\n"
     ]
    },
    {
     "data": {
      "application/vnd.jupyter.widget-view+json": {
       "model_id": "2bd20907e12343deb8f5edd56df1f58a",
       "version_major": 2,
       "version_minor": 0
      },
      "text/plain": [
       "  0%|          | 0/150 [00:00<?, ?it/s]"
      ]
     },
     "metadata": {},
     "output_type": "display_data"
    },
    {
     "name": "stdout",
     "output_type": "stream",
     "text": [
      "run 161 of 190 total------------------------------sentiment_value=0.7000000000000001 iteration 1 of 10\n",
      "\n",
      "Building partition fixed_sentiment of 1000 agents\n",
      "\n",
      "  all agents tot_wealth will be: 10000\n",
      "  all agents sigma_prop will be: 0.5\n"
     ]
    },
    {
     "data": {
      "application/vnd.jupyter.widget-view+json": {
       "model_id": "97728797453f4846bcaf77386eb6c7e2",
       "version_major": 2,
       "version_minor": 0
      },
      "text/plain": [
       "  0%|          | 0/150 [00:00<?, ?it/s]"
      ]
     },
     "metadata": {},
     "output_type": "display_data"
    },
    {
     "name": "stdout",
     "output_type": "stream",
     "text": [
      "run 162 of 190 total------------------------------sentiment_value=0.7000000000000001 iteration 2 of 10\n",
      "\n",
      "Building partition fixed_sentiment of 1000 agents\n",
      "\n",
      "  all agents tot_wealth will be: 10000\n",
      "  all agents sigma_prop will be: 0.5\n"
     ]
    },
    {
     "data": {
      "application/vnd.jupyter.widget-view+json": {
       "model_id": "14b14af7e7b14c679285552c27db1ce7",
       "version_major": 2,
       "version_minor": 0
      },
      "text/plain": [
       "  0%|          | 0/150 [00:00<?, ?it/s]"
      ]
     },
     "metadata": {},
     "output_type": "display_data"
    },
    {
     "name": "stdout",
     "output_type": "stream",
     "text": [
      "run 163 of 190 total------------------------------sentiment_value=0.7000000000000001 iteration 3 of 10\n",
      "\n",
      "Building partition fixed_sentiment of 1000 agents\n",
      "\n",
      "  all agents tot_wealth will be: 10000\n",
      "  all agents sigma_prop will be: 0.5\n"
     ]
    },
    {
     "data": {
      "application/vnd.jupyter.widget-view+json": {
       "model_id": "1c36ff3283ac475eadbdd172e5bf1af4",
       "version_major": 2,
       "version_minor": 0
      },
      "text/plain": [
       "  0%|          | 0/150 [00:00<?, ?it/s]"
      ]
     },
     "metadata": {},
     "output_type": "display_data"
    },
    {
     "name": "stdout",
     "output_type": "stream",
     "text": [
      "run 164 of 190 total------------------------------sentiment_value=0.7000000000000001 iteration 4 of 10\n",
      "\n",
      "Building partition fixed_sentiment of 1000 agents\n",
      "\n",
      "  all agents tot_wealth will be: 10000\n",
      "  all agents sigma_prop will be: 0.5\n"
     ]
    },
    {
     "data": {
      "application/vnd.jupyter.widget-view+json": {
       "model_id": "0d36dba8330f4857849c192540b61d4a",
       "version_major": 2,
       "version_minor": 0
      },
      "text/plain": [
       "  0%|          | 0/150 [00:00<?, ?it/s]"
      ]
     },
     "metadata": {},
     "output_type": "display_data"
    },
    {
     "name": "stdout",
     "output_type": "stream",
     "text": [
      "run 165 of 190 total------------------------------sentiment_value=0.7000000000000001 iteration 5 of 10\n",
      "\n",
      "Building partition fixed_sentiment of 1000 agents\n",
      "\n",
      "  all agents tot_wealth will be: 10000\n",
      "  all agents sigma_prop will be: 0.5\n"
     ]
    },
    {
     "data": {
      "application/vnd.jupyter.widget-view+json": {
       "model_id": "31e8f3a111df4dbf8b7f37d5ce96744c",
       "version_major": 2,
       "version_minor": 0
      },
      "text/plain": [
       "  0%|          | 0/150 [00:00<?, ?it/s]"
      ]
     },
     "metadata": {},
     "output_type": "display_data"
    },
    {
     "name": "stdout",
     "output_type": "stream",
     "text": [
      "run 166 of 190 total------------------------------sentiment_value=0.7000000000000001 iteration 6 of 10\n",
      "\n",
      "Building partition fixed_sentiment of 1000 agents\n",
      "\n",
      "  all agents tot_wealth will be: 10000\n",
      "  all agents sigma_prop will be: 0.5\n"
     ]
    },
    {
     "data": {
      "application/vnd.jupyter.widget-view+json": {
       "model_id": "48274a477f474d07a605b395b4ca93df",
       "version_major": 2,
       "version_minor": 0
      },
      "text/plain": [
       "  0%|          | 0/150 [00:00<?, ?it/s]"
      ]
     },
     "metadata": {},
     "output_type": "display_data"
    },
    {
     "name": "stdout",
     "output_type": "stream",
     "text": [
      "run 167 of 190 total------------------------------sentiment_value=0.7000000000000001 iteration 7 of 10\n",
      "\n",
      "Building partition fixed_sentiment of 1000 agents\n",
      "\n",
      "  all agents tot_wealth will be: 10000\n",
      "  all agents sigma_prop will be: 0.5\n"
     ]
    },
    {
     "data": {
      "application/vnd.jupyter.widget-view+json": {
       "model_id": "ff1b98e41a8e46ee973418000fcc9737",
       "version_major": 2,
       "version_minor": 0
      },
      "text/plain": [
       "  0%|          | 0/150 [00:00<?, ?it/s]"
      ]
     },
     "metadata": {},
     "output_type": "display_data"
    },
    {
     "name": "stdout",
     "output_type": "stream",
     "text": [
      "run 168 of 190 total------------------------------sentiment_value=0.7000000000000001 iteration 8 of 10\n",
      "\n",
      "Building partition fixed_sentiment of 1000 agents\n",
      "\n",
      "  all agents tot_wealth will be: 10000\n",
      "  all agents sigma_prop will be: 0.5\n"
     ]
    },
    {
     "data": {
      "application/vnd.jupyter.widget-view+json": {
       "model_id": "84fc48fe37ce487a9a80c6aab9f1ad56",
       "version_major": 2,
       "version_minor": 0
      },
      "text/plain": [
       "  0%|          | 0/150 [00:00<?, ?it/s]"
      ]
     },
     "metadata": {},
     "output_type": "display_data"
    },
    {
     "name": "stdout",
     "output_type": "stream",
     "text": [
      "run 169 of 190 total------------------------------sentiment_value=0.7000000000000001 iteration 9 of 10\n",
      "\n",
      "Building partition fixed_sentiment of 1000 agents\n",
      "\n",
      "  all agents tot_wealth will be: 10000\n",
      "  all agents sigma_prop will be: 0.5\n"
     ]
    },
    {
     "data": {
      "application/vnd.jupyter.widget-view+json": {
       "model_id": "05ec17f4645241fe89d20c79e27b54a8",
       "version_major": 2,
       "version_minor": 0
      },
      "text/plain": [
       "  0%|          | 0/150 [00:00<?, ?it/s]"
      ]
     },
     "metadata": {},
     "output_type": "display_data"
    },
    {
     "name": "stdout",
     "output_type": "stream",
     "text": [
      "run 170 of 190 total------------------------------sentiment_value=0.7000000000000001 iteration 10 of 10\n",
      "\n",
      "Building partition fixed_sentiment of 1000 agents\n",
      "\n",
      "  all agents tot_wealth will be: 10000\n",
      "  all agents sigma_prop will be: 0.5\n"
     ]
    },
    {
     "data": {
      "application/vnd.jupyter.widget-view+json": {
       "model_id": "be5f43e79d9949838d6c7234a390cf76",
       "version_major": 2,
       "version_minor": 0
      },
      "text/plain": [
       "  0%|          | 0/150 [00:00<?, ?it/s]"
      ]
     },
     "metadata": {},
     "output_type": "display_data"
    },
    {
     "name": "stdout",
     "output_type": "stream",
     "text": [
      "run 171 of 190 total------------------------------sentiment_value=0.8000000000000002 iteration 1 of 10\n",
      "\n",
      "Building partition fixed_sentiment of 1000 agents\n",
      "\n",
      "  all agents tot_wealth will be: 10000\n",
      "  all agents sigma_prop will be: 0.5\n"
     ]
    },
    {
     "data": {
      "application/vnd.jupyter.widget-view+json": {
       "model_id": "32112bfc797c4ef38074539e2e32eb2e",
       "version_major": 2,
       "version_minor": 0
      },
      "text/plain": [
       "  0%|          | 0/150 [00:00<?, ?it/s]"
      ]
     },
     "metadata": {},
     "output_type": "display_data"
    },
    {
     "name": "stdout",
     "output_type": "stream",
     "text": [
      "run 172 of 190 total------------------------------sentiment_value=0.8000000000000002 iteration 2 of 10\n",
      "\n",
      "Building partition fixed_sentiment of 1000 agents\n",
      "\n",
      "  all agents tot_wealth will be: 10000\n",
      "  all agents sigma_prop will be: 0.5\n"
     ]
    },
    {
     "data": {
      "application/vnd.jupyter.widget-view+json": {
       "model_id": "514363b0067545b0bbdb570cdc46b5e0",
       "version_major": 2,
       "version_minor": 0
      },
      "text/plain": [
       "  0%|          | 0/150 [00:00<?, ?it/s]"
      ]
     },
     "metadata": {},
     "output_type": "display_data"
    },
    {
     "name": "stdout",
     "output_type": "stream",
     "text": [
      "run 173 of 190 total------------------------------sentiment_value=0.8000000000000002 iteration 3 of 10\n",
      "\n",
      "Building partition fixed_sentiment of 1000 agents\n",
      "\n",
      "  all agents tot_wealth will be: 10000\n",
      "  all agents sigma_prop will be: 0.5\n"
     ]
    },
    {
     "data": {
      "application/vnd.jupyter.widget-view+json": {
       "model_id": "3d9c84c0270e482fa14713f2607140c2",
       "version_major": 2,
       "version_minor": 0
      },
      "text/plain": [
       "  0%|          | 0/150 [00:00<?, ?it/s]"
      ]
     },
     "metadata": {},
     "output_type": "display_data"
    },
    {
     "name": "stdout",
     "output_type": "stream",
     "text": [
      "run 174 of 190 total------------------------------sentiment_value=0.8000000000000002 iteration 4 of 10\n",
      "\n",
      "Building partition fixed_sentiment of 1000 agents\n",
      "\n",
      "  all agents tot_wealth will be: 10000\n",
      "  all agents sigma_prop will be: 0.5\n"
     ]
    },
    {
     "data": {
      "application/vnd.jupyter.widget-view+json": {
       "model_id": "b80dd6c67e4143feb757d1fc3fb3beb2",
       "version_major": 2,
       "version_minor": 0
      },
      "text/plain": [
       "  0%|          | 0/150 [00:00<?, ?it/s]"
      ]
     },
     "metadata": {},
     "output_type": "display_data"
    },
    {
     "name": "stdout",
     "output_type": "stream",
     "text": [
      "run 175 of 190 total------------------------------sentiment_value=0.8000000000000002 iteration 5 of 10\n",
      "\n",
      "Building partition fixed_sentiment of 1000 agents\n",
      "\n",
      "  all agents tot_wealth will be: 10000\n",
      "  all agents sigma_prop will be: 0.5\n"
     ]
    },
    {
     "data": {
      "application/vnd.jupyter.widget-view+json": {
       "model_id": "a5f90a94d8af4bf5af296a67da063719",
       "version_major": 2,
       "version_minor": 0
      },
      "text/plain": [
       "  0%|          | 0/150 [00:00<?, ?it/s]"
      ]
     },
     "metadata": {},
     "output_type": "display_data"
    },
    {
     "name": "stdout",
     "output_type": "stream",
     "text": [
      "run 176 of 190 total------------------------------sentiment_value=0.8000000000000002 iteration 6 of 10\n",
      "\n",
      "Building partition fixed_sentiment of 1000 agents\n",
      "\n",
      "  all agents tot_wealth will be: 10000\n",
      "  all agents sigma_prop will be: 0.5\n"
     ]
    },
    {
     "data": {
      "application/vnd.jupyter.widget-view+json": {
       "model_id": "696762c7f6b54368883874fdd3cf1780",
       "version_major": 2,
       "version_minor": 0
      },
      "text/plain": [
       "  0%|          | 0/150 [00:00<?, ?it/s]"
      ]
     },
     "metadata": {},
     "output_type": "display_data"
    },
    {
     "name": "stdout",
     "output_type": "stream",
     "text": [
      "run 177 of 190 total------------------------------sentiment_value=0.8000000000000002 iteration 7 of 10\n",
      "\n",
      "Building partition fixed_sentiment of 1000 agents\n",
      "\n",
      "  all agents tot_wealth will be: 10000\n",
      "  all agents sigma_prop will be: 0.5\n"
     ]
    },
    {
     "data": {
      "application/vnd.jupyter.widget-view+json": {
       "model_id": "c6d836e9b9b14886afaee4b19afd798b",
       "version_major": 2,
       "version_minor": 0
      },
      "text/plain": [
       "  0%|          | 0/150 [00:00<?, ?it/s]"
      ]
     },
     "metadata": {},
     "output_type": "display_data"
    },
    {
     "name": "stdout",
     "output_type": "stream",
     "text": [
      "run 178 of 190 total------------------------------sentiment_value=0.8000000000000002 iteration 8 of 10\n",
      "\n",
      "Building partition fixed_sentiment of 1000 agents\n",
      "\n",
      "  all agents tot_wealth will be: 10000\n",
      "  all agents sigma_prop will be: 0.5\n"
     ]
    },
    {
     "data": {
      "application/vnd.jupyter.widget-view+json": {
       "model_id": "b25208ee00324d9aa74f63bee2503202",
       "version_major": 2,
       "version_minor": 0
      },
      "text/plain": [
       "  0%|          | 0/150 [00:00<?, ?it/s]"
      ]
     },
     "metadata": {},
     "output_type": "display_data"
    },
    {
     "name": "stdout",
     "output_type": "stream",
     "text": [
      "run 179 of 190 total------------------------------sentiment_value=0.8000000000000002 iteration 9 of 10\n",
      "\n",
      "Building partition fixed_sentiment of 1000 agents\n",
      "\n",
      "  all agents tot_wealth will be: 10000\n",
      "  all agents sigma_prop will be: 0.5\n"
     ]
    },
    {
     "data": {
      "application/vnd.jupyter.widget-view+json": {
       "model_id": "ad89c17908194e8f9e5c36b500031329",
       "version_major": 2,
       "version_minor": 0
      },
      "text/plain": [
       "  0%|          | 0/150 [00:00<?, ?it/s]"
      ]
     },
     "metadata": {},
     "output_type": "display_data"
    },
    {
     "name": "stdout",
     "output_type": "stream",
     "text": [
      "run 180 of 190 total------------------------------sentiment_value=0.8000000000000002 iteration 10 of 10\n",
      "\n",
      "Building partition fixed_sentiment of 1000 agents\n",
      "\n",
      "  all agents tot_wealth will be: 10000\n",
      "  all agents sigma_prop will be: 0.5\n"
     ]
    },
    {
     "data": {
      "application/vnd.jupyter.widget-view+json": {
       "model_id": "6c401a0ecb80494caeaacc7d5532d6e5",
       "version_major": 2,
       "version_minor": 0
      },
      "text/plain": [
       "  0%|          | 0/150 [00:00<?, ?it/s]"
      ]
     },
     "metadata": {},
     "output_type": "display_data"
    },
    {
     "name": "stdout",
     "output_type": "stream",
     "text": [
      "run 181 of 190 total------------------------------sentiment_value=0.9 iteration 1 of 10\n",
      "\n",
      "Building partition fixed_sentiment of 1000 agents\n",
      "\n",
      "  all agents tot_wealth will be: 10000\n",
      "  all agents sigma_prop will be: 0.5\n"
     ]
    },
    {
     "data": {
      "application/vnd.jupyter.widget-view+json": {
       "model_id": "d84170c93ce74649b3f38102d58c7142",
       "version_major": 2,
       "version_minor": 0
      },
      "text/plain": [
       "  0%|          | 0/150 [00:00<?, ?it/s]"
      ]
     },
     "metadata": {},
     "output_type": "display_data"
    },
    {
     "name": "stdout",
     "output_type": "stream",
     "text": [
      "run 182 of 190 total------------------------------sentiment_value=0.9 iteration 2 of 10\n",
      "\n",
      "Building partition fixed_sentiment of 1000 agents\n",
      "\n",
      "  all agents tot_wealth will be: 10000\n",
      "  all agents sigma_prop will be: 0.5\n"
     ]
    },
    {
     "data": {
      "application/vnd.jupyter.widget-view+json": {
       "model_id": "6d6881c596974430a92e574e7db81483",
       "version_major": 2,
       "version_minor": 0
      },
      "text/plain": [
       "  0%|          | 0/150 [00:00<?, ?it/s]"
      ]
     },
     "metadata": {},
     "output_type": "display_data"
    },
    {
     "name": "stdout",
     "output_type": "stream",
     "text": [
      "run 183 of 190 total------------------------------sentiment_value=0.9 iteration 3 of 10\n",
      "\n",
      "Building partition fixed_sentiment of 1000 agents\n",
      "\n",
      "  all agents tot_wealth will be: 10000\n",
      "  all agents sigma_prop will be: 0.5\n"
     ]
    },
    {
     "data": {
      "application/vnd.jupyter.widget-view+json": {
       "model_id": "81dab0f62ca44bd08de7a5db33a73992",
       "version_major": 2,
       "version_minor": 0
      },
      "text/plain": [
       "  0%|          | 0/150 [00:00<?, ?it/s]"
      ]
     },
     "metadata": {},
     "output_type": "display_data"
    },
    {
     "name": "stdout",
     "output_type": "stream",
     "text": [
      "run 184 of 190 total------------------------------sentiment_value=0.9 iteration 4 of 10\n",
      "\n",
      "Building partition fixed_sentiment of 1000 agents\n",
      "\n",
      "  all agents tot_wealth will be: 10000\n",
      "  all agents sigma_prop will be: 0.5\n"
     ]
    },
    {
     "data": {
      "application/vnd.jupyter.widget-view+json": {
       "model_id": "f863b03f48df4498a91ffd2b96505179",
       "version_major": 2,
       "version_minor": 0
      },
      "text/plain": [
       "  0%|          | 0/150 [00:00<?, ?it/s]"
      ]
     },
     "metadata": {},
     "output_type": "display_data"
    },
    {
     "name": "stdout",
     "output_type": "stream",
     "text": [
      "run 185 of 190 total------------------------------sentiment_value=0.9 iteration 5 of 10\n",
      "\n",
      "Building partition fixed_sentiment of 1000 agents\n",
      "\n",
      "  all agents tot_wealth will be: 10000\n",
      "  all agents sigma_prop will be: 0.5\n"
     ]
    },
    {
     "data": {
      "application/vnd.jupyter.widget-view+json": {
       "model_id": "0e87d25e56c34406a439f00ea89e0117",
       "version_major": 2,
       "version_minor": 0
      },
      "text/plain": [
       "  0%|          | 0/150 [00:00<?, ?it/s]"
      ]
     },
     "metadata": {},
     "output_type": "display_data"
    },
    {
     "name": "stdout",
     "output_type": "stream",
     "text": [
      "run 186 of 190 total------------------------------sentiment_value=0.9 iteration 6 of 10\n",
      "\n",
      "Building partition fixed_sentiment of 1000 agents\n",
      "\n",
      "  all agents tot_wealth will be: 10000\n",
      "  all agents sigma_prop will be: 0.5\n"
     ]
    },
    {
     "data": {
      "application/vnd.jupyter.widget-view+json": {
       "model_id": "e2bd623a86f048aaae5f45a7504bbf0c",
       "version_major": 2,
       "version_minor": 0
      },
      "text/plain": [
       "  0%|          | 0/150 [00:00<?, ?it/s]"
      ]
     },
     "metadata": {},
     "output_type": "display_data"
    },
    {
     "name": "stdout",
     "output_type": "stream",
     "text": [
      "run 187 of 190 total------------------------------sentiment_value=0.9 iteration 7 of 10\n",
      "\n",
      "Building partition fixed_sentiment of 1000 agents\n",
      "\n",
      "  all agents tot_wealth will be: 10000\n",
      "  all agents sigma_prop will be: 0.5\n"
     ]
    },
    {
     "data": {
      "application/vnd.jupyter.widget-view+json": {
       "model_id": "484cba65cfe6416e924483d46b8bfc7a",
       "version_major": 2,
       "version_minor": 0
      },
      "text/plain": [
       "  0%|          | 0/150 [00:00<?, ?it/s]"
      ]
     },
     "metadata": {},
     "output_type": "display_data"
    },
    {
     "name": "stdout",
     "output_type": "stream",
     "text": [
      "run 188 of 190 total------------------------------sentiment_value=0.9 iteration 8 of 10\n",
      "\n",
      "Building partition fixed_sentiment of 1000 agents\n",
      "\n",
      "  all agents tot_wealth will be: 10000\n",
      "  all agents sigma_prop will be: 0.5\n"
     ]
    },
    {
     "data": {
      "application/vnd.jupyter.widget-view+json": {
       "model_id": "123491a1dab043179641b5f7c0cecf5e",
       "version_major": 2,
       "version_minor": 0
      },
      "text/plain": [
       "  0%|          | 0/150 [00:00<?, ?it/s]"
      ]
     },
     "metadata": {},
     "output_type": "display_data"
    },
    {
     "name": "stdout",
     "output_type": "stream",
     "text": [
      "run 189 of 190 total------------------------------sentiment_value=0.9 iteration 9 of 10\n",
      "\n",
      "Building partition fixed_sentiment of 1000 agents\n",
      "\n",
      "  all agents tot_wealth will be: 10000\n",
      "  all agents sigma_prop will be: 0.5\n"
     ]
    },
    {
     "data": {
      "application/vnd.jupyter.widget-view+json": {
       "model_id": "595d1c77ae5d422280af89eac6635a4b",
       "version_major": 2,
       "version_minor": 0
      },
      "text/plain": [
       "  0%|          | 0/150 [00:00<?, ?it/s]"
      ]
     },
     "metadata": {},
     "output_type": "display_data"
    },
    {
     "name": "stdout",
     "output_type": "stream",
     "text": [
      "run 190 of 190 total------------------------------sentiment_value=0.9 iteration 10 of 10\n",
      "\n",
      "Building partition fixed_sentiment of 1000 agents\n",
      "\n",
      "  all agents tot_wealth will be: 10000\n",
      "  all agents sigma_prop will be: 0.5\n"
     ]
    },
    {
     "data": {
      "application/vnd.jupyter.widget-view+json": {
       "model_id": "154e999a7fb948b6ac578c7714dbb626",
       "version_major": 2,
       "version_minor": 0
      },
      "text/plain": [
       "  0%|          | 0/150 [00:00<?, ?it/s]"
      ]
     },
     "metadata": {},
     "output_type": "display_data"
    }
   ],
   "source": [
    "lab.param_run(150, 'sentiment_value',sentiment_values, iter_same_point=10 )"
   ]
  },
  {
   "cell_type": "code",
   "execution_count": 7,
   "id": "052ae1d3",
   "metadata": {},
   "outputs": [
    {
     "data": {
      "application/vnd.jupyter.widget-view+json": {
       "model_id": "87ae5516c5c94d89971116a1422ea7d2",
       "version_major": 2,
       "version_minor": 0
      },
      "text/plain": [
       "exp fitting abs_avg_eq_dist:   0%|          | 0/19 [00:00<?, ?it/s]"
      ]
     },
     "metadata": {},
     "output_type": "display_data"
    },
    {
     "data": {
      "application/vnd.jupyter.widget-view+json": {
       "model_id": "42601235e9b94c9a8bd31fbc474b56bc",
       "version_major": 2,
       "version_minor": 0
      },
      "text/plain": [
       "lin fitting abs_avg_eq_dist:   0%|          | 0/19 [00:00<?, ?it/s]"
      ]
     },
     "metadata": {},
     "output_type": "display_data"
    }
   ],
   "source": [
    "# lab.fit_metric('avg_sigma', 'pol', end_slice=100, poly_order=3,fit_name='pol_fit', weight_coeff=2)\n",
    "# lab.fit_metric('sct_abs_eq_dist', 'exp', end_slice=100, fit_name='exp_fit', weight_coeff=1/2)\n",
    "lab.fit_metric('abs_avg_eq_dist', 'exp', end_slice=100, fit_name='exp_fit', weight_coeff=2)\n",
    "lab.fit_metric('abs_avg_eq_dist', 'lin', end_slice=50,  fit_name='lin_fit', weight_coeff=2)"
   ]
  },
  {
   "cell_type": "code",
   "execution_count": 8,
   "id": "3dba2ce3",
   "metadata": {},
   "outputs": [
    {
     "name": "stdout",
     "output_type": "stream",
     "text": [
      "\n",
      "\n",
      "-------------------------------------------------- METRICS INFO\n",
      "\n",
      "----------metric name: avg_price\n",
      "          performed on parameters:\n",
      "               sentiment_value=-0.9,-0.8,-0.7,-0.6,-0.5,-0.4,-0.29999999999999993,-0.19999999999999996,-0.09999999999999998,0.0,0.09999999999999998,0.20000000000000007,0.30000000000000016,0.4,0.5000000000000001,0.6,0.7000000000000001,0.8000000000000002,0.9\n",
      "----------metric name: avg_sigma\n",
      "          performed on parameters:\n",
      "               sentiment_value=-0.9,-0.8,-0.7,-0.6,-0.5,-0.4,-0.29999999999999993,-0.19999999999999996,-0.09999999999999998,0.0,0.09999999999999998,0.20000000000000007,0.30000000000000016,0.4,0.5000000000000001,0.6,0.7000000000000001,0.8000000000000002,0.9\n",
      "----------metric name: abs_avg_eq_dist\n",
      "          performed on parameters:\n",
      "               sentiment_value=-0.9,-0.8,-0.7,-0.6,-0.5,-0.4,-0.29999999999999993,-0.19999999999999996,-0.09999999999999998,0.0,0.09999999999999998,0.20000000000000007,0.30000000000000016,0.4,0.5000000000000001,0.6,0.7000000000000001,0.8000000000000002,0.9\n",
      "----------metric name: sct_abs_eq_dist\n",
      "          performed on parameters:\n",
      "               sentiment_value=-0.9,-0.8,-0.7,-0.6,-0.5,-0.4,-0.29999999999999993,-0.19999999999999996,-0.09999999999999998,0.0,0.09999999999999998,0.20000000000000007,0.30000000000000016,0.4,0.5000000000000001,0.6,0.7000000000000001,0.8000000000000002,0.9\n",
      "\n",
      "\n",
      "################################################## FITS INFO\n",
      "\n",
      "######### fit name: exp_fit\n",
      "          dominio from 0 to (included) 99 of size 100\n",
      "          performed on metrics: abs_avg_eq_dist\n",
      "######### fit name: lin_fit\n",
      "          dominio from 0 to (included) 49 of size 50\n",
      "          performed on metrics: abs_avg_eq_dist\n"
     ]
    }
   ],
   "source": [
    "lab.print_mtr_summary()\n",
    "lab.print_fit_summary()"
   ]
  },
  {
   "cell_type": "code",
   "execution_count": 9,
   "id": "32e78bd7",
   "metadata": {},
   "outputs": [
    {
     "data": {
      "image/png": "[encoded data removed]",
      "text/plain": [
       "<Figure size 1296x10944 with 19 Axes>"
      ]
     },
     "metadata": {
      "needs_background": "light"
     },
     "output_type": "display_data"
    },
    {
     "name": "stdout",
     "output_type": "stream",
     "text": [
      "sentiment_=-0.90000------------------------------\n",
      "    subrun 0: \n",
      "        exp_fit        :  C[ 0]=  -0.02500;  C[ 1]=  -0.80556; \n",
      "        lin_fit        :  C[ 0]=  -0.00760;  C[ 1]=   0.43295; \n",
      "    subrun 1: \n",
      "        exp_fit        :  C[ 0]=  -0.02519;  C[ 1]=  -0.82411; \n",
      "        lin_fit        :  C[ 0]=  -0.00755;  C[ 1]=   0.42546; \n",
      "    subrun 2: \n",
      "        exp_fit        :  C[ 0]=  -0.02464;  C[ 1]=  -0.81767; \n",
      "        lin_fit        :  C[ 0]=  -0.00743;  C[ 1]=   0.42808; \n",
      "    subrun 3: \n",
      "        exp_fit        :  C[ 0]=  -0.02445;  C[ 1]=  -0.81540; \n",
      "        lin_fit        :  C[ 0]=  -0.00739;  C[ 1]=   0.42896; \n",
      "    subrun 4: \n",
      "        exp_fit        :  C[ 0]=  -0.02359;  C[ 1]=  -0.81466; \n",
      "        lin_fit        :  C[ 0]=  -0.00717;  C[ 1]=   0.42966; \n",
      "    subrun 5: \n",
      "        exp_fit        :  C[ 0]=  -0.02394;  C[ 1]=  -0.81905; \n",
      "        lin_fit        :  C[ 0]=  -0.00723;  C[ 1]=   0.42756; \n",
      "    subrun 6: \n",
      "        exp_fit        :  C[ 0]=  -0.02454;  C[ 1]=  -0.82466; \n",
      "        lin_fit        :  C[ 0]=  -0.00736;  C[ 1]=   0.42529; \n",
      "    subrun 7: \n",
      "        exp_fit        :  C[ 0]=  -0.02489;  C[ 1]=  -0.81013; \n",
      "        lin_fit        :  C[ 0]=  -0.00754;  C[ 1]=   0.43110; \n",
      "    subrun 8: \n",
      "        exp_fit        :  C[ 0]=  -0.02458;  C[ 1]=  -0.82181; \n",
      "        lin_fit        :  C[ 0]=  -0.00741;  C[ 1]=   0.42680; \n",
      "    subrun 9: \n",
      "        exp_fit        :  C[ 0]=  -0.02474;  C[ 1]=  -0.81278; \n",
      "        lin_fit        :  C[ 0]=  -0.00748;  C[ 1]=   0.42979; \n",
      "sentiment_=-0.80000------------------------------\n",
      "    subrun 0: \n",
      "        exp_fit        :  C[ 0]=  -0.03503;  C[ 1]=  -0.93983; \n",
      "        lin_fit        :  C[ 0]=  -0.00912;  C[ 1]=   0.37779; \n",
      "    subrun 1: \n",
      "        exp_fit        :  C[ 0]=  -0.03386;  C[ 1]=  -0.94887; \n",
      "        lin_fit        :  C[ 0]=  -0.00887;  C[ 1]=   0.37513; \n",
      "    subrun 2: \n",
      "        exp_fit        :  C[ 0]=  -0.03514;  C[ 1]=  -0.94349; \n",
      "        lin_fit        :  C[ 0]=  -0.00910;  C[ 1]=   0.37639; \n",
      "    subrun 3: \n",
      "        exp_fit        :  C[ 0]=  -0.03428;  C[ 1]=  -0.93906; \n",
      "        lin_fit        :  C[ 0]=  -0.00895;  C[ 1]=   0.37797; \n",
      "    subrun 4: \n",
      "        exp_fit        :  C[ 0]=  -0.03538;  C[ 1]=  -0.93672; \n",
      "        lin_fit        :  C[ 0]=  -0.00924;  C[ 1]=   0.37887; \n",
      "    subrun 5: \n",
      "        exp_fit        :  C[ 0]=  -0.03573;  C[ 1]=  -0.94604; \n",
      "        lin_fit        :  C[ 0]=  -0.00929;  C[ 1]=   0.37595; \n",
      "    subrun 6: \n",
      "        exp_fit        :  C[ 0]=  -0.03434;  C[ 1]=  -0.93533; \n",
      "        lin_fit        :  C[ 0]=  -0.00903;  C[ 1]=   0.37999; \n",
      "    subrun 7: \n",
      "        exp_fit        :  C[ 0]=  -0.03485;  C[ 1]=  -0.94374; \n",
      "        lin_fit        :  C[ 0]=  -0.00907;  C[ 1]=   0.37644; \n",
      "    subrun 8: \n",
      "        exp_fit        :  C[ 0]=  -0.03492;  C[ 1]=  -0.92873; \n",
      "        lin_fit        :  C[ 0]=  -0.00919;  C[ 1]=   0.38189; \n",
      "    subrun 9: \n",
      "        exp_fit        :  C[ 0]=  -0.03369;  C[ 1]=  -0.93649; \n",
      "        lin_fit        :  C[ 0]=  -0.00888;  C[ 1]=   0.37951; \n",
      "sentiment_=-0.70000------------------------------\n",
      "    subrun 0: \n",
      "        exp_fit        :  C[ 0]=  -0.03970;  C[ 1]=  -1.07068; \n",
      "        lin_fit        :  C[ 0]=  -0.00914;  C[ 1]=   0.33184; \n",
      "    subrun 1: \n",
      "        exp_fit        :  C[ 0]=  -0.04041;  C[ 1]=  -1.08503; \n",
      "        lin_fit        :  C[ 0]=  -0.00920;  C[ 1]=   0.32738; \n",
      "    subrun 2: \n",
      "        exp_fit        :  C[ 0]=  -0.04112;  C[ 1]=  -1.07741; \n",
      "        lin_fit        :  C[ 0]=  -0.00932;  C[ 1]=   0.32936; \n",
      "    subrun 3: \n",
      "        exp_fit        :  C[ 0]=  -0.04207;  C[ 1]=  -1.06383; \n",
      "        lin_fit        :  C[ 0]=  -0.00966;  C[ 1]=   0.33388; \n",
      "    subrun 4: \n",
      "        exp_fit        :  C[ 0]=  -0.03971;  C[ 1]=  -1.08266; \n",
      "        lin_fit        :  C[ 0]=  -0.00907;  C[ 1]=   0.32811; \n",
      "    subrun 5: \n",
      "        exp_fit        :  C[ 0]=  -0.04158;  C[ 1]=  -1.07912; \n",
      "        lin_fit        :  C[ 0]=  -0.00947;  C[ 1]=   0.32898; \n",
      "    subrun 6: \n",
      "        exp_fit        :  C[ 0]=  -0.03839;  C[ 1]=  -1.07237; \n",
      "        lin_fit        :  C[ 0]=  -0.00884;  C[ 1]=   0.33122; \n",
      "    subrun 7: \n",
      "        exp_fit        :  C[ 0]=  -0.03948;  C[ 1]=  -1.07996; \n",
      "        lin_fit        :  C[ 0]=  -0.00904;  C[ 1]=   0.32882; \n",
      "    subrun 8: \n",
      "        exp_fit        :  C[ 0]=  -0.04124;  C[ 1]=  -1.06988; \n",
      "        lin_fit        :  C[ 0]=  -0.00950;  C[ 1]=   0.33197; \n",
      "    subrun 9: \n",
      "        exp_fit        :  C[ 0]=  -0.03906;  C[ 1]=  -1.06280; \n",
      "        lin_fit        :  C[ 0]=  -0.00905;  C[ 1]=   0.33401; \n",
      "sentiment_=-0.60000------------------------------\n",
      "    subrun 0: \n",
      "        exp_fit        :  C[ 0]=  -0.04122;  C[ 1]=  -1.21984; \n",
      "        lin_fit        :  C[ 0]=  -0.00816;  C[ 1]=   0.28593; \n",
      "    subrun 1: \n",
      "        exp_fit        :  C[ 0]=  -0.04416;  C[ 1]=  -1.21384; \n",
      "        lin_fit        :  C[ 0]=  -0.00866;  C[ 1]=   0.28684; \n",
      "    subrun 2: \n",
      "        exp_fit        :  C[ 0]=  -0.04330;  C[ 1]=  -1.22301; \n",
      "        lin_fit        :  C[ 0]=  -0.00848;  C[ 1]=   0.28456; \n",
      "    subrun 3: \n",
      "        exp_fit        :  C[ 0]=  -0.04261;  C[ 1]=  -1.24271; \n",
      "        lin_fit        :  C[ 0]=  -0.00825;  C[ 1]=   0.27948; \n",
      "    subrun 4: \n",
      "        exp_fit        :  C[ 0]=  -0.04151;  C[ 1]=  -1.23742; \n",
      "        lin_fit        :  C[ 0]=  -0.00812;  C[ 1]=   0.28110; \n",
      "    subrun 5: \n",
      "        exp_fit        :  C[ 0]=  -0.04099;  C[ 1]=  -1.22533; \n",
      "        lin_fit        :  C[ 0]=  -0.00817;  C[ 1]=   0.28448; \n",
      "    subrun 6: \n",
      "        exp_fit        :  C[ 0]=  -0.04179;  C[ 1]=  -1.22806; \n",
      "        lin_fit        :  C[ 0]=  -0.00819;  C[ 1]=   0.28360; \n",
      "    subrun 7: \n",
      "        exp_fit        :  C[ 0]=  -0.03767;  C[ 1]=  -1.22700; \n",
      "        lin_fit        :  C[ 0]=  -0.00746;  C[ 1]=   0.28385; \n",
      "    subrun 8: \n",
      "        exp_fit        :  C[ 0]=  -0.04204;  C[ 1]=  -1.22850; \n",
      "        lin_fit        :  C[ 0]=  -0.00835;  C[ 1]=   0.28353; \n",
      "    subrun 9: \n",
      "        exp_fit        :  C[ 0]=  -0.04359;  C[ 1]=  -1.23403; \n",
      "        lin_fit        :  C[ 0]=  -0.00852;  C[ 1]=   0.28180; \n",
      "sentiment_=-0.50000------------------------------\n",
      "    subrun 0: \n",
      "        exp_fit        :  C[ 0]=  -0.03961;  C[ 1]=  -1.40278; \n",
      "        lin_fit        :  C[ 0]=  -0.00657;  C[ 1]=   0.23780; \n",
      "    subrun 1: \n",
      "        exp_fit        :  C[ 0]=  -0.04003;  C[ 1]=  -1.39052; \n",
      "        lin_fit        :  C[ 0]=  -0.00667;  C[ 1]=   0.24057; \n",
      "    subrun 2: \n",
      "        exp_fit        :  C[ 0]=  -0.03940;  C[ 1]=  -1.41887; \n",
      "        lin_fit        :  C[ 0]=  -0.00641;  C[ 1]=   0.23455; \n",
      "    subrun 3: \n",
      "        exp_fit        :  C[ 0]=  -0.04128;  C[ 1]=  -1.41092; \n",
      "        lin_fit        :  C[ 0]=  -0.00679;  C[ 1]=   0.23628; \n",
      "    subrun 4: \n",
      "        exp_fit        :  C[ 0]=  -0.03909;  C[ 1]=  -1.40144; \n",
      "        lin_fit        :  C[ 0]=  -0.00648;  C[ 1]=   0.23815; \n",
      "    subrun 5: \n",
      "        exp_fit        :  C[ 0]=  -0.04027;  C[ 1]=  -1.40957; \n",
      "        lin_fit        :  C[ 0]=  -0.00665;  C[ 1]=   0.23659; \n",
      "    subrun 6: \n",
      "        exp_fit        :  C[ 0]=  -0.04085;  C[ 1]=  -1.41908; \n",
      "        lin_fit        :  C[ 0]=  -0.00659;  C[ 1]=   0.23387; \n",
      "    subrun 7: \n",
      "        exp_fit        :  C[ 0]=  -0.03832;  C[ 1]=  -1.38636; \n",
      "        lin_fit        :  C[ 0]=  -0.00644;  C[ 1]=   0.24166; \n",
      "    subrun 8: \n",
      "        exp_fit        :  C[ 0]=  -0.04290;  C[ 1]=  -1.42632; \n",
      "        lin_fit        :  C[ 0]=  -0.00687;  C[ 1]=   0.23259; \n",
      "    subrun 9: \n",
      "        exp_fit        :  C[ 0]=  -0.04095;  C[ 1]=  -1.38766; \n",
      "        lin_fit        :  C[ 0]=  -0.00683;  C[ 1]=   0.24124; \n",
      "sentiment_=-0.40000------------------------------\n",
      "    subrun 0: \n",
      "        exp_fit        :  C[ 0]=  -0.04224;  C[ 1]=  -1.62388; \n",
      "        lin_fit        :  C[ 0]=  -0.00551;  C[ 1]=   0.19052; \n",
      "    subrun 1: \n",
      "        exp_fit        :  C[ 0]=  -0.04023;  C[ 1]=  -1.61827; \n",
      "        lin_fit        :  C[ 0]=  -0.00528;  C[ 1]=   0.19132; \n",
      "    subrun 2: \n",
      "        exp_fit        :  C[ 0]=  -0.03764;  C[ 1]=  -1.62389; \n",
      "        lin_fit        :  C[ 0]=  -0.00508;  C[ 1]=   0.19129; \n",
      "    subrun 3: \n",
      "        exp_fit        :  C[ 0]=  -0.03992;  C[ 1]=  -1.61382; \n",
      "        lin_fit        :  C[ 0]=  -0.00529;  C[ 1]=   0.19228; \n",
      "    subrun 4: \n",
      "        exp_fit        :  C[ 0]=  -0.03635;  C[ 1]=  -1.63112; \n",
      "        lin_fit        :  C[ 0]=  -0.00475;  C[ 1]=   0.18938; \n",
      "    subrun 5: \n",
      "        exp_fit        :  C[ 0]=  -0.03819;  C[ 1]=  -1.62146; \n",
      "        lin_fit        :  C[ 0]=  -0.00505;  C[ 1]=   0.19100; \n",
      "    subrun 6: \n",
      "        exp_fit        :  C[ 0]=  -0.03731;  C[ 1]=  -1.60758; \n",
      "        lin_fit        :  C[ 0]=  -0.00498;  C[ 1]=   0.19335; \n",
      "    subrun 7: \n",
      "        exp_fit        :  C[ 0]=  -0.03846;  C[ 1]=  -1.64304; \n",
      "        lin_fit        :  C[ 0]=  -0.00497;  C[ 1]=   0.18746; \n",
      "    subrun 8: \n",
      "        exp_fit        :  C[ 0]=  -0.04013;  C[ 1]=  -1.64213; \n",
      "        lin_fit        :  C[ 0]=  -0.00526;  C[ 1]=   0.18794; \n",
      "    subrun 9: \n",
      "        exp_fit        :  C[ 0]=  -0.03701;  C[ 1]=  -1.62126; \n",
      "        lin_fit        :  C[ 0]=  -0.00497;  C[ 1]=   0.19140; \n",
      "sentiment_=-0.30000------------------------------\n",
      "    subrun 0: \n",
      "        exp_fit        :  C[ 0]=  -0.03544;  C[ 1]=  -1.92686; \n",
      "        lin_fit        :  C[ 0]=  -0.00354;  C[ 1]=   0.14130; \n",
      "    subrun 1: \n",
      "        exp_fit        :  C[ 0]=  -0.03344;  C[ 1]=  -1.92887; \n",
      "        lin_fit        :  C[ 0]=  -0.00321;  C[ 1]=   0.14026; \n",
      "    subrun 2: \n",
      "        exp_fit        :  C[ 0]=  -0.03184;  C[ 1]=  -1.90979; \n",
      "        lin_fit        :  C[ 0]=  -0.00317;  C[ 1]=   0.14357; \n",
      "    subrun 3: \n",
      "        exp_fit        :  C[ 0]=  -0.03132;  C[ 1]=  -1.90827; \n",
      "        lin_fit        :  C[ 0]=  -0.00320;  C[ 1]=   0.14398; \n",
      "    subrun 4: \n",
      "        exp_fit        :  C[ 0]=  -0.03318;  C[ 1]=  -1.92605; \n",
      "        lin_fit        :  C[ 0]=  -0.00332;  C[ 1]=   0.14160; \n",
      "    subrun 5: \n",
      "        exp_fit        :  C[ 0]=  -0.03593;  C[ 1]=  -1.86531; \n",
      "        lin_fit        :  C[ 0]=  -0.00368;  C[ 1]=   0.14923; \n",
      "    subrun 6: \n",
      "        exp_fit        :  C[ 0]=  -0.03497;  C[ 1]=  -1.90584; \n",
      "        lin_fit        :  C[ 0]=  -0.00347;  C[ 1]=   0.14354; \n",
      "    subrun 7: \n",
      "        exp_fit        :  C[ 0]=  -0.03435;  C[ 1]=  -1.87150; \n",
      "        lin_fit        :  C[ 0]=  -0.00354;  C[ 1]=   0.14861; \n",
      "    subrun 8: \n",
      "        exp_fit        :  C[ 0]=  -0.03723;  C[ 1]=  -1.90606; \n",
      "        lin_fit        :  C[ 0]=  -0.00363;  C[ 1]=   0.14335; \n",
      "    subrun 9: \n",
      "        exp_fit        :  C[ 0]=  -0.03234;  C[ 1]=  -1.88349; \n",
      "        lin_fit        :  C[ 0]=  -0.00325;  C[ 1]=   0.14659; \n",
      "sentiment_=-0.20000------------------------------\n",
      "    subrun 0: \n",
      "        exp_fit        :  C[ 0]=  -0.02853;  C[ 1]=  -2.25581; \n",
      "        lin_fit        :  C[ 0]=  -0.00201;  C[ 1]=   0.10099; \n",
      "    subrun 1: \n",
      "        exp_fit        :  C[ 0]=  -0.02672;  C[ 1]=  -2.28904; \n",
      "        lin_fit        :  C[ 0]=  -0.00182;  C[ 1]=   0.09799; \n",
      "    subrun 2: \n",
      "        exp_fit        :  C[ 0]=  -0.03004;  C[ 1]=  -2.30336; \n",
      "        lin_fit        :  C[ 0]=  -0.00202;  C[ 1]=   0.09666; \n",
      "    subrun 3: \n",
      "        exp_fit        :  C[ 0]=  -0.02748;  C[ 1]=  -2.29831; \n",
      "        lin_fit        :  C[ 0]=  -0.00183;  C[ 1]=   0.09692; \n",
      "    subrun 4: \n",
      "        exp_fit        :  C[ 0]=  -0.03660;  C[ 1]=  -2.28413; \n",
      "        lin_fit        :  C[ 0]=  -0.00251;  C[ 1]=   0.09842; \n",
      "    subrun 5: \n",
      "        exp_fit        :  C[ 0]=  -0.03451;  C[ 1]=  -2.29523; \n",
      "        lin_fit        :  C[ 0]=  -0.00232;  C[ 1]=   0.09753; \n",
      "    subrun 6: \n",
      "        exp_fit        :  C[ 0]=  -0.02466;  C[ 1]=  -2.27093; \n",
      "        lin_fit        :  C[ 0]=  -0.00175;  C[ 1]=   0.09985; \n",
      "    subrun 7: \n",
      "        exp_fit        :  C[ 0]=  -0.02473;  C[ 1]=  -2.28628; \n",
      "        lin_fit        :  C[ 0]=  -0.00169;  C[ 1]=   0.09797; \n",
      "    subrun 8: \n",
      "        exp_fit        :  C[ 0]=  -0.03235;  C[ 1]=  -2.33067; \n",
      "        lin_fit        :  C[ 0]=  -0.00213;  C[ 1]=   0.09435; \n",
      "    subrun 9: \n",
      "        exp_fit        :  C[ 0]=  -0.02943;  C[ 1]=  -2.27919; \n",
      "        lin_fit        :  C[ 0]=  -0.00202;  C[ 1]=   0.09884; \n",
      "sentiment_=-0.10000------------------------------\n",
      "    subrun 0: \n",
      "        exp_fit        :  C[ 0]=  -0.02125;  C[ 1]=  -2.94695; \n",
      "        lin_fit        :  C[ 0]=  -0.00077;  C[ 1]=   0.05090; \n",
      "    subrun 1: \n",
      "        exp_fit        :  C[ 0]=  -0.02193;  C[ 1]=  -2.95227; \n",
      "        lin_fit        :  C[ 0]=  -0.00082;  C[ 1]=   0.05086; \n",
      "    subrun 2: \n",
      "        exp_fit        :  C[ 0]=  -0.02195;  C[ 1]=  -2.94565; \n",
      "        lin_fit        :  C[ 0]=  -0.00078;  C[ 1]=   0.05075; \n",
      "    subrun 3: \n",
      "        exp_fit        :  C[ 0]=  -0.02113;  C[ 1]=  -2.97304; \n",
      "        lin_fit        :  C[ 0]=  -0.00075;  C[ 1]=   0.04958; \n",
      "    subrun 4: \n",
      "        exp_fit        :  C[ 0]=  -0.02078;  C[ 1]=  -2.94030; \n",
      "        lin_fit        :  C[ 0]=  -0.00075;  C[ 1]=   0.05113; \n",
      "    subrun 5: \n",
      "        exp_fit        :  C[ 0]=  -0.02485;  C[ 1]=  -2.93487; \n",
      "        lin_fit        :  C[ 0]=  -0.00089;  C[ 1]=   0.05117; \n",
      "    subrun 6: \n",
      "        exp_fit        :  C[ 0]=  -0.02529;  C[ 1]=  -2.97111; \n",
      "        lin_fit        :  C[ 0]=  -0.00091;  C[ 1]=   0.04980; \n",
      "    subrun 7: \n",
      "        exp_fit        :  C[ 0]=  -0.01853;  C[ 1]=  -3.02506; \n",
      "        lin_fit        :  C[ 0]=  -0.00065;  C[ 1]=   0.04738; \n",
      "    subrun 8: \n",
      "        exp_fit        :  C[ 0]=  -0.02786;  C[ 1]=  -3.05710; \n",
      "        lin_fit        :  C[ 0]=  -0.00091;  C[ 1]=   0.04589; \n",
      "    subrun 9: \n",
      "        exp_fit        :  C[ 0]=  -0.02323;  C[ 1]=  -2.90983; \n",
      "        lin_fit        :  C[ 0]=  -0.00086;  C[ 1]=   0.05260; \n",
      "sentiment_=0.00000------------------------------\n",
      "    subrun 0: \n",
      "        exp_fit        :  C[ 0]=   0.00568;  C[ 1]=  -5.95789; \n",
      "        lin_fit        :  C[ 0]=   0.00005;  C[ 1]=   0.00093; \n",
      "    subrun 1: \n",
      "        exp_fit        :  C[ 0]=   0.00050;  C[ 1]=  -5.22796; \n",
      "        lin_fit        :  C[ 0]=  -0.00004;  C[ 1]=   0.00773; \n",
      "    subrun 2: \n",
      "        exp_fit        :  C[ 0]=   0.00293;  C[ 1]=  -6.24647; \n",
      "        lin_fit        :  C[ 0]=  -0.00001;  C[ 1]=   0.00177; \n",
      "    subrun 3: \n",
      "        exp_fit        :  C[ 0]=  -0.00301;  C[ 1]=  -4.97656; \n",
      "        lin_fit        :  C[ 0]=   0.00029;  C[ 1]=  -0.00744; \n",
      "    subrun 4: \n",
      "        exp_fit        :  C[ 0]=  -0.00474;  C[ 1]=  -5.09326; \n",
      "        lin_fit        :  C[ 0]=  -0.00006;  C[ 1]=   0.00700; \n",
      "    subrun 5: \n",
      "        exp_fit        :  C[ 0]=   0.00143;  C[ 1]=  -5.53191; \n",
      "        lin_fit        :  C[ 0]=   0.00005;  C[ 1]=   0.00252; \n",
      "    subrun 6: \n",
      "        exp_fit        :  C[ 0]=   0.00101;  C[ 1]=  -5.48611; \n",
      "        lin_fit        :  C[ 0]=  -0.00000;  C[ 1]=   0.00415; \n",
      "    subrun 7: \n",
      "        exp_fit        :  C[ 0]=  -0.00761;  C[ 1]=  -4.85094; \n",
      "        lin_fit        :  C[ 0]=   0.00005;  C[ 1]=   0.00435; \n",
      "    subrun 8: \n",
      "        exp_fit        :  C[ 0]=   0.00502;  C[ 1]=  -5.19813; \n",
      "        lin_fit        :  C[ 0]=   0.00001;  C[ 1]=   0.00238; \n",
      "    subrun 9: \n",
      "        exp_fit        :  C[ 0]=  -0.01157;  C[ 1]=  -4.89511; \n",
      "        lin_fit        :  C[ 0]=  -0.00006;  C[ 1]=   0.00733; \n",
      "sentiment_=0.10000------------------------------\n",
      "    subrun 0: \n",
      "        exp_fit        :  C[ 0]=  -0.02722;  C[ 1]=  -3.00214; \n",
      "        lin_fit        :  C[ 0]=  -0.00093;  C[ 1]=   0.04820; \n",
      "    subrun 1: \n",
      "        exp_fit        :  C[ 0]=  -0.02262;  C[ 1]=  -2.97478; \n",
      "        lin_fit        :  C[ 0]=  -0.00081;  C[ 1]=   0.04966; \n",
      "    subrun 2: \n",
      "        exp_fit        :  C[ 0]=  -0.02718;  C[ 1]=  -2.98767; \n",
      "        lin_fit        :  C[ 0]=  -0.00094;  C[ 1]=   0.04900; \n",
      "    subrun 3: \n",
      "        exp_fit        :  C[ 0]=  -0.01563;  C[ 1]=  -2.96248; \n",
      "        lin_fit        :  C[ 0]=  -0.00059;  C[ 1]=   0.05040; \n",
      "    subrun 4: \n",
      "        exp_fit        :  C[ 0]=  -0.02018;  C[ 1]=  -2.97883; \n",
      "        lin_fit        :  C[ 0]=  -0.00073;  C[ 1]=   0.04956; \n",
      "    subrun 5: \n",
      "        exp_fit        :  C[ 0]=  -0.02180;  C[ 1]=  -2.99707; \n",
      "        lin_fit        :  C[ 0]=  -0.00076;  C[ 1]=   0.04843; \n",
      "    subrun 6: \n",
      "        exp_fit        :  C[ 0]=  -0.02649;  C[ 1]=  -2.98697; \n",
      "        lin_fit        :  C[ 0]=  -0.00090;  C[ 1]=   0.04862; \n",
      "    subrun 7: \n",
      "        exp_fit        :  C[ 0]=  -0.01944;  C[ 1]=  -2.97820; \n",
      "        lin_fit        :  C[ 0]=  -0.00070;  C[ 1]=   0.04946; \n",
      "    subrun 8: \n",
      "        exp_fit        :  C[ 0]=  -0.02474;  C[ 1]=  -2.96123; \n",
      "        lin_fit        :  C[ 0]=  -0.00087;  C[ 1]=   0.05000; \n",
      "    subrun 9: \n",
      "        exp_fit        :  C[ 0]=  -0.02203;  C[ 1]=  -2.93461; \n",
      "        lin_fit        :  C[ 0]=  -0.00084;  C[ 1]=   0.05169; \n",
      "sentiment_=0.20000------------------------------\n",
      "    subrun 0: \n",
      "        exp_fit        :  C[ 0]=  -0.02610;  C[ 1]=  -2.28702; \n",
      "        lin_fit        :  C[ 0]=  -0.00184;  C[ 1]=   0.09847; \n",
      "    subrun 1: \n",
      "        exp_fit        :  C[ 0]=  -0.02830;  C[ 1]=  -2.29795; \n",
      "        lin_fit        :  C[ 0]=  -0.00192;  C[ 1]=   0.09712; \n",
      "    subrun 2: \n",
      "        exp_fit        :  C[ 0]=  -0.02720;  C[ 1]=  -2.31474; \n",
      "        lin_fit        :  C[ 0]=  -0.00186;  C[ 1]=   0.09586; \n",
      "    subrun 3: \n",
      "        exp_fit        :  C[ 0]=  -0.03434;  C[ 1]=  -2.34098; \n",
      "        lin_fit        :  C[ 0]=  -0.00221;  C[ 1]=   0.09318; \n",
      "    subrun 4: \n",
      "        exp_fit        :  C[ 0]=  -0.03212;  C[ 1]=  -2.32673; \n",
      "        lin_fit        :  C[ 0]=  -0.00212;  C[ 1]=   0.09473; \n",
      "    subrun 5: \n",
      "        exp_fit        :  C[ 0]=  -0.02901;  C[ 1]=  -2.26184; \n",
      "        lin_fit        :  C[ 0]=  -0.00203;  C[ 1]=   0.10044; \n",
      "    subrun 6: \n",
      "        exp_fit        :  C[ 0]=  -0.03419;  C[ 1]=  -2.27316; \n",
      "        lin_fit        :  C[ 0]=  -0.00234;  C[ 1]=   0.09934; \n",
      "    subrun 7: \n",
      "        exp_fit        :  C[ 0]=  -0.02971;  C[ 1]=  -2.28709; \n",
      "        lin_fit        :  C[ 0]=  -0.00206;  C[ 1]=   0.09840; \n",
      "    subrun 8: \n",
      "        exp_fit        :  C[ 0]=  -0.02529;  C[ 1]=  -2.25762; \n",
      "        lin_fit        :  C[ 0]=  -0.00180;  C[ 1]=   0.10096; \n",
      "    subrun 9: \n",
      "        exp_fit        :  C[ 0]=  -0.02809;  C[ 1]=  -2.28059; \n",
      "        lin_fit        :  C[ 0]=  -0.00191;  C[ 1]=   0.09871; \n",
      "sentiment_=0.30000------------------------------\n",
      "    subrun 0: \n",
      "        exp_fit        :  C[ 0]=  -0.03539;  C[ 1]=  -1.87968; \n",
      "        lin_fit        :  C[ 0]=  -0.00354;  C[ 1]=   0.14704; \n",
      "    subrun 1: \n",
      "        exp_fit        :  C[ 0]=  -0.03503;  C[ 1]=  -1.91666; \n",
      "        lin_fit        :  C[ 0]=  -0.00344;  C[ 1]=   0.14194; \n",
      "    subrun 2: \n",
      "        exp_fit        :  C[ 0]=  -0.03100;  C[ 1]=  -1.92526; \n",
      "        lin_fit        :  C[ 0]=  -0.00310;  C[ 1]=   0.14137; \n",
      "    subrun 3: \n",
      "        exp_fit        :  C[ 0]=  -0.03793;  C[ 1]=  -1.91006; \n",
      "        lin_fit        :  C[ 0]=  -0.00376;  C[ 1]=   0.14314; \n",
      "    subrun 4: \n",
      "        exp_fit        :  C[ 0]=  -0.03795;  C[ 1]=  -1.87746; \n",
      "        lin_fit        :  C[ 0]=  -0.00393;  C[ 1]=   0.14801; \n",
      "    subrun 5: \n",
      "        exp_fit        :  C[ 0]=  -0.03378;  C[ 1]=  -1.91593; \n",
      "        lin_fit        :  C[ 0]=  -0.00341;  C[ 1]=   0.14262; \n",
      "    subrun 6: \n",
      "        exp_fit        :  C[ 0]=  -0.03261;  C[ 1]=  -1.88033; \n",
      "        lin_fit        :  C[ 0]=  -0.00341;  C[ 1]=   0.14768; \n",
      "    subrun 7: \n",
      "        exp_fit        :  C[ 0]=  -0.03417;  C[ 1]=  -1.89252; \n",
      "        lin_fit        :  C[ 0]=  -0.00346;  C[ 1]=   0.14577; \n",
      "    subrun 8: \n",
      "        exp_fit        :  C[ 0]=  -0.03720;  C[ 1]=  -1.89267; \n",
      "        lin_fit        :  C[ 0]=  -0.00370;  C[ 1]=   0.14522; \n",
      "    subrun 9: \n",
      "        exp_fit        :  C[ 0]=  -0.03223;  C[ 1]=  -1.93249; \n",
      "        lin_fit        :  C[ 0]=  -0.00318;  C[ 1]=   0.14027; \n",
      "sentiment_=0.40000------------------------------\n",
      "    subrun 0: \n",
      "        exp_fit        :  C[ 0]=  -0.03829;  C[ 1]=  -1.63567; \n",
      "        lin_fit        :  C[ 0]=  -0.00504;  C[ 1]=   0.18896; \n",
      "    subrun 1: \n",
      "        exp_fit        :  C[ 0]=  -0.03755;  C[ 1]=  -1.62777; \n",
      "        lin_fit        :  C[ 0]=  -0.00500;  C[ 1]=   0.18999; \n",
      "    subrun 2: \n",
      "        exp_fit        :  C[ 0]=  -0.04273;  C[ 1]=  -1.59952; \n",
      "        lin_fit        :  C[ 0]=  -0.00568;  C[ 1]=   0.19493; \n",
      "    subrun 3: \n",
      "        exp_fit        :  C[ 0]=  -0.03620;  C[ 1]=  -1.61643; \n",
      "        lin_fit        :  C[ 0]=  -0.00485;  C[ 1]=   0.19230; \n",
      "    subrun 4: \n",
      "        exp_fit        :  C[ 0]=  -0.04069;  C[ 1]=  -1.61582; \n",
      "        lin_fit        :  C[ 0]=  -0.00539;  C[ 1]=   0.19210; \n",
      "    subrun 5: \n",
      "        exp_fit        :  C[ 0]=  -0.03680;  C[ 1]=  -1.63189; \n",
      "        lin_fit        :  C[ 0]=  -0.00487;  C[ 1]=   0.18938; \n",
      "    subrun 6: \n",
      "        exp_fit        :  C[ 0]=  -0.03833;  C[ 1]=  -1.60595; \n",
      "        lin_fit        :  C[ 0]=  -0.00515;  C[ 1]=   0.19395; \n",
      "    subrun 7: \n",
      "        exp_fit        :  C[ 0]=  -0.03909;  C[ 1]=  -1.64553; \n",
      "        lin_fit        :  C[ 0]=  -0.00509;  C[ 1]=   0.18681; \n",
      "    subrun 8: \n",
      "        exp_fit        :  C[ 0]=  -0.04009;  C[ 1]=  -1.63476; \n",
      "        lin_fit        :  C[ 0]=  -0.00524;  C[ 1]=   0.18905; \n",
      "    subrun 9: \n",
      "        exp_fit        :  C[ 0]=  -0.03998;  C[ 1]=  -1.62891; \n",
      "        lin_fit        :  C[ 0]=  -0.00523;  C[ 1]=   0.18949; \n",
      "sentiment_=0.50000------------------------------\n",
      "    subrun 0: \n",
      "        exp_fit        :  C[ 0]=  -0.04463;  C[ 1]=  -1.40868; \n",
      "        lin_fit        :  C[ 0]=  -0.00733;  C[ 1]=   0.23686; \n",
      "    subrun 1: \n",
      "        exp_fit        :  C[ 0]=  -0.03981;  C[ 1]=  -1.39144; \n",
      "        lin_fit        :  C[ 0]=  -0.00667;  C[ 1]=   0.24074; \n",
      "    subrun 2: \n",
      "        exp_fit        :  C[ 0]=  -0.03731;  C[ 1]=  -1.40790; \n",
      "        lin_fit        :  C[ 0]=  -0.00617;  C[ 1]=   0.23686; \n",
      "    subrun 3: \n",
      "        exp_fit        :  C[ 0]=  -0.03949;  C[ 1]=  -1.41710; \n",
      "        lin_fit        :  C[ 0]=  -0.00638;  C[ 1]=   0.23433; \n",
      "    subrun 4: \n",
      "        exp_fit        :  C[ 0]=  -0.04204;  C[ 1]=  -1.40808; \n",
      "        lin_fit        :  C[ 0]=  -0.00693;  C[ 1]=   0.23682; \n",
      "    subrun 5: \n",
      "        exp_fit        :  C[ 0]=  -0.04168;  C[ 1]=  -1.40178; \n",
      "        lin_fit        :  C[ 0]=  -0.00690;  C[ 1]=   0.23829; \n",
      "    subrun 6: \n",
      "        exp_fit        :  C[ 0]=  -0.04068;  C[ 1]=  -1.40447; \n",
      "        lin_fit        :  C[ 0]=  -0.00670;  C[ 1]=   0.23742; \n",
      "    subrun 7: \n",
      "        exp_fit        :  C[ 0]=  -0.04065;  C[ 1]=  -1.40171; \n",
      "        lin_fit        :  C[ 0]=  -0.00672;  C[ 1]=   0.23825; \n",
      "    subrun 8: \n",
      "        exp_fit        :  C[ 0]=  -0.04000;  C[ 1]=  -1.39275; \n",
      "        lin_fit        :  C[ 0]=  -0.00671;  C[ 1]=   0.24029; \n",
      "    subrun 9: \n",
      "        exp_fit        :  C[ 0]=  -0.04029;  C[ 1]=  -1.41055; \n",
      "        lin_fit        :  C[ 0]=  -0.00663;  C[ 1]=   0.23632; \n",
      "sentiment_=0.60000------------------------------\n",
      "    subrun 0: \n",
      "        exp_fit        :  C[ 0]=  -0.04210;  C[ 1]=  -1.22237; \n",
      "        lin_fit        :  C[ 0]=  -0.00833;  C[ 1]=   0.28494; \n",
      "    subrun 1: \n",
      "        exp_fit        :  C[ 0]=  -0.04104;  C[ 1]=  -1.23848; \n",
      "        lin_fit        :  C[ 0]=  -0.00808;  C[ 1]=   0.28130; \n",
      "    subrun 2: \n",
      "        exp_fit        :  C[ 0]=  -0.04348;  C[ 1]=  -1.23396; \n",
      "        lin_fit        :  C[ 0]=  -0.00844;  C[ 1]=   0.28145; \n",
      "    subrun 3: \n",
      "        exp_fit        :  C[ 0]=  -0.04176;  C[ 1]=  -1.22490; \n",
      "        lin_fit        :  C[ 0]=  -0.00826;  C[ 1]=   0.28445; \n",
      "    subrun 4: \n",
      "        exp_fit        :  C[ 0]=  -0.04036;  C[ 1]=  -1.21981; \n",
      "        lin_fit        :  C[ 0]=  -0.00802;  C[ 1]=   0.28569; \n",
      "    subrun 5: \n",
      "        exp_fit        :  C[ 0]=  -0.03983;  C[ 1]=  -1.22792; \n",
      "        lin_fit        :  C[ 0]=  -0.00784;  C[ 1]=   0.28366; \n",
      "    subrun 6: \n",
      "        exp_fit        :  C[ 0]=  -0.04264;  C[ 1]=  -1.21638; \n",
      "        lin_fit        :  C[ 0]=  -0.00845;  C[ 1]=   0.28642; \n",
      "    subrun 7: \n",
      "        exp_fit        :  C[ 0]=  -0.04095;  C[ 1]=  -1.21236; \n",
      "        lin_fit        :  C[ 0]=  -0.00818;  C[ 1]=   0.28780; \n",
      "    subrun 8: \n",
      "        exp_fit        :  C[ 0]=  -0.04172;  C[ 1]=  -1.23816; \n",
      "        lin_fit        :  C[ 0]=  -0.00811;  C[ 1]=   0.28048; \n",
      "    subrun 9: \n",
      "        exp_fit        :  C[ 0]=  -0.04227;  C[ 1]=  -1.22662; \n",
      "        lin_fit        :  C[ 0]=  -0.00838;  C[ 1]=   0.28407; \n",
      "sentiment_=0.70000------------------------------\n",
      "    subrun 0: \n",
      "        exp_fit        :  C[ 0]=  -0.03926;  C[ 1]=  -1.07986; \n",
      "        lin_fit        :  C[ 0]=  -0.00898;  C[ 1]=   0.32869; \n",
      "    subrun 1: \n",
      "        exp_fit        :  C[ 0]=  -0.04002;  C[ 1]=  -1.08062; \n",
      "        lin_fit        :  C[ 0]=  -0.00911;  C[ 1]=   0.32866; \n",
      "    subrun 2: \n",
      "        exp_fit        :  C[ 0]=  -0.03818;  C[ 1]=  -1.07996; \n",
      "        lin_fit        :  C[ 0]=  -0.00874;  C[ 1]=   0.32885; \n",
      "    subrun 3: \n",
      "        exp_fit        :  C[ 0]=  -0.04101;  C[ 1]=  -1.07416; \n",
      "        lin_fit        :  C[ 0]=  -0.00934;  C[ 1]=   0.33043; \n",
      "    subrun 4: \n",
      "        exp_fit        :  C[ 0]=  -0.04118;  C[ 1]=  -1.07456; \n",
      "        lin_fit        :  C[ 0]=  -0.00943;  C[ 1]=   0.33040; \n",
      "    subrun 5: \n",
      "        exp_fit        :  C[ 0]=  -0.03968;  C[ 1]=  -1.08399; \n",
      "        lin_fit        :  C[ 0]=  -0.00905;  C[ 1]=   0.32765; \n",
      "    subrun 6: \n",
      "        exp_fit        :  C[ 0]=  -0.03842;  C[ 1]=  -1.06979; \n",
      "        lin_fit        :  C[ 0]=  -0.00886;  C[ 1]=   0.33228; \n",
      "    subrun 7: \n",
      "        exp_fit        :  C[ 0]=  -0.03988;  C[ 1]=  -1.07972; \n",
      "        lin_fit        :  C[ 0]=  -0.00906;  C[ 1]=   0.32864; \n",
      "    subrun 8: \n",
      "        exp_fit        :  C[ 0]=  -0.04190;  C[ 1]=  -1.07561; \n",
      "        lin_fit        :  C[ 0]=  -0.00947;  C[ 1]=   0.33000; \n",
      "    subrun 9: \n",
      "        exp_fit        :  C[ 0]=  -0.03901;  C[ 1]=  -1.08489; \n",
      "        lin_fit        :  C[ 0]=  -0.00886;  C[ 1]=   0.32742; \n",
      "sentiment_=0.80000------------------------------\n",
      "    subrun 0: \n",
      "        exp_fit        :  C[ 0]=  -0.03520;  C[ 1]=  -0.94404; \n",
      "        lin_fit        :  C[ 0]=  -0.00917;  C[ 1]=   0.37657; \n",
      "    subrun 1: \n",
      "        exp_fit        :  C[ 0]=  -0.03599;  C[ 1]=  -0.94378; \n",
      "        lin_fit        :  C[ 0]=  -0.00940;  C[ 1]=   0.37695; \n",
      "    subrun 2: \n",
      "        exp_fit        :  C[ 0]=  -0.03559;  C[ 1]=  -0.94187; \n",
      "        lin_fit        :  C[ 0]=  -0.00932;  C[ 1]=   0.37747; \n",
      "    subrun 3: \n",
      "        exp_fit        :  C[ 0]=  -0.03464;  C[ 1]=  -0.93744; \n",
      "        lin_fit        :  C[ 0]=  -0.00903;  C[ 1]=   0.37885; \n",
      "    subrun 4: \n",
      "        exp_fit        :  C[ 0]=  -0.03506;  C[ 1]=  -0.95830; \n",
      "        lin_fit        :  C[ 0]=  -0.00906;  C[ 1]=   0.37155; \n",
      "    subrun 5: \n",
      "        exp_fit        :  C[ 0]=  -0.03438;  C[ 1]=  -0.94072; \n",
      "        lin_fit        :  C[ 0]=  -0.00901;  C[ 1]=   0.37794; \n",
      "    subrun 6: \n",
      "        exp_fit        :  C[ 0]=  -0.03411;  C[ 1]=  -0.93709; \n",
      "        lin_fit        :  C[ 0]=  -0.00897;  C[ 1]=   0.37919; \n",
      "    subrun 7: \n",
      "        exp_fit        :  C[ 0]=  -0.03371;  C[ 1]=  -0.93556; \n",
      "        lin_fit        :  C[ 0]=  -0.00888;  C[ 1]=   0.37956; \n",
      "    subrun 8: \n",
      "        exp_fit        :  C[ 0]=  -0.03537;  C[ 1]=  -0.93466; \n",
      "        lin_fit        :  C[ 0]=  -0.00932;  C[ 1]=   0.38006; \n",
      "    subrun 9: \n",
      "        exp_fit        :  C[ 0]=  -0.03573;  C[ 1]=  -0.92917; \n",
      "        lin_fit        :  C[ 0]=  -0.00941;  C[ 1]=   0.38176; \n",
      "sentiment_=0.90000------------------------------\n",
      "    subrun 0: \n",
      "        exp_fit        :  C[ 0]=  -0.02510;  C[ 1]=  -0.80811; \n",
      "        lin_fit        :  C[ 0]=  -0.00760;  C[ 1]=   0.43168; \n",
      "    subrun 1: \n",
      "        exp_fit        :  C[ 0]=  -0.02512;  C[ 1]=  -0.82549; \n",
      "        lin_fit        :  C[ 0]=  -0.00749;  C[ 1]=   0.42462; \n",
      "    subrun 2: \n",
      "        exp_fit        :  C[ 0]=  -0.02447;  C[ 1]=  -0.81078; \n",
      "        lin_fit        :  C[ 0]=  -0.00745;  C[ 1]=   0.43124; \n",
      "    subrun 3: \n",
      "        exp_fit        :  C[ 0]=  -0.02342;  C[ 1]=  -0.81357; \n",
      "        lin_fit        :  C[ 0]=  -0.00713;  C[ 1]=   0.43011; \n",
      "    subrun 4: \n",
      "        exp_fit        :  C[ 0]=  -0.02446;  C[ 1]=  -0.81631; \n",
      "        lin_fit        :  C[ 0]=  -0.00740;  C[ 1]=   0.42878; \n",
      "    subrun 5: \n",
      "        exp_fit        :  C[ 0]=  -0.02439;  C[ 1]=  -0.81777; \n",
      "        lin_fit        :  C[ 0]=  -0.00738;  C[ 1]=   0.42843; \n",
      "    subrun 6: \n",
      "        exp_fit        :  C[ 0]=  -0.02389;  C[ 1]=  -0.81350; \n",
      "        lin_fit        :  C[ 0]=  -0.00725;  C[ 1]=   0.42993; \n",
      "    subrun 7: \n",
      "        exp_fit        :  C[ 0]=  -0.02431;  C[ 1]=  -0.80121; \n",
      "        lin_fit        :  C[ 0]=  -0.00743;  C[ 1]=   0.43460; \n",
      "    subrun 8: \n",
      "        exp_fit        :  C[ 0]=  -0.02341;  C[ 1]=  -0.80991; \n",
      "        lin_fit        :  C[ 0]=  -0.00711;  C[ 1]=   0.43091; \n",
      "    subrun 9: \n",
      "        exp_fit        :  C[ 0]=  -0.02322;  C[ 1]=  -0.80919; \n",
      "        lin_fit        :  C[ 0]=  -0.00710;  C[ 1]=   0.43187; \n"
     ]
    }
   ],
   "source": [
    "lab.show_fit_results( ['exp_fit', 'lin_fit'], 'abs_avg_eq_dist', n_columns=5, same_y_scale=True, legend_loc='upper right')"
   ]
  },
  {
   "cell_type": "code",
   "execution_count": 10,
   "id": "71177ec0",
   "metadata": {},
   "outputs": [],
   "source": [
    "# def show_fit_coeff(self, fit_name, metric_name, coeff_names=None, n_col='auto', y_k_mapping='def', omitt=[], mode='distr'):\n",
    "#     \"mode can be distr (avg + errorbars) or scatter (every point is plotted)\"\n",
    "#     if not hasattr(self, 'all_fit_results'):\n",
    "#         print(\" no fit has yet been performed\")\n",
    "#         return\n",
    "#     coeff_data_dict=self.all_fit_results[fit_name]['results'][metric_name]\n",
    "# #     coeff_data={p_n:{p_v:[subrun_dict {... 'coeff':[coeff values]}\n",
    "#     coeff_data_xy=[{'x':[],'y':[]}]\n",
    "#     if y_k_mapping is not None:\n",
    "#         if y_k_mapping == 'def':\n",
    "#             y_k_mapping=lambda y, k: y\n",
    "#             if 'exp' in fit_name:\n",
    "#                 print('using def exp mapping')\n",
    "#                 y_k_mapping=lambda y, k: np.exp(y) if k==1 else -1/y \n",
    "\n",
    "\n",
    "#     for param_names, param_values_dict in coeff_data_dict.items():\n",
    "#         for param_values, subrun_data_array in param_values_dict.items():\n",
    "\n",
    "#             include_values=False   #<--------- checking if values are not to be omitted\n",
    "#             if len(omitt)==0:\n",
    "#                 include_values=True\n",
    "#             else:\n",
    "#                 for p_omitt in omitt:\n",
    "#                     for v_p_omitt, v_p in zip(list(p_omitt), param_values if hasattr(param_values, '__iter__') else [param_values]):\n",
    "#                         if v_p_omitt!=v_p and v_p_omitt!='any':\n",
    "#                             include_values=True\n",
    "\n",
    "#             if not include_values:\n",
    "#                 continue\n",
    "\n",
    "#             for subrun_data in subrun_data_array:\n",
    "#                 coeffs=subrun_data['coeff']\n",
    "#                 N_coeff=len(coeffs)\n",
    "#                 for k, coeff in enumerate(coeffs):\n",
    "#                     while len(coeff_data_xy)<k+1:\n",
    "#                         coeff_data_xy.append({'x':[],'y':[]})\n",
    "#                     if isinstance( param_names, (list,tuple)) and len(param_names)>1: \n",
    "#                         coeff_data_xy[k]['x'].append(param_values[0])\n",
    "#                         #<--- when there is more than one parameter, only the first is represented in x axis\n",
    "#                         x_title=param_names[0]\n",
    "#                     else:\n",
    "#                         coeff_data_xy[k]['x'].append(param_values)\n",
    "#                         x_title=param_names\n",
    "\n",
    "#                     coeff_data_xy[k]['y'].append(coeff)\n",
    "\n",
    "#         # -------- NB still inside coeff_data_dict loop (should not make any difference in actual use-cases)\n",
    "\n",
    "#         if coeff_names is None:\n",
    "#             coeff_names=['coeff_'+str(k) for k in range(N_coeff)]\n",
    "#         if len(coeff_names)!=N_coeff:\n",
    "#             raise ValueError(f\"{len(coeff_names)=} must be == {N_coeff=}\")\n",
    "#         n_tot_graphs=N_coeff\n",
    "#         if n_col=='auto':\n",
    "#             n_col=min(5,N_coeff)\n",
    "#         n_row=n_tot_graphs//n_col+int(np.ceil(n_tot_graphs%n_col))\n",
    "\n",
    "#         plt.figure(figsize=(18,n_row*6))\n",
    "#         for k, (this_coeff_data_xy, this_coeff_name) in enumerate(zip(coeff_data_xy, coeff_names)):\n",
    "#             plt.subplot(n_row, n_col, k+1)\n",
    "#             plt.grid()\n",
    "#             plt.title(fit_name+\" \"+this_coeff_name)\n",
    "#             x=np.array([x_k for x_k in this_coeff_data_xy['x']])\n",
    "#             plt.xlabel(x_title)\n",
    "#             y=np.array([y_k for y_k in this_coeff_data_xy['y']])\n",
    "#             if y_k_mapping is not None:\n",
    "#                 y=y_k_mapping(y,k)  #any more complex operation should require a get_coeff and external op\n",
    "#             if 'scat' in mode.lower():\n",
    "#                 plt.scatter(x,y, color='k')\n",
    "#             if 'dist' in mode.lower():\n",
    "#                 x2y={}\n",
    "#                 for t_x, t_y in zip(x,y):\n",
    "#                     if t_x not in x2y:\n",
    "#                         x2y[t_x]=[]\n",
    "#                     x2y[t_x].append(t_y)\n",
    "#                 for x_c in x2y.keys():\n",
    "#                     x2y[x_c]=np.array(x2y[x_c])\n",
    "\n",
    "#                 x_,y_avg, y_err=[],[],[]\n",
    "#                 for x_c, y_c in x2y.items():\n",
    "#                     x_.append(x_c)\n",
    "#                     y_avg.append(y_c.mean())\n",
    "#                     y_err.append(y_c.std()/2 )\n",
    "#                 plt.scatter(x_, y_avg, color='k', marker='x', label='avg')\n",
    "#                 plt.errorbar(x_, y_avg, y_err, ecolor='r', linewidth=0, elinewidth=2., capsize=4, label='st. dev')\n",
    "#                 plt.legend()\n",
    "#         plt.show()\n",
    "\n",
    "# show_fit_coeff(lab, 'exp_fit', 'abs_avg_eq_dist', coeff_names=['-1/parameter', 'intercept'], y_k_mapping='def', omitt=[(0,'any')])\n",
    "# show_fit_coeff(lab, 'lin_fit', 'abs_avg_eq_dist', coeff_names=['parameter', 'intercept'], y_k_mapping='def')\n",
    "\n",
    "\n",
    "\n",
    "# updated version integrated in 2.9.2 (12/5/22)\n"
   ]
  },
  {
   "cell_type": "code",
   "execution_count": 11,
   "id": "61831dbd",
   "metadata": {},
   "outputs": [
    {
     "data": {
      "image/png": "[encoded data removed]",
      "text/plain": [
       "<Figure size 1296x432 with 2 Axes>"
      ]
     },
     "metadata": {
      "needs_background": "light"
     },
     "output_type": "display_data"
    },
    {
     "data": {
      "image/png": "[encoded data removed]",
      "text/plain": [
       "<Figure size 1296x432 with 2 Axes>"
      ]
     },
     "metadata": {
      "needs_background": "light"
     },
     "output_type": "display_data"
    }
   ],
   "source": [
    "lab.show_fit_coeff('exp_fit', 'abs_avg_eq_dist', coeff_names=['-1/parameter', 'intercept'], y_k_mapping='def', omitt=[(0,'any')])\n",
    "lab.show_fit_coeff('lin_fit', 'abs_avg_eq_dist', coeff_names=['parameter', 'intercept'], y_k_mapping='def')"
   ]
  },
  {
   "cell_type": "code",
   "execution_count": null,
   "id": "8640fb48",
   "metadata": {},
   "outputs": [],
   "source": []
  },
  {
   "cell_type": "code",
   "execution_count": 12,
   "id": "a2db72cc",
   "metadata": {},
   "outputs": [],
   "source": [
    "def model_builder_bysent_andinit(sentiment_value, initial_sigma_value):\n",
    "    assert np.abs(sentiment_value)<=1\n",
    "    mkt=bm.Market()\n",
    "    mkt.add_partition(1000, 'fixed_sentiment', sigma_prop=initial_sigma_value)             #<---- setting initial sigma value\n",
    "    mkt.set_part_sentiment('fixed_sentiment', bm.sentiment_start_at_value(sentiment_value))#<---- setting sentiment value\n",
    "#     mkt.add_metric('sigma_scatter', bm.mtr_sigma_scatter)\n",
    "    mkt.add_metric('avg_sigma', bm.mtr_avg_sigma)\n",
    "    mkt.add_metric('sct_abs_eq_dist', bm.mtr_sct_abs_eq_dist) #<--- tutti i valori della distanza in valore assoluto dall'equilibrio\n",
    "    mkt.add_metric('abs_avg_eq_dist', bm.mtr_abs_avg_eq_dist) #<--- valore assoluto della distanza media dall'equilibrio\n",
    "    return mkt"
   ]
  },
  {
   "cell_type": "code",
   "execution_count": 13,
   "id": "93b3b210",
   "metadata": {},
   "outputs": [
    {
     "name": "stdout",
     "output_type": "stream",
     "text": [
      "added required result avg_price\n",
      "added required result avg_sigma\n",
      "added required result abs_avg_eq_dist\n",
      "added required result sct_abs_eq_dist\n"
     ]
    }
   ],
   "source": [
    "lab_diff=bm.Lab(model_builder_bysent_andinit)\n",
    "# lab.add_metric('sigma_scatter')\n",
    "lab_diff.add_metric('avg_sigma')\n",
    "# lab.add_metric('avg_eq_dist')\n",
    "lab_diff.add_metric('abs_avg_eq_dist')\n",
    "lab_diff.add_metric('sct_abs_eq_dist')"
   ]
  },
  {
   "cell_type": "code",
   "execution_count": 14,
   "id": "0e5bbef9",
   "metadata": {},
   "outputs": [],
   "source": [
    "DIFF=0.3\n",
    "\n",
    "sentiment_values    =np.array([v/10 for v in range(-6, 10)])\n",
    "initial_sigma_values=(sentiment_values-DIFF+1)/2\n",
    "\n",
    "test_values=list(zip(sentiment_values, initial_sigma_values))"
   ]
  },
  {
   "cell_type": "code",
   "execution_count": 15,
   "id": "1fa18afc",
   "metadata": {},
   "outputs": [
    {
     "name": "stdout",
     "output_type": "stream",
     "text": [
      "test_values=[(-0.6, 0.050000000000000044), (-0.5, 0.09999999999999998), (-0.4, 0.15000000000000002), (-0.3, 0.2), (-0.2, 0.25), (-0.1, 0.3), (0.0, 0.35), (0.1, 0.4), (0.2, 0.45), (0.3, 0.5), (0.4, 0.55), (0.5, 0.6), (0.6, 0.65), (0.7, 0.7), (0.8, 0.75), (0.9, 0.8)]\n"
     ]
    }
   ],
   "source": [
    "print(f\"{test_values=}\")"
   ]
  },
  {
   "cell_type": "code",
   "execution_count": 16,
   "id": "96c89503",
   "metadata": {},
   "outputs": [
    {
     "name": "stdout",
     "output_type": "stream",
     "text": [
      "run 1 of 160 total--------------------------------('sentiment_value', 'initial_sigma_value')=(-0.6, 0.050000000000000044) iteration 1 of 10\n",
      "\n",
      "Building partition fixed_sentiment of 1000 agents\n",
      "\n",
      "  all agents tot_wealth will be: 10000\n",
      "  all agents sigma_prop will be: 0.050000000000000044\n"
     ]
    },
    {
     "data": {
      "application/vnd.jupyter.widget-view+json": {
       "model_id": "4d2d2ba5553c4b829fea835ba4772903",
       "version_major": 2,
       "version_minor": 0
      },
      "text/plain": [
       "  0%|          | 0/150 [00:00<?, ?it/s]"
      ]
     },
     "metadata": {},
     "output_type": "display_data"
    },
    {
     "name": "stdout",
     "output_type": "stream",
     "text": [
      "run 2 of 160 total--------------------------------('sentiment_value', 'initial_sigma_value')=(-0.6, 0.050000000000000044) iteration 2 of 10\n",
      "\n",
      "Building partition fixed_sentiment of 1000 agents\n",
      "\n",
      "  all agents tot_wealth will be: 10000\n",
      "  all agents sigma_prop will be: 0.050000000000000044\n"
     ]
    },
    {
     "data": {
      "application/vnd.jupyter.widget-view+json": {
       "model_id": "e4024eb63a3c46418cedf0e52af9951c",
       "version_major": 2,
       "version_minor": 0
      },
      "text/plain": [
       "  0%|          | 0/150 [00:00<?, ?it/s]"
      ]
     },
     "metadata": {},
     "output_type": "display_data"
    },
    {
     "name": "stdout",
     "output_type": "stream",
     "text": [
      "run 3 of 160 total--------------------------------('sentiment_value', 'initial_sigma_value')=(-0.6, 0.050000000000000044) iteration 3 of 10\n",
      "\n",
      "Building partition fixed_sentiment of 1000 agents\n",
      "\n",
      "  all agents tot_wealth will be: 10000\n",
      "  all agents sigma_prop will be: 0.050000000000000044\n"
     ]
    },
    {
     "data": {
      "application/vnd.jupyter.widget-view+json": {
       "model_id": "b7d54bc8797743d2a51a242a528aa570",
       "version_major": 2,
       "version_minor": 0
      },
      "text/plain": [
       "  0%|          | 0/150 [00:00<?, ?it/s]"
      ]
     },
     "metadata": {},
     "output_type": "display_data"
    },
    {
     "name": "stdout",
     "output_type": "stream",
     "text": [
      "run 4 of 160 total--------------------------------('sentiment_value', 'initial_sigma_value')=(-0.6, 0.050000000000000044) iteration 4 of 10\n",
      "\n",
      "Building partition fixed_sentiment of 1000 agents\n",
      "\n",
      "  all agents tot_wealth will be: 10000\n",
      "  all agents sigma_prop will be: 0.050000000000000044\n"
     ]
    },
    {
     "data": {
      "application/vnd.jupyter.widget-view+json": {
       "model_id": "3322c8f32ab546c581e730d1b74e1b67",
       "version_major": 2,
       "version_minor": 0
      },
      "text/plain": [
       "  0%|          | 0/150 [00:00<?, ?it/s]"
      ]
     },
     "metadata": {},
     "output_type": "display_data"
    },
    {
     "name": "stdout",
     "output_type": "stream",
     "text": [
      "run 5 of 160 total--------------------------------('sentiment_value', 'initial_sigma_value')=(-0.6, 0.050000000000000044) iteration 5 of 10\n",
      "\n",
      "Building partition fixed_sentiment of 1000 agents\n",
      "\n",
      "  all agents tot_wealth will be: 10000\n",
      "  all agents sigma_prop will be: 0.050000000000000044\n"
     ]
    },
    {
     "data": {
      "application/vnd.jupyter.widget-view+json": {
       "model_id": "556ab89ab4774227b645fc2ba5e2685d",
       "version_major": 2,
       "version_minor": 0
      },
      "text/plain": [
       "  0%|          | 0/150 [00:00<?, ?it/s]"
      ]
     },
     "metadata": {},
     "output_type": "display_data"
    },
    {
     "name": "stdout",
     "output_type": "stream",
     "text": [
      "run 6 of 160 total--------------------------------('sentiment_value', 'initial_sigma_value')=(-0.6, 0.050000000000000044) iteration 6 of 10\n",
      "\n",
      "Building partition fixed_sentiment of 1000 agents\n",
      "\n",
      "  all agents tot_wealth will be: 10000\n",
      "  all agents sigma_prop will be: 0.050000000000000044\n"
     ]
    },
    {
     "data": {
      "application/vnd.jupyter.widget-view+json": {
       "model_id": "426e4cb0b47743fcab32bb16429d15df",
       "version_major": 2,
       "version_minor": 0
      },
      "text/plain": [
       "  0%|          | 0/150 [00:00<?, ?it/s]"
      ]
     },
     "metadata": {},
     "output_type": "display_data"
    },
    {
     "name": "stdout",
     "output_type": "stream",
     "text": [
      "run 7 of 160 total--------------------------------('sentiment_value', 'initial_sigma_value')=(-0.6, 0.050000000000000044) iteration 7 of 10\n",
      "\n",
      "Building partition fixed_sentiment of 1000 agents\n",
      "\n",
      "  all agents tot_wealth will be: 10000\n",
      "  all agents sigma_prop will be: 0.050000000000000044\n"
     ]
    },
    {
     "data": {
      "application/vnd.jupyter.widget-view+json": {
       "model_id": "183dd5e15a344dfabeb96a392a3ccfa2",
       "version_major": 2,
       "version_minor": 0
      },
      "text/plain": [
       "  0%|          | 0/150 [00:00<?, ?it/s]"
      ]
     },
     "metadata": {},
     "output_type": "display_data"
    },
    {
     "name": "stdout",
     "output_type": "stream",
     "text": [
      "run 8 of 160 total--------------------------------('sentiment_value', 'initial_sigma_value')=(-0.6, 0.050000000000000044) iteration 8 of 10\n",
      "\n",
      "Building partition fixed_sentiment of 1000 agents\n",
      "\n",
      "  all agents tot_wealth will be: 10000\n",
      "  all agents sigma_prop will be: 0.050000000000000044\n"
     ]
    },
    {
     "data": {
      "application/vnd.jupyter.widget-view+json": {
       "model_id": "775a4afa578d498f8b371cc1ecf64738",
       "version_major": 2,
       "version_minor": 0
      },
      "text/plain": [
       "  0%|          | 0/150 [00:00<?, ?it/s]"
      ]
     },
     "metadata": {},
     "output_type": "display_data"
    },
    {
     "name": "stdout",
     "output_type": "stream",
     "text": [
      "run 9 of 160 total--------------------------------('sentiment_value', 'initial_sigma_value')=(-0.6, 0.050000000000000044) iteration 9 of 10\n",
      "\n",
      "Building partition fixed_sentiment of 1000 agents\n",
      "\n",
      "  all agents tot_wealth will be: 10000\n",
      "  all agents sigma_prop will be: 0.050000000000000044\n"
     ]
    },
    {
     "data": {
      "application/vnd.jupyter.widget-view+json": {
       "model_id": "74361c5f9f014fa1b262284cdd029f4f",
       "version_major": 2,
       "version_minor": 0
      },
      "text/plain": [
       "  0%|          | 0/150 [00:00<?, ?it/s]"
      ]
     },
     "metadata": {},
     "output_type": "display_data"
    },
    {
     "name": "stdout",
     "output_type": "stream",
     "text": [
      "run 10 of 160 total-------------------------------('sentiment_value', 'initial_sigma_value')=(-0.6, 0.050000000000000044) iteration 10 of 10\n",
      "\n",
      "Building partition fixed_sentiment of 1000 agents\n",
      "\n",
      "  all agents tot_wealth will be: 10000\n",
      "  all agents sigma_prop will be: 0.050000000000000044\n"
     ]
    },
    {
     "data": {
      "application/vnd.jupyter.widget-view+json": {
       "model_id": "ccc6b2933fa345298313768276e1e3ec",
       "version_major": 2,
       "version_minor": 0
      },
      "text/plain": [
       "  0%|          | 0/150 [00:00<?, ?it/s]"
      ]
     },
     "metadata": {},
     "output_type": "display_data"
    },
    {
     "name": "stdout",
     "output_type": "stream",
     "text": [
      "run 11 of 160 total-------------------------------('sentiment_value', 'initial_sigma_value')=(-0.5, 0.09999999999999998) iteration 1 of 10\n",
      "\n",
      "Building partition fixed_sentiment of 1000 agents\n",
      "\n",
      "  all agents tot_wealth will be: 10000\n",
      "  all agents sigma_prop will be: 0.09999999999999998\n"
     ]
    },
    {
     "data": {
      "application/vnd.jupyter.widget-view+json": {
       "model_id": "2a3e0f878f76427a8dd6e2d7943049b7",
       "version_major": 2,
       "version_minor": 0
      },
      "text/plain": [
       "  0%|          | 0/150 [00:00<?, ?it/s]"
      ]
     },
     "metadata": {},
     "output_type": "display_data"
    },
    {
     "name": "stdout",
     "output_type": "stream",
     "text": [
      "run 12 of 160 total-------------------------------('sentiment_value', 'initial_sigma_value')=(-0.5, 0.09999999999999998) iteration 2 of 10\n",
      "\n",
      "Building partition fixed_sentiment of 1000 agents\n",
      "\n",
      "  all agents tot_wealth will be: 10000\n",
      "  all agents sigma_prop will be: 0.09999999999999998\n"
     ]
    },
    {
     "data": {
      "application/vnd.jupyter.widget-view+json": {
       "model_id": "5623f6dacf724a8d93a15ca7098cd6c0",
       "version_major": 2,
       "version_minor": 0
      },
      "text/plain": [
       "  0%|          | 0/150 [00:00<?, ?it/s]"
      ]
     },
     "metadata": {},
     "output_type": "display_data"
    },
    {
     "name": "stdout",
     "output_type": "stream",
     "text": [
      "run 13 of 160 total-------------------------------('sentiment_value', 'initial_sigma_value')=(-0.5, 0.09999999999999998) iteration 3 of 10\n",
      "\n",
      "Building partition fixed_sentiment of 1000 agents\n",
      "\n",
      "  all agents tot_wealth will be: 10000\n",
      "  all agents sigma_prop will be: 0.09999999999999998\n"
     ]
    },
    {
     "data": {
      "application/vnd.jupyter.widget-view+json": {
       "model_id": "603f3ad2ab774a5b84da8b6666353cd3",
       "version_major": 2,
       "version_minor": 0
      },
      "text/plain": [
       "  0%|          | 0/150 [00:00<?, ?it/s]"
      ]
     },
     "metadata": {},
     "output_type": "display_data"
    },
    {
     "name": "stdout",
     "output_type": "stream",
     "text": [
      "run 14 of 160 total-------------------------------('sentiment_value', 'initial_sigma_value')=(-0.5, 0.09999999999999998) iteration 4 of 10\n",
      "\n",
      "Building partition fixed_sentiment of 1000 agents\n",
      "\n",
      "  all agents tot_wealth will be: 10000\n",
      "  all agents sigma_prop will be: 0.09999999999999998\n"
     ]
    },
    {
     "data": {
      "application/vnd.jupyter.widget-view+json": {
       "model_id": "73ca5558f81740faaa1c89312971b3e3",
       "version_major": 2,
       "version_minor": 0
      },
      "text/plain": [
       "  0%|          | 0/150 [00:00<?, ?it/s]"
      ]
     },
     "metadata": {},
     "output_type": "display_data"
    },
    {
     "name": "stdout",
     "output_type": "stream",
     "text": [
      "run 15 of 160 total-------------------------------('sentiment_value', 'initial_sigma_value')=(-0.5, 0.09999999999999998) iteration 5 of 10\n",
      "\n",
      "Building partition fixed_sentiment of 1000 agents\n",
      "\n",
      "  all agents tot_wealth will be: 10000\n",
      "  all agents sigma_prop will be: 0.09999999999999998\n"
     ]
    },
    {
     "data": {
      "application/vnd.jupyter.widget-view+json": {
       "model_id": "b4952ed322bb40e299678d3602cb7f33",
       "version_major": 2,
       "version_minor": 0
      },
      "text/plain": [
       "  0%|          | 0/150 [00:00<?, ?it/s]"
      ]
     },
     "metadata": {},
     "output_type": "display_data"
    },
    {
     "name": "stdout",
     "output_type": "stream",
     "text": [
      "run 16 of 160 total-------------------------------('sentiment_value', 'initial_sigma_value')=(-0.5, 0.09999999999999998) iteration 6 of 10\n",
      "\n",
      "Building partition fixed_sentiment of 1000 agents\n",
      "\n",
      "  all agents tot_wealth will be: 10000\n",
      "  all agents sigma_prop will be: 0.09999999999999998\n"
     ]
    },
    {
     "data": {
      "application/vnd.jupyter.widget-view+json": {
       "model_id": "79038a3cfa584de0a5f6069380cc6cad",
       "version_major": 2,
       "version_minor": 0
      },
      "text/plain": [
       "  0%|          | 0/150 [00:00<?, ?it/s]"
      ]
     },
     "metadata": {},
     "output_type": "display_data"
    },
    {
     "name": "stdout",
     "output_type": "stream",
     "text": [
      "run 17 of 160 total-------------------------------('sentiment_value', 'initial_sigma_value')=(-0.5, 0.09999999999999998) iteration 7 of 10\n",
      "\n",
      "Building partition fixed_sentiment of 1000 agents\n",
      "\n",
      "  all agents tot_wealth will be: 10000\n",
      "  all agents sigma_prop will be: 0.09999999999999998\n"
     ]
    },
    {
     "data": {
      "application/vnd.jupyter.widget-view+json": {
       "model_id": "0f8e885436ea48afabbd8e5006e2ce97",
       "version_major": 2,
       "version_minor": 0
      },
      "text/plain": [
       "  0%|          | 0/150 [00:00<?, ?it/s]"
      ]
     },
     "metadata": {},
     "output_type": "display_data"
    },
    {
     "name": "stdout",
     "output_type": "stream",
     "text": [
      "run 18 of 160 total-------------------------------('sentiment_value', 'initial_sigma_value')=(-0.5, 0.09999999999999998) iteration 8 of 10\n",
      "\n",
      "Building partition fixed_sentiment of 1000 agents\n",
      "\n",
      "  all agents tot_wealth will be: 10000\n",
      "  all agents sigma_prop will be: 0.09999999999999998\n"
     ]
    },
    {
     "data": {
      "application/vnd.jupyter.widget-view+json": {
       "model_id": "f0d561ad08634519b9a09455a9e05fb8",
       "version_major": 2,
       "version_minor": 0
      },
      "text/plain": [
       "  0%|          | 0/150 [00:00<?, ?it/s]"
      ]
     },
     "metadata": {},
     "output_type": "display_data"
    },
    {
     "name": "stdout",
     "output_type": "stream",
     "text": [
      "run 19 of 160 total-------------------------------('sentiment_value', 'initial_sigma_value')=(-0.5, 0.09999999999999998) iteration 9 of 10\n",
      "\n",
      "Building partition fixed_sentiment of 1000 agents\n",
      "\n",
      "  all agents tot_wealth will be: 10000\n",
      "  all agents sigma_prop will be: 0.09999999999999998\n"
     ]
    },
    {
     "data": {
      "application/vnd.jupyter.widget-view+json": {
       "model_id": "ffee6e119dc74fc5b64fdce25042c559",
       "version_major": 2,
       "version_minor": 0
      },
      "text/plain": [
       "  0%|          | 0/150 [00:00<?, ?it/s]"
      ]
     },
     "metadata": {},
     "output_type": "display_data"
    },
    {
     "name": "stdout",
     "output_type": "stream",
     "text": [
      "run 20 of 160 total-------------------------------('sentiment_value', 'initial_sigma_value')=(-0.5, 0.09999999999999998) iteration 10 of 10\n",
      "\n",
      "Building partition fixed_sentiment of 1000 agents\n",
      "\n",
      "  all agents tot_wealth will be: 10000\n",
      "  all agents sigma_prop will be: 0.09999999999999998\n"
     ]
    },
    {
     "data": {
      "application/vnd.jupyter.widget-view+json": {
       "model_id": "c6aced3e75f44c60aeada0297a06dcc5",
       "version_major": 2,
       "version_minor": 0
      },
      "text/plain": [
       "  0%|          | 0/150 [00:00<?, ?it/s]"
      ]
     },
     "metadata": {},
     "output_type": "display_data"
    },
    {
     "name": "stdout",
     "output_type": "stream",
     "text": [
      "run 21 of 160 total-------------------------------('sentiment_value', 'initial_sigma_value')=(-0.4, 0.15000000000000002) iteration 1 of 10\n",
      "\n",
      "Building partition fixed_sentiment of 1000 agents\n",
      "\n",
      "  all agents tot_wealth will be: 10000\n",
      "  all agents sigma_prop will be: 0.15000000000000002\n"
     ]
    },
    {
     "data": {
      "application/vnd.jupyter.widget-view+json": {
       "model_id": "e8120d7ac0c64b829e5466668c6b2ded",
       "version_major": 2,
       "version_minor": 0
      },
      "text/plain": [
       "  0%|          | 0/150 [00:00<?, ?it/s]"
      ]
     },
     "metadata": {},
     "output_type": "display_data"
    },
    {
     "name": "stdout",
     "output_type": "stream",
     "text": [
      "run 22 of 160 total-------------------------------('sentiment_value', 'initial_sigma_value')=(-0.4, 0.15000000000000002) iteration 2 of 10\n",
      "\n",
      "Building partition fixed_sentiment of 1000 agents\n",
      "\n",
      "  all agents tot_wealth will be: 10000\n",
      "  all agents sigma_prop will be: 0.15000000000000002\n"
     ]
    },
    {
     "data": {
      "application/vnd.jupyter.widget-view+json": {
       "model_id": "d95ae8482c3843e998e16213e14a1481",
       "version_major": 2,
       "version_minor": 0
      },
      "text/plain": [
       "  0%|          | 0/150 [00:00<?, ?it/s]"
      ]
     },
     "metadata": {},
     "output_type": "display_data"
    },
    {
     "name": "stdout",
     "output_type": "stream",
     "text": [
      "run 23 of 160 total-------------------------------('sentiment_value', 'initial_sigma_value')=(-0.4, 0.15000000000000002) iteration 3 of 10\n",
      "\n",
      "Building partition fixed_sentiment of 1000 agents\n",
      "\n",
      "  all agents tot_wealth will be: 10000\n",
      "  all agents sigma_prop will be: 0.15000000000000002\n"
     ]
    },
    {
     "data": {
      "application/vnd.jupyter.widget-view+json": {
       "model_id": "c387499c98c346e58d953b86b8e2f645",
       "version_major": 2,
       "version_minor": 0
      },
      "text/plain": [
       "  0%|          | 0/150 [00:00<?, ?it/s]"
      ]
     },
     "metadata": {},
     "output_type": "display_data"
    },
    {
     "name": "stdout",
     "output_type": "stream",
     "text": [
      "run 24 of 160 total-------------------------------('sentiment_value', 'initial_sigma_value')=(-0.4, 0.15000000000000002) iteration 4 of 10\n",
      "\n",
      "Building partition fixed_sentiment of 1000 agents\n",
      "\n",
      "  all agents tot_wealth will be: 10000\n",
      "  all agents sigma_prop will be: 0.15000000000000002\n"
     ]
    },
    {
     "data": {
      "application/vnd.jupyter.widget-view+json": {
       "model_id": "ebd4c50f64f144d0b004a88def18e46e",
       "version_major": 2,
       "version_minor": 0
      },
      "text/plain": [
       "  0%|          | 0/150 [00:00<?, ?it/s]"
      ]
     },
     "metadata": {},
     "output_type": "display_data"
    },
    {
     "name": "stdout",
     "output_type": "stream",
     "text": [
      "run 25 of 160 total-------------------------------('sentiment_value', 'initial_sigma_value')=(-0.4, 0.15000000000000002) iteration 5 of 10\n",
      "\n",
      "Building partition fixed_sentiment of 1000 agents\n",
      "\n",
      "  all agents tot_wealth will be: 10000\n",
      "  all agents sigma_prop will be: 0.15000000000000002\n"
     ]
    },
    {
     "data": {
      "application/vnd.jupyter.widget-view+json": {
       "model_id": "7dd3a507ddb84639bcc6b625ea8b1dfb",
       "version_major": 2,
       "version_minor": 0
      },
      "text/plain": [
       "  0%|          | 0/150 [00:00<?, ?it/s]"
      ]
     },
     "metadata": {},
     "output_type": "display_data"
    },
    {
     "name": "stdout",
     "output_type": "stream",
     "text": [
      "run 26 of 160 total-------------------------------('sentiment_value', 'initial_sigma_value')=(-0.4, 0.15000000000000002) iteration 6 of 10\n",
      "\n",
      "Building partition fixed_sentiment of 1000 agents\n",
      "\n",
      "  all agents tot_wealth will be: 10000\n",
      "  all agents sigma_prop will be: 0.15000000000000002\n"
     ]
    },
    {
     "data": {
      "application/vnd.jupyter.widget-view+json": {
       "model_id": "dff81734f9444498b1af9520c0560d8b",
       "version_major": 2,
       "version_minor": 0
      },
      "text/plain": [
       "  0%|          | 0/150 [00:00<?, ?it/s]"
      ]
     },
     "metadata": {},
     "output_type": "display_data"
    },
    {
     "name": "stdout",
     "output_type": "stream",
     "text": [
      "run 27 of 160 total-------------------------------('sentiment_value', 'initial_sigma_value')=(-0.4, 0.15000000000000002) iteration 7 of 10\n",
      "\n",
      "Building partition fixed_sentiment of 1000 agents\n",
      "\n",
      "  all agents tot_wealth will be: 10000\n",
      "  all agents sigma_prop will be: 0.15000000000000002\n"
     ]
    },
    {
     "data": {
      "application/vnd.jupyter.widget-view+json": {
       "model_id": "d8318b8ad5a1493abec4ee38f96d4c56",
       "version_major": 2,
       "version_minor": 0
      },
      "text/plain": [
       "  0%|          | 0/150 [00:00<?, ?it/s]"
      ]
     },
     "metadata": {},
     "output_type": "display_data"
    },
    {
     "name": "stdout",
     "output_type": "stream",
     "text": [
      "run 28 of 160 total-------------------------------('sentiment_value', 'initial_sigma_value')=(-0.4, 0.15000000000000002) iteration 8 of 10\n",
      "\n",
      "Building partition fixed_sentiment of 1000 agents\n",
      "\n",
      "  all agents tot_wealth will be: 10000\n",
      "  all agents sigma_prop will be: 0.15000000000000002\n"
     ]
    },
    {
     "data": {
      "application/vnd.jupyter.widget-view+json": {
       "model_id": "572d7f9d69a2400ab8cafce40f3fd581",
       "version_major": 2,
       "version_minor": 0
      },
      "text/plain": [
       "  0%|          | 0/150 [00:00<?, ?it/s]"
      ]
     },
     "metadata": {},
     "output_type": "display_data"
    },
    {
     "name": "stdout",
     "output_type": "stream",
     "text": [
      "run 29 of 160 total-------------------------------('sentiment_value', 'initial_sigma_value')=(-0.4, 0.15000000000000002) iteration 9 of 10\n",
      "\n",
      "Building partition fixed_sentiment of 1000 agents\n",
      "\n",
      "  all agents tot_wealth will be: 10000\n",
      "  all agents sigma_prop will be: 0.15000000000000002\n"
     ]
    },
    {
     "data": {
      "application/vnd.jupyter.widget-view+json": {
       "model_id": "871225407d254aeeb9309d222459f8c4",
       "version_major": 2,
       "version_minor": 0
      },
      "text/plain": [
       "  0%|          | 0/150 [00:00<?, ?it/s]"
      ]
     },
     "metadata": {},
     "output_type": "display_data"
    },
    {
     "name": "stdout",
     "output_type": "stream",
     "text": [
      "run 30 of 160 total-------------------------------('sentiment_value', 'initial_sigma_value')=(-0.4, 0.15000000000000002) iteration 10 of 10\n",
      "\n",
      "Building partition fixed_sentiment of 1000 agents\n",
      "\n",
      "  all agents tot_wealth will be: 10000\n",
      "  all agents sigma_prop will be: 0.15000000000000002\n"
     ]
    },
    {
     "data": {
      "application/vnd.jupyter.widget-view+json": {
       "model_id": "1c8163563c274245967e2b0e6c7b3d95",
       "version_major": 2,
       "version_minor": 0
      },
      "text/plain": [
       "  0%|          | 0/150 [00:00<?, ?it/s]"
      ]
     },
     "metadata": {},
     "output_type": "display_data"
    },
    {
     "name": "stdout",
     "output_type": "stream",
     "text": [
      "run 31 of 160 total-------------------------------('sentiment_value', 'initial_sigma_value')=(-0.3, 0.2) iteration 1 of 10\n",
      "\n",
      "Building partition fixed_sentiment of 1000 agents\n",
      "\n",
      "  all agents tot_wealth will be: 10000\n",
      "  all agents sigma_prop will be: 0.2\n"
     ]
    },
    {
     "data": {
      "application/vnd.jupyter.widget-view+json": {
       "model_id": "9e291f7732d2408e829be9042437c6f8",
       "version_major": 2,
       "version_minor": 0
      },
      "text/plain": [
       "  0%|          | 0/150 [00:00<?, ?it/s]"
      ]
     },
     "metadata": {},
     "output_type": "display_data"
    },
    {
     "name": "stdout",
     "output_type": "stream",
     "text": [
      "run 32 of 160 total-------------------------------('sentiment_value', 'initial_sigma_value')=(-0.3, 0.2) iteration 2 of 10\n",
      "\n",
      "Building partition fixed_sentiment of 1000 agents\n",
      "\n",
      "  all agents tot_wealth will be: 10000\n",
      "  all agents sigma_prop will be: 0.2\n"
     ]
    },
    {
     "data": {
      "application/vnd.jupyter.widget-view+json": {
       "model_id": "f06e3c3ef401471c9a76b9c2416d1684",
       "version_major": 2,
       "version_minor": 0
      },
      "text/plain": [
       "  0%|          | 0/150 [00:00<?, ?it/s]"
      ]
     },
     "metadata": {},
     "output_type": "display_data"
    },
    {
     "name": "stdout",
     "output_type": "stream",
     "text": [
      "run 33 of 160 total-------------------------------('sentiment_value', 'initial_sigma_value')=(-0.3, 0.2) iteration 3 of 10\n",
      "\n",
      "Building partition fixed_sentiment of 1000 agents\n",
      "\n",
      "  all agents tot_wealth will be: 10000\n",
      "  all agents sigma_prop will be: 0.2\n"
     ]
    },
    {
     "data": {
      "application/vnd.jupyter.widget-view+json": {
       "model_id": "32dfd1d5370d4213add7b73f6faebf3a",
       "version_major": 2,
       "version_minor": 0
      },
      "text/plain": [
       "  0%|          | 0/150 [00:00<?, ?it/s]"
      ]
     },
     "metadata": {},
     "output_type": "display_data"
    },
    {
     "name": "stdout",
     "output_type": "stream",
     "text": [
      "run 34 of 160 total-------------------------------('sentiment_value', 'initial_sigma_value')=(-0.3, 0.2) iteration 4 of 10\n",
      "\n",
      "Building partition fixed_sentiment of 1000 agents\n",
      "\n",
      "  all agents tot_wealth will be: 10000\n",
      "  all agents sigma_prop will be: 0.2\n"
     ]
    },
    {
     "data": {
      "application/vnd.jupyter.widget-view+json": {
       "model_id": "cd5280d82925482fbc60f6a4fe844127",
       "version_major": 2,
       "version_minor": 0
      },
      "text/plain": [
       "  0%|          | 0/150 [00:00<?, ?it/s]"
      ]
     },
     "metadata": {},
     "output_type": "display_data"
    },
    {
     "name": "stdout",
     "output_type": "stream",
     "text": [
      "run 35 of 160 total-------------------------------('sentiment_value', 'initial_sigma_value')=(-0.3, 0.2) iteration 5 of 10\n",
      "\n",
      "Building partition fixed_sentiment of 1000 agents\n",
      "\n",
      "  all agents tot_wealth will be: 10000\n",
      "  all agents sigma_prop will be: 0.2\n"
     ]
    },
    {
     "data": {
      "application/vnd.jupyter.widget-view+json": {
       "model_id": "e8698456457b4b0a9e03518330807eb3",
       "version_major": 2,
       "version_minor": 0
      },
      "text/plain": [
       "  0%|          | 0/150 [00:00<?, ?it/s]"
      ]
     },
     "metadata": {},
     "output_type": "display_data"
    },
    {
     "name": "stdout",
     "output_type": "stream",
     "text": [
      "run 36 of 160 total-------------------------------('sentiment_value', 'initial_sigma_value')=(-0.3, 0.2) iteration 6 of 10\n",
      "\n",
      "Building partition fixed_sentiment of 1000 agents\n",
      "\n",
      "  all agents tot_wealth will be: 10000\n",
      "  all agents sigma_prop will be: 0.2\n"
     ]
    },
    {
     "data": {
      "application/vnd.jupyter.widget-view+json": {
       "model_id": "364f960153f643898ecd5dc2d0717778",
       "version_major": 2,
       "version_minor": 0
      },
      "text/plain": [
       "  0%|          | 0/150 [00:00<?, ?it/s]"
      ]
     },
     "metadata": {},
     "output_type": "display_data"
    },
    {
     "name": "stdout",
     "output_type": "stream",
     "text": [
      "run 37 of 160 total-------------------------------('sentiment_value', 'initial_sigma_value')=(-0.3, 0.2) iteration 7 of 10\n",
      "\n",
      "Building partition fixed_sentiment of 1000 agents\n",
      "\n",
      "  all agents tot_wealth will be: 10000\n",
      "  all agents sigma_prop will be: 0.2\n"
     ]
    },
    {
     "data": {
      "application/vnd.jupyter.widget-view+json": {
       "model_id": "2f8c0ca0075442baa3651d7c6dd235e3",
       "version_major": 2,
       "version_minor": 0
      },
      "text/plain": [
       "  0%|          | 0/150 [00:00<?, ?it/s]"
      ]
     },
     "metadata": {},
     "output_type": "display_data"
    },
    {
     "name": "stdout",
     "output_type": "stream",
     "text": [
      "run 38 of 160 total-------------------------------('sentiment_value', 'initial_sigma_value')=(-0.3, 0.2) iteration 8 of 10\n",
      "\n",
      "Building partition fixed_sentiment of 1000 agents\n",
      "\n",
      "  all agents tot_wealth will be: 10000\n",
      "  all agents sigma_prop will be: 0.2\n"
     ]
    },
    {
     "data": {
      "application/vnd.jupyter.widget-view+json": {
       "model_id": "8031128f43e04b02af0da2d72f33ccef",
       "version_major": 2,
       "version_minor": 0
      },
      "text/plain": [
       "  0%|          | 0/150 [00:00<?, ?it/s]"
      ]
     },
     "metadata": {},
     "output_type": "display_data"
    },
    {
     "name": "stdout",
     "output_type": "stream",
     "text": [
      "run 39 of 160 total-------------------------------('sentiment_value', 'initial_sigma_value')=(-0.3, 0.2) iteration 9 of 10\n",
      "\n",
      "Building partition fixed_sentiment of 1000 agents\n",
      "\n",
      "  all agents tot_wealth will be: 10000\n",
      "  all agents sigma_prop will be: 0.2\n"
     ]
    },
    {
     "data": {
      "application/vnd.jupyter.widget-view+json": {
       "model_id": "10d007a8ca4043bd99a49030b854d40c",
       "version_major": 2,
       "version_minor": 0
      },
      "text/plain": [
       "  0%|          | 0/150 [00:00<?, ?it/s]"
      ]
     },
     "metadata": {},
     "output_type": "display_data"
    },
    {
     "name": "stdout",
     "output_type": "stream",
     "text": [
      "run 40 of 160 total-------------------------------('sentiment_value', 'initial_sigma_value')=(-0.3, 0.2) iteration 10 of 10\n",
      "\n",
      "Building partition fixed_sentiment of 1000 agents\n",
      "\n",
      "  all agents tot_wealth will be: 10000\n",
      "  all agents sigma_prop will be: 0.2\n"
     ]
    },
    {
     "data": {
      "application/vnd.jupyter.widget-view+json": {
       "model_id": "a7cce05a97b040e4aca6dd3beb8ca896",
       "version_major": 2,
       "version_minor": 0
      },
      "text/plain": [
       "  0%|          | 0/150 [00:00<?, ?it/s]"
      ]
     },
     "metadata": {},
     "output_type": "display_data"
    },
    {
     "name": "stdout",
     "output_type": "stream",
     "text": [
      "run 41 of 160 total-------------------------------('sentiment_value', 'initial_sigma_value')=(-0.2, 0.25) iteration 1 of 10\n",
      "\n",
      "Building partition fixed_sentiment of 1000 agents\n",
      "\n",
      "  all agents tot_wealth will be: 10000\n",
      "  all agents sigma_prop will be: 0.25\n"
     ]
    },
    {
     "data": {
      "application/vnd.jupyter.widget-view+json": {
       "model_id": "1ca952949ad2414c92d3c162a48cdb72",
       "version_major": 2,
       "version_minor": 0
      },
      "text/plain": [
       "  0%|          | 0/150 [00:00<?, ?it/s]"
      ]
     },
     "metadata": {},
     "output_type": "display_data"
    },
    {
     "name": "stdout",
     "output_type": "stream",
     "text": [
      "run 42 of 160 total-------------------------------('sentiment_value', 'initial_sigma_value')=(-0.2, 0.25) iteration 2 of 10\n",
      "\n",
      "Building partition fixed_sentiment of 1000 agents\n",
      "\n",
      "  all agents tot_wealth will be: 10000\n",
      "  all agents sigma_prop will be: 0.25\n"
     ]
    },
    {
     "data": {
      "application/vnd.jupyter.widget-view+json": {
       "model_id": "84ab96c6543444fea8816e47dd7c4f6a",
       "version_major": 2,
       "version_minor": 0
      },
      "text/plain": [
       "  0%|          | 0/150 [00:00<?, ?it/s]"
      ]
     },
     "metadata": {},
     "output_type": "display_data"
    },
    {
     "name": "stdout",
     "output_type": "stream",
     "text": [
      "run 43 of 160 total-------------------------------('sentiment_value', 'initial_sigma_value')=(-0.2, 0.25) iteration 3 of 10\n",
      "\n",
      "Building partition fixed_sentiment of 1000 agents\n",
      "\n",
      "  all agents tot_wealth will be: 10000\n",
      "  all agents sigma_prop will be: 0.25\n"
     ]
    },
    {
     "data": {
      "application/vnd.jupyter.widget-view+json": {
       "model_id": "55ad6b37545a43daab9436814bab1b69",
       "version_major": 2,
       "version_minor": 0
      },
      "text/plain": [
       "  0%|          | 0/150 [00:00<?, ?it/s]"
      ]
     },
     "metadata": {},
     "output_type": "display_data"
    },
    {
     "name": "stdout",
     "output_type": "stream",
     "text": [
      "run 44 of 160 total-------------------------------('sentiment_value', 'initial_sigma_value')=(-0.2, 0.25) iteration 4 of 10\n",
      "\n",
      "Building partition fixed_sentiment of 1000 agents\n",
      "\n",
      "  all agents tot_wealth will be: 10000\n",
      "  all agents sigma_prop will be: 0.25\n"
     ]
    },
    {
     "data": {
      "application/vnd.jupyter.widget-view+json": {
       "model_id": "143742952f234a769dd83d5bd8035fdb",
       "version_major": 2,
       "version_minor": 0
      },
      "text/plain": [
       "  0%|          | 0/150 [00:00<?, ?it/s]"
      ]
     },
     "metadata": {},
     "output_type": "display_data"
    },
    {
     "name": "stdout",
     "output_type": "stream",
     "text": [
      "run 45 of 160 total-------------------------------('sentiment_value', 'initial_sigma_value')=(-0.2, 0.25) iteration 5 of 10\n",
      "\n",
      "Building partition fixed_sentiment of 1000 agents\n",
      "\n",
      "  all agents tot_wealth will be: 10000\n",
      "  all agents sigma_prop will be: 0.25\n"
     ]
    },
    {
     "data": {
      "application/vnd.jupyter.widget-view+json": {
       "model_id": "140eea3a2f5d4824867ed86dd6df9f71",
       "version_major": 2,
       "version_minor": 0
      },
      "text/plain": [
       "  0%|          | 0/150 [00:00<?, ?it/s]"
      ]
     },
     "metadata": {},
     "output_type": "display_data"
    },
    {
     "name": "stdout",
     "output_type": "stream",
     "text": [
      "run 46 of 160 total-------------------------------('sentiment_value', 'initial_sigma_value')=(-0.2, 0.25) iteration 6 of 10\n",
      "\n",
      "Building partition fixed_sentiment of 1000 agents\n",
      "\n",
      "  all agents tot_wealth will be: 10000\n",
      "  all agents sigma_prop will be: 0.25\n"
     ]
    },
    {
     "data": {
      "application/vnd.jupyter.widget-view+json": {
       "model_id": "257f1000a76542a79c49d6e3abbe4dbf",
       "version_major": 2,
       "version_minor": 0
      },
      "text/plain": [
       "  0%|          | 0/150 [00:00<?, ?it/s]"
      ]
     },
     "metadata": {},
     "output_type": "display_data"
    },
    {
     "name": "stdout",
     "output_type": "stream",
     "text": [
      "run 47 of 160 total-------------------------------('sentiment_value', 'initial_sigma_value')=(-0.2, 0.25) iteration 7 of 10\n",
      "\n",
      "Building partition fixed_sentiment of 1000 agents\n",
      "\n",
      "  all agents tot_wealth will be: 10000\n",
      "  all agents sigma_prop will be: 0.25\n"
     ]
    },
    {
     "data": {
      "application/vnd.jupyter.widget-view+json": {
       "model_id": "b63db37075ee400fb9481d08796adadc",
       "version_major": 2,
       "version_minor": 0
      },
      "text/plain": [
       "  0%|          | 0/150 [00:00<?, ?it/s]"
      ]
     },
     "metadata": {},
     "output_type": "display_data"
    },
    {
     "name": "stdout",
     "output_type": "stream",
     "text": [
      "run 48 of 160 total-------------------------------('sentiment_value', 'initial_sigma_value')=(-0.2, 0.25) iteration 8 of 10\n",
      "\n",
      "Building partition fixed_sentiment of 1000 agents\n",
      "\n",
      "  all agents tot_wealth will be: 10000\n",
      "  all agents sigma_prop will be: 0.25\n"
     ]
    },
    {
     "data": {
      "application/vnd.jupyter.widget-view+json": {
       "model_id": "de25e17db2744cef9099de026acaa72b",
       "version_major": 2,
       "version_minor": 0
      },
      "text/plain": [
       "  0%|          | 0/150 [00:00<?, ?it/s]"
      ]
     },
     "metadata": {},
     "output_type": "display_data"
    },
    {
     "name": "stdout",
     "output_type": "stream",
     "text": [
      "run 49 of 160 total-------------------------------('sentiment_value', 'initial_sigma_value')=(-0.2, 0.25) iteration 9 of 10\n",
      "\n",
      "Building partition fixed_sentiment of 1000 agents\n",
      "\n",
      "  all agents tot_wealth will be: 10000\n",
      "  all agents sigma_prop will be: 0.25\n"
     ]
    },
    {
     "data": {
      "application/vnd.jupyter.widget-view+json": {
       "model_id": "16729c38b48a484fa690dae1bfc82d55",
       "version_major": 2,
       "version_minor": 0
      },
      "text/plain": [
       "  0%|          | 0/150 [00:00<?, ?it/s]"
      ]
     },
     "metadata": {},
     "output_type": "display_data"
    },
    {
     "name": "stdout",
     "output_type": "stream",
     "text": [
      "run 50 of 160 total-------------------------------('sentiment_value', 'initial_sigma_value')=(-0.2, 0.25) iteration 10 of 10\n",
      "\n",
      "Building partition fixed_sentiment of 1000 agents\n",
      "\n",
      "  all agents tot_wealth will be: 10000\n",
      "  all agents sigma_prop will be: 0.25\n"
     ]
    },
    {
     "data": {
      "application/vnd.jupyter.widget-view+json": {
       "model_id": "021472b416e24f03bda8ff92f9f4a0f5",
       "version_major": 2,
       "version_minor": 0
      },
      "text/plain": [
       "  0%|          | 0/150 [00:00<?, ?it/s]"
      ]
     },
     "metadata": {},
     "output_type": "display_data"
    },
    {
     "name": "stdout",
     "output_type": "stream",
     "text": [
      "run 51 of 160 total-------------------------------('sentiment_value', 'initial_sigma_value')=(-0.1, 0.3) iteration 1 of 10\n",
      "\n",
      "Building partition fixed_sentiment of 1000 agents\n",
      "\n",
      "  all agents tot_wealth will be: 10000\n",
      "  all agents sigma_prop will be: 0.3\n"
     ]
    },
    {
     "data": {
      "application/vnd.jupyter.widget-view+json": {
       "model_id": "ee480498bd1345bc9d418172ae13516e",
       "version_major": 2,
       "version_minor": 0
      },
      "text/plain": [
       "  0%|          | 0/150 [00:00<?, ?it/s]"
      ]
     },
     "metadata": {},
     "output_type": "display_data"
    },
    {
     "name": "stdout",
     "output_type": "stream",
     "text": [
      "run 52 of 160 total-------------------------------('sentiment_value', 'initial_sigma_value')=(-0.1, 0.3) iteration 2 of 10\n",
      "\n",
      "Building partition fixed_sentiment of 1000 agents\n",
      "\n",
      "  all agents tot_wealth will be: 10000\n",
      "  all agents sigma_prop will be: 0.3\n"
     ]
    },
    {
     "data": {
      "application/vnd.jupyter.widget-view+json": {
       "model_id": "6abb0e068dde4c38a0e989be7d62fb3d",
       "version_major": 2,
       "version_minor": 0
      },
      "text/plain": [
       "  0%|          | 0/150 [00:00<?, ?it/s]"
      ]
     },
     "metadata": {},
     "output_type": "display_data"
    },
    {
     "name": "stdout",
     "output_type": "stream",
     "text": [
      "run 53 of 160 total-------------------------------('sentiment_value', 'initial_sigma_value')=(-0.1, 0.3) iteration 3 of 10\n",
      "\n",
      "Building partition fixed_sentiment of 1000 agents\n",
      "\n",
      "  all agents tot_wealth will be: 10000\n",
      "  all agents sigma_prop will be: 0.3\n"
     ]
    },
    {
     "data": {
      "application/vnd.jupyter.widget-view+json": {
       "model_id": "793fa1db35c94ff79ed8f50f84f2bcce",
       "version_major": 2,
       "version_minor": 0
      },
      "text/plain": [
       "  0%|          | 0/150 [00:00<?, ?it/s]"
      ]
     },
     "metadata": {},
     "output_type": "display_data"
    },
    {
     "name": "stdout",
     "output_type": "stream",
     "text": [
      "run 54 of 160 total-------------------------------('sentiment_value', 'initial_sigma_value')=(-0.1, 0.3) iteration 4 of 10\n",
      "\n",
      "Building partition fixed_sentiment of 1000 agents\n",
      "\n",
      "  all agents tot_wealth will be: 10000\n",
      "  all agents sigma_prop will be: 0.3\n"
     ]
    },
    {
     "data": {
      "application/vnd.jupyter.widget-view+json": {
       "model_id": "b70b9e350d5f429dbd7c2bf8b5f68df9",
       "version_major": 2,
       "version_minor": 0
      },
      "text/plain": [
       "  0%|          | 0/150 [00:00<?, ?it/s]"
      ]
     },
     "metadata": {},
     "output_type": "display_data"
    },
    {
     "name": "stdout",
     "output_type": "stream",
     "text": [
      "run 55 of 160 total-------------------------------('sentiment_value', 'initial_sigma_value')=(-0.1, 0.3) iteration 5 of 10\n",
      "\n",
      "Building partition fixed_sentiment of 1000 agents\n",
      "\n",
      "  all agents tot_wealth will be: 10000\n",
      "  all agents sigma_prop will be: 0.3\n"
     ]
    },
    {
     "data": {
      "application/vnd.jupyter.widget-view+json": {
       "model_id": "f7345c25f6e34e258b3cb99bfaf14b61",
       "version_major": 2,
       "version_minor": 0
      },
      "text/plain": [
       "  0%|          | 0/150 [00:00<?, ?it/s]"
      ]
     },
     "metadata": {},
     "output_type": "display_data"
    },
    {
     "name": "stdout",
     "output_type": "stream",
     "text": [
      "run 56 of 160 total-------------------------------('sentiment_value', 'initial_sigma_value')=(-0.1, 0.3) iteration 6 of 10\n",
      "\n",
      "Building partition fixed_sentiment of 1000 agents\n",
      "\n",
      "  all agents tot_wealth will be: 10000\n",
      "  all agents sigma_prop will be: 0.3\n"
     ]
    },
    {
     "data": {
      "application/vnd.jupyter.widget-view+json": {
       "model_id": "f37fe1a3cd374f96b82f04647167a558",
       "version_major": 2,
       "version_minor": 0
      },
      "text/plain": [
       "  0%|          | 0/150 [00:00<?, ?it/s]"
      ]
     },
     "metadata": {},
     "output_type": "display_data"
    },
    {
     "name": "stdout",
     "output_type": "stream",
     "text": [
      "run 57 of 160 total-------------------------------('sentiment_value', 'initial_sigma_value')=(-0.1, 0.3) iteration 7 of 10\n",
      "\n",
      "Building partition fixed_sentiment of 1000 agents\n",
      "\n",
      "  all agents tot_wealth will be: 10000\n",
      "  all agents sigma_prop will be: 0.3\n"
     ]
    },
    {
     "data": {
      "application/vnd.jupyter.widget-view+json": {
       "model_id": "a0362e7ed14f4087a3f6d9a220e25138",
       "version_major": 2,
       "version_minor": 0
      },
      "text/plain": [
       "  0%|          | 0/150 [00:00<?, ?it/s]"
      ]
     },
     "metadata": {},
     "output_type": "display_data"
    },
    {
     "name": "stdout",
     "output_type": "stream",
     "text": [
      "run 58 of 160 total-------------------------------('sentiment_value', 'initial_sigma_value')=(-0.1, 0.3) iteration 8 of 10\n",
      "\n",
      "Building partition fixed_sentiment of 1000 agents\n",
      "\n",
      "  all agents tot_wealth will be: 10000\n",
      "  all agents sigma_prop will be: 0.3\n"
     ]
    },
    {
     "data": {
      "application/vnd.jupyter.widget-view+json": {
       "model_id": "8634a92fe2cc4e1a85be61ae9cef595d",
       "version_major": 2,
       "version_minor": 0
      },
      "text/plain": [
       "  0%|          | 0/150 [00:00<?, ?it/s]"
      ]
     },
     "metadata": {},
     "output_type": "display_data"
    },
    {
     "name": "stdout",
     "output_type": "stream",
     "text": [
      "run 59 of 160 total-------------------------------('sentiment_value', 'initial_sigma_value')=(-0.1, 0.3) iteration 9 of 10\n",
      "\n",
      "Building partition fixed_sentiment of 1000 agents\n",
      "\n",
      "  all agents tot_wealth will be: 10000\n",
      "  all agents sigma_prop will be: 0.3\n"
     ]
    },
    {
     "data": {
      "application/vnd.jupyter.widget-view+json": {
       "model_id": "6b3bb795968347cc9677f4d40452d9cd",
       "version_major": 2,
       "version_minor": 0
      },
      "text/plain": [
       "  0%|          | 0/150 [00:00<?, ?it/s]"
      ]
     },
     "metadata": {},
     "output_type": "display_data"
    },
    {
     "name": "stdout",
     "output_type": "stream",
     "text": [
      "run 60 of 160 total-------------------------------('sentiment_value', 'initial_sigma_value')=(-0.1, 0.3) iteration 10 of 10\n",
      "\n",
      "Building partition fixed_sentiment of 1000 agents\n",
      "\n",
      "  all agents tot_wealth will be: 10000\n",
      "  all agents sigma_prop will be: 0.3\n"
     ]
    },
    {
     "data": {
      "application/vnd.jupyter.widget-view+json": {
       "model_id": "be95c149c55e4498831be3e2611c9133",
       "version_major": 2,
       "version_minor": 0
      },
      "text/plain": [
       "  0%|          | 0/150 [00:00<?, ?it/s]"
      ]
     },
     "metadata": {},
     "output_type": "display_data"
    },
    {
     "name": "stdout",
     "output_type": "stream",
     "text": [
      "run 61 of 160 total-------------------------------('sentiment_value', 'initial_sigma_value')=(0.0, 0.35) iteration 1 of 10\n",
      "\n",
      "Building partition fixed_sentiment of 1000 agents\n",
      "\n",
      "  all agents tot_wealth will be: 10000\n",
      "  all agents sigma_prop will be: 0.35\n"
     ]
    },
    {
     "data": {
      "application/vnd.jupyter.widget-view+json": {
       "model_id": "d46c311821ac49b1b0d4103401896c12",
       "version_major": 2,
       "version_minor": 0
      },
      "text/plain": [
       "  0%|          | 0/150 [00:00<?, ?it/s]"
      ]
     },
     "metadata": {},
     "output_type": "display_data"
    },
    {
     "name": "stdout",
     "output_type": "stream",
     "text": [
      "run 62 of 160 total-------------------------------('sentiment_value', 'initial_sigma_value')=(0.0, 0.35) iteration 2 of 10\n",
      "\n",
      "Building partition fixed_sentiment of 1000 agents\n",
      "\n",
      "  all agents tot_wealth will be: 10000\n",
      "  all agents sigma_prop will be: 0.35\n"
     ]
    },
    {
     "data": {
      "application/vnd.jupyter.widget-view+json": {
       "model_id": "11c06287b05b4c6fabc3ac507f8b71c0",
       "version_major": 2,
       "version_minor": 0
      },
      "text/plain": [
       "  0%|          | 0/150 [00:00<?, ?it/s]"
      ]
     },
     "metadata": {},
     "output_type": "display_data"
    },
    {
     "name": "stdout",
     "output_type": "stream",
     "text": [
      "run 63 of 160 total-------------------------------('sentiment_value', 'initial_sigma_value')=(0.0, 0.35) iteration 3 of 10\n",
      "\n",
      "Building partition fixed_sentiment of 1000 agents\n",
      "\n",
      "  all agents tot_wealth will be: 10000\n",
      "  all agents sigma_prop will be: 0.35\n"
     ]
    },
    {
     "data": {
      "application/vnd.jupyter.widget-view+json": {
       "model_id": "ec380f2b05854b8c99a26ada35f217dd",
       "version_major": 2,
       "version_minor": 0
      },
      "text/plain": [
       "  0%|          | 0/150 [00:00<?, ?it/s]"
      ]
     },
     "metadata": {},
     "output_type": "display_data"
    },
    {
     "name": "stdout",
     "output_type": "stream",
     "text": [
      "run 64 of 160 total-------------------------------('sentiment_value', 'initial_sigma_value')=(0.0, 0.35) iteration 4 of 10\n",
      "\n",
      "Building partition fixed_sentiment of 1000 agents\n",
      "\n",
      "  all agents tot_wealth will be: 10000\n",
      "  all agents sigma_prop will be: 0.35\n"
     ]
    },
    {
     "data": {
      "application/vnd.jupyter.widget-view+json": {
       "model_id": "dda17b5961a34d76918daf0aa4f81b87",
       "version_major": 2,
       "version_minor": 0
      },
      "text/plain": [
       "  0%|          | 0/150 [00:00<?, ?it/s]"
      ]
     },
     "metadata": {},
     "output_type": "display_data"
    },
    {
     "name": "stdout",
     "output_type": "stream",
     "text": [
      "run 65 of 160 total-------------------------------('sentiment_value', 'initial_sigma_value')=(0.0, 0.35) iteration 5 of 10\n",
      "\n",
      "Building partition fixed_sentiment of 1000 agents\n",
      "\n",
      "  all agents tot_wealth will be: 10000\n",
      "  all agents sigma_prop will be: 0.35\n"
     ]
    },
    {
     "data": {
      "application/vnd.jupyter.widget-view+json": {
       "model_id": "f90df9cc38244bfd99b553173d5d8a63",
       "version_major": 2,
       "version_minor": 0
      },
      "text/plain": [
       "  0%|          | 0/150 [00:00<?, ?it/s]"
      ]
     },
     "metadata": {},
     "output_type": "display_data"
    },
    {
     "name": "stdout",
     "output_type": "stream",
     "text": [
      "run 66 of 160 total-------------------------------('sentiment_value', 'initial_sigma_value')=(0.0, 0.35) iteration 6 of 10\n",
      "\n",
      "Building partition fixed_sentiment of 1000 agents\n",
      "\n",
      "  all agents tot_wealth will be: 10000\n",
      "  all agents sigma_prop will be: 0.35\n"
     ]
    },
    {
     "data": {
      "application/vnd.jupyter.widget-view+json": {
       "model_id": "a9a5d6365cd74314b2138d4d6e5f49be",
       "version_major": 2,
       "version_minor": 0
      },
      "text/plain": [
       "  0%|          | 0/150 [00:00<?, ?it/s]"
      ]
     },
     "metadata": {},
     "output_type": "display_data"
    },
    {
     "name": "stdout",
     "output_type": "stream",
     "text": [
      "run 67 of 160 total-------------------------------('sentiment_value', 'initial_sigma_value')=(0.0, 0.35) iteration 7 of 10\n",
      "\n",
      "Building partition fixed_sentiment of 1000 agents\n",
      "\n",
      "  all agents tot_wealth will be: 10000\n",
      "  all agents sigma_prop will be: 0.35\n"
     ]
    },
    {
     "data": {
      "application/vnd.jupyter.widget-view+json": {
       "model_id": "bc0ff190d21343adae4dccb5f35bcf8e",
       "version_major": 2,
       "version_minor": 0
      },
      "text/plain": [
       "  0%|          | 0/150 [00:00<?, ?it/s]"
      ]
     },
     "metadata": {},
     "output_type": "display_data"
    },
    {
     "name": "stdout",
     "output_type": "stream",
     "text": [
      "run 68 of 160 total-------------------------------('sentiment_value', 'initial_sigma_value')=(0.0, 0.35) iteration 8 of 10\n",
      "\n",
      "Building partition fixed_sentiment of 1000 agents\n",
      "\n",
      "  all agents tot_wealth will be: 10000\n",
      "  all agents sigma_prop will be: 0.35\n"
     ]
    },
    {
     "data": {
      "application/vnd.jupyter.widget-view+json": {
       "model_id": "c86ae8efd26346a1ba4d3ddadc79b362",
       "version_major": 2,
       "version_minor": 0
      },
      "text/plain": [
       "  0%|          | 0/150 [00:00<?, ?it/s]"
      ]
     },
     "metadata": {},
     "output_type": "display_data"
    },
    {
     "name": "stdout",
     "output_type": "stream",
     "text": [
      "run 69 of 160 total-------------------------------('sentiment_value', 'initial_sigma_value')=(0.0, 0.35) iteration 9 of 10\n",
      "\n",
      "Building partition fixed_sentiment of 1000 agents\n",
      "\n",
      "  all agents tot_wealth will be: 10000\n",
      "  all agents sigma_prop will be: 0.35\n"
     ]
    },
    {
     "data": {
      "application/vnd.jupyter.widget-view+json": {
       "model_id": "82213243d3564cebb185b46b7db55c09",
       "version_major": 2,
       "version_minor": 0
      },
      "text/plain": [
       "  0%|          | 0/150 [00:00<?, ?it/s]"
      ]
     },
     "metadata": {},
     "output_type": "display_data"
    },
    {
     "name": "stdout",
     "output_type": "stream",
     "text": [
      "run 70 of 160 total-------------------------------('sentiment_value', 'initial_sigma_value')=(0.0, 0.35) iteration 10 of 10\n",
      "\n",
      "Building partition fixed_sentiment of 1000 agents\n",
      "\n",
      "  all agents tot_wealth will be: 10000\n",
      "  all agents sigma_prop will be: 0.35\n"
     ]
    },
    {
     "data": {
      "application/vnd.jupyter.widget-view+json": {
       "model_id": "babc80d2bef54bf592f2f783b9be1a3d",
       "version_major": 2,
       "version_minor": 0
      },
      "text/plain": [
       "  0%|          | 0/150 [00:00<?, ?it/s]"
      ]
     },
     "metadata": {},
     "output_type": "display_data"
    },
    {
     "name": "stdout",
     "output_type": "stream",
     "text": [
      "run 71 of 160 total-------------------------------('sentiment_value', 'initial_sigma_value')=(0.1, 0.4) iteration 1 of 10\n",
      "\n",
      "Building partition fixed_sentiment of 1000 agents\n",
      "\n",
      "  all agents tot_wealth will be: 10000\n",
      "  all agents sigma_prop will be: 0.4\n"
     ]
    },
    {
     "data": {
      "application/vnd.jupyter.widget-view+json": {
       "model_id": "930768f529684bb39cb444ae4e1b3cc4",
       "version_major": 2,
       "version_minor": 0
      },
      "text/plain": [
       "  0%|          | 0/150 [00:00<?, ?it/s]"
      ]
     },
     "metadata": {},
     "output_type": "display_data"
    },
    {
     "name": "stdout",
     "output_type": "stream",
     "text": [
      "run 72 of 160 total-------------------------------('sentiment_value', 'initial_sigma_value')=(0.1, 0.4) iteration 2 of 10\n",
      "\n",
      "Building partition fixed_sentiment of 1000 agents\n",
      "\n",
      "  all agents tot_wealth will be: 10000\n",
      "  all agents sigma_prop will be: 0.4\n"
     ]
    },
    {
     "data": {
      "application/vnd.jupyter.widget-view+json": {
       "model_id": "21dbbf2676bc480eaac26a815ab09d1e",
       "version_major": 2,
       "version_minor": 0
      },
      "text/plain": [
       "  0%|          | 0/150 [00:00<?, ?it/s]"
      ]
     },
     "metadata": {},
     "output_type": "display_data"
    },
    {
     "name": "stdout",
     "output_type": "stream",
     "text": [
      "run 73 of 160 total-------------------------------('sentiment_value', 'initial_sigma_value')=(0.1, 0.4) iteration 3 of 10\n",
      "\n",
      "Building partition fixed_sentiment of 1000 agents\n",
      "\n",
      "  all agents tot_wealth will be: 10000\n",
      "  all agents sigma_prop will be: 0.4\n"
     ]
    },
    {
     "data": {
      "application/vnd.jupyter.widget-view+json": {
       "model_id": "a5a48f78bfe841d89151a1721aaf1a25",
       "version_major": 2,
       "version_minor": 0
      },
      "text/plain": [
       "  0%|          | 0/150 [00:00<?, ?it/s]"
      ]
     },
     "metadata": {},
     "output_type": "display_data"
    },
    {
     "name": "stdout",
     "output_type": "stream",
     "text": [
      "run 74 of 160 total-------------------------------('sentiment_value', 'initial_sigma_value')=(0.1, 0.4) iteration 4 of 10\n",
      "\n",
      "Building partition fixed_sentiment of 1000 agents\n",
      "\n",
      "  all agents tot_wealth will be: 10000\n",
      "  all agents sigma_prop will be: 0.4\n"
     ]
    },
    {
     "data": {
      "application/vnd.jupyter.widget-view+json": {
       "model_id": "0e23b9e6af994dd087b54f265a27540b",
       "version_major": 2,
       "version_minor": 0
      },
      "text/plain": [
       "  0%|          | 0/150 [00:00<?, ?it/s]"
      ]
     },
     "metadata": {},
     "output_type": "display_data"
    },
    {
     "name": "stdout",
     "output_type": "stream",
     "text": [
      "run 75 of 160 total-------------------------------('sentiment_value', 'initial_sigma_value')=(0.1, 0.4) iteration 5 of 10\n",
      "\n",
      "Building partition fixed_sentiment of 1000 agents\n",
      "\n",
      "  all agents tot_wealth will be: 10000\n",
      "  all agents sigma_prop will be: 0.4\n"
     ]
    },
    {
     "data": {
      "application/vnd.jupyter.widget-view+json": {
       "model_id": "108994fda0d548b3af1489c98216d06c",
       "version_major": 2,
       "version_minor": 0
      },
      "text/plain": [
       "  0%|          | 0/150 [00:00<?, ?it/s]"
      ]
     },
     "metadata": {},
     "output_type": "display_data"
    },
    {
     "name": "stdout",
     "output_type": "stream",
     "text": [
      "run 76 of 160 total-------------------------------('sentiment_value', 'initial_sigma_value')=(0.1, 0.4) iteration 6 of 10\n",
      "\n",
      "Building partition fixed_sentiment of 1000 agents\n",
      "\n",
      "  all agents tot_wealth will be: 10000\n",
      "  all agents sigma_prop will be: 0.4\n"
     ]
    },
    {
     "data": {
      "application/vnd.jupyter.widget-view+json": {
       "model_id": "36c9bc3baad44820aa789bd727fe4fbe",
       "version_major": 2,
       "version_minor": 0
      },
      "text/plain": [
       "  0%|          | 0/150 [00:00<?, ?it/s]"
      ]
     },
     "metadata": {},
     "output_type": "display_data"
    },
    {
     "name": "stdout",
     "output_type": "stream",
     "text": [
      "run 77 of 160 total-------------------------------('sentiment_value', 'initial_sigma_value')=(0.1, 0.4) iteration 7 of 10\n",
      "\n",
      "Building partition fixed_sentiment of 1000 agents\n",
      "\n",
      "  all agents tot_wealth will be: 10000\n",
      "  all agents sigma_prop will be: 0.4\n"
     ]
    },
    {
     "data": {
      "application/vnd.jupyter.widget-view+json": {
       "model_id": "cf7271c957554977a304f5f521173b6b",
       "version_major": 2,
       "version_minor": 0
      },
      "text/plain": [
       "  0%|          | 0/150 [00:00<?, ?it/s]"
      ]
     },
     "metadata": {},
     "output_type": "display_data"
    },
    {
     "name": "stdout",
     "output_type": "stream",
     "text": [
      "run 78 of 160 total-------------------------------('sentiment_value', 'initial_sigma_value')=(0.1, 0.4) iteration 8 of 10\n",
      "\n",
      "Building partition fixed_sentiment of 1000 agents\n",
      "\n",
      "  all agents tot_wealth will be: 10000\n",
      "  all agents sigma_prop will be: 0.4\n"
     ]
    },
    {
     "data": {
      "application/vnd.jupyter.widget-view+json": {
       "model_id": "0f1b794930584155a1d297eef831ee81",
       "version_major": 2,
       "version_minor": 0
      },
      "text/plain": [
       "  0%|          | 0/150 [00:00<?, ?it/s]"
      ]
     },
     "metadata": {},
     "output_type": "display_data"
    },
    {
     "name": "stdout",
     "output_type": "stream",
     "text": [
      "run 79 of 160 total-------------------------------('sentiment_value', 'initial_sigma_value')=(0.1, 0.4) iteration 9 of 10\n",
      "\n",
      "Building partition fixed_sentiment of 1000 agents\n",
      "\n",
      "  all agents tot_wealth will be: 10000\n",
      "  all agents sigma_prop will be: 0.4\n"
     ]
    },
    {
     "data": {
      "application/vnd.jupyter.widget-view+json": {
       "model_id": "4d4009da966d48b29f3287df06b8e634",
       "version_major": 2,
       "version_minor": 0
      },
      "text/plain": [
       "  0%|          | 0/150 [00:00<?, ?it/s]"
      ]
     },
     "metadata": {},
     "output_type": "display_data"
    },
    {
     "name": "stdout",
     "output_type": "stream",
     "text": [
      "run 80 of 160 total-------------------------------('sentiment_value', 'initial_sigma_value')=(0.1, 0.4) iteration 10 of 10\n",
      "\n",
      "Building partition fixed_sentiment of 1000 agents\n",
      "\n",
      "  all agents tot_wealth will be: 10000\n",
      "  all agents sigma_prop will be: 0.4\n"
     ]
    },
    {
     "data": {
      "application/vnd.jupyter.widget-view+json": {
       "model_id": "ae4dd27a03f94f0f9f03355d0fc58ee9",
       "version_major": 2,
       "version_minor": 0
      },
      "text/plain": [
       "  0%|          | 0/150 [00:00<?, ?it/s]"
      ]
     },
     "metadata": {},
     "output_type": "display_data"
    },
    {
     "name": "stdout",
     "output_type": "stream",
     "text": [
      "run 81 of 160 total-------------------------------('sentiment_value', 'initial_sigma_value')=(0.2, 0.45) iteration 1 of 10\n",
      "\n",
      "Building partition fixed_sentiment of 1000 agents\n",
      "\n",
      "  all agents tot_wealth will be: 10000\n",
      "  all agents sigma_prop will be: 0.45\n"
     ]
    },
    {
     "data": {
      "application/vnd.jupyter.widget-view+json": {
       "model_id": "9caa64b07a0f4f08830718ae5baf721c",
       "version_major": 2,
       "version_minor": 0
      },
      "text/plain": [
       "  0%|          | 0/150 [00:00<?, ?it/s]"
      ]
     },
     "metadata": {},
     "output_type": "display_data"
    },
    {
     "name": "stdout",
     "output_type": "stream",
     "text": [
      "run 82 of 160 total-------------------------------('sentiment_value', 'initial_sigma_value')=(0.2, 0.45) iteration 2 of 10\n",
      "\n",
      "Building partition fixed_sentiment of 1000 agents\n",
      "\n",
      "  all agents tot_wealth will be: 10000\n",
      "  all agents sigma_prop will be: 0.45\n"
     ]
    },
    {
     "data": {
      "application/vnd.jupyter.widget-view+json": {
       "model_id": "7827ca8fdb0d413fb4a560bb126cb8b3",
       "version_major": 2,
       "version_minor": 0
      },
      "text/plain": [
       "  0%|          | 0/150 [00:00<?, ?it/s]"
      ]
     },
     "metadata": {},
     "output_type": "display_data"
    },
    {
     "name": "stdout",
     "output_type": "stream",
     "text": [
      "run 83 of 160 total-------------------------------('sentiment_value', 'initial_sigma_value')=(0.2, 0.45) iteration 3 of 10\n",
      "\n",
      "Building partition fixed_sentiment of 1000 agents\n",
      "\n",
      "  all agents tot_wealth will be: 10000\n",
      "  all agents sigma_prop will be: 0.45\n"
     ]
    },
    {
     "data": {
      "application/vnd.jupyter.widget-view+json": {
       "model_id": "3c20c0649725477e92859c46d7ae9bce",
       "version_major": 2,
       "version_minor": 0
      },
      "text/plain": [
       "  0%|          | 0/150 [00:00<?, ?it/s]"
      ]
     },
     "metadata": {},
     "output_type": "display_data"
    },
    {
     "name": "stdout",
     "output_type": "stream",
     "text": [
      "run 84 of 160 total-------------------------------('sentiment_value', 'initial_sigma_value')=(0.2, 0.45) iteration 4 of 10\n",
      "\n",
      "Building partition fixed_sentiment of 1000 agents\n",
      "\n",
      "  all agents tot_wealth will be: 10000\n",
      "  all agents sigma_prop will be: 0.45\n"
     ]
    },
    {
     "data": {
      "application/vnd.jupyter.widget-view+json": {
       "model_id": "34a43bde8da543d09b565a7f35b4370b",
       "version_major": 2,
       "version_minor": 0
      },
      "text/plain": [
       "  0%|          | 0/150 [00:00<?, ?it/s]"
      ]
     },
     "metadata": {},
     "output_type": "display_data"
    },
    {
     "name": "stdout",
     "output_type": "stream",
     "text": [
      "run 85 of 160 total-------------------------------('sentiment_value', 'initial_sigma_value')=(0.2, 0.45) iteration 5 of 10\n",
      "\n",
      "Building partition fixed_sentiment of 1000 agents\n",
      "\n",
      "  all agents tot_wealth will be: 10000\n",
      "  all agents sigma_prop will be: 0.45\n"
     ]
    },
    {
     "data": {
      "application/vnd.jupyter.widget-view+json": {
       "model_id": "e28dfecc509849fd990974a269f5470e",
       "version_major": 2,
       "version_minor": 0
      },
      "text/plain": [
       "  0%|          | 0/150 [00:00<?, ?it/s]"
      ]
     },
     "metadata": {},
     "output_type": "display_data"
    },
    {
     "name": "stdout",
     "output_type": "stream",
     "text": [
      "run 86 of 160 total-------------------------------('sentiment_value', 'initial_sigma_value')=(0.2, 0.45) iteration 6 of 10\n",
      "\n",
      "Building partition fixed_sentiment of 1000 agents\n",
      "\n",
      "  all agents tot_wealth will be: 10000\n",
      "  all agents sigma_prop will be: 0.45\n"
     ]
    },
    {
     "data": {
      "application/vnd.jupyter.widget-view+json": {
       "model_id": "909b72fdb72349c38f5cb0b9b4d23ddb",
       "version_major": 2,
       "version_minor": 0
      },
      "text/plain": [
       "  0%|          | 0/150 [00:00<?, ?it/s]"
      ]
     },
     "metadata": {},
     "output_type": "display_data"
    },
    {
     "name": "stdout",
     "output_type": "stream",
     "text": [
      "run 87 of 160 total-------------------------------('sentiment_value', 'initial_sigma_value')=(0.2, 0.45) iteration 7 of 10\n",
      "\n",
      "Building partition fixed_sentiment of 1000 agents\n",
      "\n",
      "  all agents tot_wealth will be: 10000\n",
      "  all agents sigma_prop will be: 0.45\n"
     ]
    },
    {
     "data": {
      "application/vnd.jupyter.widget-view+json": {
       "model_id": "8737798076c04e0f9f0bac747c1ca0d5",
       "version_major": 2,
       "version_minor": 0
      },
      "text/plain": [
       "  0%|          | 0/150 [00:00<?, ?it/s]"
      ]
     },
     "metadata": {},
     "output_type": "display_data"
    },
    {
     "name": "stdout",
     "output_type": "stream",
     "text": [
      "run 88 of 160 total-------------------------------('sentiment_value', 'initial_sigma_value')=(0.2, 0.45) iteration 8 of 10\n",
      "\n",
      "Building partition fixed_sentiment of 1000 agents\n",
      "\n",
      "  all agents tot_wealth will be: 10000\n",
      "  all agents sigma_prop will be: 0.45\n"
     ]
    },
    {
     "data": {
      "application/vnd.jupyter.widget-view+json": {
       "model_id": "89f23c793e754a8c83c1ba17fbc3bf53",
       "version_major": 2,
       "version_minor": 0
      },
      "text/plain": [
       "  0%|          | 0/150 [00:00<?, ?it/s]"
      ]
     },
     "metadata": {},
     "output_type": "display_data"
    },
    {
     "name": "stdout",
     "output_type": "stream",
     "text": [
      "run 89 of 160 total-------------------------------('sentiment_value', 'initial_sigma_value')=(0.2, 0.45) iteration 9 of 10\n",
      "\n",
      "Building partition fixed_sentiment of 1000 agents\n",
      "\n",
      "  all agents tot_wealth will be: 10000\n",
      "  all agents sigma_prop will be: 0.45\n"
     ]
    },
    {
     "data": {
      "application/vnd.jupyter.widget-view+json": {
       "model_id": "f8be154dfd714e61ba6d8028f79e5c3d",
       "version_major": 2,
       "version_minor": 0
      },
      "text/plain": [
       "  0%|          | 0/150 [00:00<?, ?it/s]"
      ]
     },
     "metadata": {},
     "output_type": "display_data"
    },
    {
     "name": "stdout",
     "output_type": "stream",
     "text": [
      "run 90 of 160 total-------------------------------('sentiment_value', 'initial_sigma_value')=(0.2, 0.45) iteration 10 of 10\n",
      "\n",
      "Building partition fixed_sentiment of 1000 agents\n",
      "\n",
      "  all agents tot_wealth will be: 10000\n",
      "  all agents sigma_prop will be: 0.45\n"
     ]
    },
    {
     "data": {
      "application/vnd.jupyter.widget-view+json": {
       "model_id": "abf7ddaf4dd74a2799fc13b7220d40cc",
       "version_major": 2,
       "version_minor": 0
      },
      "text/plain": [
       "  0%|          | 0/150 [00:00<?, ?it/s]"
      ]
     },
     "metadata": {},
     "output_type": "display_data"
    },
    {
     "name": "stdout",
     "output_type": "stream",
     "text": [
      "run 91 of 160 total-------------------------------('sentiment_value', 'initial_sigma_value')=(0.3, 0.5) iteration 1 of 10\n",
      "\n",
      "Building partition fixed_sentiment of 1000 agents\n",
      "\n",
      "  all agents tot_wealth will be: 10000\n",
      "  all agents sigma_prop will be: 0.5\n"
     ]
    },
    {
     "data": {
      "application/vnd.jupyter.widget-view+json": {
       "model_id": "429c3319af394ce8ae04988da415f087",
       "version_major": 2,
       "version_minor": 0
      },
      "text/plain": [
       "  0%|          | 0/150 [00:00<?, ?it/s]"
      ]
     },
     "metadata": {},
     "output_type": "display_data"
    },
    {
     "name": "stdout",
     "output_type": "stream",
     "text": [
      "run 92 of 160 total-------------------------------('sentiment_value', 'initial_sigma_value')=(0.3, 0.5) iteration 2 of 10\n",
      "\n",
      "Building partition fixed_sentiment of 1000 agents\n",
      "\n",
      "  all agents tot_wealth will be: 10000\n",
      "  all agents sigma_prop will be: 0.5\n"
     ]
    },
    {
     "data": {
      "application/vnd.jupyter.widget-view+json": {
       "model_id": "ab1c53576a7c495595fa84477b6f8c24",
       "version_major": 2,
       "version_minor": 0
      },
      "text/plain": [
       "  0%|          | 0/150 [00:00<?, ?it/s]"
      ]
     },
     "metadata": {},
     "output_type": "display_data"
    },
    {
     "name": "stdout",
     "output_type": "stream",
     "text": [
      "run 93 of 160 total-------------------------------('sentiment_value', 'initial_sigma_value')=(0.3, 0.5) iteration 3 of 10\n",
      "\n",
      "Building partition fixed_sentiment of 1000 agents\n",
      "\n",
      "  all agents tot_wealth will be: 10000\n",
      "  all agents sigma_prop will be: 0.5\n"
     ]
    },
    {
     "data": {
      "application/vnd.jupyter.widget-view+json": {
       "model_id": "1f6caf43a2fb42ccaca005f4881f7252",
       "version_major": 2,
       "version_minor": 0
      },
      "text/plain": [
       "  0%|          | 0/150 [00:00<?, ?it/s]"
      ]
     },
     "metadata": {},
     "output_type": "display_data"
    },
    {
     "name": "stdout",
     "output_type": "stream",
     "text": [
      "run 94 of 160 total-------------------------------('sentiment_value', 'initial_sigma_value')=(0.3, 0.5) iteration 4 of 10\n",
      "\n",
      "Building partition fixed_sentiment of 1000 agents\n",
      "\n",
      "  all agents tot_wealth will be: 10000\n",
      "  all agents sigma_prop will be: 0.5\n"
     ]
    },
    {
     "data": {
      "application/vnd.jupyter.widget-view+json": {
       "model_id": "9a8824063c194550bd18dd28b1c30f69",
       "version_major": 2,
       "version_minor": 0
      },
      "text/plain": [
       "  0%|          | 0/150 [00:00<?, ?it/s]"
      ]
     },
     "metadata": {},
     "output_type": "display_data"
    },
    {
     "name": "stdout",
     "output_type": "stream",
     "text": [
      "run 95 of 160 total-------------------------------('sentiment_value', 'initial_sigma_value')=(0.3, 0.5) iteration 5 of 10\n",
      "\n",
      "Building partition fixed_sentiment of 1000 agents\n",
      "\n",
      "  all agents tot_wealth will be: 10000\n",
      "  all agents sigma_prop will be: 0.5\n"
     ]
    },
    {
     "data": {
      "application/vnd.jupyter.widget-view+json": {
       "model_id": "0150a8ecffbe4c3ba4b057b30ea0b535",
       "version_major": 2,
       "version_minor": 0
      },
      "text/plain": [
       "  0%|          | 0/150 [00:00<?, ?it/s]"
      ]
     },
     "metadata": {},
     "output_type": "display_data"
    },
    {
     "name": "stdout",
     "output_type": "stream",
     "text": [
      "run 96 of 160 total-------------------------------('sentiment_value', 'initial_sigma_value')=(0.3, 0.5) iteration 6 of 10\n",
      "\n",
      "Building partition fixed_sentiment of 1000 agents\n",
      "\n",
      "  all agents tot_wealth will be: 10000\n",
      "  all agents sigma_prop will be: 0.5\n"
     ]
    },
    {
     "data": {
      "application/vnd.jupyter.widget-view+json": {
       "model_id": "1f407f7ef4bc45a9ae252ecfcb283459",
       "version_major": 2,
       "version_minor": 0
      },
      "text/plain": [
       "  0%|          | 0/150 [00:00<?, ?it/s]"
      ]
     },
     "metadata": {},
     "output_type": "display_data"
    },
    {
     "name": "stdout",
     "output_type": "stream",
     "text": [
      "run 97 of 160 total-------------------------------('sentiment_value', 'initial_sigma_value')=(0.3, 0.5) iteration 7 of 10\n",
      "\n",
      "Building partition fixed_sentiment of 1000 agents\n",
      "\n",
      "  all agents tot_wealth will be: 10000\n",
      "  all agents sigma_prop will be: 0.5\n"
     ]
    },
    {
     "data": {
      "application/vnd.jupyter.widget-view+json": {
       "model_id": "d3ce4d5b5cb64abcb583152a8080ffdc",
       "version_major": 2,
       "version_minor": 0
      },
      "text/plain": [
       "  0%|          | 0/150 [00:00<?, ?it/s]"
      ]
     },
     "metadata": {},
     "output_type": "display_data"
    },
    {
     "name": "stdout",
     "output_type": "stream",
     "text": [
      "run 98 of 160 total-------------------------------('sentiment_value', 'initial_sigma_value')=(0.3, 0.5) iteration 8 of 10\n",
      "\n",
      "Building partition fixed_sentiment of 1000 agents\n",
      "\n",
      "  all agents tot_wealth will be: 10000\n",
      "  all agents sigma_prop will be: 0.5\n"
     ]
    },
    {
     "data": {
      "application/vnd.jupyter.widget-view+json": {
       "model_id": "cecd320fade04e229699576552dbce5c",
       "version_major": 2,
       "version_minor": 0
      },
      "text/plain": [
       "  0%|          | 0/150 [00:00<?, ?it/s]"
      ]
     },
     "metadata": {},
     "output_type": "display_data"
    },
    {
     "name": "stdout",
     "output_type": "stream",
     "text": [
      "run 99 of 160 total-------------------------------('sentiment_value', 'initial_sigma_value')=(0.3, 0.5) iteration 9 of 10\n",
      "\n",
      "Building partition fixed_sentiment of 1000 agents\n",
      "\n",
      "  all agents tot_wealth will be: 10000\n",
      "  all agents sigma_prop will be: 0.5\n"
     ]
    },
    {
     "data": {
      "application/vnd.jupyter.widget-view+json": {
       "model_id": "2af970e41beb4b3384375a96f7c48629",
       "version_major": 2,
       "version_minor": 0
      },
      "text/plain": [
       "  0%|          | 0/150 [00:00<?, ?it/s]"
      ]
     },
     "metadata": {},
     "output_type": "display_data"
    },
    {
     "name": "stdout",
     "output_type": "stream",
     "text": [
      "run 100 of 160 total------------------------------('sentiment_value', 'initial_sigma_value')=(0.3, 0.5) iteration 10 of 10\n",
      "\n",
      "Building partition fixed_sentiment of 1000 agents\n",
      "\n",
      "  all agents tot_wealth will be: 10000\n",
      "  all agents sigma_prop will be: 0.5\n"
     ]
    },
    {
     "data": {
      "application/vnd.jupyter.widget-view+json": {
       "model_id": "0ab0dd1f7f684ff78c24dc72a9142e3a",
       "version_major": 2,
       "version_minor": 0
      },
      "text/plain": [
       "  0%|          | 0/150 [00:00<?, ?it/s]"
      ]
     },
     "metadata": {},
     "output_type": "display_data"
    },
    {
     "name": "stdout",
     "output_type": "stream",
     "text": [
      "run 101 of 160 total------------------------------('sentiment_value', 'initial_sigma_value')=(0.4, 0.55) iteration 1 of 10\n",
      "\n",
      "Building partition fixed_sentiment of 1000 agents\n",
      "\n",
      "  all agents tot_wealth will be: 10000\n",
      "  all agents sigma_prop will be: 0.55\n"
     ]
    },
    {
     "data": {
      "application/vnd.jupyter.widget-view+json": {
       "model_id": "08b311a27b5142dca33bfece1f5d72bd",
       "version_major": 2,
       "version_minor": 0
      },
      "text/plain": [
       "  0%|          | 0/150 [00:00<?, ?it/s]"
      ]
     },
     "metadata": {},
     "output_type": "display_data"
    },
    {
     "name": "stdout",
     "output_type": "stream",
     "text": [
      "run 102 of 160 total------------------------------('sentiment_value', 'initial_sigma_value')=(0.4, 0.55) iteration 2 of 10\n",
      "\n",
      "Building partition fixed_sentiment of 1000 agents\n",
      "\n",
      "  all agents tot_wealth will be: 10000\n",
      "  all agents sigma_prop will be: 0.55\n"
     ]
    },
    {
     "data": {
      "application/vnd.jupyter.widget-view+json": {
       "model_id": "fb4065af6e704b7596e4a777394a98e2",
       "version_major": 2,
       "version_minor": 0
      },
      "text/plain": [
       "  0%|          | 0/150 [00:00<?, ?it/s]"
      ]
     },
     "metadata": {},
     "output_type": "display_data"
    },
    {
     "name": "stdout",
     "output_type": "stream",
     "text": [
      "run 103 of 160 total------------------------------('sentiment_value', 'initial_sigma_value')=(0.4, 0.55) iteration 3 of 10\n",
      "\n",
      "Building partition fixed_sentiment of 1000 agents\n",
      "\n",
      "  all agents tot_wealth will be: 10000\n",
      "  all agents sigma_prop will be: 0.55\n"
     ]
    },
    {
     "data": {
      "application/vnd.jupyter.widget-view+json": {
       "model_id": "38db29472276417daf45bba6d265703b",
       "version_major": 2,
       "version_minor": 0
      },
      "text/plain": [
       "  0%|          | 0/150 [00:00<?, ?it/s]"
      ]
     },
     "metadata": {},
     "output_type": "display_data"
    },
    {
     "name": "stdout",
     "output_type": "stream",
     "text": [
      "run 104 of 160 total------------------------------('sentiment_value', 'initial_sigma_value')=(0.4, 0.55) iteration 4 of 10\n",
      "\n",
      "Building partition fixed_sentiment of 1000 agents\n",
      "\n",
      "  all agents tot_wealth will be: 10000\n",
      "  all agents sigma_prop will be: 0.55\n"
     ]
    },
    {
     "data": {
      "application/vnd.jupyter.widget-view+json": {
       "model_id": "4b37a4650a96432bb43c79da48559c93",
       "version_major": 2,
       "version_minor": 0
      },
      "text/plain": [
       "  0%|          | 0/150 [00:00<?, ?it/s]"
      ]
     },
     "metadata": {},
     "output_type": "display_data"
    },
    {
     "name": "stdout",
     "output_type": "stream",
     "text": [
      "run 105 of 160 total------------------------------('sentiment_value', 'initial_sigma_value')=(0.4, 0.55) iteration 5 of 10\n",
      "\n",
      "Building partition fixed_sentiment of 1000 agents\n",
      "\n",
      "  all agents tot_wealth will be: 10000\n",
      "  all agents sigma_prop will be: 0.55\n"
     ]
    },
    {
     "data": {
      "application/vnd.jupyter.widget-view+json": {
       "model_id": "86cde33eb17f46f08798b26d5b82e348",
       "version_major": 2,
       "version_minor": 0
      },
      "text/plain": [
       "  0%|          | 0/150 [00:00<?, ?it/s]"
      ]
     },
     "metadata": {},
     "output_type": "display_data"
    },
    {
     "name": "stdout",
     "output_type": "stream",
     "text": [
      "run 106 of 160 total------------------------------('sentiment_value', 'initial_sigma_value')=(0.4, 0.55) iteration 6 of 10\n",
      "\n",
      "Building partition fixed_sentiment of 1000 agents\n",
      "\n",
      "  all agents tot_wealth will be: 10000\n",
      "  all agents sigma_prop will be: 0.55\n"
     ]
    },
    {
     "data": {
      "application/vnd.jupyter.widget-view+json": {
       "model_id": "79f0f6566b0344c7bb2c6d9b124e211f",
       "version_major": 2,
       "version_minor": 0
      },
      "text/plain": [
       "  0%|          | 0/150 [00:00<?, ?it/s]"
      ]
     },
     "metadata": {},
     "output_type": "display_data"
    },
    {
     "name": "stdout",
     "output_type": "stream",
     "text": [
      "run 107 of 160 total------------------------------('sentiment_value', 'initial_sigma_value')=(0.4, 0.55) iteration 7 of 10\n",
      "\n",
      "Building partition fixed_sentiment of 1000 agents\n",
      "\n",
      "  all agents tot_wealth will be: 10000\n",
      "  all agents sigma_prop will be: 0.55\n"
     ]
    },
    {
     "data": {
      "application/vnd.jupyter.widget-view+json": {
       "model_id": "87d19066003e48b2b3c781798499e50c",
       "version_major": 2,
       "version_minor": 0
      },
      "text/plain": [
       "  0%|          | 0/150 [00:00<?, ?it/s]"
      ]
     },
     "metadata": {},
     "output_type": "display_data"
    },
    {
     "name": "stdout",
     "output_type": "stream",
     "text": [
      "run 108 of 160 total------------------------------('sentiment_value', 'initial_sigma_value')=(0.4, 0.55) iteration 8 of 10\n",
      "\n",
      "Building partition fixed_sentiment of 1000 agents\n",
      "\n",
      "  all agents tot_wealth will be: 10000\n",
      "  all agents sigma_prop will be: 0.55\n"
     ]
    },
    {
     "data": {
      "application/vnd.jupyter.widget-view+json": {
       "model_id": "a85e81f1d16d4db880260f34c0f033c9",
       "version_major": 2,
       "version_minor": 0
      },
      "text/plain": [
       "  0%|          | 0/150 [00:00<?, ?it/s]"
      ]
     },
     "metadata": {},
     "output_type": "display_data"
    },
    {
     "name": "stdout",
     "output_type": "stream",
     "text": [
      "run 109 of 160 total------------------------------('sentiment_value', 'initial_sigma_value')=(0.4, 0.55) iteration 9 of 10\n",
      "\n",
      "Building partition fixed_sentiment of 1000 agents\n",
      "\n",
      "  all agents tot_wealth will be: 10000\n",
      "  all agents sigma_prop will be: 0.55\n"
     ]
    },
    {
     "data": {
      "application/vnd.jupyter.widget-view+json": {
       "model_id": "3de7fa1be0d147c78cad8c5e18accbe5",
       "version_major": 2,
       "version_minor": 0
      },
      "text/plain": [
       "  0%|          | 0/150 [00:00<?, ?it/s]"
      ]
     },
     "metadata": {},
     "output_type": "display_data"
    },
    {
     "name": "stdout",
     "output_type": "stream",
     "text": [
      "run 110 of 160 total------------------------------('sentiment_value', 'initial_sigma_value')=(0.4, 0.55) iteration 10 of 10\n",
      "\n",
      "Building partition fixed_sentiment of 1000 agents\n",
      "\n",
      "  all agents tot_wealth will be: 10000\n",
      "  all agents sigma_prop will be: 0.55\n"
     ]
    },
    {
     "data": {
      "application/vnd.jupyter.widget-view+json": {
       "model_id": "0657700c2b764e1a8873fa979285979d",
       "version_major": 2,
       "version_minor": 0
      },
      "text/plain": [
       "  0%|          | 0/150 [00:00<?, ?it/s]"
      ]
     },
     "metadata": {},
     "output_type": "display_data"
    },
    {
     "name": "stdout",
     "output_type": "stream",
     "text": [
      "run 111 of 160 total------------------------------('sentiment_value', 'initial_sigma_value')=(0.5, 0.6) iteration 1 of 10\n",
      "\n",
      "Building partition fixed_sentiment of 1000 agents\n",
      "\n",
      "  all agents tot_wealth will be: 10000\n",
      "  all agents sigma_prop will be: 0.6\n"
     ]
    },
    {
     "data": {
      "application/vnd.jupyter.widget-view+json": {
       "model_id": "230e31d619e045dc81452daee62689ed",
       "version_major": 2,
       "version_minor": 0
      },
      "text/plain": [
       "  0%|          | 0/150 [00:00<?, ?it/s]"
      ]
     },
     "metadata": {},
     "output_type": "display_data"
    },
    {
     "name": "stdout",
     "output_type": "stream",
     "text": [
      "run 112 of 160 total------------------------------('sentiment_value', 'initial_sigma_value')=(0.5, 0.6) iteration 2 of 10\n",
      "\n",
      "Building partition fixed_sentiment of 1000 agents\n",
      "\n",
      "  all agents tot_wealth will be: 10000\n",
      "  all agents sigma_prop will be: 0.6\n"
     ]
    },
    {
     "data": {
      "application/vnd.jupyter.widget-view+json": {
       "model_id": "97ce4d10bf354cfbaf8d88118aaf23e0",
       "version_major": 2,
       "version_minor": 0
      },
      "text/plain": [
       "  0%|          | 0/150 [00:00<?, ?it/s]"
      ]
     },
     "metadata": {},
     "output_type": "display_data"
    },
    {
     "name": "stdout",
     "output_type": "stream",
     "text": [
      "run 113 of 160 total------------------------------('sentiment_value', 'initial_sigma_value')=(0.5, 0.6) iteration 3 of 10\n",
      "\n",
      "Building partition fixed_sentiment of 1000 agents\n",
      "\n",
      "  all agents tot_wealth will be: 10000\n",
      "  all agents sigma_prop will be: 0.6\n"
     ]
    },
    {
     "data": {
      "application/vnd.jupyter.widget-view+json": {
       "model_id": "d1ee7e4317aa43e98db3bc6d7115989b",
       "version_major": 2,
       "version_minor": 0
      },
      "text/plain": [
       "  0%|          | 0/150 [00:00<?, ?it/s]"
      ]
     },
     "metadata": {},
     "output_type": "display_data"
    },
    {
     "name": "stdout",
     "output_type": "stream",
     "text": [
      "run 114 of 160 total------------------------------('sentiment_value', 'initial_sigma_value')=(0.5, 0.6) iteration 4 of 10\n",
      "\n",
      "Building partition fixed_sentiment of 1000 agents\n",
      "\n",
      "  all agents tot_wealth will be: 10000\n",
      "  all agents sigma_prop will be: 0.6\n"
     ]
    },
    {
     "data": {
      "application/vnd.jupyter.widget-view+json": {
       "model_id": "630a7fafa1944f6ba47a1b2f35c12d3f",
       "version_major": 2,
       "version_minor": 0
      },
      "text/plain": [
       "  0%|          | 0/150 [00:00<?, ?it/s]"
      ]
     },
     "metadata": {},
     "output_type": "display_data"
    },
    {
     "name": "stdout",
     "output_type": "stream",
     "text": [
      "run 115 of 160 total------------------------------('sentiment_value', 'initial_sigma_value')=(0.5, 0.6) iteration 5 of 10\n",
      "\n",
      "Building partition fixed_sentiment of 1000 agents\n",
      "\n",
      "  all agents tot_wealth will be: 10000\n",
      "  all agents sigma_prop will be: 0.6\n"
     ]
    },
    {
     "data": {
      "application/vnd.jupyter.widget-view+json": {
       "model_id": "9f01a6da99ce46179167568905e7c943",
       "version_major": 2,
       "version_minor": 0
      },
      "text/plain": [
       "  0%|          | 0/150 [00:00<?, ?it/s]"
      ]
     },
     "metadata": {},
     "output_type": "display_data"
    },
    {
     "name": "stdout",
     "output_type": "stream",
     "text": [
      "run 116 of 160 total------------------------------('sentiment_value', 'initial_sigma_value')=(0.5, 0.6) iteration 6 of 10\n",
      "\n",
      "Building partition fixed_sentiment of 1000 agents\n",
      "\n",
      "  all agents tot_wealth will be: 10000\n",
      "  all agents sigma_prop will be: 0.6\n"
     ]
    },
    {
     "data": {
      "application/vnd.jupyter.widget-view+json": {
       "model_id": "a0b5d5d71823456999e771425ab8a3bc",
       "version_major": 2,
       "version_minor": 0
      },
      "text/plain": [
       "  0%|          | 0/150 [00:00<?, ?it/s]"
      ]
     },
     "metadata": {},
     "output_type": "display_data"
    },
    {
     "name": "stdout",
     "output_type": "stream",
     "text": [
      "run 117 of 160 total------------------------------('sentiment_value', 'initial_sigma_value')=(0.5, 0.6) iteration 7 of 10\n",
      "\n",
      "Building partition fixed_sentiment of 1000 agents\n",
      "\n",
      "  all agents tot_wealth will be: 10000\n",
      "  all agents sigma_prop will be: 0.6\n"
     ]
    },
    {
     "data": {
      "application/vnd.jupyter.widget-view+json": {
       "model_id": "4da05684f193458d8a2b3797ad30f145",
       "version_major": 2,
       "version_minor": 0
      },
      "text/plain": [
       "  0%|          | 0/150 [00:00<?, ?it/s]"
      ]
     },
     "metadata": {},
     "output_type": "display_data"
    },
    {
     "name": "stdout",
     "output_type": "stream",
     "text": [
      "run 118 of 160 total------------------------------('sentiment_value', 'initial_sigma_value')=(0.5, 0.6) iteration 8 of 10\n",
      "\n",
      "Building partition fixed_sentiment of 1000 agents\n",
      "\n",
      "  all agents tot_wealth will be: 10000\n",
      "  all agents sigma_prop will be: 0.6\n"
     ]
    },
    {
     "data": {
      "application/vnd.jupyter.widget-view+json": {
       "model_id": "f5951f6d0149484ead646f3c6d38f517",
       "version_major": 2,
       "version_minor": 0
      },
      "text/plain": [
       "  0%|          | 0/150 [00:00<?, ?it/s]"
      ]
     },
     "metadata": {},
     "output_type": "display_data"
    },
    {
     "name": "stdout",
     "output_type": "stream",
     "text": [
      "run 119 of 160 total------------------------------('sentiment_value', 'initial_sigma_value')=(0.5, 0.6) iteration 9 of 10\n",
      "\n",
      "Building partition fixed_sentiment of 1000 agents\n",
      "\n",
      "  all agents tot_wealth will be: 10000\n",
      "  all agents sigma_prop will be: 0.6\n"
     ]
    },
    {
     "data": {
      "application/vnd.jupyter.widget-view+json": {
       "model_id": "442b95afb0934a419a00a01667763132",
       "version_major": 2,
       "version_minor": 0
      },
      "text/plain": [
       "  0%|          | 0/150 [00:00<?, ?it/s]"
      ]
     },
     "metadata": {},
     "output_type": "display_data"
    },
    {
     "name": "stdout",
     "output_type": "stream",
     "text": [
      "run 120 of 160 total------------------------------('sentiment_value', 'initial_sigma_value')=(0.5, 0.6) iteration 10 of 10\n",
      "\n",
      "Building partition fixed_sentiment of 1000 agents\n",
      "\n",
      "  all agents tot_wealth will be: 10000\n",
      "  all agents sigma_prop will be: 0.6\n"
     ]
    },
    {
     "data": {
      "application/vnd.jupyter.widget-view+json": {
       "model_id": "6640239af5f0405b8a0e9cad2a7dd14a",
       "version_major": 2,
       "version_minor": 0
      },
      "text/plain": [
       "  0%|          | 0/150 [00:00<?, ?it/s]"
      ]
     },
     "metadata": {},
     "output_type": "display_data"
    },
    {
     "name": "stdout",
     "output_type": "stream",
     "text": [
      "run 121 of 160 total------------------------------('sentiment_value', 'initial_sigma_value')=(0.6, 0.65) iteration 1 of 10\n",
      "\n",
      "Building partition fixed_sentiment of 1000 agents\n",
      "\n",
      "  all agents tot_wealth will be: 10000\n",
      "  all agents sigma_prop will be: 0.65\n"
     ]
    },
    {
     "data": {
      "application/vnd.jupyter.widget-view+json": {
       "model_id": "4607520cffcf44fabcdf949d333cfa41",
       "version_major": 2,
       "version_minor": 0
      },
      "text/plain": [
       "  0%|          | 0/150 [00:00<?, ?it/s]"
      ]
     },
     "metadata": {},
     "output_type": "display_data"
    },
    {
     "name": "stdout",
     "output_type": "stream",
     "text": [
      "run 122 of 160 total------------------------------('sentiment_value', 'initial_sigma_value')=(0.6, 0.65) iteration 2 of 10\n",
      "\n",
      "Building partition fixed_sentiment of 1000 agents\n",
      "\n",
      "  all agents tot_wealth will be: 10000\n",
      "  all agents sigma_prop will be: 0.65\n"
     ]
    },
    {
     "data": {
      "application/vnd.jupyter.widget-view+json": {
       "model_id": "10e732cd0dfc4e1ab0b81a6fffb77619",
       "version_major": 2,
       "version_minor": 0
      },
      "text/plain": [
       "  0%|          | 0/150 [00:00<?, ?it/s]"
      ]
     },
     "metadata": {},
     "output_type": "display_data"
    },
    {
     "name": "stdout",
     "output_type": "stream",
     "text": [
      "run 123 of 160 total------------------------------('sentiment_value', 'initial_sigma_value')=(0.6, 0.65) iteration 3 of 10\n",
      "\n",
      "Building partition fixed_sentiment of 1000 agents\n",
      "\n",
      "  all agents tot_wealth will be: 10000\n",
      "  all agents sigma_prop will be: 0.65\n"
     ]
    },
    {
     "data": {
      "application/vnd.jupyter.widget-view+json": {
       "model_id": "3ed4cd95215541adb7e5560f2a7575ad",
       "version_major": 2,
       "version_minor": 0
      },
      "text/plain": [
       "  0%|          | 0/150 [00:00<?, ?it/s]"
      ]
     },
     "metadata": {},
     "output_type": "display_data"
    },
    {
     "name": "stdout",
     "output_type": "stream",
     "text": [
      "run 124 of 160 total------------------------------('sentiment_value', 'initial_sigma_value')=(0.6, 0.65) iteration 4 of 10\n",
      "\n",
      "Building partition fixed_sentiment of 1000 agents\n",
      "\n",
      "  all agents tot_wealth will be: 10000\n",
      "  all agents sigma_prop will be: 0.65\n"
     ]
    },
    {
     "data": {
      "application/vnd.jupyter.widget-view+json": {
       "model_id": "ed22e9b5b61e440598d9ea598742a074",
       "version_major": 2,
       "version_minor": 0
      },
      "text/plain": [
       "  0%|          | 0/150 [00:00<?, ?it/s]"
      ]
     },
     "metadata": {},
     "output_type": "display_data"
    },
    {
     "name": "stdout",
     "output_type": "stream",
     "text": [
      "run 125 of 160 total------------------------------('sentiment_value', 'initial_sigma_value')=(0.6, 0.65) iteration 5 of 10\n",
      "\n",
      "Building partition fixed_sentiment of 1000 agents\n",
      "\n",
      "  all agents tot_wealth will be: 10000\n",
      "  all agents sigma_prop will be: 0.65\n"
     ]
    },
    {
     "data": {
      "application/vnd.jupyter.widget-view+json": {
       "model_id": "930d7165ab944e6086419fa334b053a3",
       "version_major": 2,
       "version_minor": 0
      },
      "text/plain": [
       "  0%|          | 0/150 [00:00<?, ?it/s]"
      ]
     },
     "metadata": {},
     "output_type": "display_data"
    },
    {
     "name": "stdout",
     "output_type": "stream",
     "text": [
      "run 126 of 160 total------------------------------('sentiment_value', 'initial_sigma_value')=(0.6, 0.65) iteration 6 of 10\n",
      "\n",
      "Building partition fixed_sentiment of 1000 agents\n",
      "\n",
      "  all agents tot_wealth will be: 10000\n",
      "  all agents sigma_prop will be: 0.65\n"
     ]
    },
    {
     "data": {
      "application/vnd.jupyter.widget-view+json": {
       "model_id": "f16a64de6bab4a578377569cc6ce02a4",
       "version_major": 2,
       "version_minor": 0
      },
      "text/plain": [
       "  0%|          | 0/150 [00:00<?, ?it/s]"
      ]
     },
     "metadata": {},
     "output_type": "display_data"
    },
    {
     "name": "stdout",
     "output_type": "stream",
     "text": [
      "run 127 of 160 total------------------------------('sentiment_value', 'initial_sigma_value')=(0.6, 0.65) iteration 7 of 10\n",
      "\n",
      "Building partition fixed_sentiment of 1000 agents\n",
      "\n",
      "  all agents tot_wealth will be: 10000\n",
      "  all agents sigma_prop will be: 0.65\n"
     ]
    },
    {
     "data": {
      "application/vnd.jupyter.widget-view+json": {
       "model_id": "48f00d3dd7374159a82ba8a18632f26e",
       "version_major": 2,
       "version_minor": 0
      },
      "text/plain": [
       "  0%|          | 0/150 [00:00<?, ?it/s]"
      ]
     },
     "metadata": {},
     "output_type": "display_data"
    },
    {
     "name": "stdout",
     "output_type": "stream",
     "text": [
      "run 128 of 160 total------------------------------('sentiment_value', 'initial_sigma_value')=(0.6, 0.65) iteration 8 of 10\n",
      "\n",
      "Building partition fixed_sentiment of 1000 agents\n",
      "\n",
      "  all agents tot_wealth will be: 10000\n",
      "  all agents sigma_prop will be: 0.65\n"
     ]
    },
    {
     "data": {
      "application/vnd.jupyter.widget-view+json": {
       "model_id": "7e30f812f28441f8ac819e7282b0e6c8",
       "version_major": 2,
       "version_minor": 0
      },
      "text/plain": [
       "  0%|          | 0/150 [00:00<?, ?it/s]"
      ]
     },
     "metadata": {},
     "output_type": "display_data"
    },
    {
     "name": "stdout",
     "output_type": "stream",
     "text": [
      "run 129 of 160 total------------------------------('sentiment_value', 'initial_sigma_value')=(0.6, 0.65) iteration 9 of 10\n",
      "\n",
      "Building partition fixed_sentiment of 1000 agents\n",
      "\n",
      "  all agents tot_wealth will be: 10000\n",
      "  all agents sigma_prop will be: 0.65\n"
     ]
    },
    {
     "data": {
      "application/vnd.jupyter.widget-view+json": {
       "model_id": "c21005160fbc4546a31e7d6441ed3960",
       "version_major": 2,
       "version_minor": 0
      },
      "text/plain": [
       "  0%|          | 0/150 [00:00<?, ?it/s]"
      ]
     },
     "metadata": {},
     "output_type": "display_data"
    },
    {
     "name": "stdout",
     "output_type": "stream",
     "text": [
      "run 130 of 160 total------------------------------('sentiment_value', 'initial_sigma_value')=(0.6, 0.65) iteration 10 of 10\n",
      "\n",
      "Building partition fixed_sentiment of 1000 agents\n",
      "\n",
      "  all agents tot_wealth will be: 10000\n",
      "  all agents sigma_prop will be: 0.65\n"
     ]
    },
    {
     "data": {
      "application/vnd.jupyter.widget-view+json": {
       "model_id": "2b8f76898c47435fb405a7eff8381e28",
       "version_major": 2,
       "version_minor": 0
      },
      "text/plain": [
       "  0%|          | 0/150 [00:00<?, ?it/s]"
      ]
     },
     "metadata": {},
     "output_type": "display_data"
    },
    {
     "name": "stdout",
     "output_type": "stream",
     "text": [
      "run 131 of 160 total------------------------------('sentiment_value', 'initial_sigma_value')=(0.7, 0.7) iteration 1 of 10\n",
      "\n",
      "Building partition fixed_sentiment of 1000 agents\n",
      "\n",
      "  all agents tot_wealth will be: 10000\n",
      "  all agents sigma_prop will be: 0.7\n"
     ]
    },
    {
     "data": {
      "application/vnd.jupyter.widget-view+json": {
       "model_id": "233dad23d2294990b20da5987dfcee56",
       "version_major": 2,
       "version_minor": 0
      },
      "text/plain": [
       "  0%|          | 0/150 [00:00<?, ?it/s]"
      ]
     },
     "metadata": {},
     "output_type": "display_data"
    },
    {
     "name": "stdout",
     "output_type": "stream",
     "text": [
      "run 132 of 160 total------------------------------('sentiment_value', 'initial_sigma_value')=(0.7, 0.7) iteration 2 of 10\n",
      "\n",
      "Building partition fixed_sentiment of 1000 agents\n",
      "\n",
      "  all agents tot_wealth will be: 10000\n",
      "  all agents sigma_prop will be: 0.7\n"
     ]
    },
    {
     "data": {
      "application/vnd.jupyter.widget-view+json": {
       "model_id": "17d474b0714943f48b06fad73831246e",
       "version_major": 2,
       "version_minor": 0
      },
      "text/plain": [
       "  0%|          | 0/150 [00:00<?, ?it/s]"
      ]
     },
     "metadata": {},
     "output_type": "display_data"
    },
    {
     "name": "stdout",
     "output_type": "stream",
     "text": [
      "run 133 of 160 total------------------------------('sentiment_value', 'initial_sigma_value')=(0.7, 0.7) iteration 3 of 10\n",
      "\n",
      "Building partition fixed_sentiment of 1000 agents\n",
      "\n",
      "  all agents tot_wealth will be: 10000\n",
      "  all agents sigma_prop will be: 0.7\n"
     ]
    },
    {
     "data": {
      "application/vnd.jupyter.widget-view+json": {
       "model_id": "ad877f790c1a445a8abc9d8a228256f3",
       "version_major": 2,
       "version_minor": 0
      },
      "text/plain": [
       "  0%|          | 0/150 [00:00<?, ?it/s]"
      ]
     },
     "metadata": {},
     "output_type": "display_data"
    },
    {
     "name": "stdout",
     "output_type": "stream",
     "text": [
      "run 134 of 160 total------------------------------('sentiment_value', 'initial_sigma_value')=(0.7, 0.7) iteration 4 of 10\n",
      "\n",
      "Building partition fixed_sentiment of 1000 agents\n",
      "\n",
      "  all agents tot_wealth will be: 10000\n",
      "  all agents sigma_prop will be: 0.7\n"
     ]
    },
    {
     "data": {
      "application/vnd.jupyter.widget-view+json": {
       "model_id": "614fbeb0082740f6aaf450562d0bec16",
       "version_major": 2,
       "version_minor": 0
      },
      "text/plain": [
       "  0%|          | 0/150 [00:00<?, ?it/s]"
      ]
     },
     "metadata": {},
     "output_type": "display_data"
    },
    {
     "name": "stdout",
     "output_type": "stream",
     "text": [
      "run 135 of 160 total------------------------------('sentiment_value', 'initial_sigma_value')=(0.7, 0.7) iteration 5 of 10\n",
      "\n",
      "Building partition fixed_sentiment of 1000 agents\n",
      "\n",
      "  all agents tot_wealth will be: 10000\n",
      "  all agents sigma_prop will be: 0.7\n"
     ]
    },
    {
     "data": {
      "application/vnd.jupyter.widget-view+json": {
       "model_id": "6e2a6321657945dabb8d5124bc8dc347",
       "version_major": 2,
       "version_minor": 0
      },
      "text/plain": [
       "  0%|          | 0/150 [00:00<?, ?it/s]"
      ]
     },
     "metadata": {},
     "output_type": "display_data"
    },
    {
     "name": "stdout",
     "output_type": "stream",
     "text": [
      "run 136 of 160 total------------------------------('sentiment_value', 'initial_sigma_value')=(0.7, 0.7) iteration 6 of 10\n",
      "\n",
      "Building partition fixed_sentiment of 1000 agents\n",
      "\n",
      "  all agents tot_wealth will be: 10000\n",
      "  all agents sigma_prop will be: 0.7\n"
     ]
    },
    {
     "data": {
      "application/vnd.jupyter.widget-view+json": {
       "model_id": "ef78c988c16c46e4a1288c1c153fdc5e",
       "version_major": 2,
       "version_minor": 0
      },
      "text/plain": [
       "  0%|          | 0/150 [00:00<?, ?it/s]"
      ]
     },
     "metadata": {},
     "output_type": "display_data"
    },
    {
     "name": "stdout",
     "output_type": "stream",
     "text": [
      "run 137 of 160 total------------------------------('sentiment_value', 'initial_sigma_value')=(0.7, 0.7) iteration 7 of 10\n",
      "\n",
      "Building partition fixed_sentiment of 1000 agents\n",
      "\n",
      "  all agents tot_wealth will be: 10000\n",
      "  all agents sigma_prop will be: 0.7\n"
     ]
    },
    {
     "data": {
      "application/vnd.jupyter.widget-view+json": {
       "model_id": "c65eacc62b0641faa5f6ead13f67d39a",
       "version_major": 2,
       "version_minor": 0
      },
      "text/plain": [
       "  0%|          | 0/150 [00:00<?, ?it/s]"
      ]
     },
     "metadata": {},
     "output_type": "display_data"
    },
    {
     "name": "stdout",
     "output_type": "stream",
     "text": [
      "run 138 of 160 total------------------------------('sentiment_value', 'initial_sigma_value')=(0.7, 0.7) iteration 8 of 10\n",
      "\n",
      "Building partition fixed_sentiment of 1000 agents\n",
      "\n",
      "  all agents tot_wealth will be: 10000\n",
      "  all agents sigma_prop will be: 0.7\n"
     ]
    },
    {
     "data": {
      "application/vnd.jupyter.widget-view+json": {
       "model_id": "6547a9ec9fcc4db5b893d784c722e09d",
       "version_major": 2,
       "version_minor": 0
      },
      "text/plain": [
       "  0%|          | 0/150 [00:00<?, ?it/s]"
      ]
     },
     "metadata": {},
     "output_type": "display_data"
    },
    {
     "name": "stdout",
     "output_type": "stream",
     "text": [
      "run 139 of 160 total------------------------------('sentiment_value', 'initial_sigma_value')=(0.7, 0.7) iteration 9 of 10\n",
      "\n",
      "Building partition fixed_sentiment of 1000 agents\n",
      "\n",
      "  all agents tot_wealth will be: 10000\n",
      "  all agents sigma_prop will be: 0.7\n"
     ]
    },
    {
     "data": {
      "application/vnd.jupyter.widget-view+json": {
       "model_id": "3a54d063735e4d51b26faa77ea3c4944",
       "version_major": 2,
       "version_minor": 0
      },
      "text/plain": [
       "  0%|          | 0/150 [00:00<?, ?it/s]"
      ]
     },
     "metadata": {},
     "output_type": "display_data"
    },
    {
     "name": "stdout",
     "output_type": "stream",
     "text": [
      "run 140 of 160 total------------------------------('sentiment_value', 'initial_sigma_value')=(0.7, 0.7) iteration 10 of 10\n",
      "\n",
      "Building partition fixed_sentiment of 1000 agents\n",
      "\n",
      "  all agents tot_wealth will be: 10000\n",
      "  all agents sigma_prop will be: 0.7\n"
     ]
    },
    {
     "data": {
      "application/vnd.jupyter.widget-view+json": {
       "model_id": "4c475509517d44ada7ad566d9c83282e",
       "version_major": 2,
       "version_minor": 0
      },
      "text/plain": [
       "  0%|          | 0/150 [00:00<?, ?it/s]"
      ]
     },
     "metadata": {},
     "output_type": "display_data"
    },
    {
     "name": "stdout",
     "output_type": "stream",
     "text": [
      "run 141 of 160 total------------------------------('sentiment_value', 'initial_sigma_value')=(0.8, 0.75) iteration 1 of 10\n",
      "\n",
      "Building partition fixed_sentiment of 1000 agents\n",
      "\n",
      "  all agents tot_wealth will be: 10000\n",
      "  all agents sigma_prop will be: 0.75\n"
     ]
    },
    {
     "data": {
      "application/vnd.jupyter.widget-view+json": {
       "model_id": "39e5bd49654f4337869daa46e37723c4",
       "version_major": 2,
       "version_minor": 0
      },
      "text/plain": [
       "  0%|          | 0/150 [00:00<?, ?it/s]"
      ]
     },
     "metadata": {},
     "output_type": "display_data"
    },
    {
     "name": "stdout",
     "output_type": "stream",
     "text": [
      "run 142 of 160 total------------------------------('sentiment_value', 'initial_sigma_value')=(0.8, 0.75) iteration 2 of 10\n",
      "\n",
      "Building partition fixed_sentiment of 1000 agents\n",
      "\n",
      "  all agents tot_wealth will be: 10000\n",
      "  all agents sigma_prop will be: 0.75\n"
     ]
    },
    {
     "data": {
      "application/vnd.jupyter.widget-view+json": {
       "model_id": "aa36e949b40545f481dbe1c9ae1897f3",
       "version_major": 2,
       "version_minor": 0
      },
      "text/plain": [
       "  0%|          | 0/150 [00:00<?, ?it/s]"
      ]
     },
     "metadata": {},
     "output_type": "display_data"
    },
    {
     "name": "stdout",
     "output_type": "stream",
     "text": [
      "run 143 of 160 total------------------------------('sentiment_value', 'initial_sigma_value')=(0.8, 0.75) iteration 3 of 10\n",
      "\n",
      "Building partition fixed_sentiment of 1000 agents\n",
      "\n",
      "  all agents tot_wealth will be: 10000\n",
      "  all agents sigma_prop will be: 0.75\n"
     ]
    },
    {
     "data": {
      "application/vnd.jupyter.widget-view+json": {
       "model_id": "9ef8f2a3f3ee4764b4786710cdb8322d",
       "version_major": 2,
       "version_minor": 0
      },
      "text/plain": [
       "  0%|          | 0/150 [00:00<?, ?it/s]"
      ]
     },
     "metadata": {},
     "output_type": "display_data"
    },
    {
     "name": "stdout",
     "output_type": "stream",
     "text": [
      "run 144 of 160 total------------------------------('sentiment_value', 'initial_sigma_value')=(0.8, 0.75) iteration 4 of 10\n",
      "\n",
      "Building partition fixed_sentiment of 1000 agents\n",
      "\n",
      "  all agents tot_wealth will be: 10000\n",
      "  all agents sigma_prop will be: 0.75\n"
     ]
    },
    {
     "data": {
      "application/vnd.jupyter.widget-view+json": {
       "model_id": "006440c773da49f98ee2b493734aa8e5",
       "version_major": 2,
       "version_minor": 0
      },
      "text/plain": [
       "  0%|          | 0/150 [00:00<?, ?it/s]"
      ]
     },
     "metadata": {},
     "output_type": "display_data"
    },
    {
     "name": "stdout",
     "output_type": "stream",
     "text": [
      "run 145 of 160 total------------------------------('sentiment_value', 'initial_sigma_value')=(0.8, 0.75) iteration 5 of 10\n",
      "\n",
      "Building partition fixed_sentiment of 1000 agents\n",
      "\n",
      "  all agents tot_wealth will be: 10000\n",
      "  all agents sigma_prop will be: 0.75\n"
     ]
    },
    {
     "data": {
      "application/vnd.jupyter.widget-view+json": {
       "model_id": "f6c7954a0ee643128ce11da8126d6e36",
       "version_major": 2,
       "version_minor": 0
      },
      "text/plain": [
       "  0%|          | 0/150 [00:00<?, ?it/s]"
      ]
     },
     "metadata": {},
     "output_type": "display_data"
    },
    {
     "name": "stdout",
     "output_type": "stream",
     "text": [
      "run 146 of 160 total------------------------------('sentiment_value', 'initial_sigma_value')=(0.8, 0.75) iteration 6 of 10\n",
      "\n",
      "Building partition fixed_sentiment of 1000 agents\n",
      "\n",
      "  all agents tot_wealth will be: 10000\n",
      "  all agents sigma_prop will be: 0.75\n"
     ]
    },
    {
     "data": {
      "application/vnd.jupyter.widget-view+json": {
       "model_id": "9a24e71ec08741fa90d4241492af92cf",
       "version_major": 2,
       "version_minor": 0
      },
      "text/plain": [
       "  0%|          | 0/150 [00:00<?, ?it/s]"
      ]
     },
     "metadata": {},
     "output_type": "display_data"
    },
    {
     "name": "stdout",
     "output_type": "stream",
     "text": [
      "run 147 of 160 total------------------------------('sentiment_value', 'initial_sigma_value')=(0.8, 0.75) iteration 7 of 10\n",
      "\n",
      "Building partition fixed_sentiment of 1000 agents\n",
      "\n",
      "  all agents tot_wealth will be: 10000\n",
      "  all agents sigma_prop will be: 0.75\n"
     ]
    },
    {
     "data": {
      "application/vnd.jupyter.widget-view+json": {
       "model_id": "9715b8283fd349a1b30afc3d7ee6014e",
       "version_major": 2,
       "version_minor": 0
      },
      "text/plain": [
       "  0%|          | 0/150 [00:00<?, ?it/s]"
      ]
     },
     "metadata": {},
     "output_type": "display_data"
    },
    {
     "name": "stdout",
     "output_type": "stream",
     "text": [
      "run 148 of 160 total------------------------------('sentiment_value', 'initial_sigma_value')=(0.8, 0.75) iteration 8 of 10\n",
      "\n",
      "Building partition fixed_sentiment of 1000 agents\n",
      "\n",
      "  all agents tot_wealth will be: 10000\n",
      "  all agents sigma_prop will be: 0.75\n"
     ]
    },
    {
     "data": {
      "application/vnd.jupyter.widget-view+json": {
       "model_id": "b7709fdfff7e43cb92577d06f8a190f8",
       "version_major": 2,
       "version_minor": 0
      },
      "text/plain": [
       "  0%|          | 0/150 [00:00<?, ?it/s]"
      ]
     },
     "metadata": {},
     "output_type": "display_data"
    },
    {
     "name": "stdout",
     "output_type": "stream",
     "text": [
      "run 149 of 160 total------------------------------('sentiment_value', 'initial_sigma_value')=(0.8, 0.75) iteration 9 of 10\n",
      "\n",
      "Building partition fixed_sentiment of 1000 agents\n",
      "\n",
      "  all agents tot_wealth will be: 10000\n",
      "  all agents sigma_prop will be: 0.75\n"
     ]
    },
    {
     "data": {
      "application/vnd.jupyter.widget-view+json": {
       "model_id": "35e7cca639574732aeeb683172a85435",
       "version_major": 2,
       "version_minor": 0
      },
      "text/plain": [
       "  0%|          | 0/150 [00:00<?, ?it/s]"
      ]
     },
     "metadata": {},
     "output_type": "display_data"
    },
    {
     "name": "stdout",
     "output_type": "stream",
     "text": [
      "run 150 of 160 total------------------------------('sentiment_value', 'initial_sigma_value')=(0.8, 0.75) iteration 10 of 10\n",
      "\n",
      "Building partition fixed_sentiment of 1000 agents\n",
      "\n",
      "  all agents tot_wealth will be: 10000\n",
      "  all agents sigma_prop will be: 0.75\n"
     ]
    },
    {
     "data": {
      "application/vnd.jupyter.widget-view+json": {
       "model_id": "2d8e3de7f5cd420091b3ad95af4cc2d6",
       "version_major": 2,
       "version_minor": 0
      },
      "text/plain": [
       "  0%|          | 0/150 [00:00<?, ?it/s]"
      ]
     },
     "metadata": {},
     "output_type": "display_data"
    },
    {
     "name": "stdout",
     "output_type": "stream",
     "text": [
      "run 151 of 160 total------------------------------('sentiment_value', 'initial_sigma_value')=(0.9, 0.8) iteration 1 of 10\n",
      "\n",
      "Building partition fixed_sentiment of 1000 agents\n",
      "\n",
      "  all agents tot_wealth will be: 10000\n",
      "  all agents sigma_prop will be: 0.8\n"
     ]
    },
    {
     "data": {
      "application/vnd.jupyter.widget-view+json": {
       "model_id": "21faf64d56d74676a006bb3743371863",
       "version_major": 2,
       "version_minor": 0
      },
      "text/plain": [
       "  0%|          | 0/150 [00:00<?, ?it/s]"
      ]
     },
     "metadata": {},
     "output_type": "display_data"
    },
    {
     "name": "stdout",
     "output_type": "stream",
     "text": [
      "run 152 of 160 total------------------------------('sentiment_value', 'initial_sigma_value')=(0.9, 0.8) iteration 2 of 10\n",
      "\n",
      "Building partition fixed_sentiment of 1000 agents\n",
      "\n",
      "  all agents tot_wealth will be: 10000\n",
      "  all agents sigma_prop will be: 0.8\n"
     ]
    },
    {
     "data": {
      "application/vnd.jupyter.widget-view+json": {
       "model_id": "0b492b24fe6644a98370c537ae6b2d9e",
       "version_major": 2,
       "version_minor": 0
      },
      "text/plain": [
       "  0%|          | 0/150 [00:00<?, ?it/s]"
      ]
     },
     "metadata": {},
     "output_type": "display_data"
    },
    {
     "name": "stdout",
     "output_type": "stream",
     "text": [
      "run 153 of 160 total------------------------------('sentiment_value', 'initial_sigma_value')=(0.9, 0.8) iteration 3 of 10\n",
      "\n",
      "Building partition fixed_sentiment of 1000 agents\n",
      "\n",
      "  all agents tot_wealth will be: 10000\n",
      "  all agents sigma_prop will be: 0.8\n"
     ]
    },
    {
     "data": {
      "application/vnd.jupyter.widget-view+json": {
       "model_id": "5a3c656c55f64855aa94db58f0696712",
       "version_major": 2,
       "version_minor": 0
      },
      "text/plain": [
       "  0%|          | 0/150 [00:00<?, ?it/s]"
      ]
     },
     "metadata": {},
     "output_type": "display_data"
    },
    {
     "name": "stdout",
     "output_type": "stream",
     "text": [
      "run 154 of 160 total------------------------------('sentiment_value', 'initial_sigma_value')=(0.9, 0.8) iteration 4 of 10\n",
      "\n",
      "Building partition fixed_sentiment of 1000 agents\n",
      "\n",
      "  all agents tot_wealth will be: 10000\n",
      "  all agents sigma_prop will be: 0.8\n"
     ]
    },
    {
     "data": {
      "application/vnd.jupyter.widget-view+json": {
       "model_id": "5bf95f4d9d644ff79a309fc1d7b30c38",
       "version_major": 2,
       "version_minor": 0
      },
      "text/plain": [
       "  0%|          | 0/150 [00:00<?, ?it/s]"
      ]
     },
     "metadata": {},
     "output_type": "display_data"
    },
    {
     "name": "stdout",
     "output_type": "stream",
     "text": [
      "run 155 of 160 total------------------------------('sentiment_value', 'initial_sigma_value')=(0.9, 0.8) iteration 5 of 10\n",
      "\n",
      "Building partition fixed_sentiment of 1000 agents\n",
      "\n",
      "  all agents tot_wealth will be: 10000\n",
      "  all agents sigma_prop will be: 0.8\n"
     ]
    },
    {
     "data": {
      "application/vnd.jupyter.widget-view+json": {
       "model_id": "924ef1648b3e47a2861066bb6942c498",
       "version_major": 2,
       "version_minor": 0
      },
      "text/plain": [
       "  0%|          | 0/150 [00:00<?, ?it/s]"
      ]
     },
     "metadata": {},
     "output_type": "display_data"
    },
    {
     "name": "stdout",
     "output_type": "stream",
     "text": [
      "run 156 of 160 total------------------------------('sentiment_value', 'initial_sigma_value')=(0.9, 0.8) iteration 6 of 10\n",
      "\n",
      "Building partition fixed_sentiment of 1000 agents\n",
      "\n",
      "  all agents tot_wealth will be: 10000\n",
      "  all agents sigma_prop will be: 0.8\n"
     ]
    },
    {
     "data": {
      "application/vnd.jupyter.widget-view+json": {
       "model_id": "a24fa96d57944d9e873363e3022d5290",
       "version_major": 2,
       "version_minor": 0
      },
      "text/plain": [
       "  0%|          | 0/150 [00:00<?, ?it/s]"
      ]
     },
     "metadata": {},
     "output_type": "display_data"
    },
    {
     "name": "stdout",
     "output_type": "stream",
     "text": [
      "run 157 of 160 total------------------------------('sentiment_value', 'initial_sigma_value')=(0.9, 0.8) iteration 7 of 10\n",
      "\n",
      "Building partition fixed_sentiment of 1000 agents\n",
      "\n",
      "  all agents tot_wealth will be: 10000\n",
      "  all agents sigma_prop will be: 0.8\n"
     ]
    },
    {
     "data": {
      "application/vnd.jupyter.widget-view+json": {
       "model_id": "08e0171783d84140a5115c6f5543cbd3",
       "version_major": 2,
       "version_minor": 0
      },
      "text/plain": [
       "  0%|          | 0/150 [00:00<?, ?it/s]"
      ]
     },
     "metadata": {},
     "output_type": "display_data"
    },
    {
     "name": "stdout",
     "output_type": "stream",
     "text": [
      "run 158 of 160 total------------------------------('sentiment_value', 'initial_sigma_value')=(0.9, 0.8) iteration 8 of 10\n",
      "\n",
      "Building partition fixed_sentiment of 1000 agents\n",
      "\n",
      "  all agents tot_wealth will be: 10000\n",
      "  all agents sigma_prop will be: 0.8\n"
     ]
    },
    {
     "data": {
      "application/vnd.jupyter.widget-view+json": {
       "model_id": "f0499521a123485d8970a07819601ccb",
       "version_major": 2,
       "version_minor": 0
      },
      "text/plain": [
       "  0%|          | 0/150 [00:00<?, ?it/s]"
      ]
     },
     "metadata": {},
     "output_type": "display_data"
    },
    {
     "name": "stdout",
     "output_type": "stream",
     "text": [
      "run 159 of 160 total------------------------------('sentiment_value', 'initial_sigma_value')=(0.9, 0.8) iteration 9 of 10\n",
      "\n",
      "Building partition fixed_sentiment of 1000 agents\n",
      "\n",
      "  all agents tot_wealth will be: 10000\n",
      "  all agents sigma_prop will be: 0.8\n"
     ]
    },
    {
     "data": {
      "application/vnd.jupyter.widget-view+json": {
       "model_id": "4b8ed0999569447792c2e56c955c2c4c",
       "version_major": 2,
       "version_minor": 0
      },
      "text/plain": [
       "  0%|          | 0/150 [00:00<?, ?it/s]"
      ]
     },
     "metadata": {},
     "output_type": "display_data"
    },
    {
     "name": "stdout",
     "output_type": "stream",
     "text": [
      "run 160 of 160 total------------------------------('sentiment_value', 'initial_sigma_value')=(0.9, 0.8) iteration 10 of 10\n",
      "\n",
      "Building partition fixed_sentiment of 1000 agents\n",
      "\n",
      "  all agents tot_wealth will be: 10000\n",
      "  all agents sigma_prop will be: 0.8\n"
     ]
    },
    {
     "data": {
      "application/vnd.jupyter.widget-view+json": {
       "model_id": "7defc09e982843bba1b1db9e08019f84",
       "version_major": 2,
       "version_minor": 0
      },
      "text/plain": [
       "  0%|          | 0/150 [00:00<?, ?it/s]"
      ]
     },
     "metadata": {},
     "output_type": "display_data"
    }
   ],
   "source": [
    "lab_diff.param_run(150, ('sentiment_value','initial_sigma_value'),test_values, iter_same_point=10 )"
   ]
  },
  {
   "cell_type": "code",
   "execution_count": 17,
   "id": "c15b6936",
   "metadata": {},
   "outputs": [
    {
     "data": {
      "application/vnd.jupyter.widget-view+json": {
       "model_id": "0237d990d7bc4f6690870f45d688780f",
       "version_major": 2,
       "version_minor": 0
      },
      "text/plain": [
       "exp fitting abs_avg_eq_dist:   0%|          | 0/16 [00:00<?, ?it/s]"
      ]
     },
     "metadata": {},
     "output_type": "display_data"
    },
    {
     "data": {
      "application/vnd.jupyter.widget-view+json": {
       "model_id": "481d6cae5e0345319156a4e127217da9",
       "version_major": 2,
       "version_minor": 0
      },
      "text/plain": [
       "lin fitting abs_avg_eq_dist:   0%|          | 0/16 [00:00<?, ?it/s]"
      ]
     },
     "metadata": {},
     "output_type": "display_data"
    }
   ],
   "source": [
    "# lab.fit_metric('avg_sigma', 'pol', end_slice=100, poly_order=3,fit_name='pol_fit', weight_coeff=2)\n",
    "# lab.fit_metric('sct_abs_eq_dist', 'exp', end_slice=100, fit_name='exp_fit', weight_coeff=1/2)\n",
    "lab_diff.fit_metric('abs_avg_eq_dist', 'exp', end_slice=100, fit_name='exp_fit', weight_coeff=2)\n",
    "lab_diff.fit_metric('abs_avg_eq_dist', 'lin', end_slice=50,  fit_name='lin_fit', weight_coeff=2)"
   ]
  },
  {
   "cell_type": "code",
   "execution_count": 18,
   "id": "90f3b32c",
   "metadata": {},
   "outputs": [
    {
     "name": "stdout",
     "output_type": "stream",
     "text": [
      "\n",
      "\n",
      "-------------------------------------------------- METRICS INFO\n",
      "\n",
      "----------metric name: avg_price\n",
      "          performed on parameters:\n",
      "               ('sentiment_value', 'initial_sigma_value')=(-0.6, 0.050000000000000044),(-0.5, 0.09999999999999998),(-0.4, 0.15000000000000002),(-0.3, 0.2),(-0.2, 0.25),(-0.1, 0.3),(0.0, 0.35),(0.1, 0.4),(0.2, 0.45),(0.3, 0.5),(0.4, 0.55),(0.5, 0.6),(0.6, 0.65),(0.7, 0.7),(0.8, 0.75),(0.9, 0.8)\n",
      "----------metric name: avg_sigma\n",
      "          performed on parameters:\n",
      "               ('sentiment_value', 'initial_sigma_value')=(-0.6, 0.050000000000000044),(-0.5, 0.09999999999999998),(-0.4, 0.15000000000000002),(-0.3, 0.2),(-0.2, 0.25),(-0.1, 0.3),(0.0, 0.35),(0.1, 0.4),(0.2, 0.45),(0.3, 0.5),(0.4, 0.55),(0.5, 0.6),(0.6, 0.65),(0.7, 0.7),(0.8, 0.75),(0.9, 0.8)\n",
      "----------metric name: abs_avg_eq_dist\n",
      "          performed on parameters:\n",
      "               ('sentiment_value', 'initial_sigma_value')=(-0.6, 0.050000000000000044),(-0.5, 0.09999999999999998),(-0.4, 0.15000000000000002),(-0.3, 0.2),(-0.2, 0.25),(-0.1, 0.3),(0.0, 0.35),(0.1, 0.4),(0.2, 0.45),(0.3, 0.5),(0.4, 0.55),(0.5, 0.6),(0.6, 0.65),(0.7, 0.7),(0.8, 0.75),(0.9, 0.8)\n",
      "----------metric name: sct_abs_eq_dist\n",
      "          performed on parameters:\n",
      "               ('sentiment_value', 'initial_sigma_value')=(-0.6, 0.050000000000000044),(-0.5, 0.09999999999999998),(-0.4, 0.15000000000000002),(-0.3, 0.2),(-0.2, 0.25),(-0.1, 0.3),(0.0, 0.35),(0.1, 0.4),(0.2, 0.45),(0.3, 0.5),(0.4, 0.55),(0.5, 0.6),(0.6, 0.65),(0.7, 0.7),(0.8, 0.75),(0.9, 0.8)\n",
      "\n",
      "\n",
      "################################################## FITS INFO\n",
      "\n",
      "######### fit name: exp_fit\n",
      "          dominio from 0 to (included) 99 of size 100\n",
      "          performed on metrics: abs_avg_eq_dist\n",
      "######### fit name: lin_fit\n",
      "          dominio from 0 to (included) 49 of size 50\n",
      "          performed on metrics: abs_avg_eq_dist\n"
     ]
    }
   ],
   "source": [
    "lab_diff.print_mtr_summary()\n",
    "lab_diff.print_fit_summary()"
   ]
  },
  {
   "cell_type": "code",
   "execution_count": 19,
   "id": "4472a639",
   "metadata": {},
   "outputs": [
    {
     "data": {
      "image/png": "[encoded data removed]",
      "text/plain": [
       "<Figure size 1296x9216 with 16 Axes>"
      ]
     },
     "metadata": {
      "needs_background": "light"
     },
     "output_type": "display_data"
    },
    {
     "name": "stdout",
     "output_type": "stream",
     "text": [
      "senti -0.6;initi 0.05------------------------------\n",
      "    subrun 0: \n",
      "        exp_fit        :  C[ 0]=  -0.01716;  C[ 1]=  -1.87152; \n",
      "        lin_fit        :  C[ 0]=  -0.00182;  C[ 1]=   0.14892; \n",
      "    subrun 1: \n",
      "        exp_fit        :  C[ 0]=  -0.01629;  C[ 1]=  -1.86030; \n",
      "        lin_fit        :  C[ 0]=  -0.00171;  C[ 1]=   0.15005; \n",
      "    subrun 2: \n",
      "        exp_fit        :  C[ 0]=  -0.01681;  C[ 1]=  -1.85752; \n",
      "        lin_fit        :  C[ 0]=  -0.00177;  C[ 1]=   0.15052; \n",
      "    subrun 3: \n",
      "        exp_fit        :  C[ 0]=  -0.01594;  C[ 1]=  -1.85126; \n",
      "        lin_fit        :  C[ 0]=  -0.00169;  C[ 1]=   0.15135; \n",
      "    subrun 4: \n",
      "        exp_fit        :  C[ 0]=  -0.01837;  C[ 1]=  -1.85523; \n",
      "        lin_fit        :  C[ 0]=  -0.00192;  C[ 1]=   0.15058; \n",
      "    subrun 5: \n",
      "        exp_fit        :  C[ 0]=  -0.01688;  C[ 1]=  -1.86177; \n",
      "        lin_fit        :  C[ 0]=  -0.00181;  C[ 1]=   0.15035; \n",
      "    subrun 6: \n",
      "        exp_fit        :  C[ 0]=  -0.01721;  C[ 1]=  -1.85066; \n",
      "        lin_fit        :  C[ 0]=  -0.00183;  C[ 1]=   0.15153; \n",
      "    subrun 7: \n",
      "        exp_fit        :  C[ 0]=  -0.01675;  C[ 1]=  -1.86702; \n",
      "        lin_fit        :  C[ 0]=  -0.00176;  C[ 1]=   0.14929; \n",
      "    subrun 8: \n",
      "        exp_fit        :  C[ 0]=  -0.01544;  C[ 1]=  -1.85831; \n",
      "        lin_fit        :  C[ 0]=  -0.00163;  C[ 1]=   0.15043; \n",
      "    subrun 9: \n",
      "        exp_fit        :  C[ 0]=  -0.01566;  C[ 1]=  -1.86461; \n",
      "        lin_fit        :  C[ 0]=  -0.00164;  C[ 1]=   0.14953; \n",
      "senti -0.5;initi 0.09------------------------------\n",
      "    subrun 0: \n",
      "        exp_fit        :  C[ 0]=  -0.02355;  C[ 1]=  -1.88524; \n",
      "        lin_fit        :  C[ 0]=  -0.00242;  C[ 1]=   0.14676; \n",
      "    subrun 1: \n",
      "        exp_fit        :  C[ 0]=  -0.02157;  C[ 1]=  -1.87682; \n",
      "        lin_fit        :  C[ 0]=  -0.00227;  C[ 1]=   0.14817; \n",
      "    subrun 2: \n",
      "        exp_fit        :  C[ 0]=  -0.02279;  C[ 1]=  -1.89073; \n",
      "        lin_fit        :  C[ 0]=  -0.00234;  C[ 1]=   0.14600; \n",
      "    subrun 3: \n",
      "        exp_fit        :  C[ 0]=  -0.02401;  C[ 1]=  -1.89045; \n",
      "        lin_fit        :  C[ 0]=  -0.00245;  C[ 1]=   0.14581; \n",
      "    subrun 4: \n",
      "        exp_fit        :  C[ 0]=  -0.02298;  C[ 1]=  -1.88306; \n",
      "        lin_fit        :  C[ 0]=  -0.00239;  C[ 1]=   0.14726; \n",
      "    subrun 5: \n",
      "        exp_fit        :  C[ 0]=  -0.02403;  C[ 1]=  -1.87073; \n",
      "        lin_fit        :  C[ 0]=  -0.00248;  C[ 1]=   0.14860; \n",
      "    subrun 6: \n",
      "        exp_fit        :  C[ 0]=  -0.02222;  C[ 1]=  -1.90000; \n",
      "        lin_fit        :  C[ 0]=  -0.00229;  C[ 1]=   0.14492; \n",
      "    subrun 7: \n",
      "        exp_fit        :  C[ 0]=  -0.02261;  C[ 1]=  -1.86507; \n",
      "        lin_fit        :  C[ 0]=  -0.00235;  C[ 1]=   0.14936; \n",
      "    subrun 8: \n",
      "        exp_fit        :  C[ 0]=  -0.02072;  C[ 1]=  -1.88028; \n",
      "        lin_fit        :  C[ 0]=  -0.00218;  C[ 1]=   0.14770; \n",
      "    subrun 9: \n",
      "        exp_fit        :  C[ 0]=  -0.02402;  C[ 1]=  -1.89515; \n",
      "        lin_fit        :  C[ 0]=  -0.00245;  C[ 1]=   0.14527; \n",
      "senti -0.4;initi 0.15------------------------------\n",
      "    subrun 0: \n",
      "        exp_fit        :  C[ 0]=  -0.02502;  C[ 1]=  -1.90034; \n",
      "        lin_fit        :  C[ 0]=  -0.00254;  C[ 1]=   0.14460; \n",
      "    subrun 1: \n",
      "        exp_fit        :  C[ 0]=  -0.02398;  C[ 1]=  -1.90801; \n",
      "        lin_fit        :  C[ 0]=  -0.00245;  C[ 1]=   0.14380; \n",
      "    subrun 2: \n",
      "        exp_fit        :  C[ 0]=  -0.02394;  C[ 1]=  -1.89662; \n",
      "        lin_fit        :  C[ 0]=  -0.00246;  C[ 1]=   0.14530; \n",
      "    subrun 3: \n",
      "        exp_fit        :  C[ 0]=  -0.02495;  C[ 1]=  -1.89800; \n",
      "        lin_fit        :  C[ 0]=  -0.00254;  C[ 1]=   0.14498; \n",
      "    subrun 4: \n",
      "        exp_fit        :  C[ 0]=  -0.02667;  C[ 1]=  -1.87556; \n",
      "        lin_fit        :  C[ 0]=  -0.00275;  C[ 1]=   0.14796; \n",
      "    subrun 5: \n",
      "        exp_fit        :  C[ 0]=  -0.02469;  C[ 1]=  -1.88470; \n",
      "        lin_fit        :  C[ 0]=  -0.00256;  C[ 1]=   0.14690; \n",
      "    subrun 6: \n",
      "        exp_fit        :  C[ 0]=  -0.02708;  C[ 1]=  -1.91193; \n",
      "        lin_fit        :  C[ 0]=  -0.00272;  C[ 1]=   0.14348; \n",
      "    subrun 7: \n",
      "        exp_fit        :  C[ 0]=  -0.02639;  C[ 1]=  -1.88266; \n",
      "        lin_fit        :  C[ 0]=  -0.00269;  C[ 1]=   0.14698; \n",
      "    subrun 8: \n",
      "        exp_fit        :  C[ 0]=  -0.02647;  C[ 1]=  -1.88914; \n",
      "        lin_fit        :  C[ 0]=  -0.00269;  C[ 1]=   0.14619; \n",
      "    subrun 9: \n",
      "        exp_fit        :  C[ 0]=  -0.02531;  C[ 1]=  -1.91300; \n",
      "        lin_fit        :  C[ 0]=  -0.00255;  C[ 1]=   0.14294; \n",
      "senti -0.3;initi 0.2------------------------------\n",
      "    subrun 0: \n",
      "        exp_fit        :  C[ 0]=  -0.02759;  C[ 1]=  -1.89924; \n",
      "        lin_fit        :  C[ 0]=  -0.00283;  C[ 1]=   0.14504; \n",
      "    subrun 1: \n",
      "        exp_fit        :  C[ 0]=  -0.02676;  C[ 1]=  -1.91047; \n",
      "        lin_fit        :  C[ 0]=  -0.00271;  C[ 1]=   0.14324; \n",
      "    subrun 2: \n",
      "        exp_fit        :  C[ 0]=  -0.02671;  C[ 1]=  -1.88342; \n",
      "        lin_fit        :  C[ 0]=  -0.00272;  C[ 1]=   0.14697; \n",
      "    subrun 3: \n",
      "        exp_fit        :  C[ 0]=  -0.02534;  C[ 1]=  -1.87805; \n",
      "        lin_fit        :  C[ 0]=  -0.00263;  C[ 1]=   0.14771; \n",
      "    subrun 4: \n",
      "        exp_fit        :  C[ 0]=  -0.02697;  C[ 1]=  -1.88750; \n",
      "        lin_fit        :  C[ 0]=  -0.00278;  C[ 1]=   0.14686; \n",
      "    subrun 5: \n",
      "        exp_fit        :  C[ 0]=  -0.02397;  C[ 1]=  -1.90370; \n",
      "        lin_fit        :  C[ 0]=  -0.00248;  C[ 1]=   0.14448; \n",
      "    subrun 6: \n",
      "        exp_fit        :  C[ 0]=  -0.02520;  C[ 1]=  -1.91445; \n",
      "        lin_fit        :  C[ 0]=  -0.00253;  C[ 1]=   0.14284; \n",
      "    subrun 7: \n",
      "        exp_fit        :  C[ 0]=  -0.02921;  C[ 1]=  -1.89796; \n",
      "        lin_fit        :  C[ 0]=  -0.00297;  C[ 1]=   0.14493; \n",
      "    subrun 8: \n",
      "        exp_fit        :  C[ 0]=  -0.02615;  C[ 1]=  -1.87214; \n",
      "        lin_fit        :  C[ 0]=  -0.00270;  C[ 1]=   0.14847; \n",
      "    subrun 9: \n",
      "        exp_fit        :  C[ 0]=  -0.02425;  C[ 1]=  -1.89770; \n",
      "        lin_fit        :  C[ 0]=  -0.00245;  C[ 1]=   0.14471; \n",
      "senti -0.2;initi 0.25------------------------------\n",
      "    subrun 0: \n",
      "        exp_fit        :  C[ 0]=  -0.02771;  C[ 1]=  -1.93767; \n",
      "        lin_fit        :  C[ 0]=  -0.00272;  C[ 1]=   0.13973; \n",
      "    subrun 1: \n",
      "        exp_fit        :  C[ 0]=  -0.02726;  C[ 1]=  -1.88492; \n",
      "        lin_fit        :  C[ 0]=  -0.00279;  C[ 1]=   0.14673; \n",
      "    subrun 2: \n",
      "        exp_fit        :  C[ 0]=  -0.02756;  C[ 1]=  -1.90933; \n",
      "        lin_fit        :  C[ 0]=  -0.00275;  C[ 1]=   0.14320; \n",
      "    subrun 3: \n",
      "        exp_fit        :  C[ 0]=  -0.02479;  C[ 1]=  -1.89220; \n",
      "        lin_fit        :  C[ 0]=  -0.00256;  C[ 1]=   0.14591; \n",
      "    subrun 4: \n",
      "        exp_fit        :  C[ 0]=  -0.03122;  C[ 1]=  -1.86388; \n",
      "        lin_fit        :  C[ 0]=  -0.00318;  C[ 1]=   0.14934; \n",
      "    subrun 5: \n",
      "        exp_fit        :  C[ 0]=  -0.02539;  C[ 1]=  -1.88498; \n",
      "        lin_fit        :  C[ 0]=  -0.00260;  C[ 1]=   0.14684; \n",
      "    subrun 6: \n",
      "        exp_fit        :  C[ 0]=  -0.02830;  C[ 1]=  -1.88840; \n",
      "        lin_fit        :  C[ 0]=  -0.00287;  C[ 1]=   0.14623; \n",
      "    subrun 7: \n",
      "        exp_fit        :  C[ 0]=  -0.02639;  C[ 1]=  -1.93011; \n",
      "        lin_fit        :  C[ 0]=  -0.00263;  C[ 1]=   0.14090; \n",
      "    subrun 8: \n",
      "        exp_fit        :  C[ 0]=  -0.02841;  C[ 1]=  -1.86180; \n",
      "        lin_fit        :  C[ 0]=  -0.00293;  C[ 1]=   0.14954; \n",
      "    subrun 9: \n",
      "        exp_fit        :  C[ 0]=  -0.02562;  C[ 1]=  -1.89732; \n",
      "        lin_fit        :  C[ 0]=  -0.00264;  C[ 1]=   0.14523; \n",
      "senti -0.1;initi 0.3------------------------------\n",
      "    subrun 0: \n",
      "        exp_fit        :  C[ 0]=  -0.02933;  C[ 1]=  -1.88343; \n",
      "        lin_fit        :  C[ 0]=  -0.00297;  C[ 1]=   0.14674; \n",
      "    subrun 1: \n",
      "        exp_fit        :  C[ 0]=  -0.03060;  C[ 1]=  -1.89908; \n",
      "        lin_fit        :  C[ 0]=  -0.00301;  C[ 1]=   0.14447; \n",
      "    subrun 2: \n",
      "        exp_fit        :  C[ 0]=  -0.02366;  C[ 1]=  -1.91147; \n",
      "        lin_fit        :  C[ 0]=  -0.00242;  C[ 1]=   0.14359; \n",
      "    subrun 3: \n",
      "        exp_fit        :  C[ 0]=  -0.03299;  C[ 1]=  -1.86762; \n",
      "        lin_fit        :  C[ 0]=  -0.00337;  C[ 1]=   0.14886; \n",
      "    subrun 4: \n",
      "        exp_fit        :  C[ 0]=  -0.03068;  C[ 1]=  -1.88348; \n",
      "        lin_fit        :  C[ 0]=  -0.00310;  C[ 1]=   0.14685; \n",
      "    subrun 5: \n",
      "        exp_fit        :  C[ 0]=  -0.02486;  C[ 1]=  -1.89515; \n",
      "        lin_fit        :  C[ 0]=  -0.00256;  C[ 1]=   0.14545; \n",
      "    subrun 6: \n",
      "        exp_fit        :  C[ 0]=  -0.02677;  C[ 1]=  -1.89554; \n",
      "        lin_fit        :  C[ 0]=  -0.00269;  C[ 1]=   0.14493; \n",
      "    subrun 7: \n",
      "        exp_fit        :  C[ 0]=  -0.02699;  C[ 1]=  -1.90304; \n",
      "        lin_fit        :  C[ 0]=  -0.00272;  C[ 1]=   0.14430; \n",
      "    subrun 8: \n",
      "        exp_fit        :  C[ 0]=  -0.03157;  C[ 1]=  -1.88066; \n",
      "        lin_fit        :  C[ 0]=  -0.00326;  C[ 1]=   0.14756; \n",
      "    subrun 9: \n",
      "        exp_fit        :  C[ 0]=  -0.02182;  C[ 1]=  -1.89958; \n",
      "        lin_fit        :  C[ 0]=  -0.00235;  C[ 1]=   0.14604; \n",
      "senti 0.0;initi 0.35------------------------------\n",
      "    subrun 0: \n",
      "        exp_fit        :  C[ 0]=  -0.02929;  C[ 1]=  -1.89344; \n",
      "        lin_fit        :  C[ 0]=  -0.00299;  C[ 1]=   0.14551; \n",
      "    subrun 1: \n",
      "        exp_fit        :  C[ 0]=  -0.03067;  C[ 1]=  -1.91643; \n",
      "        lin_fit        :  C[ 0]=  -0.00304;  C[ 1]=   0.14253; \n",
      "    subrun 2: \n",
      "        exp_fit        :  C[ 0]=  -0.02708;  C[ 1]=  -1.90222; \n",
      "        lin_fit        :  C[ 0]=  -0.00274;  C[ 1]=   0.14445; \n",
      "    subrun 3: \n",
      "        exp_fit        :  C[ 0]=  -0.02935;  C[ 1]=  -1.88860; \n",
      "        lin_fit        :  C[ 0]=  -0.00295;  C[ 1]=   0.14602; \n",
      "    subrun 4: \n",
      "        exp_fit        :  C[ 0]=  -0.02540;  C[ 1]=  -1.90774; \n",
      "        lin_fit        :  C[ 0]=  -0.00256;  C[ 1]=   0.14354; \n",
      "    subrun 5: \n",
      "        exp_fit        :  C[ 0]=  -0.03074;  C[ 1]=  -1.94405; \n",
      "        lin_fit        :  C[ 0]=  -0.00295;  C[ 1]=   0.13867; \n",
      "    subrun 6: \n",
      "        exp_fit        :  C[ 0]=  -0.02920;  C[ 1]=  -1.90568; \n",
      "        lin_fit        :  C[ 0]=  -0.00293;  C[ 1]=   0.14395; \n",
      "    subrun 7: \n",
      "        exp_fit        :  C[ 0]=  -0.02624;  C[ 1]=  -1.86673; \n",
      "        lin_fit        :  C[ 0]=  -0.00275;  C[ 1]=   0.14943; \n",
      "    subrun 8: \n",
      "        exp_fit        :  C[ 0]=  -0.02497;  C[ 1]=  -1.91981; \n",
      "        lin_fit        :  C[ 0]=  -0.00254;  C[ 1]=   0.14230; \n",
      "    subrun 9: \n",
      "        exp_fit        :  C[ 0]=  -0.02811;  C[ 1]=  -1.88259; \n",
      "        lin_fit        :  C[ 0]=  -0.00286;  C[ 1]=   0.14719; \n",
      "senti 0.1;initi 0.4------------------------------\n",
      "    subrun 0: \n",
      "        exp_fit        :  C[ 0]=  -0.03275;  C[ 1]=  -1.89540; \n",
      "        lin_fit        :  C[ 0]=  -0.00325;  C[ 1]=   0.14522; \n",
      "    subrun 1: \n",
      "        exp_fit        :  C[ 0]=  -0.02560;  C[ 1]=  -1.93274; \n",
      "        lin_fit        :  C[ 0]=  -0.00254;  C[ 1]=   0.14037; \n",
      "    subrun 2: \n",
      "        exp_fit        :  C[ 0]=  -0.03032;  C[ 1]=  -1.89196; \n",
      "        lin_fit        :  C[ 0]=  -0.00306;  C[ 1]=   0.14558; \n",
      "    subrun 3: \n",
      "        exp_fit        :  C[ 0]=  -0.03085;  C[ 1]=  -1.88104; \n",
      "        lin_fit        :  C[ 0]=  -0.00312;  C[ 1]=   0.14711; \n",
      "    subrun 4: \n",
      "        exp_fit        :  C[ 0]=  -0.03195;  C[ 1]=  -1.91076; \n",
      "        lin_fit        :  C[ 0]=  -0.00320;  C[ 1]=   0.14320; \n",
      "    subrun 5: \n",
      "        exp_fit        :  C[ 0]=  -0.03095;  C[ 1]=  -1.91407; \n",
      "        lin_fit        :  C[ 0]=  -0.00308;  C[ 1]=   0.14272; \n",
      "    subrun 6: \n",
      "        exp_fit        :  C[ 0]=  -0.02798;  C[ 1]=  -1.89735; \n",
      "        lin_fit        :  C[ 0]=  -0.00284;  C[ 1]=   0.14537; \n",
      "    subrun 7: \n",
      "        exp_fit        :  C[ 0]=  -0.02872;  C[ 1]=  -1.89591; \n",
      "        lin_fit        :  C[ 0]=  -0.00289;  C[ 1]=   0.14508; \n",
      "    subrun 8: \n",
      "        exp_fit        :  C[ 0]=  -0.03024;  C[ 1]=  -1.88312; \n",
      "        lin_fit        :  C[ 0]=  -0.00313;  C[ 1]=   0.14711; \n",
      "    subrun 9: \n",
      "        exp_fit        :  C[ 0]=  -0.02955;  C[ 1]=  -1.87415; \n",
      "        lin_fit        :  C[ 0]=  -0.00300;  C[ 1]=   0.14784; \n",
      "senti 0.2;initi 0.45------------------------------\n",
      "    subrun 0: \n",
      "        exp_fit        :  C[ 0]=  -0.03377;  C[ 1]=  -1.88198; \n",
      "        lin_fit        :  C[ 0]=  -0.00348;  C[ 1]=   0.14734; \n",
      "    subrun 1: \n",
      "        exp_fit        :  C[ 0]=  -0.03084;  C[ 1]=  -1.89278; \n",
      "        lin_fit        :  C[ 0]=  -0.00310;  C[ 1]=   0.14563; \n",
      "    subrun 2: \n",
      "        exp_fit        :  C[ 0]=  -0.02886;  C[ 1]=  -1.89352; \n",
      "        lin_fit        :  C[ 0]=  -0.00300;  C[ 1]=   0.14607; \n",
      "    subrun 3: \n",
      "        exp_fit        :  C[ 0]=  -0.03207;  C[ 1]=  -1.86022; \n",
      "        lin_fit        :  C[ 0]=  -0.00332;  C[ 1]=   0.14988; \n",
      "    subrun 4: \n",
      "        exp_fit        :  C[ 0]=  -0.02762;  C[ 1]=  -1.88652; \n",
      "        lin_fit        :  C[ 0]=  -0.00287;  C[ 1]=   0.14673; \n",
      "    subrun 5: \n",
      "        exp_fit        :  C[ 0]=  -0.03008;  C[ 1]=  -1.84709; \n",
      "        lin_fit        :  C[ 0]=  -0.00321;  C[ 1]=   0.15217; \n",
      "    subrun 6: \n",
      "        exp_fit        :  C[ 0]=  -0.03680;  C[ 1]=  -1.88320; \n",
      "        lin_fit        :  C[ 0]=  -0.00372;  C[ 1]=   0.14665; \n",
      "    subrun 7: \n",
      "        exp_fit        :  C[ 0]=  -0.03563;  C[ 1]=  -1.92439; \n",
      "        lin_fit        :  C[ 0]=  -0.00342;  C[ 1]=   0.14085; \n",
      "    subrun 8: \n",
      "        exp_fit        :  C[ 0]=  -0.03241;  C[ 1]=  -1.89054; \n",
      "        lin_fit        :  C[ 0]=  -0.00321;  C[ 1]=   0.14548; \n",
      "    subrun 9: \n",
      "        exp_fit        :  C[ 0]=  -0.03068;  C[ 1]=  -1.91015; \n",
      "        lin_fit        :  C[ 0]=  -0.00311;  C[ 1]=   0.14349; \n",
      "senti 0.3;initi 0.5------------------------------\n",
      "    subrun 0: \n",
      "        exp_fit        :  C[ 0]=  -0.03276;  C[ 1]=  -1.87838; \n",
      "        lin_fit        :  C[ 0]=  -0.00334;  C[ 1]=   0.14720; \n",
      "    subrun 1: \n",
      "        exp_fit        :  C[ 0]=  -0.03463;  C[ 1]=  -1.87451; \n",
      "        lin_fit        :  C[ 0]=  -0.00356;  C[ 1]=   0.14799; \n",
      "    subrun 2: \n",
      "        exp_fit        :  C[ 0]=  -0.03321;  C[ 1]=  -1.91370; \n",
      "        lin_fit        :  C[ 0]=  -0.00335;  C[ 1]=   0.14298; \n",
      "    subrun 3: \n",
      "        exp_fit        :  C[ 0]=  -0.03078;  C[ 1]=  -1.88125; \n",
      "        lin_fit        :  C[ 0]=  -0.00322;  C[ 1]=   0.14759; \n",
      "    subrun 4: \n",
      "        exp_fit        :  C[ 0]=  -0.03613;  C[ 1]=  -1.88208; \n",
      "        lin_fit        :  C[ 0]=  -0.00371;  C[ 1]=   0.14711; \n",
      "    subrun 5: \n",
      "        exp_fit        :  C[ 0]=  -0.03755;  C[ 1]=  -1.87851; \n",
      "        lin_fit        :  C[ 0]=  -0.00388;  C[ 1]=   0.14783; \n",
      "    subrun 6: \n",
      "        exp_fit        :  C[ 0]=  -0.03577;  C[ 1]=  -1.91300; \n",
      "        lin_fit        :  C[ 0]=  -0.00343;  C[ 1]=   0.14228; \n",
      "    subrun 7: \n",
      "        exp_fit        :  C[ 0]=  -0.03768;  C[ 1]=  -1.89292; \n",
      "        lin_fit        :  C[ 0]=  -0.00367;  C[ 1]=   0.14504; \n",
      "    subrun 8: \n",
      "        exp_fit        :  C[ 0]=  -0.03254;  C[ 1]=  -1.94937; \n",
      "        lin_fit        :  C[ 0]=  -0.00317;  C[ 1]=   0.13819; \n",
      "    subrun 9: \n",
      "        exp_fit        :  C[ 0]=  -0.03396;  C[ 1]=  -1.89459; \n",
      "        lin_fit        :  C[ 0]=  -0.00347;  C[ 1]=   0.14586; \n",
      "senti 0.4;initi 0.55------------------------------\n",
      "    subrun 0: \n",
      "        exp_fit        :  C[ 0]=  -0.03816;  C[ 1]=  -1.89860; \n",
      "        lin_fit        :  C[ 0]=  -0.00383;  C[ 1]=   0.14487; \n",
      "    subrun 1: \n",
      "        exp_fit        :  C[ 0]=  -0.03945;  C[ 1]=  -1.89400; \n",
      "        lin_fit        :  C[ 0]=  -0.00397;  C[ 1]=   0.14547; \n",
      "    subrun 2: \n",
      "        exp_fit        :  C[ 0]=  -0.03759;  C[ 1]=  -1.91450; \n",
      "        lin_fit        :  C[ 0]=  -0.00365;  C[ 1]=   0.14204; \n",
      "    subrun 3: \n",
      "        exp_fit        :  C[ 0]=  -0.03688;  C[ 1]=  -1.89632; \n",
      "        lin_fit        :  C[ 0]=  -0.00372;  C[ 1]=   0.14511; \n",
      "    subrun 4: \n",
      "        exp_fit        :  C[ 0]=  -0.03507;  C[ 1]=  -1.89729; \n",
      "        lin_fit        :  C[ 0]=  -0.00351;  C[ 1]=   0.14484; \n",
      "    subrun 5: \n",
      "        exp_fit        :  C[ 0]=  -0.03471;  C[ 1]=  -1.90131; \n",
      "        lin_fit        :  C[ 0]=  -0.00345;  C[ 1]=   0.14451; \n",
      "    subrun 6: \n",
      "        exp_fit        :  C[ 0]=  -0.03796;  C[ 1]=  -1.91209; \n",
      "        lin_fit        :  C[ 0]=  -0.00373;  C[ 1]=   0.14266; \n",
      "    subrun 7: \n",
      "        exp_fit        :  C[ 0]=  -0.04045;  C[ 1]=  -1.90691; \n",
      "        lin_fit        :  C[ 0]=  -0.00402;  C[ 1]=   0.14346; \n",
      "    subrun 8: \n",
      "        exp_fit        :  C[ 0]=  -0.03537;  C[ 1]=  -1.91739; \n",
      "        lin_fit        :  C[ 0]=  -0.00352;  C[ 1]=   0.14237; \n",
      "    subrun 9: \n",
      "        exp_fit        :  C[ 0]=  -0.03716;  C[ 1]=  -1.90229; \n",
      "        lin_fit        :  C[ 0]=  -0.00375;  C[ 1]=   0.14455; \n",
      "senti 0.5;initi 0.6------------------------------\n",
      "    subrun 0: \n",
      "        exp_fit        :  C[ 0]=  -0.03915;  C[ 1]=  -1.92234; \n",
      "        lin_fit        :  C[ 0]=  -0.00387;  C[ 1]=   0.14153; \n",
      "    subrun 1: \n",
      "        exp_fit        :  C[ 0]=  -0.03860;  C[ 1]=  -1.92009; \n",
      "        lin_fit        :  C[ 0]=  -0.00385;  C[ 1]=   0.14242; \n",
      "    subrun 2: \n",
      "        exp_fit        :  C[ 0]=  -0.04436;  C[ 1]=  -1.88688; \n",
      "        lin_fit        :  C[ 0]=  -0.00431;  C[ 1]=   0.14573; \n",
      "    subrun 3: \n",
      "        exp_fit        :  C[ 0]=  -0.04037;  C[ 1]=  -1.90985; \n",
      "        lin_fit        :  C[ 0]=  -0.00397;  C[ 1]=   0.14287; \n",
      "    subrun 4: \n",
      "        exp_fit        :  C[ 0]=  -0.03984;  C[ 1]=  -1.88983; \n",
      "        lin_fit        :  C[ 0]=  -0.00395;  C[ 1]=   0.14577; \n",
      "    subrun 5: \n",
      "        exp_fit        :  C[ 0]=  -0.03723;  C[ 1]=  -1.89356; \n",
      "        lin_fit        :  C[ 0]=  -0.00380;  C[ 1]=   0.14566; \n",
      "    subrun 6: \n",
      "        exp_fit        :  C[ 0]=  -0.04146;  C[ 1]=  -1.92148; \n",
      "        lin_fit        :  C[ 0]=  -0.00413;  C[ 1]=   0.14180; \n",
      "    subrun 7: \n",
      "        exp_fit        :  C[ 0]=  -0.04089;  C[ 1]=  -1.90626; \n",
      "        lin_fit        :  C[ 0]=  -0.00405;  C[ 1]=   0.14343; \n",
      "    subrun 8: \n",
      "        exp_fit        :  C[ 0]=  -0.04007;  C[ 1]=  -1.89961; \n",
      "        lin_fit        :  C[ 0]=  -0.00403;  C[ 1]=   0.14462; \n",
      "    subrun 9: \n",
      "        exp_fit        :  C[ 0]=  -0.03710;  C[ 1]=  -1.91018; \n",
      "        lin_fit        :  C[ 0]=  -0.00371;  C[ 1]=   0.14322; \n",
      "senti 0.6;initi 0.65------------------------------\n",
      "    subrun 0: \n",
      "        exp_fit        :  C[ 0]=  -0.04490;  C[ 1]=  -1.91177; \n",
      "        lin_fit        :  C[ 0]=  -0.00436;  C[ 1]=   0.14264; \n",
      "    subrun 1: \n",
      "        exp_fit        :  C[ 0]=  -0.04003;  C[ 1]=  -1.92005; \n",
      "        lin_fit        :  C[ 0]=  -0.00392;  C[ 1]=   0.14184; \n",
      "    subrun 2: \n",
      "        exp_fit        :  C[ 0]=  -0.04183;  C[ 1]=  -1.89838; \n",
      "        lin_fit        :  C[ 0]=  -0.00420;  C[ 1]=   0.14481; \n",
      "    subrun 3: \n",
      "        exp_fit        :  C[ 0]=  -0.04632;  C[ 1]=  -1.90404; \n",
      "        lin_fit        :  C[ 0]=  -0.00454;  C[ 1]=   0.14369; \n",
      "    subrun 4: \n",
      "        exp_fit        :  C[ 0]=  -0.03902;  C[ 1]=  -1.92039; \n",
      "        lin_fit        :  C[ 0]=  -0.00386;  C[ 1]=   0.14176; \n",
      "    subrun 5: \n",
      "        exp_fit        :  C[ 0]=  -0.04127;  C[ 1]=  -1.91609; \n",
      "        lin_fit        :  C[ 0]=  -0.00407;  C[ 1]=   0.14246; \n",
      "    subrun 6: \n",
      "        exp_fit        :  C[ 0]=  -0.03904;  C[ 1]=  -1.90802; \n",
      "        lin_fit        :  C[ 0]=  -0.00389;  C[ 1]=   0.14339; \n",
      "    subrun 7: \n",
      "        exp_fit        :  C[ 0]=  -0.04141;  C[ 1]=  -1.90740; \n",
      "        lin_fit        :  C[ 0]=  -0.00410;  C[ 1]=   0.14332; \n",
      "    subrun 8: \n",
      "        exp_fit        :  C[ 0]=  -0.04323;  C[ 1]=  -1.93152; \n",
      "        lin_fit        :  C[ 0]=  -0.00422;  C[ 1]=   0.14046; \n",
      "    subrun 9: \n",
      "        exp_fit        :  C[ 0]=  -0.04411;  C[ 1]=  -1.93093; \n",
      "        lin_fit        :  C[ 0]=  -0.00428;  C[ 1]=   0.14030; \n",
      "senti 0.7;initi 0.7------------------------------\n",
      "    subrun 0: \n",
      "        exp_fit        :  C[ 0]=  -0.04310;  C[ 1]=  -1.91713; \n",
      "        lin_fit        :  C[ 0]=  -0.00425;  C[ 1]=   0.14236; \n",
      "    subrun 1: \n"
     ]
    },
    {
     "name": "stdout",
     "output_type": "stream",
     "text": [
      "        exp_fit        :  C[ 0]=  -0.04365;  C[ 1]=  -1.90425; \n",
      "        lin_fit        :  C[ 0]=  -0.00436;  C[ 1]=   0.14395; \n",
      "    subrun 2: \n",
      "        exp_fit        :  C[ 0]=  -0.04229;  C[ 1]=  -1.90008; \n",
      "        lin_fit        :  C[ 0]=  -0.00417;  C[ 1]=   0.14442; \n",
      "    subrun 3: \n",
      "        exp_fit        :  C[ 0]=  -0.04129;  C[ 1]=  -1.89885; \n",
      "        lin_fit        :  C[ 0]=  -0.00413;  C[ 1]=   0.14466; \n",
      "    subrun 4: \n",
      "        exp_fit        :  C[ 0]=  -0.04486;  C[ 1]=  -1.91423; \n",
      "        lin_fit        :  C[ 0]=  -0.00436;  C[ 1]=   0.14239; \n",
      "    subrun 5: \n",
      "        exp_fit        :  C[ 0]=  -0.03976;  C[ 1]=  -1.91156; \n",
      "        lin_fit        :  C[ 0]=  -0.00399;  C[ 1]=   0.14342; \n",
      "    subrun 6: \n",
      "        exp_fit        :  C[ 0]=  -0.04192;  C[ 1]=  -1.90400; \n",
      "        lin_fit        :  C[ 0]=  -0.00418;  C[ 1]=   0.14397; \n",
      "    subrun 7: \n",
      "        exp_fit        :  C[ 0]=  -0.03790;  C[ 1]=  -1.90612; \n",
      "        lin_fit        :  C[ 0]=  -0.00378;  C[ 1]=   0.14380; \n",
      "    subrun 8: \n",
      "        exp_fit        :  C[ 0]=  -0.04152;  C[ 1]=  -1.90081; \n",
      "        lin_fit        :  C[ 0]=  -0.00413;  C[ 1]=   0.14431; \n",
      "    subrun 9: \n",
      "        exp_fit        :  C[ 0]=  -0.04231;  C[ 1]=  -1.90377; \n",
      "        lin_fit        :  C[ 0]=  -0.00419;  C[ 1]=   0.14393; \n",
      "senti 0.8;initi 0.75------------------------------\n",
      "    subrun 0: \n",
      "        exp_fit        :  C[ 0]=  -0.03501;  C[ 1]=  -1.90480; \n",
      "        lin_fit        :  C[ 0]=  -0.00350;  C[ 1]=   0.14392; \n",
      "    subrun 1: \n",
      "        exp_fit        :  C[ 0]=  -0.03602;  C[ 1]=  -1.91834; \n",
      "        lin_fit        :  C[ 0]=  -0.00356;  C[ 1]=   0.14206; \n",
      "    subrun 2: \n",
      "        exp_fit        :  C[ 0]=  -0.03624;  C[ 1]=  -1.91620; \n",
      "        lin_fit        :  C[ 0]=  -0.00357;  C[ 1]=   0.14241; \n",
      "    subrun 3: \n",
      "        exp_fit        :  C[ 0]=  -0.04044;  C[ 1]=  -1.91813; \n",
      "        lin_fit        :  C[ 0]=  -0.00394;  C[ 1]=   0.14195; \n",
      "    subrun 4: \n",
      "        exp_fit        :  C[ 0]=  -0.03700;  C[ 1]=  -1.90967; \n",
      "        lin_fit        :  C[ 0]=  -0.00368;  C[ 1]=   0.14357; \n",
      "    subrun 5: \n",
      "        exp_fit        :  C[ 0]=  -0.03475;  C[ 1]=  -1.90450; \n",
      "        lin_fit        :  C[ 0]=  -0.00349;  C[ 1]=   0.14395; \n",
      "    subrun 6: \n",
      "        exp_fit        :  C[ 0]=  -0.03835;  C[ 1]=  -1.90899; \n",
      "        lin_fit        :  C[ 0]=  -0.00379;  C[ 1]=   0.14326; \n",
      "    subrun 7: \n",
      "        exp_fit        :  C[ 0]=  -0.03723;  C[ 1]=  -1.91692; \n",
      "        lin_fit        :  C[ 0]=  -0.00366;  C[ 1]=   0.14231; \n",
      "    subrun 8: \n",
      "        exp_fit        :  C[ 0]=  -0.03756;  C[ 1]=  -1.91791; \n",
      "        lin_fit        :  C[ 0]=  -0.00366;  C[ 1]=   0.14198; \n",
      "    subrun 9: \n",
      "        exp_fit        :  C[ 0]=  -0.03605;  C[ 1]=  -1.91729; \n",
      "        lin_fit        :  C[ 0]=  -0.00356;  C[ 1]=   0.14229; \n",
      "senti 0.9;initi 0.8------------------------------\n",
      "    subrun 0: \n",
      "        exp_fit        :  C[ 0]=  -0.02518;  C[ 1]=  -1.91341; \n",
      "        lin_fit        :  C[ 0]=  -0.00254;  C[ 1]=   0.14319; \n",
      "    subrun 1: \n",
      "        exp_fit        :  C[ 0]=  -0.02469;  C[ 1]=  -1.91248; \n",
      "        lin_fit        :  C[ 0]=  -0.00248;  C[ 1]=   0.14315; \n",
      "    subrun 2: \n",
      "        exp_fit        :  C[ 0]=  -0.02562;  C[ 1]=  -1.90723; \n",
      "        lin_fit        :  C[ 0]=  -0.00258;  C[ 1]=   0.14380; \n",
      "    subrun 3: \n",
      "        exp_fit        :  C[ 0]=  -0.02545;  C[ 1]=  -1.90046; \n",
      "        lin_fit        :  C[ 0]=  -0.00257;  C[ 1]=   0.14466; \n",
      "    subrun 4: \n",
      "        exp_fit        :  C[ 0]=  -0.02567;  C[ 1]=  -1.89718; \n",
      "        lin_fit        :  C[ 0]=  -0.00259;  C[ 1]=   0.14492; \n",
      "    subrun 5: \n",
      "        exp_fit        :  C[ 0]=  -0.02511;  C[ 1]=  -1.89958; \n",
      "        lin_fit        :  C[ 0]=  -0.00256;  C[ 1]=   0.14494; \n",
      "    subrun 6: \n",
      "        exp_fit        :  C[ 0]=  -0.02565;  C[ 1]=  -1.91785; \n",
      "        lin_fit        :  C[ 0]=  -0.00257;  C[ 1]=   0.14245; \n",
      "    subrun 7: \n",
      "        exp_fit        :  C[ 0]=  -0.02602;  C[ 1]=  -1.90516; \n",
      "        lin_fit        :  C[ 0]=  -0.00263;  C[ 1]=   0.14413; \n",
      "    subrun 8: \n",
      "        exp_fit        :  C[ 0]=  -0.02667;  C[ 1]=  -1.90900; \n",
      "        lin_fit        :  C[ 0]=  -0.00267;  C[ 1]=   0.14358; \n",
      "    subrun 9: \n",
      "        exp_fit        :  C[ 0]=  -0.02612;  C[ 1]=  -1.90443; \n",
      "        lin_fit        :  C[ 0]=  -0.00263;  C[ 1]=   0.14421; \n"
     ]
    }
   ],
   "source": [
    "lab_diff.show_fit_results( ['exp_fit', 'lin_fit'], 'abs_avg_eq_dist', n_columns=5, same_y_scale=True, legend_loc='upper right')"
   ]
  },
  {
   "cell_type": "code",
   "execution_count": 22,
   "id": "7aaa2d61",
   "metadata": {
    "scrolled": true
   },
   "outputs": [
    {
     "data": {
      "image/png": "[encoded data removed]",
      "text/plain": [
       "<Figure size 1296x432 with 2 Axes>"
      ]
     },
     "metadata": {
      "needs_background": "light"
     },
     "output_type": "display_data"
    },
    {
     "data": {
      "image/png": "[encoded data removed]",
      "text/plain": [
       "<Figure size 1296x432 with 2 Axes>"
      ]
     },
     "metadata": {
      "needs_background": "light"
     },
     "output_type": "display_data"
    }
   ],
   "source": [
    "lab_diff.show_fit_coeff('exp_fit', 'abs_avg_eq_dist', coeff_names=['-1/parameter', 'intercept'], y_k_mapping='def')\n",
    "lab_diff.show_fit_coeff('lin_fit', 'abs_avg_eq_dist', coeff_names=['parameter', 'intercept'], y_k_mapping='def')"
   ]
  },
  {
   "cell_type": "code",
   "execution_count": null,
   "id": "42c12104",
   "metadata": {},
   "outputs": [],
   "source": []
  },
  {
   "cell_type": "code",
   "execution_count": null,
   "id": "adee7f43",
   "metadata": {},
   "outputs": [],
   "source": []
  },
  {
   "cell_type": "code",
   "execution_count": null,
   "id": "64bd3886",
   "metadata": {},
   "outputs": [],
   "source": []
  },
  {
   "cell_type": "code",
   "execution_count": null,
   "id": "62755301",
   "metadata": {},
   "outputs": [],
   "source": []
  },
  {
   "cell_type": "code",
   "execution_count": null,
   "id": "10ecf145",
   "metadata": {},
   "outputs": [],
   "source": []
  },
  {
   "cell_type": "code",
   "execution_count": null,
   "id": "a4652a19",
   "metadata": {},
   "outputs": [],
   "source": []
  }
 ],
 "metadata": {
  "kernelspec": {
   "display_name": "beam",
   "language": "python",
   "name": "beam"
  },
  "language_info": {
   "codemirror_mode": {
    "name": "ipython",
    "version": 3
   },
   "file_extension": ".py",
   "mimetype": "text/x-python",
   "name": "python",
   "nbconvert_exporter": "python",
   "pygments_lexer": "ipython3",
   "version": "3.8.5"
  }
 },
 "nbformat": 4,
 "nbformat_minor": 5
}
