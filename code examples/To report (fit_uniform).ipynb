{
 "cells": [
  {
   "cell_type": "code",
   "execution_count": 1,
   "id": "11228487",
   "metadata": {},
   "outputs": [],
   "source": [
    "import beam as bm\n",
    "\n",
    "\n",
    "import numpy as np\n",
    "import matplotlib.pyplot as plt\n",
    "import os    \n",
    "os.environ['KMP_DUPLICATE_LIB_OK']='True' \n",
    "\n",
    "from tqdm.notebook import tqdm"
   ]
  },
  {
   "cell_type": "code",
   "execution_count": 2,
   "id": "60056e4d",
   "metadata": {},
   "outputs": [
    {
     "name": "stdout",
     "output_type": "stream",
     "text": [
      " current OPERATION_MODE='class'\n",
      " Set OPERATION_MODE='function'\n"
     ]
    }
   ],
   "source": [
    "bm.set_operation_mode('fn')"
   ]
  },
  {
   "cell_type": "code",
   "execution_count": 3,
   "id": "ad5e648e",
   "metadata": {},
   "outputs": [],
   "source": [
    "bm.change_default_parameter('decision', 'sw_mode', 'uniform') #<--------- setting uniform sampling of transferred wealth"
   ]
  },
  {
   "cell_type": "code",
   "execution_count": 4,
   "id": "f2a284c0",
   "metadata": {},
   "outputs": [],
   "source": [
    "def model_builder_bysent(sentiment_value):\n",
    "    assert np.abs(sentiment_value)<=1\n",
    "    mkt=bm.Market()\n",
    "    mkt.add_partition(1000, 'fixed_sentiment')\n",
    "    mkt.set_part_sentiment('fixed_sentiment', bm.sentiment_start_at_value(sentiment_value))\n",
    "#     mkt.add_metric('sigma_scatter', bm.mtr_sigma_scatter)\n",
    "    mkt.add_metric('avg_sigma', bm.mtr_avg_sigma)\n",
    "    mkt.add_metric('sct_abs_eq_dist', bm.mtr_sct_abs_eq_dist) #<--- tutti i valori della distanza in valore assoluto dall'equilibrio\n",
    "    mkt.add_metric('abs_avg_eq_dist', bm.mtr_abs_avg_eq_dist) #<--- valore assoluto della distanza media dall'equilibrio\n",
    "    return mkt"
   ]
  },
  {
   "cell_type": "code",
   "execution_count": 5,
   "id": "4d4182c5",
   "metadata": {},
   "outputs": [
    {
     "name": "stdout",
     "output_type": "stream",
     "text": [
      "added required result avg_price\n",
      "added required result avg_sigma\n",
      "added required result abs_avg_eq_dist\n",
      "added required result sct_abs_eq_dist\n"
     ]
    }
   ],
   "source": [
    "lab=bm.Lab(model_builder_bysent)\n",
    "# lab.add_metric('sigma_scatter')\n",
    "lab.add_metric('avg_sigma')\n",
    "# lab.add_metric('avg_eq_dist')\n",
    "lab.add_metric('abs_avg_eq_dist')\n",
    "lab.add_metric('sct_abs_eq_dist')"
   ]
  },
  {
   "cell_type": "code",
   "execution_count": 6,
   "id": "a1d3d9f6",
   "metadata": {},
   "outputs": [
    {
     "name": "stdout",
     "output_type": "stream",
     "text": [
      "sentiment_values=array([-0.9, -0.8, -0.7, -0.6, -0.5, -0.4, -0.3, -0.2, -0.1,  0. ,  0.1,\n",
      "        0.2,  0.3,  0.4,  0.5,  0.6,  0.7,  0.8,  0.9])\n"
     ]
    }
   ],
   "source": [
    "sentiment_values=np.linspace(-0.9, 0.9, 19)\n",
    "\n",
    "print(f\"{sentiment_values=}\")"
   ]
  },
  {
   "cell_type": "code",
   "execution_count": 7,
   "id": "4dc4d6b6",
   "metadata": {},
   "outputs": [
    {
     "name": "stdout",
     "output_type": "stream",
     "text": [
      "run 1 of 190 total--------------------------------sentiment_value=-0.9 iteration 1 of 10\n",
      "\n",
      "Building partition fixed_sentiment of 1000 agents\n",
      "\n",
      "  all agents tot_wealth will be: 10000\n",
      "  all agents sigma_prop will be: 0.5\n"
     ]
    },
    {
     "data": {
      "application/vnd.jupyter.widget-view+json": {
       "model_id": "219c59e472a947e8921d2bfaf83604e7",
       "version_major": 2,
       "version_minor": 0
      },
      "text/plain": [
       "  0%|          | 0/150 [00:00<?, ?it/s]"
      ]
     },
     "metadata": {},
     "output_type": "display_data"
    },
    {
     "name": "stdout",
     "output_type": "stream",
     "text": [
      "run 2 of 190 total--------------------------------sentiment_value=-0.9 iteration 2 of 10\n",
      "\n",
      "Building partition fixed_sentiment of 1000 agents\n",
      "\n",
      "  all agents tot_wealth will be: 10000\n",
      "  all agents sigma_prop will be: 0.5\n"
     ]
    },
    {
     "data": {
      "application/vnd.jupyter.widget-view+json": {
       "model_id": "4c92461641864cdf99f5c95ebfa90683",
       "version_major": 2,
       "version_minor": 0
      },
      "text/plain": [
       "  0%|          | 0/150 [00:00<?, ?it/s]"
      ]
     },
     "metadata": {},
     "output_type": "display_data"
    },
    {
     "name": "stdout",
     "output_type": "stream",
     "text": [
      "run 3 of 190 total--------------------------------sentiment_value=-0.9 iteration 3 of 10\n",
      "\n",
      "Building partition fixed_sentiment of 1000 agents\n",
      "\n",
      "  all agents tot_wealth will be: 10000\n",
      "  all agents sigma_prop will be: 0.5\n"
     ]
    },
    {
     "data": {
      "application/vnd.jupyter.widget-view+json": {
       "model_id": "30f385adca78488b83b5002f53ce1d07",
       "version_major": 2,
       "version_minor": 0
      },
      "text/plain": [
       "  0%|          | 0/150 [00:00<?, ?it/s]"
      ]
     },
     "metadata": {},
     "output_type": "display_data"
    },
    {
     "name": "stdout",
     "output_type": "stream",
     "text": [
      "run 4 of 190 total--------------------------------sentiment_value=-0.9 iteration 4 of 10\n",
      "\n",
      "Building partition fixed_sentiment of 1000 agents\n",
      "\n",
      "  all agents tot_wealth will be: 10000\n",
      "  all agents sigma_prop will be: 0.5\n"
     ]
    },
    {
     "data": {
      "application/vnd.jupyter.widget-view+json": {
       "model_id": "9f938148dbef43fd9ee1fba48123bb52",
       "version_major": 2,
       "version_minor": 0
      },
      "text/plain": [
       "  0%|          | 0/150 [00:00<?, ?it/s]"
      ]
     },
     "metadata": {},
     "output_type": "display_data"
    },
    {
     "name": "stdout",
     "output_type": "stream",
     "text": [
      "run 5 of 190 total--------------------------------sentiment_value=-0.9 iteration 5 of 10\n",
      "\n",
      "Building partition fixed_sentiment of 1000 agents\n",
      "\n",
      "  all agents tot_wealth will be: 10000\n",
      "  all agents sigma_prop will be: 0.5\n"
     ]
    },
    {
     "data": {
      "application/vnd.jupyter.widget-view+json": {
       "model_id": "655444d045df4698aaadc70ff5504551",
       "version_major": 2,
       "version_minor": 0
      },
      "text/plain": [
       "  0%|          | 0/150 [00:00<?, ?it/s]"
      ]
     },
     "metadata": {},
     "output_type": "display_data"
    },
    {
     "name": "stdout",
     "output_type": "stream",
     "text": [
      "run 6 of 190 total--------------------------------sentiment_value=-0.9 iteration 6 of 10\n",
      "\n",
      "Building partition fixed_sentiment of 1000 agents\n",
      "\n",
      "  all agents tot_wealth will be: 10000\n",
      "  all agents sigma_prop will be: 0.5\n"
     ]
    },
    {
     "data": {
      "application/vnd.jupyter.widget-view+json": {
       "model_id": "29a95c5ce06947da9cdc8a48804b3c99",
       "version_major": 2,
       "version_minor": 0
      },
      "text/plain": [
       "  0%|          | 0/150 [00:00<?, ?it/s]"
      ]
     },
     "metadata": {},
     "output_type": "display_data"
    },
    {
     "name": "stdout",
     "output_type": "stream",
     "text": [
      "run 7 of 190 total--------------------------------sentiment_value=-0.9 iteration 7 of 10\n",
      "\n",
      "Building partition fixed_sentiment of 1000 agents\n",
      "\n",
      "  all agents tot_wealth will be: 10000\n",
      "  all agents sigma_prop will be: 0.5\n"
     ]
    },
    {
     "data": {
      "application/vnd.jupyter.widget-view+json": {
       "model_id": "7afcd005fd974aa68713f4bd60699c7c",
       "version_major": 2,
       "version_minor": 0
      },
      "text/plain": [
       "  0%|          | 0/150 [00:00<?, ?it/s]"
      ]
     },
     "metadata": {},
     "output_type": "display_data"
    },
    {
     "name": "stdout",
     "output_type": "stream",
     "text": [
      "run 8 of 190 total--------------------------------sentiment_value=-0.9 iteration 8 of 10\n",
      "\n",
      "Building partition fixed_sentiment of 1000 agents\n",
      "\n",
      "  all agents tot_wealth will be: 10000\n",
      "  all agents sigma_prop will be: 0.5\n"
     ]
    },
    {
     "data": {
      "application/vnd.jupyter.widget-view+json": {
       "model_id": "2233f943027940178a23ea2af096df02",
       "version_major": 2,
       "version_minor": 0
      },
      "text/plain": [
       "  0%|          | 0/150 [00:00<?, ?it/s]"
      ]
     },
     "metadata": {},
     "output_type": "display_data"
    },
    {
     "name": "stdout",
     "output_type": "stream",
     "text": [
      "run 9 of 190 total--------------------------------sentiment_value=-0.9 iteration 9 of 10\n",
      "\n",
      "Building partition fixed_sentiment of 1000 agents\n",
      "\n",
      "  all agents tot_wealth will be: 10000\n",
      "  all agents sigma_prop will be: 0.5\n"
     ]
    },
    {
     "data": {
      "application/vnd.jupyter.widget-view+json": {
       "model_id": "2e5811b825bc4d6d92868a4a58a4b8ab",
       "version_major": 2,
       "version_minor": 0
      },
      "text/plain": [
       "  0%|          | 0/150 [00:00<?, ?it/s]"
      ]
     },
     "metadata": {},
     "output_type": "display_data"
    },
    {
     "name": "stdout",
     "output_type": "stream",
     "text": [
      "run 10 of 190 total-------------------------------sentiment_value=-0.9 iteration 10 of 10\n",
      "\n",
      "Building partition fixed_sentiment of 1000 agents\n",
      "\n",
      "  all agents tot_wealth will be: 10000\n",
      "  all agents sigma_prop will be: 0.5\n"
     ]
    },
    {
     "data": {
      "application/vnd.jupyter.widget-view+json": {
       "model_id": "49a40d5694d0414ca094f369ad6889f1",
       "version_major": 2,
       "version_minor": 0
      },
      "text/plain": [
       "  0%|          | 0/150 [00:00<?, ?it/s]"
      ]
     },
     "metadata": {},
     "output_type": "display_data"
    },
    {
     "name": "stdout",
     "output_type": "stream",
     "text": [
      "run 11 of 190 total-------------------------------sentiment_value=-0.8 iteration 1 of 10\n",
      "\n",
      "Building partition fixed_sentiment of 1000 agents\n",
      "\n",
      "  all agents tot_wealth will be: 10000\n",
      "  all agents sigma_prop will be: 0.5\n"
     ]
    },
    {
     "data": {
      "application/vnd.jupyter.widget-view+json": {
       "model_id": "1641c2a24a794891a77523154a3d4e4e",
       "version_major": 2,
       "version_minor": 0
      },
      "text/plain": [
       "  0%|          | 0/150 [00:00<?, ?it/s]"
      ]
     },
     "metadata": {},
     "output_type": "display_data"
    },
    {
     "name": "stdout",
     "output_type": "stream",
     "text": [
      "run 12 of 190 total-------------------------------sentiment_value=-0.8 iteration 2 of 10\n",
      "\n",
      "Building partition fixed_sentiment of 1000 agents\n",
      "\n",
      "  all agents tot_wealth will be: 10000\n",
      "  all agents sigma_prop will be: 0.5\n"
     ]
    },
    {
     "data": {
      "application/vnd.jupyter.widget-view+json": {
       "model_id": "6c42150c299f47caa293c0c3be777846",
       "version_major": 2,
       "version_minor": 0
      },
      "text/plain": [
       "  0%|          | 0/150 [00:00<?, ?it/s]"
      ]
     },
     "metadata": {},
     "output_type": "display_data"
    },
    {
     "name": "stdout",
     "output_type": "stream",
     "text": [
      "run 13 of 190 total-------------------------------sentiment_value=-0.8 iteration 3 of 10\n",
      "\n",
      "Building partition fixed_sentiment of 1000 agents\n",
      "\n",
      "  all agents tot_wealth will be: 10000\n",
      "  all agents sigma_prop will be: 0.5\n"
     ]
    },
    {
     "data": {
      "application/vnd.jupyter.widget-view+json": {
       "model_id": "78a3f2df325c4e8d9c01f350a3b9a619",
       "version_major": 2,
       "version_minor": 0
      },
      "text/plain": [
       "  0%|          | 0/150 [00:00<?, ?it/s]"
      ]
     },
     "metadata": {},
     "output_type": "display_data"
    },
    {
     "name": "stdout",
     "output_type": "stream",
     "text": [
      "run 14 of 190 total-------------------------------sentiment_value=-0.8 iteration 4 of 10\n",
      "\n",
      "Building partition fixed_sentiment of 1000 agents\n",
      "\n",
      "  all agents tot_wealth will be: 10000\n",
      "  all agents sigma_prop will be: 0.5\n"
     ]
    },
    {
     "data": {
      "application/vnd.jupyter.widget-view+json": {
       "model_id": "54da63cf77d44246baf9c65335a0200b",
       "version_major": 2,
       "version_minor": 0
      },
      "text/plain": [
       "  0%|          | 0/150 [00:00<?, ?it/s]"
      ]
     },
     "metadata": {},
     "output_type": "display_data"
    },
    {
     "name": "stdout",
     "output_type": "stream",
     "text": [
      "run 15 of 190 total-------------------------------sentiment_value=-0.8 iteration 5 of 10\n",
      "\n",
      "Building partition fixed_sentiment of 1000 agents\n",
      "\n",
      "  all agents tot_wealth will be: 10000\n",
      "  all agents sigma_prop will be: 0.5\n"
     ]
    },
    {
     "data": {
      "application/vnd.jupyter.widget-view+json": {
       "model_id": "63ec0b13899d4afda1c1cc54ae8a4a04",
       "version_major": 2,
       "version_minor": 0
      },
      "text/plain": [
       "  0%|          | 0/150 [00:00<?, ?it/s]"
      ]
     },
     "metadata": {},
     "output_type": "display_data"
    },
    {
     "name": "stdout",
     "output_type": "stream",
     "text": [
      "run 16 of 190 total-------------------------------sentiment_value=-0.8 iteration 6 of 10\n",
      "\n",
      "Building partition fixed_sentiment of 1000 agents\n",
      "\n",
      "  all agents tot_wealth will be: 10000\n",
      "  all agents sigma_prop will be: 0.5\n"
     ]
    },
    {
     "data": {
      "application/vnd.jupyter.widget-view+json": {
       "model_id": "d2cdffc848664300970dd4926dc86522",
       "version_major": 2,
       "version_minor": 0
      },
      "text/plain": [
       "  0%|          | 0/150 [00:00<?, ?it/s]"
      ]
     },
     "metadata": {},
     "output_type": "display_data"
    },
    {
     "name": "stdout",
     "output_type": "stream",
     "text": [
      "run 17 of 190 total-------------------------------sentiment_value=-0.8 iteration 7 of 10\n",
      "\n",
      "Building partition fixed_sentiment of 1000 agents\n",
      "\n",
      "  all agents tot_wealth will be: 10000\n",
      "  all agents sigma_prop will be: 0.5\n"
     ]
    },
    {
     "data": {
      "application/vnd.jupyter.widget-view+json": {
       "model_id": "f13ab9299fdb4120894637824bab57a5",
       "version_major": 2,
       "version_minor": 0
      },
      "text/plain": [
       "  0%|          | 0/150 [00:00<?, ?it/s]"
      ]
     },
     "metadata": {},
     "output_type": "display_data"
    },
    {
     "name": "stdout",
     "output_type": "stream",
     "text": [
      "run 18 of 190 total-------------------------------sentiment_value=-0.8 iteration 8 of 10\n",
      "\n",
      "Building partition fixed_sentiment of 1000 agents\n",
      "\n",
      "  all agents tot_wealth will be: 10000\n",
      "  all agents sigma_prop will be: 0.5\n"
     ]
    },
    {
     "data": {
      "application/vnd.jupyter.widget-view+json": {
       "model_id": "74bee126d7a349199bd4fb61af9f54ed",
       "version_major": 2,
       "version_minor": 0
      },
      "text/plain": [
       "  0%|          | 0/150 [00:00<?, ?it/s]"
      ]
     },
     "metadata": {},
     "output_type": "display_data"
    },
    {
     "name": "stdout",
     "output_type": "stream",
     "text": [
      "run 19 of 190 total-------------------------------sentiment_value=-0.8 iteration 9 of 10\n",
      "\n",
      "Building partition fixed_sentiment of 1000 agents\n",
      "\n",
      "  all agents tot_wealth will be: 10000\n",
      "  all agents sigma_prop will be: 0.5\n"
     ]
    },
    {
     "data": {
      "application/vnd.jupyter.widget-view+json": {
       "model_id": "424ba2c4d55e42a9bb10965cfddd6495",
       "version_major": 2,
       "version_minor": 0
      },
      "text/plain": [
       "  0%|          | 0/150 [00:00<?, ?it/s]"
      ]
     },
     "metadata": {},
     "output_type": "display_data"
    },
    {
     "name": "stdout",
     "output_type": "stream",
     "text": [
      "run 20 of 190 total-------------------------------sentiment_value=-0.8 iteration 10 of 10\n",
      "\n",
      "Building partition fixed_sentiment of 1000 agents\n",
      "\n",
      "  all agents tot_wealth will be: 10000\n",
      "  all agents sigma_prop will be: 0.5\n"
     ]
    },
    {
     "data": {
      "application/vnd.jupyter.widget-view+json": {
       "model_id": "3a40a36c0d644eadb0038c7522f358d5",
       "version_major": 2,
       "version_minor": 0
      },
      "text/plain": [
       "  0%|          | 0/150 [00:00<?, ?it/s]"
      ]
     },
     "metadata": {},
     "output_type": "display_data"
    },
    {
     "name": "stdout",
     "output_type": "stream",
     "text": [
      "run 21 of 190 total-------------------------------sentiment_value=-0.7 iteration 1 of 10\n",
      "\n",
      "Building partition fixed_sentiment of 1000 agents\n",
      "\n",
      "  all agents tot_wealth will be: 10000\n",
      "  all agents sigma_prop will be: 0.5\n"
     ]
    },
    {
     "data": {
      "application/vnd.jupyter.widget-view+json": {
       "model_id": "e2a721172e6f43a58aebe56153e06b10",
       "version_major": 2,
       "version_minor": 0
      },
      "text/plain": [
       "  0%|          | 0/150 [00:00<?, ?it/s]"
      ]
     },
     "metadata": {},
     "output_type": "display_data"
    },
    {
     "name": "stdout",
     "output_type": "stream",
     "text": [
      "run 22 of 190 total-------------------------------sentiment_value=-0.7 iteration 2 of 10\n",
      "\n",
      "Building partition fixed_sentiment of 1000 agents\n",
      "\n",
      "  all agents tot_wealth will be: 10000\n",
      "  all agents sigma_prop will be: 0.5\n"
     ]
    },
    {
     "data": {
      "application/vnd.jupyter.widget-view+json": {
       "model_id": "e72e0bd3bf394f15b73915678d4f9f4c",
       "version_major": 2,
       "version_minor": 0
      },
      "text/plain": [
       "  0%|          | 0/150 [00:00<?, ?it/s]"
      ]
     },
     "metadata": {},
     "output_type": "display_data"
    },
    {
     "name": "stdout",
     "output_type": "stream",
     "text": [
      "run 23 of 190 total-------------------------------sentiment_value=-0.7 iteration 3 of 10\n",
      "\n",
      "Building partition fixed_sentiment of 1000 agents\n",
      "\n",
      "  all agents tot_wealth will be: 10000\n",
      "  all agents sigma_prop will be: 0.5\n"
     ]
    },
    {
     "data": {
      "application/vnd.jupyter.widget-view+json": {
       "model_id": "7588d5406fdc497196ffade5dbe144d7",
       "version_major": 2,
       "version_minor": 0
      },
      "text/plain": [
       "  0%|          | 0/150 [00:00<?, ?it/s]"
      ]
     },
     "metadata": {},
     "output_type": "display_data"
    },
    {
     "name": "stdout",
     "output_type": "stream",
     "text": [
      "run 24 of 190 total-------------------------------sentiment_value=-0.7 iteration 4 of 10\n",
      "\n",
      "Building partition fixed_sentiment of 1000 agents\n",
      "\n",
      "  all agents tot_wealth will be: 10000\n",
      "  all agents sigma_prop will be: 0.5\n"
     ]
    },
    {
     "data": {
      "application/vnd.jupyter.widget-view+json": {
       "model_id": "20d4616f3779468d9aff3a2263e7d992",
       "version_major": 2,
       "version_minor": 0
      },
      "text/plain": [
       "  0%|          | 0/150 [00:00<?, ?it/s]"
      ]
     },
     "metadata": {},
     "output_type": "display_data"
    },
    {
     "name": "stdout",
     "output_type": "stream",
     "text": [
      "run 25 of 190 total-------------------------------sentiment_value=-0.7 iteration 5 of 10\n",
      "\n",
      "Building partition fixed_sentiment of 1000 agents\n",
      "\n",
      "  all agents tot_wealth will be: 10000\n",
      "  all agents sigma_prop will be: 0.5\n"
     ]
    },
    {
     "data": {
      "application/vnd.jupyter.widget-view+json": {
       "model_id": "75a8bd2465a3437b822f5d65017c3df9",
       "version_major": 2,
       "version_minor": 0
      },
      "text/plain": [
       "  0%|          | 0/150 [00:00<?, ?it/s]"
      ]
     },
     "metadata": {},
     "output_type": "display_data"
    },
    {
     "name": "stdout",
     "output_type": "stream",
     "text": [
      "run 26 of 190 total-------------------------------sentiment_value=-0.7 iteration 6 of 10\n",
      "\n",
      "Building partition fixed_sentiment of 1000 agents\n",
      "\n",
      "  all agents tot_wealth will be: 10000\n",
      "  all agents sigma_prop will be: 0.5\n"
     ]
    },
    {
     "data": {
      "application/vnd.jupyter.widget-view+json": {
       "model_id": "9584a9fa35bc4376891cbc7a2adbcb12",
       "version_major": 2,
       "version_minor": 0
      },
      "text/plain": [
       "  0%|          | 0/150 [00:00<?, ?it/s]"
      ]
     },
     "metadata": {},
     "output_type": "display_data"
    },
    {
     "name": "stdout",
     "output_type": "stream",
     "text": [
      "run 27 of 190 total-------------------------------sentiment_value=-0.7 iteration 7 of 10\n",
      "\n",
      "Building partition fixed_sentiment of 1000 agents\n",
      "\n",
      "  all agents tot_wealth will be: 10000\n",
      "  all agents sigma_prop will be: 0.5\n"
     ]
    },
    {
     "data": {
      "application/vnd.jupyter.widget-view+json": {
       "model_id": "72a8796f65054377a637cbcab821f2ae",
       "version_major": 2,
       "version_minor": 0
      },
      "text/plain": [
       "  0%|          | 0/150 [00:00<?, ?it/s]"
      ]
     },
     "metadata": {},
     "output_type": "display_data"
    },
    {
     "name": "stdout",
     "output_type": "stream",
     "text": [
      "run 28 of 190 total-------------------------------sentiment_value=-0.7 iteration 8 of 10\n",
      "\n",
      "Building partition fixed_sentiment of 1000 agents\n",
      "\n",
      "  all agents tot_wealth will be: 10000\n",
      "  all agents sigma_prop will be: 0.5\n"
     ]
    },
    {
     "data": {
      "application/vnd.jupyter.widget-view+json": {
       "model_id": "bf3bda9a95804804beb7c1802bf38e56",
       "version_major": 2,
       "version_minor": 0
      },
      "text/plain": [
       "  0%|          | 0/150 [00:00<?, ?it/s]"
      ]
     },
     "metadata": {},
     "output_type": "display_data"
    },
    {
     "name": "stdout",
     "output_type": "stream",
     "text": [
      "run 29 of 190 total-------------------------------sentiment_value=-0.7 iteration 9 of 10\n",
      "\n",
      "Building partition fixed_sentiment of 1000 agents\n",
      "\n",
      "  all agents tot_wealth will be: 10000\n",
      "  all agents sigma_prop will be: 0.5\n"
     ]
    },
    {
     "data": {
      "application/vnd.jupyter.widget-view+json": {
       "model_id": "efe84e05eac64d4ba9272f25a6881be3",
       "version_major": 2,
       "version_minor": 0
      },
      "text/plain": [
       "  0%|          | 0/150 [00:00<?, ?it/s]"
      ]
     },
     "metadata": {},
     "output_type": "display_data"
    },
    {
     "name": "stdout",
     "output_type": "stream",
     "text": [
      "run 30 of 190 total-------------------------------sentiment_value=-0.7 iteration 10 of 10\n",
      "\n",
      "Building partition fixed_sentiment of 1000 agents\n",
      "\n",
      "  all agents tot_wealth will be: 10000\n",
      "  all agents sigma_prop will be: 0.5\n"
     ]
    },
    {
     "data": {
      "application/vnd.jupyter.widget-view+json": {
       "model_id": "680fd8380591485bab349ecb46cedac2",
       "version_major": 2,
       "version_minor": 0
      },
      "text/plain": [
       "  0%|          | 0/150 [00:00<?, ?it/s]"
      ]
     },
     "metadata": {},
     "output_type": "display_data"
    },
    {
     "name": "stdout",
     "output_type": "stream",
     "text": [
      "run 31 of 190 total-------------------------------sentiment_value=-0.6 iteration 1 of 10\n",
      "\n",
      "Building partition fixed_sentiment of 1000 agents\n",
      "\n",
      "  all agents tot_wealth will be: 10000\n",
      "  all agents sigma_prop will be: 0.5\n"
     ]
    },
    {
     "data": {
      "application/vnd.jupyter.widget-view+json": {
       "model_id": "eb0996947d7746a9a2c7cf3bae85235b",
       "version_major": 2,
       "version_minor": 0
      },
      "text/plain": [
       "  0%|          | 0/150 [00:00<?, ?it/s]"
      ]
     },
     "metadata": {},
     "output_type": "display_data"
    },
    {
     "name": "stdout",
     "output_type": "stream",
     "text": [
      "run 32 of 190 total-------------------------------sentiment_value=-0.6 iteration 2 of 10\n",
      "\n",
      "Building partition fixed_sentiment of 1000 agents\n",
      "\n",
      "  all agents tot_wealth will be: 10000\n",
      "  all agents sigma_prop will be: 0.5\n"
     ]
    },
    {
     "data": {
      "application/vnd.jupyter.widget-view+json": {
       "model_id": "7e5dc8aac73840baaa6cf39ebf0ebae7",
       "version_major": 2,
       "version_minor": 0
      },
      "text/plain": [
       "  0%|          | 0/150 [00:00<?, ?it/s]"
      ]
     },
     "metadata": {},
     "output_type": "display_data"
    },
    {
     "name": "stdout",
     "output_type": "stream",
     "text": [
      "run 33 of 190 total-------------------------------sentiment_value=-0.6 iteration 3 of 10\n",
      "\n",
      "Building partition fixed_sentiment of 1000 agents\n",
      "\n",
      "  all agents tot_wealth will be: 10000\n",
      "  all agents sigma_prop will be: 0.5\n"
     ]
    },
    {
     "data": {
      "application/vnd.jupyter.widget-view+json": {
       "model_id": "ba47df8322774e93a3af57a6a017fe8b",
       "version_major": 2,
       "version_minor": 0
      },
      "text/plain": [
       "  0%|          | 0/150 [00:00<?, ?it/s]"
      ]
     },
     "metadata": {},
     "output_type": "display_data"
    },
    {
     "name": "stdout",
     "output_type": "stream",
     "text": [
      "run 34 of 190 total-------------------------------sentiment_value=-0.6 iteration 4 of 10\n",
      "\n",
      "Building partition fixed_sentiment of 1000 agents\n",
      "\n",
      "  all agents tot_wealth will be: 10000\n",
      "  all agents sigma_prop will be: 0.5\n"
     ]
    },
    {
     "data": {
      "application/vnd.jupyter.widget-view+json": {
       "model_id": "4e4c64fa972149be8e03c2a972e2f6da",
       "version_major": 2,
       "version_minor": 0
      },
      "text/plain": [
       "  0%|          | 0/150 [00:00<?, ?it/s]"
      ]
     },
     "metadata": {},
     "output_type": "display_data"
    },
    {
     "name": "stdout",
     "output_type": "stream",
     "text": [
      "run 35 of 190 total-------------------------------sentiment_value=-0.6 iteration 5 of 10\n",
      "\n",
      "Building partition fixed_sentiment of 1000 agents\n",
      "\n",
      "  all agents tot_wealth will be: 10000\n",
      "  all agents sigma_prop will be: 0.5\n"
     ]
    },
    {
     "data": {
      "application/vnd.jupyter.widget-view+json": {
       "model_id": "39eee7f4517d4293add110604473f0ee",
       "version_major": 2,
       "version_minor": 0
      },
      "text/plain": [
       "  0%|          | 0/150 [00:00<?, ?it/s]"
      ]
     },
     "metadata": {},
     "output_type": "display_data"
    },
    {
     "name": "stdout",
     "output_type": "stream",
     "text": [
      "run 36 of 190 total-------------------------------sentiment_value=-0.6 iteration 6 of 10\n",
      "\n",
      "Building partition fixed_sentiment of 1000 agents\n",
      "\n",
      "  all agents tot_wealth will be: 10000\n",
      "  all agents sigma_prop will be: 0.5\n"
     ]
    },
    {
     "data": {
      "application/vnd.jupyter.widget-view+json": {
       "model_id": "90e9ff74ba724a4999b2e97866b4732d",
       "version_major": 2,
       "version_minor": 0
      },
      "text/plain": [
       "  0%|          | 0/150 [00:00<?, ?it/s]"
      ]
     },
     "metadata": {},
     "output_type": "display_data"
    },
    {
     "name": "stdout",
     "output_type": "stream",
     "text": [
      "run 37 of 190 total-------------------------------sentiment_value=-0.6 iteration 7 of 10\n",
      "\n",
      "Building partition fixed_sentiment of 1000 agents\n",
      "\n",
      "  all agents tot_wealth will be: 10000\n",
      "  all agents sigma_prop will be: 0.5\n"
     ]
    },
    {
     "data": {
      "application/vnd.jupyter.widget-view+json": {
       "model_id": "5bf46141dd95442db9020deebb1cf0d7",
       "version_major": 2,
       "version_minor": 0
      },
      "text/plain": [
       "  0%|          | 0/150 [00:00<?, ?it/s]"
      ]
     },
     "metadata": {},
     "output_type": "display_data"
    },
    {
     "name": "stdout",
     "output_type": "stream",
     "text": [
      "run 38 of 190 total-------------------------------sentiment_value=-0.6 iteration 8 of 10\n",
      "\n",
      "Building partition fixed_sentiment of 1000 agents\n",
      "\n",
      "  all agents tot_wealth will be: 10000\n",
      "  all agents sigma_prop will be: 0.5\n"
     ]
    },
    {
     "data": {
      "application/vnd.jupyter.widget-view+json": {
       "model_id": "ddbd93232e454b57a7447a1f42e1302f",
       "version_major": 2,
       "version_minor": 0
      },
      "text/plain": [
       "  0%|          | 0/150 [00:00<?, ?it/s]"
      ]
     },
     "metadata": {},
     "output_type": "display_data"
    },
    {
     "name": "stdout",
     "output_type": "stream",
     "text": [
      "run 39 of 190 total-------------------------------sentiment_value=-0.6 iteration 9 of 10\n",
      "\n",
      "Building partition fixed_sentiment of 1000 agents\n",
      "\n",
      "  all agents tot_wealth will be: 10000\n",
      "  all agents sigma_prop will be: 0.5\n"
     ]
    },
    {
     "data": {
      "application/vnd.jupyter.widget-view+json": {
       "model_id": "ac4ed569774d4c1e9b7cbeb474c3ab7b",
       "version_major": 2,
       "version_minor": 0
      },
      "text/plain": [
       "  0%|          | 0/150 [00:00<?, ?it/s]"
      ]
     },
     "metadata": {},
     "output_type": "display_data"
    },
    {
     "name": "stdout",
     "output_type": "stream",
     "text": [
      "run 40 of 190 total-------------------------------sentiment_value=-0.6 iteration 10 of 10\n",
      "\n",
      "Building partition fixed_sentiment of 1000 agents\n",
      "\n",
      "  all agents tot_wealth will be: 10000\n",
      "  all agents sigma_prop will be: 0.5\n"
     ]
    },
    {
     "data": {
      "application/vnd.jupyter.widget-view+json": {
       "model_id": "ea51efa62b154119a1028722225ba485",
       "version_major": 2,
       "version_minor": 0
      },
      "text/plain": [
       "  0%|          | 0/150 [00:00<?, ?it/s]"
      ]
     },
     "metadata": {},
     "output_type": "display_data"
    },
    {
     "name": "stdout",
     "output_type": "stream",
     "text": [
      "run 41 of 190 total-------------------------------sentiment_value=-0.5 iteration 1 of 10\n",
      "\n",
      "Building partition fixed_sentiment of 1000 agents\n",
      "\n",
      "  all agents tot_wealth will be: 10000\n",
      "  all agents sigma_prop will be: 0.5\n"
     ]
    },
    {
     "data": {
      "application/vnd.jupyter.widget-view+json": {
       "model_id": "cce7457137154bf7be4dc9bf074b5f99",
       "version_major": 2,
       "version_minor": 0
      },
      "text/plain": [
       "  0%|          | 0/150 [00:00<?, ?it/s]"
      ]
     },
     "metadata": {},
     "output_type": "display_data"
    },
    {
     "name": "stdout",
     "output_type": "stream",
     "text": [
      "run 42 of 190 total-------------------------------sentiment_value=-0.5 iteration 2 of 10\n",
      "\n",
      "Building partition fixed_sentiment of 1000 agents\n",
      "\n",
      "  all agents tot_wealth will be: 10000\n",
      "  all agents sigma_prop will be: 0.5\n"
     ]
    },
    {
     "data": {
      "application/vnd.jupyter.widget-view+json": {
       "model_id": "41ba853f49874969861894c6dafd0a28",
       "version_major": 2,
       "version_minor": 0
      },
      "text/plain": [
       "  0%|          | 0/150 [00:00<?, ?it/s]"
      ]
     },
     "metadata": {},
     "output_type": "display_data"
    },
    {
     "name": "stdout",
     "output_type": "stream",
     "text": [
      "run 43 of 190 total-------------------------------sentiment_value=-0.5 iteration 3 of 10\n",
      "\n",
      "Building partition fixed_sentiment of 1000 agents\n",
      "\n",
      "  all agents tot_wealth will be: 10000\n",
      "  all agents sigma_prop will be: 0.5\n"
     ]
    },
    {
     "data": {
      "application/vnd.jupyter.widget-view+json": {
       "model_id": "08618ffc869f4a5a91c73cd2947a9c69",
       "version_major": 2,
       "version_minor": 0
      },
      "text/plain": [
       "  0%|          | 0/150 [00:00<?, ?it/s]"
      ]
     },
     "metadata": {},
     "output_type": "display_data"
    },
    {
     "name": "stdout",
     "output_type": "stream",
     "text": [
      "run 44 of 190 total-------------------------------sentiment_value=-0.5 iteration 4 of 10\n",
      "\n",
      "Building partition fixed_sentiment of 1000 agents\n",
      "\n",
      "  all agents tot_wealth will be: 10000\n",
      "  all agents sigma_prop will be: 0.5\n"
     ]
    },
    {
     "data": {
      "application/vnd.jupyter.widget-view+json": {
       "model_id": "cbb9a2fa5aec4dc0b946157db082dc1a",
       "version_major": 2,
       "version_minor": 0
      },
      "text/plain": [
       "  0%|          | 0/150 [00:00<?, ?it/s]"
      ]
     },
     "metadata": {},
     "output_type": "display_data"
    },
    {
     "name": "stdout",
     "output_type": "stream",
     "text": [
      "run 45 of 190 total-------------------------------sentiment_value=-0.5 iteration 5 of 10\n",
      "\n",
      "Building partition fixed_sentiment of 1000 agents\n",
      "\n",
      "  all agents tot_wealth will be: 10000\n",
      "  all agents sigma_prop will be: 0.5\n"
     ]
    },
    {
     "data": {
      "application/vnd.jupyter.widget-view+json": {
       "model_id": "29280b97745d4a40a1fa0d8dc466d42b",
       "version_major": 2,
       "version_minor": 0
      },
      "text/plain": [
       "  0%|          | 0/150 [00:00<?, ?it/s]"
      ]
     },
     "metadata": {},
     "output_type": "display_data"
    },
    {
     "name": "stdout",
     "output_type": "stream",
     "text": [
      "run 46 of 190 total-------------------------------sentiment_value=-0.5 iteration 6 of 10\n",
      "\n",
      "Building partition fixed_sentiment of 1000 agents\n",
      "\n",
      "  all agents tot_wealth will be: 10000\n",
      "  all agents sigma_prop will be: 0.5\n"
     ]
    },
    {
     "data": {
      "application/vnd.jupyter.widget-view+json": {
       "model_id": "87e9fb9550da435a9053c991b6f858c0",
       "version_major": 2,
       "version_minor": 0
      },
      "text/plain": [
       "  0%|          | 0/150 [00:00<?, ?it/s]"
      ]
     },
     "metadata": {},
     "output_type": "display_data"
    },
    {
     "name": "stdout",
     "output_type": "stream",
     "text": [
      "run 47 of 190 total-------------------------------sentiment_value=-0.5 iteration 7 of 10\n",
      "\n",
      "Building partition fixed_sentiment of 1000 agents\n",
      "\n",
      "  all agents tot_wealth will be: 10000\n",
      "  all agents sigma_prop will be: 0.5\n"
     ]
    },
    {
     "data": {
      "application/vnd.jupyter.widget-view+json": {
       "model_id": "37b34f6e69b34538ac37b6752b965cf1",
       "version_major": 2,
       "version_minor": 0
      },
      "text/plain": [
       "  0%|          | 0/150 [00:00<?, ?it/s]"
      ]
     },
     "metadata": {},
     "output_type": "display_data"
    },
    {
     "name": "stdout",
     "output_type": "stream",
     "text": [
      "run 48 of 190 total-------------------------------sentiment_value=-0.5 iteration 8 of 10\n",
      "\n",
      "Building partition fixed_sentiment of 1000 agents\n",
      "\n",
      "  all agents tot_wealth will be: 10000\n",
      "  all agents sigma_prop will be: 0.5\n"
     ]
    },
    {
     "data": {
      "application/vnd.jupyter.widget-view+json": {
       "model_id": "edf342be0f4943cfaa0a505d0e550934",
       "version_major": 2,
       "version_minor": 0
      },
      "text/plain": [
       "  0%|          | 0/150 [00:00<?, ?it/s]"
      ]
     },
     "metadata": {},
     "output_type": "display_data"
    },
    {
     "name": "stdout",
     "output_type": "stream",
     "text": [
      "run 49 of 190 total-------------------------------sentiment_value=-0.5 iteration 9 of 10\n",
      "\n",
      "Building partition fixed_sentiment of 1000 agents\n",
      "\n",
      "  all agents tot_wealth will be: 10000\n",
      "  all agents sigma_prop will be: 0.5\n"
     ]
    },
    {
     "data": {
      "application/vnd.jupyter.widget-view+json": {
       "model_id": "39aa86cfccc841ca92408255b5076e0f",
       "version_major": 2,
       "version_minor": 0
      },
      "text/plain": [
       "  0%|          | 0/150 [00:00<?, ?it/s]"
      ]
     },
     "metadata": {},
     "output_type": "display_data"
    },
    {
     "name": "stdout",
     "output_type": "stream",
     "text": [
      "run 50 of 190 total-------------------------------sentiment_value=-0.5 iteration 10 of 10\n",
      "\n",
      "Building partition fixed_sentiment of 1000 agents\n",
      "\n",
      "  all agents tot_wealth will be: 10000\n",
      "  all agents sigma_prop will be: 0.5\n"
     ]
    },
    {
     "data": {
      "application/vnd.jupyter.widget-view+json": {
       "model_id": "057c54f5d07b422c8d327882eacd5cea",
       "version_major": 2,
       "version_minor": 0
      },
      "text/plain": [
       "  0%|          | 0/150 [00:00<?, ?it/s]"
      ]
     },
     "metadata": {},
     "output_type": "display_data"
    },
    {
     "name": "stdout",
     "output_type": "stream",
     "text": [
      "run 51 of 190 total-------------------------------sentiment_value=-0.4 iteration 1 of 10\n",
      "\n",
      "Building partition fixed_sentiment of 1000 agents\n",
      "\n",
      "  all agents tot_wealth will be: 10000\n",
      "  all agents sigma_prop will be: 0.5\n"
     ]
    },
    {
     "data": {
      "application/vnd.jupyter.widget-view+json": {
       "model_id": "d50c046c1f2c4b04baff6f66dd956c6b",
       "version_major": 2,
       "version_minor": 0
      },
      "text/plain": [
       "  0%|          | 0/150 [00:00<?, ?it/s]"
      ]
     },
     "metadata": {},
     "output_type": "display_data"
    },
    {
     "name": "stdout",
     "output_type": "stream",
     "text": [
      "run 52 of 190 total-------------------------------sentiment_value=-0.4 iteration 2 of 10\n",
      "\n",
      "Building partition fixed_sentiment of 1000 agents\n",
      "\n",
      "  all agents tot_wealth will be: 10000\n",
      "  all agents sigma_prop will be: 0.5\n"
     ]
    },
    {
     "data": {
      "application/vnd.jupyter.widget-view+json": {
       "model_id": "c57a9f2a4f06416f938d5a9f9f0045e6",
       "version_major": 2,
       "version_minor": 0
      },
      "text/plain": [
       "  0%|          | 0/150 [00:00<?, ?it/s]"
      ]
     },
     "metadata": {},
     "output_type": "display_data"
    },
    {
     "name": "stdout",
     "output_type": "stream",
     "text": [
      "run 53 of 190 total-------------------------------sentiment_value=-0.4 iteration 3 of 10\n",
      "\n",
      "Building partition fixed_sentiment of 1000 agents\n",
      "\n",
      "  all agents tot_wealth will be: 10000\n",
      "  all agents sigma_prop will be: 0.5\n"
     ]
    },
    {
     "data": {
      "application/vnd.jupyter.widget-view+json": {
       "model_id": "e9e21a512a29483e95ac2cacfd4a934d",
       "version_major": 2,
       "version_minor": 0
      },
      "text/plain": [
       "  0%|          | 0/150 [00:00<?, ?it/s]"
      ]
     },
     "metadata": {},
     "output_type": "display_data"
    },
    {
     "name": "stdout",
     "output_type": "stream",
     "text": [
      "run 54 of 190 total-------------------------------sentiment_value=-0.4 iteration 4 of 10\n",
      "\n",
      "Building partition fixed_sentiment of 1000 agents\n",
      "\n",
      "  all agents tot_wealth will be: 10000\n",
      "  all agents sigma_prop will be: 0.5\n"
     ]
    },
    {
     "data": {
      "application/vnd.jupyter.widget-view+json": {
       "model_id": "e8c591fe5d0e440186e50c3151db391d",
       "version_major": 2,
       "version_minor": 0
      },
      "text/plain": [
       "  0%|          | 0/150 [00:00<?, ?it/s]"
      ]
     },
     "metadata": {},
     "output_type": "display_data"
    },
    {
     "name": "stdout",
     "output_type": "stream",
     "text": [
      "run 55 of 190 total-------------------------------sentiment_value=-0.4 iteration 5 of 10\n",
      "\n",
      "Building partition fixed_sentiment of 1000 agents\n",
      "\n",
      "  all agents tot_wealth will be: 10000\n",
      "  all agents sigma_prop will be: 0.5\n"
     ]
    },
    {
     "data": {
      "application/vnd.jupyter.widget-view+json": {
       "model_id": "94165ae638b848e0bc9ae45e29e37840",
       "version_major": 2,
       "version_minor": 0
      },
      "text/plain": [
       "  0%|          | 0/150 [00:00<?, ?it/s]"
      ]
     },
     "metadata": {},
     "output_type": "display_data"
    },
    {
     "name": "stdout",
     "output_type": "stream",
     "text": [
      "run 56 of 190 total-------------------------------sentiment_value=-0.4 iteration 6 of 10\n",
      "\n",
      "Building partition fixed_sentiment of 1000 agents\n",
      "\n",
      "  all agents tot_wealth will be: 10000\n",
      "  all agents sigma_prop will be: 0.5\n"
     ]
    },
    {
     "data": {
      "application/vnd.jupyter.widget-view+json": {
       "model_id": "e1b518d70ede4a53ad741de75d487ef0",
       "version_major": 2,
       "version_minor": 0
      },
      "text/plain": [
       "  0%|          | 0/150 [00:00<?, ?it/s]"
      ]
     },
     "metadata": {},
     "output_type": "display_data"
    },
    {
     "name": "stdout",
     "output_type": "stream",
     "text": [
      "run 57 of 190 total-------------------------------sentiment_value=-0.4 iteration 7 of 10\n",
      "\n",
      "Building partition fixed_sentiment of 1000 agents\n",
      "\n",
      "  all agents tot_wealth will be: 10000\n",
      "  all agents sigma_prop will be: 0.5\n"
     ]
    },
    {
     "data": {
      "application/vnd.jupyter.widget-view+json": {
       "model_id": "05add08b344c455ebd49f17c802b50f1",
       "version_major": 2,
       "version_minor": 0
      },
      "text/plain": [
       "  0%|          | 0/150 [00:00<?, ?it/s]"
      ]
     },
     "metadata": {},
     "output_type": "display_data"
    },
    {
     "name": "stdout",
     "output_type": "stream",
     "text": [
      "run 58 of 190 total-------------------------------sentiment_value=-0.4 iteration 8 of 10\n",
      "\n",
      "Building partition fixed_sentiment of 1000 agents\n",
      "\n",
      "  all agents tot_wealth will be: 10000\n",
      "  all agents sigma_prop will be: 0.5\n"
     ]
    },
    {
     "data": {
      "application/vnd.jupyter.widget-view+json": {
       "model_id": "64408d18d24f44e9adf33263ddf4b27f",
       "version_major": 2,
       "version_minor": 0
      },
      "text/plain": [
       "  0%|          | 0/150 [00:00<?, ?it/s]"
      ]
     },
     "metadata": {},
     "output_type": "display_data"
    },
    {
     "name": "stdout",
     "output_type": "stream",
     "text": [
      "run 59 of 190 total-------------------------------sentiment_value=-0.4 iteration 9 of 10\n",
      "\n",
      "Building partition fixed_sentiment of 1000 agents\n",
      "\n",
      "  all agents tot_wealth will be: 10000\n",
      "  all agents sigma_prop will be: 0.5\n"
     ]
    },
    {
     "data": {
      "application/vnd.jupyter.widget-view+json": {
       "model_id": "fb298784d52148dfa5f6f5af1ca14f37",
       "version_major": 2,
       "version_minor": 0
      },
      "text/plain": [
       "  0%|          | 0/150 [00:00<?, ?it/s]"
      ]
     },
     "metadata": {},
     "output_type": "display_data"
    },
    {
     "name": "stdout",
     "output_type": "stream",
     "text": [
      "run 60 of 190 total-------------------------------sentiment_value=-0.4 iteration 10 of 10\n",
      "\n",
      "Building partition fixed_sentiment of 1000 agents\n",
      "\n",
      "  all agents tot_wealth will be: 10000\n",
      "  all agents sigma_prop will be: 0.5\n"
     ]
    },
    {
     "data": {
      "application/vnd.jupyter.widget-view+json": {
       "model_id": "3b6fa1b6e25542bdbf18af54ba910902",
       "version_major": 2,
       "version_minor": 0
      },
      "text/plain": [
       "  0%|          | 0/150 [00:00<?, ?it/s]"
      ]
     },
     "metadata": {},
     "output_type": "display_data"
    },
    {
     "name": "stdout",
     "output_type": "stream",
     "text": [
      "run 61 of 190 total-------------------------------sentiment_value=-0.29999999999999993 iteration 1 of 10\n",
      "\n",
      "Building partition fixed_sentiment of 1000 agents\n",
      "\n",
      "  all agents tot_wealth will be: 10000\n",
      "  all agents sigma_prop will be: 0.5\n"
     ]
    },
    {
     "data": {
      "application/vnd.jupyter.widget-view+json": {
       "model_id": "2519ac25de954a928216fec68c711da4",
       "version_major": 2,
       "version_minor": 0
      },
      "text/plain": [
       "  0%|          | 0/150 [00:00<?, ?it/s]"
      ]
     },
     "metadata": {},
     "output_type": "display_data"
    },
    {
     "name": "stdout",
     "output_type": "stream",
     "text": [
      "run 62 of 190 total-------------------------------sentiment_value=-0.29999999999999993 iteration 2 of 10\n",
      "\n",
      "Building partition fixed_sentiment of 1000 agents\n",
      "\n",
      "  all agents tot_wealth will be: 10000\n",
      "  all agents sigma_prop will be: 0.5\n"
     ]
    },
    {
     "data": {
      "application/vnd.jupyter.widget-view+json": {
       "model_id": "d38b4b0b5de14ed181200ed38b31a941",
       "version_major": 2,
       "version_minor": 0
      },
      "text/plain": [
       "  0%|          | 0/150 [00:00<?, ?it/s]"
      ]
     },
     "metadata": {},
     "output_type": "display_data"
    },
    {
     "name": "stdout",
     "output_type": "stream",
     "text": [
      "run 63 of 190 total-------------------------------sentiment_value=-0.29999999999999993 iteration 3 of 10\n",
      "\n",
      "Building partition fixed_sentiment of 1000 agents\n",
      "\n",
      "  all agents tot_wealth will be: 10000\n",
      "  all agents sigma_prop will be: 0.5\n"
     ]
    },
    {
     "data": {
      "application/vnd.jupyter.widget-view+json": {
       "model_id": "5ec47cec161544f197a1ec1628f2e649",
       "version_major": 2,
       "version_minor": 0
      },
      "text/plain": [
       "  0%|          | 0/150 [00:00<?, ?it/s]"
      ]
     },
     "metadata": {},
     "output_type": "display_data"
    },
    {
     "name": "stdout",
     "output_type": "stream",
     "text": [
      "run 64 of 190 total-------------------------------sentiment_value=-0.29999999999999993 iteration 4 of 10\n",
      "\n",
      "Building partition fixed_sentiment of 1000 agents\n",
      "\n",
      "  all agents tot_wealth will be: 10000\n",
      "  all agents sigma_prop will be: 0.5\n"
     ]
    },
    {
     "data": {
      "application/vnd.jupyter.widget-view+json": {
       "model_id": "9cd7aa142f5e45298b7fb28a4ab009c2",
       "version_major": 2,
       "version_minor": 0
      },
      "text/plain": [
       "  0%|          | 0/150 [00:00<?, ?it/s]"
      ]
     },
     "metadata": {},
     "output_type": "display_data"
    },
    {
     "name": "stdout",
     "output_type": "stream",
     "text": [
      "run 65 of 190 total-------------------------------sentiment_value=-0.29999999999999993 iteration 5 of 10\n",
      "\n",
      "Building partition fixed_sentiment of 1000 agents\n",
      "\n",
      "  all agents tot_wealth will be: 10000\n",
      "  all agents sigma_prop will be: 0.5\n"
     ]
    },
    {
     "data": {
      "application/vnd.jupyter.widget-view+json": {
       "model_id": "ed65518fbd024cf9a31a390017ebd07b",
       "version_major": 2,
       "version_minor": 0
      },
      "text/plain": [
       "  0%|          | 0/150 [00:00<?, ?it/s]"
      ]
     },
     "metadata": {},
     "output_type": "display_data"
    },
    {
     "name": "stdout",
     "output_type": "stream",
     "text": [
      "run 66 of 190 total-------------------------------sentiment_value=-0.29999999999999993 iteration 6 of 10\n",
      "\n",
      "Building partition fixed_sentiment of 1000 agents\n",
      "\n",
      "  all agents tot_wealth will be: 10000\n",
      "  all agents sigma_prop will be: 0.5\n"
     ]
    },
    {
     "data": {
      "application/vnd.jupyter.widget-view+json": {
       "model_id": "70d222e8314b4bdcbcf7f689ff973859",
       "version_major": 2,
       "version_minor": 0
      },
      "text/plain": [
       "  0%|          | 0/150 [00:00<?, ?it/s]"
      ]
     },
     "metadata": {},
     "output_type": "display_data"
    },
    {
     "name": "stdout",
     "output_type": "stream",
     "text": [
      "run 67 of 190 total-------------------------------sentiment_value=-0.29999999999999993 iteration 7 of 10\n",
      "\n",
      "Building partition fixed_sentiment of 1000 agents\n",
      "\n",
      "  all agents tot_wealth will be: 10000\n",
      "  all agents sigma_prop will be: 0.5\n"
     ]
    },
    {
     "data": {
      "application/vnd.jupyter.widget-view+json": {
       "model_id": "af7fed6ccd2b44ac9c6c3715f532c773",
       "version_major": 2,
       "version_minor": 0
      },
      "text/plain": [
       "  0%|          | 0/150 [00:00<?, ?it/s]"
      ]
     },
     "metadata": {},
     "output_type": "display_data"
    },
    {
     "name": "stdout",
     "output_type": "stream",
     "text": [
      "run 68 of 190 total-------------------------------sentiment_value=-0.29999999999999993 iteration 8 of 10\n",
      "\n",
      "Building partition fixed_sentiment of 1000 agents\n",
      "\n",
      "  all agents tot_wealth will be: 10000\n",
      "  all agents sigma_prop will be: 0.5\n"
     ]
    },
    {
     "data": {
      "application/vnd.jupyter.widget-view+json": {
       "model_id": "8ce69d586b044dd9abf786e12344bcbf",
       "version_major": 2,
       "version_minor": 0
      },
      "text/plain": [
       "  0%|          | 0/150 [00:00<?, ?it/s]"
      ]
     },
     "metadata": {},
     "output_type": "display_data"
    },
    {
     "name": "stdout",
     "output_type": "stream",
     "text": [
      "run 69 of 190 total-------------------------------sentiment_value=-0.29999999999999993 iteration 9 of 10\n",
      "\n",
      "Building partition fixed_sentiment of 1000 agents\n",
      "\n",
      "  all agents tot_wealth will be: 10000\n",
      "  all agents sigma_prop will be: 0.5\n"
     ]
    },
    {
     "data": {
      "application/vnd.jupyter.widget-view+json": {
       "model_id": "f4c87bb0184f4aad8e48c5e98add7b33",
       "version_major": 2,
       "version_minor": 0
      },
      "text/plain": [
       "  0%|          | 0/150 [00:00<?, ?it/s]"
      ]
     },
     "metadata": {},
     "output_type": "display_data"
    },
    {
     "name": "stdout",
     "output_type": "stream",
     "text": [
      "run 70 of 190 total-------------------------------sentiment_value=-0.29999999999999993 iteration 10 of 10\n",
      "\n",
      "Building partition fixed_sentiment of 1000 agents\n",
      "\n",
      "  all agents tot_wealth will be: 10000\n",
      "  all agents sigma_prop will be: 0.5\n"
     ]
    },
    {
     "data": {
      "application/vnd.jupyter.widget-view+json": {
       "model_id": "f87f10c3977e4a5093203484d5ccab8b",
       "version_major": 2,
       "version_minor": 0
      },
      "text/plain": [
       "  0%|          | 0/150 [00:00<?, ?it/s]"
      ]
     },
     "metadata": {},
     "output_type": "display_data"
    },
    {
     "name": "stdout",
     "output_type": "stream",
     "text": [
      "run 71 of 190 total-------------------------------sentiment_value=-0.19999999999999996 iteration 1 of 10\n",
      "\n",
      "Building partition fixed_sentiment of 1000 agents\n",
      "\n",
      "  all agents tot_wealth will be: 10000\n",
      "  all agents sigma_prop will be: 0.5\n"
     ]
    },
    {
     "data": {
      "application/vnd.jupyter.widget-view+json": {
       "model_id": "a2433c41a72746ada67e8dcd59791930",
       "version_major": 2,
       "version_minor": 0
      },
      "text/plain": [
       "  0%|          | 0/150 [00:00<?, ?it/s]"
      ]
     },
     "metadata": {},
     "output_type": "display_data"
    },
    {
     "name": "stdout",
     "output_type": "stream",
     "text": [
      "run 72 of 190 total-------------------------------sentiment_value=-0.19999999999999996 iteration 2 of 10\n",
      "\n",
      "Building partition fixed_sentiment of 1000 agents\n",
      "\n",
      "  all agents tot_wealth will be: 10000\n",
      "  all agents sigma_prop will be: 0.5\n"
     ]
    },
    {
     "data": {
      "application/vnd.jupyter.widget-view+json": {
       "model_id": "bc4131522a6e44689aef2c4fd3a990c2",
       "version_major": 2,
       "version_minor": 0
      },
      "text/plain": [
       "  0%|          | 0/150 [00:00<?, ?it/s]"
      ]
     },
     "metadata": {},
     "output_type": "display_data"
    },
    {
     "name": "stdout",
     "output_type": "stream",
     "text": [
      "run 73 of 190 total-------------------------------sentiment_value=-0.19999999999999996 iteration 3 of 10\n",
      "\n",
      "Building partition fixed_sentiment of 1000 agents\n",
      "\n",
      "  all agents tot_wealth will be: 10000\n",
      "  all agents sigma_prop will be: 0.5\n"
     ]
    },
    {
     "data": {
      "application/vnd.jupyter.widget-view+json": {
       "model_id": "01cf8def55f94799af42a2a72f4240a4",
       "version_major": 2,
       "version_minor": 0
      },
      "text/plain": [
       "  0%|          | 0/150 [00:00<?, ?it/s]"
      ]
     },
     "metadata": {},
     "output_type": "display_data"
    },
    {
     "name": "stdout",
     "output_type": "stream",
     "text": [
      "run 74 of 190 total-------------------------------sentiment_value=-0.19999999999999996 iteration 4 of 10\n",
      "\n",
      "Building partition fixed_sentiment of 1000 agents\n",
      "\n",
      "  all agents tot_wealth will be: 10000\n",
      "  all agents sigma_prop will be: 0.5\n"
     ]
    },
    {
     "data": {
      "application/vnd.jupyter.widget-view+json": {
       "model_id": "7af960b186e94a789efe6742e81fdf8c",
       "version_major": 2,
       "version_minor": 0
      },
      "text/plain": [
       "  0%|          | 0/150 [00:00<?, ?it/s]"
      ]
     },
     "metadata": {},
     "output_type": "display_data"
    },
    {
     "name": "stdout",
     "output_type": "stream",
     "text": [
      "run 75 of 190 total-------------------------------sentiment_value=-0.19999999999999996 iteration 5 of 10\n",
      "\n",
      "Building partition fixed_sentiment of 1000 agents\n",
      "\n",
      "  all agents tot_wealth will be: 10000\n",
      "  all agents sigma_prop will be: 0.5\n"
     ]
    },
    {
     "data": {
      "application/vnd.jupyter.widget-view+json": {
       "model_id": "7d9f240a3fec446abc11a66058945202",
       "version_major": 2,
       "version_minor": 0
      },
      "text/plain": [
       "  0%|          | 0/150 [00:00<?, ?it/s]"
      ]
     },
     "metadata": {},
     "output_type": "display_data"
    },
    {
     "name": "stdout",
     "output_type": "stream",
     "text": [
      "run 76 of 190 total-------------------------------sentiment_value=-0.19999999999999996 iteration 6 of 10\n",
      "\n",
      "Building partition fixed_sentiment of 1000 agents\n",
      "\n",
      "  all agents tot_wealth will be: 10000\n",
      "  all agents sigma_prop will be: 0.5\n"
     ]
    },
    {
     "data": {
      "application/vnd.jupyter.widget-view+json": {
       "model_id": "4bfe86b1360c4e189e89a8cc16f1bd3a",
       "version_major": 2,
       "version_minor": 0
      },
      "text/plain": [
       "  0%|          | 0/150 [00:00<?, ?it/s]"
      ]
     },
     "metadata": {},
     "output_type": "display_data"
    },
    {
     "name": "stdout",
     "output_type": "stream",
     "text": [
      "run 77 of 190 total-------------------------------sentiment_value=-0.19999999999999996 iteration 7 of 10\n",
      "\n",
      "Building partition fixed_sentiment of 1000 agents\n",
      "\n",
      "  all agents tot_wealth will be: 10000\n",
      "  all agents sigma_prop will be: 0.5\n"
     ]
    },
    {
     "data": {
      "application/vnd.jupyter.widget-view+json": {
       "model_id": "a99bbfdcd70e4db089793bc7cbee6085",
       "version_major": 2,
       "version_minor": 0
      },
      "text/plain": [
       "  0%|          | 0/150 [00:00<?, ?it/s]"
      ]
     },
     "metadata": {},
     "output_type": "display_data"
    },
    {
     "name": "stdout",
     "output_type": "stream",
     "text": [
      "run 78 of 190 total-------------------------------sentiment_value=-0.19999999999999996 iteration 8 of 10\n",
      "\n",
      "Building partition fixed_sentiment of 1000 agents\n",
      "\n",
      "  all agents tot_wealth will be: 10000\n",
      "  all agents sigma_prop will be: 0.5\n"
     ]
    },
    {
     "data": {
      "application/vnd.jupyter.widget-view+json": {
       "model_id": "158ccd24ac0447cc9c4ca38224d9e19a",
       "version_major": 2,
       "version_minor": 0
      },
      "text/plain": [
       "  0%|          | 0/150 [00:00<?, ?it/s]"
      ]
     },
     "metadata": {},
     "output_type": "display_data"
    },
    {
     "name": "stdout",
     "output_type": "stream",
     "text": [
      "run 79 of 190 total-------------------------------sentiment_value=-0.19999999999999996 iteration 9 of 10\n",
      "\n",
      "Building partition fixed_sentiment of 1000 agents\n",
      "\n",
      "  all agents tot_wealth will be: 10000\n",
      "  all agents sigma_prop will be: 0.5\n"
     ]
    },
    {
     "data": {
      "application/vnd.jupyter.widget-view+json": {
       "model_id": "4e112b22037a4b7d896d8c4223ec8ae6",
       "version_major": 2,
       "version_minor": 0
      },
      "text/plain": [
       "  0%|          | 0/150 [00:00<?, ?it/s]"
      ]
     },
     "metadata": {},
     "output_type": "display_data"
    },
    {
     "name": "stdout",
     "output_type": "stream",
     "text": [
      "run 80 of 190 total-------------------------------sentiment_value=-0.19999999999999996 iteration 10 of 10\n",
      "\n",
      "Building partition fixed_sentiment of 1000 agents\n",
      "\n",
      "  all agents tot_wealth will be: 10000\n",
      "  all agents sigma_prop will be: 0.5\n"
     ]
    },
    {
     "data": {
      "application/vnd.jupyter.widget-view+json": {
       "model_id": "1814cfebc91f4fe78f5943dfe8ce165a",
       "version_major": 2,
       "version_minor": 0
      },
      "text/plain": [
       "  0%|          | 0/150 [00:00<?, ?it/s]"
      ]
     },
     "metadata": {},
     "output_type": "display_data"
    },
    {
     "name": "stdout",
     "output_type": "stream",
     "text": [
      "run 81 of 190 total-------------------------------sentiment_value=-0.09999999999999998 iteration 1 of 10\n",
      "\n",
      "Building partition fixed_sentiment of 1000 agents\n",
      "\n",
      "  all agents tot_wealth will be: 10000\n",
      "  all agents sigma_prop will be: 0.5\n"
     ]
    },
    {
     "data": {
      "application/vnd.jupyter.widget-view+json": {
       "model_id": "781c5d9da02f4726b2ab690dda6dc8bd",
       "version_major": 2,
       "version_minor": 0
      },
      "text/plain": [
       "  0%|          | 0/150 [00:00<?, ?it/s]"
      ]
     },
     "metadata": {},
     "output_type": "display_data"
    },
    {
     "name": "stdout",
     "output_type": "stream",
     "text": [
      "run 82 of 190 total-------------------------------sentiment_value=-0.09999999999999998 iteration 2 of 10\n",
      "\n",
      "Building partition fixed_sentiment of 1000 agents\n",
      "\n",
      "  all agents tot_wealth will be: 10000\n",
      "  all agents sigma_prop will be: 0.5\n"
     ]
    },
    {
     "data": {
      "application/vnd.jupyter.widget-view+json": {
       "model_id": "65d5bdf7a74c49eda27ebc10cf1ea25a",
       "version_major": 2,
       "version_minor": 0
      },
      "text/plain": [
       "  0%|          | 0/150 [00:00<?, ?it/s]"
      ]
     },
     "metadata": {},
     "output_type": "display_data"
    },
    {
     "name": "stdout",
     "output_type": "stream",
     "text": [
      "run 83 of 190 total-------------------------------sentiment_value=-0.09999999999999998 iteration 3 of 10\n",
      "\n",
      "Building partition fixed_sentiment of 1000 agents\n",
      "\n",
      "  all agents tot_wealth will be: 10000\n",
      "  all agents sigma_prop will be: 0.5\n"
     ]
    },
    {
     "data": {
      "application/vnd.jupyter.widget-view+json": {
       "model_id": "645e811323d841e38b739721956eda36",
       "version_major": 2,
       "version_minor": 0
      },
      "text/plain": [
       "  0%|          | 0/150 [00:00<?, ?it/s]"
      ]
     },
     "metadata": {},
     "output_type": "display_data"
    },
    {
     "name": "stdout",
     "output_type": "stream",
     "text": [
      "run 84 of 190 total-------------------------------sentiment_value=-0.09999999999999998 iteration 4 of 10\n",
      "\n",
      "Building partition fixed_sentiment of 1000 agents\n",
      "\n",
      "  all agents tot_wealth will be: 10000\n",
      "  all agents sigma_prop will be: 0.5\n"
     ]
    },
    {
     "data": {
      "application/vnd.jupyter.widget-view+json": {
       "model_id": "09715e148198447ab650ef7d6cefbffd",
       "version_major": 2,
       "version_minor": 0
      },
      "text/plain": [
       "  0%|          | 0/150 [00:00<?, ?it/s]"
      ]
     },
     "metadata": {},
     "output_type": "display_data"
    },
    {
     "name": "stdout",
     "output_type": "stream",
     "text": [
      "run 85 of 190 total-------------------------------sentiment_value=-0.09999999999999998 iteration 5 of 10\n",
      "\n",
      "Building partition fixed_sentiment of 1000 agents\n",
      "\n",
      "  all agents tot_wealth will be: 10000\n",
      "  all agents sigma_prop will be: 0.5\n"
     ]
    },
    {
     "data": {
      "application/vnd.jupyter.widget-view+json": {
       "model_id": "966503f73c2441d5bfd352eb7ed4ae17",
       "version_major": 2,
       "version_minor": 0
      },
      "text/plain": [
       "  0%|          | 0/150 [00:00<?, ?it/s]"
      ]
     },
     "metadata": {},
     "output_type": "display_data"
    },
    {
     "name": "stdout",
     "output_type": "stream",
     "text": [
      "run 86 of 190 total-------------------------------sentiment_value=-0.09999999999999998 iteration 6 of 10\n",
      "\n",
      "Building partition fixed_sentiment of 1000 agents\n",
      "\n",
      "  all agents tot_wealth will be: 10000\n",
      "  all agents sigma_prop will be: 0.5\n"
     ]
    },
    {
     "data": {
      "application/vnd.jupyter.widget-view+json": {
       "model_id": "04c6a82161a14ab3bd28777d2f46cd49",
       "version_major": 2,
       "version_minor": 0
      },
      "text/plain": [
       "  0%|          | 0/150 [00:00<?, ?it/s]"
      ]
     },
     "metadata": {},
     "output_type": "display_data"
    },
    {
     "name": "stdout",
     "output_type": "stream",
     "text": [
      "run 87 of 190 total-------------------------------sentiment_value=-0.09999999999999998 iteration 7 of 10\n",
      "\n",
      "Building partition fixed_sentiment of 1000 agents\n",
      "\n",
      "  all agents tot_wealth will be: 10000\n",
      "  all agents sigma_prop will be: 0.5\n"
     ]
    },
    {
     "data": {
      "application/vnd.jupyter.widget-view+json": {
       "model_id": "ef7ef5393c9c49d5a448c555c323e1b1",
       "version_major": 2,
       "version_minor": 0
      },
      "text/plain": [
       "  0%|          | 0/150 [00:00<?, ?it/s]"
      ]
     },
     "metadata": {},
     "output_type": "display_data"
    },
    {
     "name": "stdout",
     "output_type": "stream",
     "text": [
      "run 88 of 190 total-------------------------------sentiment_value=-0.09999999999999998 iteration 8 of 10\n",
      "\n",
      "Building partition fixed_sentiment of 1000 agents\n",
      "\n",
      "  all agents tot_wealth will be: 10000\n",
      "  all agents sigma_prop will be: 0.5\n"
     ]
    },
    {
     "data": {
      "application/vnd.jupyter.widget-view+json": {
       "model_id": "2920098a04bd4948b148099dc2032ce3",
       "version_major": 2,
       "version_minor": 0
      },
      "text/plain": [
       "  0%|          | 0/150 [00:00<?, ?it/s]"
      ]
     },
     "metadata": {},
     "output_type": "display_data"
    },
    {
     "name": "stdout",
     "output_type": "stream",
     "text": [
      "run 89 of 190 total-------------------------------sentiment_value=-0.09999999999999998 iteration 9 of 10\n",
      "\n",
      "Building partition fixed_sentiment of 1000 agents\n",
      "\n",
      "  all agents tot_wealth will be: 10000\n",
      "  all agents sigma_prop will be: 0.5\n"
     ]
    },
    {
     "data": {
      "application/vnd.jupyter.widget-view+json": {
       "model_id": "2603e738ccc24bfb972cb15309b8bc56",
       "version_major": 2,
       "version_minor": 0
      },
      "text/plain": [
       "  0%|          | 0/150 [00:00<?, ?it/s]"
      ]
     },
     "metadata": {},
     "output_type": "display_data"
    },
    {
     "name": "stdout",
     "output_type": "stream",
     "text": [
      "run 90 of 190 total-------------------------------sentiment_value=-0.09999999999999998 iteration 10 of 10\n",
      "\n",
      "Building partition fixed_sentiment of 1000 agents\n",
      "\n",
      "  all agents tot_wealth will be: 10000\n",
      "  all agents sigma_prop will be: 0.5\n"
     ]
    },
    {
     "data": {
      "application/vnd.jupyter.widget-view+json": {
       "model_id": "daffaa7d89a84b2c9d6b473df2b1d459",
       "version_major": 2,
       "version_minor": 0
      },
      "text/plain": [
       "  0%|          | 0/150 [00:00<?, ?it/s]"
      ]
     },
     "metadata": {},
     "output_type": "display_data"
    },
    {
     "name": "stdout",
     "output_type": "stream",
     "text": [
      "run 91 of 190 total-------------------------------sentiment_value=0.0 iteration 1 of 10\n",
      "\n",
      "Building partition fixed_sentiment of 1000 agents\n",
      "\n",
      "  all agents tot_wealth will be: 10000\n",
      "  all agents sigma_prop will be: 0.5\n"
     ]
    },
    {
     "data": {
      "application/vnd.jupyter.widget-view+json": {
       "model_id": "0757dd4791004ed884b34311a130cbd5",
       "version_major": 2,
       "version_minor": 0
      },
      "text/plain": [
       "  0%|          | 0/150 [00:00<?, ?it/s]"
      ]
     },
     "metadata": {},
     "output_type": "display_data"
    },
    {
     "name": "stdout",
     "output_type": "stream",
     "text": [
      "run 92 of 190 total-------------------------------sentiment_value=0.0 iteration 2 of 10\n",
      "\n",
      "Building partition fixed_sentiment of 1000 agents\n",
      "\n",
      "  all agents tot_wealth will be: 10000\n",
      "  all agents sigma_prop will be: 0.5\n"
     ]
    },
    {
     "data": {
      "application/vnd.jupyter.widget-view+json": {
       "model_id": "3868a95e194c4fda82bc05e1dc7ea592",
       "version_major": 2,
       "version_minor": 0
      },
      "text/plain": [
       "  0%|          | 0/150 [00:00<?, ?it/s]"
      ]
     },
     "metadata": {},
     "output_type": "display_data"
    },
    {
     "name": "stdout",
     "output_type": "stream",
     "text": [
      "run 93 of 190 total-------------------------------sentiment_value=0.0 iteration 3 of 10\n",
      "\n",
      "Building partition fixed_sentiment of 1000 agents\n",
      "\n",
      "  all agents tot_wealth will be: 10000\n",
      "  all agents sigma_prop will be: 0.5\n"
     ]
    },
    {
     "data": {
      "application/vnd.jupyter.widget-view+json": {
       "model_id": "a180b5a23bee4eb9803dd235cac79c87",
       "version_major": 2,
       "version_minor": 0
      },
      "text/plain": [
       "  0%|          | 0/150 [00:00<?, ?it/s]"
      ]
     },
     "metadata": {},
     "output_type": "display_data"
    },
    {
     "name": "stdout",
     "output_type": "stream",
     "text": [
      "run 94 of 190 total-------------------------------sentiment_value=0.0 iteration 4 of 10\n",
      "\n",
      "Building partition fixed_sentiment of 1000 agents\n",
      "\n",
      "  all agents tot_wealth will be: 10000\n",
      "  all agents sigma_prop will be: 0.5\n"
     ]
    },
    {
     "data": {
      "application/vnd.jupyter.widget-view+json": {
       "model_id": "808eb431e5664b3eb5b0d7dbe6e69337",
       "version_major": 2,
       "version_minor": 0
      },
      "text/plain": [
       "  0%|          | 0/150 [00:00<?, ?it/s]"
      ]
     },
     "metadata": {},
     "output_type": "display_data"
    },
    {
     "name": "stdout",
     "output_type": "stream",
     "text": [
      "run 95 of 190 total-------------------------------sentiment_value=0.0 iteration 5 of 10\n",
      "\n",
      "Building partition fixed_sentiment of 1000 agents\n",
      "\n",
      "  all agents tot_wealth will be: 10000\n",
      "  all agents sigma_prop will be: 0.5\n"
     ]
    },
    {
     "data": {
      "application/vnd.jupyter.widget-view+json": {
       "model_id": "10ecc29fc4ea42b98bb7e4e0100db3bc",
       "version_major": 2,
       "version_minor": 0
      },
      "text/plain": [
       "  0%|          | 0/150 [00:00<?, ?it/s]"
      ]
     },
     "metadata": {},
     "output_type": "display_data"
    },
    {
     "name": "stdout",
     "output_type": "stream",
     "text": [
      "run 96 of 190 total-------------------------------sentiment_value=0.0 iteration 6 of 10\n",
      "\n",
      "Building partition fixed_sentiment of 1000 agents\n",
      "\n",
      "  all agents tot_wealth will be: 10000\n",
      "  all agents sigma_prop will be: 0.5\n"
     ]
    },
    {
     "data": {
      "application/vnd.jupyter.widget-view+json": {
       "model_id": "7c111cb469834606a6e1b501c2fc007d",
       "version_major": 2,
       "version_minor": 0
      },
      "text/plain": [
       "  0%|          | 0/150 [00:00<?, ?it/s]"
      ]
     },
     "metadata": {},
     "output_type": "display_data"
    },
    {
     "name": "stdout",
     "output_type": "stream",
     "text": [
      "run 97 of 190 total-------------------------------sentiment_value=0.0 iteration 7 of 10\n",
      "\n",
      "Building partition fixed_sentiment of 1000 agents\n",
      "\n",
      "  all agents tot_wealth will be: 10000\n",
      "  all agents sigma_prop will be: 0.5\n"
     ]
    },
    {
     "data": {
      "application/vnd.jupyter.widget-view+json": {
       "model_id": "073e1111710c4fb8969034d81518cdbd",
       "version_major": 2,
       "version_minor": 0
      },
      "text/plain": [
       "  0%|          | 0/150 [00:00<?, ?it/s]"
      ]
     },
     "metadata": {},
     "output_type": "display_data"
    },
    {
     "name": "stdout",
     "output_type": "stream",
     "text": [
      "run 98 of 190 total-------------------------------sentiment_value=0.0 iteration 8 of 10\n",
      "\n",
      "Building partition fixed_sentiment of 1000 agents\n",
      "\n",
      "  all agents tot_wealth will be: 10000\n",
      "  all agents sigma_prop will be: 0.5\n"
     ]
    },
    {
     "data": {
      "application/vnd.jupyter.widget-view+json": {
       "model_id": "eff42ac3f87f4cfe92f5fdd3976fcdde",
       "version_major": 2,
       "version_minor": 0
      },
      "text/plain": [
       "  0%|          | 0/150 [00:00<?, ?it/s]"
      ]
     },
     "metadata": {},
     "output_type": "display_data"
    },
    {
     "name": "stdout",
     "output_type": "stream",
     "text": [
      "run 99 of 190 total-------------------------------sentiment_value=0.0 iteration 9 of 10\n",
      "\n",
      "Building partition fixed_sentiment of 1000 agents\n",
      "\n",
      "  all agents tot_wealth will be: 10000\n",
      "  all agents sigma_prop will be: 0.5\n"
     ]
    },
    {
     "data": {
      "application/vnd.jupyter.widget-view+json": {
       "model_id": "537a12be1d6041828bf7000e2076b3b8",
       "version_major": 2,
       "version_minor": 0
      },
      "text/plain": [
       "  0%|          | 0/150 [00:00<?, ?it/s]"
      ]
     },
     "metadata": {},
     "output_type": "display_data"
    },
    {
     "name": "stdout",
     "output_type": "stream",
     "text": [
      "run 100 of 190 total------------------------------sentiment_value=0.0 iteration 10 of 10\n",
      "\n",
      "Building partition fixed_sentiment of 1000 agents\n",
      "\n",
      "  all agents tot_wealth will be: 10000\n",
      "  all agents sigma_prop will be: 0.5\n"
     ]
    },
    {
     "data": {
      "application/vnd.jupyter.widget-view+json": {
       "model_id": "9115c3989e714048836cdf79bf568bcc",
       "version_major": 2,
       "version_minor": 0
      },
      "text/plain": [
       "  0%|          | 0/150 [00:00<?, ?it/s]"
      ]
     },
     "metadata": {},
     "output_type": "display_data"
    },
    {
     "name": "stdout",
     "output_type": "stream",
     "text": [
      "run 101 of 190 total------------------------------sentiment_value=0.09999999999999998 iteration 1 of 10\n",
      "\n",
      "Building partition fixed_sentiment of 1000 agents\n",
      "\n",
      "  all agents tot_wealth will be: 10000\n",
      "  all agents sigma_prop will be: 0.5\n"
     ]
    },
    {
     "data": {
      "application/vnd.jupyter.widget-view+json": {
       "model_id": "cc78b8b955ec4a73b1433eba979dec0a",
       "version_major": 2,
       "version_minor": 0
      },
      "text/plain": [
       "  0%|          | 0/150 [00:00<?, ?it/s]"
      ]
     },
     "metadata": {},
     "output_type": "display_data"
    },
    {
     "name": "stdout",
     "output_type": "stream",
     "text": [
      "run 102 of 190 total------------------------------sentiment_value=0.09999999999999998 iteration 2 of 10\n",
      "\n",
      "Building partition fixed_sentiment of 1000 agents\n",
      "\n",
      "  all agents tot_wealth will be: 10000\n",
      "  all agents sigma_prop will be: 0.5\n"
     ]
    },
    {
     "data": {
      "application/vnd.jupyter.widget-view+json": {
       "model_id": "c74f0b4e642a4ffba8a35193e6028e30",
       "version_major": 2,
       "version_minor": 0
      },
      "text/plain": [
       "  0%|          | 0/150 [00:00<?, ?it/s]"
      ]
     },
     "metadata": {},
     "output_type": "display_data"
    },
    {
     "name": "stdout",
     "output_type": "stream",
     "text": [
      "run 103 of 190 total------------------------------sentiment_value=0.09999999999999998 iteration 3 of 10\n",
      "\n",
      "Building partition fixed_sentiment of 1000 agents\n",
      "\n",
      "  all agents tot_wealth will be: 10000\n",
      "  all agents sigma_prop will be: 0.5\n"
     ]
    },
    {
     "data": {
      "application/vnd.jupyter.widget-view+json": {
       "model_id": "cae4956d439549f59ecd2347ebfa2947",
       "version_major": 2,
       "version_minor": 0
      },
      "text/plain": [
       "  0%|          | 0/150 [00:00<?, ?it/s]"
      ]
     },
     "metadata": {},
     "output_type": "display_data"
    },
    {
     "name": "stdout",
     "output_type": "stream",
     "text": [
      "run 104 of 190 total------------------------------sentiment_value=0.09999999999999998 iteration 4 of 10\n",
      "\n",
      "Building partition fixed_sentiment of 1000 agents\n",
      "\n",
      "  all agents tot_wealth will be: 10000\n",
      "  all agents sigma_prop will be: 0.5\n"
     ]
    },
    {
     "data": {
      "application/vnd.jupyter.widget-view+json": {
       "model_id": "5de152d72e05472c877ce297190e54aa",
       "version_major": 2,
       "version_minor": 0
      },
      "text/plain": [
       "  0%|          | 0/150 [00:00<?, ?it/s]"
      ]
     },
     "metadata": {},
     "output_type": "display_data"
    },
    {
     "name": "stdout",
     "output_type": "stream",
     "text": [
      "run 105 of 190 total------------------------------sentiment_value=0.09999999999999998 iteration 5 of 10\n",
      "\n",
      "Building partition fixed_sentiment of 1000 agents\n",
      "\n",
      "  all agents tot_wealth will be: 10000\n",
      "  all agents sigma_prop will be: 0.5\n"
     ]
    },
    {
     "data": {
      "application/vnd.jupyter.widget-view+json": {
       "model_id": "8d0d74c1beed49b89767ed9a44037b0b",
       "version_major": 2,
       "version_minor": 0
      },
      "text/plain": [
       "  0%|          | 0/150 [00:00<?, ?it/s]"
      ]
     },
     "metadata": {},
     "output_type": "display_data"
    },
    {
     "name": "stdout",
     "output_type": "stream",
     "text": [
      "run 106 of 190 total------------------------------sentiment_value=0.09999999999999998 iteration 6 of 10\n",
      "\n",
      "Building partition fixed_sentiment of 1000 agents\n",
      "\n",
      "  all agents tot_wealth will be: 10000\n",
      "  all agents sigma_prop will be: 0.5\n"
     ]
    },
    {
     "data": {
      "application/vnd.jupyter.widget-view+json": {
       "model_id": "4eb260095c5a4324a54bccd65f2c3df4",
       "version_major": 2,
       "version_minor": 0
      },
      "text/plain": [
       "  0%|          | 0/150 [00:00<?, ?it/s]"
      ]
     },
     "metadata": {},
     "output_type": "display_data"
    },
    {
     "name": "stdout",
     "output_type": "stream",
     "text": [
      "run 107 of 190 total------------------------------sentiment_value=0.09999999999999998 iteration 7 of 10\n",
      "\n",
      "Building partition fixed_sentiment of 1000 agents\n",
      "\n",
      "  all agents tot_wealth will be: 10000\n",
      "  all agents sigma_prop will be: 0.5\n"
     ]
    },
    {
     "data": {
      "application/vnd.jupyter.widget-view+json": {
       "model_id": "b4ae3534913c41bfab1ca08479def125",
       "version_major": 2,
       "version_minor": 0
      },
      "text/plain": [
       "  0%|          | 0/150 [00:00<?, ?it/s]"
      ]
     },
     "metadata": {},
     "output_type": "display_data"
    },
    {
     "name": "stdout",
     "output_type": "stream",
     "text": [
      "run 108 of 190 total------------------------------sentiment_value=0.09999999999999998 iteration 8 of 10\n",
      "\n",
      "Building partition fixed_sentiment of 1000 agents\n",
      "\n",
      "  all agents tot_wealth will be: 10000\n",
      "  all agents sigma_prop will be: 0.5\n"
     ]
    },
    {
     "data": {
      "application/vnd.jupyter.widget-view+json": {
       "model_id": "489e588511b04f02814cdcca08379758",
       "version_major": 2,
       "version_minor": 0
      },
      "text/plain": [
       "  0%|          | 0/150 [00:00<?, ?it/s]"
      ]
     },
     "metadata": {},
     "output_type": "display_data"
    },
    {
     "name": "stdout",
     "output_type": "stream",
     "text": [
      "run 109 of 190 total------------------------------sentiment_value=0.09999999999999998 iteration 9 of 10\n",
      "\n",
      "Building partition fixed_sentiment of 1000 agents\n",
      "\n",
      "  all agents tot_wealth will be: 10000\n",
      "  all agents sigma_prop will be: 0.5\n"
     ]
    },
    {
     "data": {
      "application/vnd.jupyter.widget-view+json": {
       "model_id": "21536f2a6c9c4b0386639704fcdbf2e1",
       "version_major": 2,
       "version_minor": 0
      },
      "text/plain": [
       "  0%|          | 0/150 [00:00<?, ?it/s]"
      ]
     },
     "metadata": {},
     "output_type": "display_data"
    },
    {
     "name": "stdout",
     "output_type": "stream",
     "text": [
      "run 110 of 190 total------------------------------sentiment_value=0.09999999999999998 iteration 10 of 10\n",
      "\n",
      "Building partition fixed_sentiment of 1000 agents\n",
      "\n",
      "  all agents tot_wealth will be: 10000\n",
      "  all agents sigma_prop will be: 0.5\n"
     ]
    },
    {
     "data": {
      "application/vnd.jupyter.widget-view+json": {
       "model_id": "18ba9e8d193e4cb1bc4a82433221cbdb",
       "version_major": 2,
       "version_minor": 0
      },
      "text/plain": [
       "  0%|          | 0/150 [00:00<?, ?it/s]"
      ]
     },
     "metadata": {},
     "output_type": "display_data"
    },
    {
     "name": "stdout",
     "output_type": "stream",
     "text": [
      "run 111 of 190 total------------------------------sentiment_value=0.20000000000000007 iteration 1 of 10\n",
      "\n",
      "Building partition fixed_sentiment of 1000 agents\n",
      "\n",
      "  all agents tot_wealth will be: 10000\n",
      "  all agents sigma_prop will be: 0.5\n"
     ]
    },
    {
     "data": {
      "application/vnd.jupyter.widget-view+json": {
       "model_id": "aadce204988248aab157af6fa13b2468",
       "version_major": 2,
       "version_minor": 0
      },
      "text/plain": [
       "  0%|          | 0/150 [00:00<?, ?it/s]"
      ]
     },
     "metadata": {},
     "output_type": "display_data"
    },
    {
     "name": "stdout",
     "output_type": "stream",
     "text": [
      "run 112 of 190 total------------------------------sentiment_value=0.20000000000000007 iteration 2 of 10\n",
      "\n",
      "Building partition fixed_sentiment of 1000 agents\n",
      "\n",
      "  all agents tot_wealth will be: 10000\n",
      "  all agents sigma_prop will be: 0.5\n"
     ]
    },
    {
     "data": {
      "application/vnd.jupyter.widget-view+json": {
       "model_id": "d04695cd22d5487f96fc03078a138693",
       "version_major": 2,
       "version_minor": 0
      },
      "text/plain": [
       "  0%|          | 0/150 [00:00<?, ?it/s]"
      ]
     },
     "metadata": {},
     "output_type": "display_data"
    },
    {
     "name": "stdout",
     "output_type": "stream",
     "text": [
      "run 113 of 190 total------------------------------sentiment_value=0.20000000000000007 iteration 3 of 10\n",
      "\n",
      "Building partition fixed_sentiment of 1000 agents\n",
      "\n",
      "  all agents tot_wealth will be: 10000\n",
      "  all agents sigma_prop will be: 0.5\n"
     ]
    },
    {
     "data": {
      "application/vnd.jupyter.widget-view+json": {
       "model_id": "d99edc9387d842199ac38c2202c925bd",
       "version_major": 2,
       "version_minor": 0
      },
      "text/plain": [
       "  0%|          | 0/150 [00:00<?, ?it/s]"
      ]
     },
     "metadata": {},
     "output_type": "display_data"
    },
    {
     "name": "stdout",
     "output_type": "stream",
     "text": [
      "run 114 of 190 total------------------------------sentiment_value=0.20000000000000007 iteration 4 of 10\n",
      "\n",
      "Building partition fixed_sentiment of 1000 agents\n",
      "\n",
      "  all agents tot_wealth will be: 10000\n",
      "  all agents sigma_prop will be: 0.5\n"
     ]
    },
    {
     "data": {
      "application/vnd.jupyter.widget-view+json": {
       "model_id": "3e759b83d45d4f5e8638b73bea782cf4",
       "version_major": 2,
       "version_minor": 0
      },
      "text/plain": [
       "  0%|          | 0/150 [00:00<?, ?it/s]"
      ]
     },
     "metadata": {},
     "output_type": "display_data"
    },
    {
     "name": "stdout",
     "output_type": "stream",
     "text": [
      "run 115 of 190 total------------------------------sentiment_value=0.20000000000000007 iteration 5 of 10\n",
      "\n",
      "Building partition fixed_sentiment of 1000 agents\n",
      "\n",
      "  all agents tot_wealth will be: 10000\n",
      "  all agents sigma_prop will be: 0.5\n"
     ]
    },
    {
     "data": {
      "application/vnd.jupyter.widget-view+json": {
       "model_id": "418d9979356448ae86eb2520b6917894",
       "version_major": 2,
       "version_minor": 0
      },
      "text/plain": [
       "  0%|          | 0/150 [00:00<?, ?it/s]"
      ]
     },
     "metadata": {},
     "output_type": "display_data"
    },
    {
     "name": "stdout",
     "output_type": "stream",
     "text": [
      "run 116 of 190 total------------------------------sentiment_value=0.20000000000000007 iteration 6 of 10\n",
      "\n",
      "Building partition fixed_sentiment of 1000 agents\n",
      "\n",
      "  all agents tot_wealth will be: 10000\n",
      "  all agents sigma_prop will be: 0.5\n"
     ]
    },
    {
     "data": {
      "application/vnd.jupyter.widget-view+json": {
       "model_id": "b258c6a009ab4f72a756495aaf7be43a",
       "version_major": 2,
       "version_minor": 0
      },
      "text/plain": [
       "  0%|          | 0/150 [00:00<?, ?it/s]"
      ]
     },
     "metadata": {},
     "output_type": "display_data"
    },
    {
     "name": "stdout",
     "output_type": "stream",
     "text": [
      "run 117 of 190 total------------------------------sentiment_value=0.20000000000000007 iteration 7 of 10\n",
      "\n",
      "Building partition fixed_sentiment of 1000 agents\n",
      "\n",
      "  all agents tot_wealth will be: 10000\n",
      "  all agents sigma_prop will be: 0.5\n"
     ]
    },
    {
     "data": {
      "application/vnd.jupyter.widget-view+json": {
       "model_id": "64e4bc38845b4b91b603952e98211111",
       "version_major": 2,
       "version_minor": 0
      },
      "text/plain": [
       "  0%|          | 0/150 [00:00<?, ?it/s]"
      ]
     },
     "metadata": {},
     "output_type": "display_data"
    },
    {
     "name": "stdout",
     "output_type": "stream",
     "text": [
      "run 118 of 190 total------------------------------sentiment_value=0.20000000000000007 iteration 8 of 10\n",
      "\n",
      "Building partition fixed_sentiment of 1000 agents\n",
      "\n",
      "  all agents tot_wealth will be: 10000\n",
      "  all agents sigma_prop will be: 0.5\n"
     ]
    },
    {
     "data": {
      "application/vnd.jupyter.widget-view+json": {
       "model_id": "e5950f23f85b443f848005c20e8ced8b",
       "version_major": 2,
       "version_minor": 0
      },
      "text/plain": [
       "  0%|          | 0/150 [00:00<?, ?it/s]"
      ]
     },
     "metadata": {},
     "output_type": "display_data"
    },
    {
     "name": "stdout",
     "output_type": "stream",
     "text": [
      "run 119 of 190 total------------------------------sentiment_value=0.20000000000000007 iteration 9 of 10\n",
      "\n",
      "Building partition fixed_sentiment of 1000 agents\n",
      "\n",
      "  all agents tot_wealth will be: 10000\n",
      "  all agents sigma_prop will be: 0.5\n"
     ]
    },
    {
     "data": {
      "application/vnd.jupyter.widget-view+json": {
       "model_id": "384600d898e4491e894efdd8476389dd",
       "version_major": 2,
       "version_minor": 0
      },
      "text/plain": [
       "  0%|          | 0/150 [00:00<?, ?it/s]"
      ]
     },
     "metadata": {},
     "output_type": "display_data"
    },
    {
     "name": "stdout",
     "output_type": "stream",
     "text": [
      "run 120 of 190 total------------------------------sentiment_value=0.20000000000000007 iteration 10 of 10\n",
      "\n",
      "Building partition fixed_sentiment of 1000 agents\n",
      "\n",
      "  all agents tot_wealth will be: 10000\n",
      "  all agents sigma_prop will be: 0.5\n"
     ]
    },
    {
     "data": {
      "application/vnd.jupyter.widget-view+json": {
       "model_id": "31b9b6741a0b4613b00f4bb145e30970",
       "version_major": 2,
       "version_minor": 0
      },
      "text/plain": [
       "  0%|          | 0/150 [00:00<?, ?it/s]"
      ]
     },
     "metadata": {},
     "output_type": "display_data"
    },
    {
     "name": "stdout",
     "output_type": "stream",
     "text": [
      "run 121 of 190 total------------------------------sentiment_value=0.30000000000000016 iteration 1 of 10\n",
      "\n",
      "Building partition fixed_sentiment of 1000 agents\n",
      "\n",
      "  all agents tot_wealth will be: 10000\n",
      "  all agents sigma_prop will be: 0.5\n"
     ]
    },
    {
     "data": {
      "application/vnd.jupyter.widget-view+json": {
       "model_id": "ca8ce09250a14bebb910c9e22c18104a",
       "version_major": 2,
       "version_minor": 0
      },
      "text/plain": [
       "  0%|          | 0/150 [00:00<?, ?it/s]"
      ]
     },
     "metadata": {},
     "output_type": "display_data"
    },
    {
     "name": "stdout",
     "output_type": "stream",
     "text": [
      "run 122 of 190 total------------------------------sentiment_value=0.30000000000000016 iteration 2 of 10\n",
      "\n",
      "Building partition fixed_sentiment of 1000 agents\n",
      "\n",
      "  all agents tot_wealth will be: 10000\n",
      "  all agents sigma_prop will be: 0.5\n"
     ]
    },
    {
     "data": {
      "application/vnd.jupyter.widget-view+json": {
       "model_id": "f6f76147887441888734e998e65c5833",
       "version_major": 2,
       "version_minor": 0
      },
      "text/plain": [
       "  0%|          | 0/150 [00:00<?, ?it/s]"
      ]
     },
     "metadata": {},
     "output_type": "display_data"
    },
    {
     "name": "stdout",
     "output_type": "stream",
     "text": [
      "run 123 of 190 total------------------------------sentiment_value=0.30000000000000016 iteration 3 of 10\n",
      "\n",
      "Building partition fixed_sentiment of 1000 agents\n",
      "\n",
      "  all agents tot_wealth will be: 10000\n",
      "  all agents sigma_prop will be: 0.5\n"
     ]
    },
    {
     "data": {
      "application/vnd.jupyter.widget-view+json": {
       "model_id": "7364b89cdb3540cfafdabbc032d1c34e",
       "version_major": 2,
       "version_minor": 0
      },
      "text/plain": [
       "  0%|          | 0/150 [00:00<?, ?it/s]"
      ]
     },
     "metadata": {},
     "output_type": "display_data"
    },
    {
     "name": "stdout",
     "output_type": "stream",
     "text": [
      "run 124 of 190 total------------------------------sentiment_value=0.30000000000000016 iteration 4 of 10\n",
      "\n",
      "Building partition fixed_sentiment of 1000 agents\n",
      "\n",
      "  all agents tot_wealth will be: 10000\n",
      "  all agents sigma_prop will be: 0.5\n"
     ]
    },
    {
     "data": {
      "application/vnd.jupyter.widget-view+json": {
       "model_id": "04e2647ab9314346a541acb6b6f81060",
       "version_major": 2,
       "version_minor": 0
      },
      "text/plain": [
       "  0%|          | 0/150 [00:00<?, ?it/s]"
      ]
     },
     "metadata": {},
     "output_type": "display_data"
    },
    {
     "name": "stdout",
     "output_type": "stream",
     "text": [
      "run 125 of 190 total------------------------------sentiment_value=0.30000000000000016 iteration 5 of 10\n",
      "\n",
      "Building partition fixed_sentiment of 1000 agents\n",
      "\n",
      "  all agents tot_wealth will be: 10000\n",
      "  all agents sigma_prop will be: 0.5\n"
     ]
    },
    {
     "data": {
      "application/vnd.jupyter.widget-view+json": {
       "model_id": "0fc176651d004d2abe8ef3c1e6ff4baa",
       "version_major": 2,
       "version_minor": 0
      },
      "text/plain": [
       "  0%|          | 0/150 [00:00<?, ?it/s]"
      ]
     },
     "metadata": {},
     "output_type": "display_data"
    },
    {
     "name": "stdout",
     "output_type": "stream",
     "text": [
      "run 126 of 190 total------------------------------sentiment_value=0.30000000000000016 iteration 6 of 10\n",
      "\n",
      "Building partition fixed_sentiment of 1000 agents\n",
      "\n",
      "  all agents tot_wealth will be: 10000\n",
      "  all agents sigma_prop will be: 0.5\n"
     ]
    },
    {
     "data": {
      "application/vnd.jupyter.widget-view+json": {
       "model_id": "5f5c824d8bf34a549ad5439fb5fbfadb",
       "version_major": 2,
       "version_minor": 0
      },
      "text/plain": [
       "  0%|          | 0/150 [00:00<?, ?it/s]"
      ]
     },
     "metadata": {},
     "output_type": "display_data"
    },
    {
     "name": "stdout",
     "output_type": "stream",
     "text": [
      "run 127 of 190 total------------------------------sentiment_value=0.30000000000000016 iteration 7 of 10\n",
      "\n",
      "Building partition fixed_sentiment of 1000 agents\n",
      "\n",
      "  all agents tot_wealth will be: 10000\n",
      "  all agents sigma_prop will be: 0.5\n"
     ]
    },
    {
     "data": {
      "application/vnd.jupyter.widget-view+json": {
       "model_id": "87cfe268ebcd41beadc275f08ab01373",
       "version_major": 2,
       "version_minor": 0
      },
      "text/plain": [
       "  0%|          | 0/150 [00:00<?, ?it/s]"
      ]
     },
     "metadata": {},
     "output_type": "display_data"
    },
    {
     "name": "stdout",
     "output_type": "stream",
     "text": [
      "run 128 of 190 total------------------------------sentiment_value=0.30000000000000016 iteration 8 of 10\n",
      "\n",
      "Building partition fixed_sentiment of 1000 agents\n",
      "\n",
      "  all agents tot_wealth will be: 10000\n",
      "  all agents sigma_prop will be: 0.5\n"
     ]
    },
    {
     "data": {
      "application/vnd.jupyter.widget-view+json": {
       "model_id": "8ea0da3fe2184300ae08e506635bb38c",
       "version_major": 2,
       "version_minor": 0
      },
      "text/plain": [
       "  0%|          | 0/150 [00:00<?, ?it/s]"
      ]
     },
     "metadata": {},
     "output_type": "display_data"
    },
    {
     "name": "stdout",
     "output_type": "stream",
     "text": [
      "run 129 of 190 total------------------------------sentiment_value=0.30000000000000016 iteration 9 of 10\n",
      "\n",
      "Building partition fixed_sentiment of 1000 agents\n",
      "\n",
      "  all agents tot_wealth will be: 10000\n",
      "  all agents sigma_prop will be: 0.5\n"
     ]
    },
    {
     "data": {
      "application/vnd.jupyter.widget-view+json": {
       "model_id": "8905ad8d0c7c47928f4f28bad2c6a41d",
       "version_major": 2,
       "version_minor": 0
      },
      "text/plain": [
       "  0%|          | 0/150 [00:00<?, ?it/s]"
      ]
     },
     "metadata": {},
     "output_type": "display_data"
    },
    {
     "name": "stdout",
     "output_type": "stream",
     "text": [
      "run 130 of 190 total------------------------------sentiment_value=0.30000000000000016 iteration 10 of 10\n",
      "\n",
      "Building partition fixed_sentiment of 1000 agents\n",
      "\n",
      "  all agents tot_wealth will be: 10000\n",
      "  all agents sigma_prop will be: 0.5\n"
     ]
    },
    {
     "data": {
      "application/vnd.jupyter.widget-view+json": {
       "model_id": "cff0c548f46843e1b4067675d63ff9d4",
       "version_major": 2,
       "version_minor": 0
      },
      "text/plain": [
       "  0%|          | 0/150 [00:00<?, ?it/s]"
      ]
     },
     "metadata": {},
     "output_type": "display_data"
    },
    {
     "name": "stdout",
     "output_type": "stream",
     "text": [
      "run 131 of 190 total------------------------------sentiment_value=0.4 iteration 1 of 10\n",
      "\n",
      "Building partition fixed_sentiment of 1000 agents\n",
      "\n",
      "  all agents tot_wealth will be: 10000\n",
      "  all agents sigma_prop will be: 0.5\n"
     ]
    },
    {
     "data": {
      "application/vnd.jupyter.widget-view+json": {
       "model_id": "73a86f42288c4a10926470ae7210c225",
       "version_major": 2,
       "version_minor": 0
      },
      "text/plain": [
       "  0%|          | 0/150 [00:00<?, ?it/s]"
      ]
     },
     "metadata": {},
     "output_type": "display_data"
    },
    {
     "name": "stdout",
     "output_type": "stream",
     "text": [
      "run 132 of 190 total------------------------------sentiment_value=0.4 iteration 2 of 10\n",
      "\n",
      "Building partition fixed_sentiment of 1000 agents\n",
      "\n",
      "  all agents tot_wealth will be: 10000\n",
      "  all agents sigma_prop will be: 0.5\n"
     ]
    },
    {
     "data": {
      "application/vnd.jupyter.widget-view+json": {
       "model_id": "91442c4b11214f8f87744c6638ea66b1",
       "version_major": 2,
       "version_minor": 0
      },
      "text/plain": [
       "  0%|          | 0/150 [00:00<?, ?it/s]"
      ]
     },
     "metadata": {},
     "output_type": "display_data"
    },
    {
     "name": "stdout",
     "output_type": "stream",
     "text": [
      "run 133 of 190 total------------------------------sentiment_value=0.4 iteration 3 of 10\n",
      "\n",
      "Building partition fixed_sentiment of 1000 agents\n",
      "\n",
      "  all agents tot_wealth will be: 10000\n",
      "  all agents sigma_prop will be: 0.5\n"
     ]
    },
    {
     "data": {
      "application/vnd.jupyter.widget-view+json": {
       "model_id": "2195af10cac74dad9cb809846aec30ce",
       "version_major": 2,
       "version_minor": 0
      },
      "text/plain": [
       "  0%|          | 0/150 [00:00<?, ?it/s]"
      ]
     },
     "metadata": {},
     "output_type": "display_data"
    },
    {
     "name": "stdout",
     "output_type": "stream",
     "text": [
      "run 134 of 190 total------------------------------sentiment_value=0.4 iteration 4 of 10\n",
      "\n",
      "Building partition fixed_sentiment of 1000 agents\n",
      "\n",
      "  all agents tot_wealth will be: 10000\n",
      "  all agents sigma_prop will be: 0.5\n"
     ]
    },
    {
     "data": {
      "application/vnd.jupyter.widget-view+json": {
       "model_id": "3f57f5577f3e413b8fb18f4f9541e999",
       "version_major": 2,
       "version_minor": 0
      },
      "text/plain": [
       "  0%|          | 0/150 [00:00<?, ?it/s]"
      ]
     },
     "metadata": {},
     "output_type": "display_data"
    },
    {
     "name": "stdout",
     "output_type": "stream",
     "text": [
      "run 135 of 190 total------------------------------sentiment_value=0.4 iteration 5 of 10\n",
      "\n",
      "Building partition fixed_sentiment of 1000 agents\n",
      "\n",
      "  all agents tot_wealth will be: 10000\n",
      "  all agents sigma_prop will be: 0.5\n"
     ]
    },
    {
     "data": {
      "application/vnd.jupyter.widget-view+json": {
       "model_id": "295002c516c2491b86d0c1304237221e",
       "version_major": 2,
       "version_minor": 0
      },
      "text/plain": [
       "  0%|          | 0/150 [00:00<?, ?it/s]"
      ]
     },
     "metadata": {},
     "output_type": "display_data"
    },
    {
     "name": "stdout",
     "output_type": "stream",
     "text": [
      "run 136 of 190 total------------------------------sentiment_value=0.4 iteration 6 of 10\n",
      "\n",
      "Building partition fixed_sentiment of 1000 agents\n",
      "\n",
      "  all agents tot_wealth will be: 10000\n",
      "  all agents sigma_prop will be: 0.5\n"
     ]
    },
    {
     "data": {
      "application/vnd.jupyter.widget-view+json": {
       "model_id": "cfba5fcc3642448ca13911326950af8e",
       "version_major": 2,
       "version_minor": 0
      },
      "text/plain": [
       "  0%|          | 0/150 [00:00<?, ?it/s]"
      ]
     },
     "metadata": {},
     "output_type": "display_data"
    },
    {
     "name": "stdout",
     "output_type": "stream",
     "text": [
      "run 137 of 190 total------------------------------sentiment_value=0.4 iteration 7 of 10\n",
      "\n",
      "Building partition fixed_sentiment of 1000 agents\n",
      "\n",
      "  all agents tot_wealth will be: 10000\n",
      "  all agents sigma_prop will be: 0.5\n"
     ]
    },
    {
     "data": {
      "application/vnd.jupyter.widget-view+json": {
       "model_id": "0df97f17376c4acea5aea8625d62a334",
       "version_major": 2,
       "version_minor": 0
      },
      "text/plain": [
       "  0%|          | 0/150 [00:00<?, ?it/s]"
      ]
     },
     "metadata": {},
     "output_type": "display_data"
    },
    {
     "name": "stdout",
     "output_type": "stream",
     "text": [
      "run 138 of 190 total------------------------------sentiment_value=0.4 iteration 8 of 10\n",
      "\n",
      "Building partition fixed_sentiment of 1000 agents\n",
      "\n",
      "  all agents tot_wealth will be: 10000\n",
      "  all agents sigma_prop will be: 0.5\n"
     ]
    },
    {
     "data": {
      "application/vnd.jupyter.widget-view+json": {
       "model_id": "660b8d94554349819dd228802b8b352d",
       "version_major": 2,
       "version_minor": 0
      },
      "text/plain": [
       "  0%|          | 0/150 [00:00<?, ?it/s]"
      ]
     },
     "metadata": {},
     "output_type": "display_data"
    },
    {
     "name": "stdout",
     "output_type": "stream",
     "text": [
      "run 139 of 190 total------------------------------sentiment_value=0.4 iteration 9 of 10\n",
      "\n",
      "Building partition fixed_sentiment of 1000 agents\n",
      "\n",
      "  all agents tot_wealth will be: 10000\n",
      "  all agents sigma_prop will be: 0.5\n"
     ]
    },
    {
     "data": {
      "application/vnd.jupyter.widget-view+json": {
       "model_id": "3033e056425c496196c4d7f5d5c7376e",
       "version_major": 2,
       "version_minor": 0
      },
      "text/plain": [
       "  0%|          | 0/150 [00:00<?, ?it/s]"
      ]
     },
     "metadata": {},
     "output_type": "display_data"
    },
    {
     "name": "stdout",
     "output_type": "stream",
     "text": [
      "run 140 of 190 total------------------------------sentiment_value=0.4 iteration 10 of 10\n",
      "\n",
      "Building partition fixed_sentiment of 1000 agents\n",
      "\n",
      "  all agents tot_wealth will be: 10000\n",
      "  all agents sigma_prop will be: 0.5\n"
     ]
    },
    {
     "data": {
      "application/vnd.jupyter.widget-view+json": {
       "model_id": "7c3f364c78474cbc9d87b5e0cc64c739",
       "version_major": 2,
       "version_minor": 0
      },
      "text/plain": [
       "  0%|          | 0/150 [00:00<?, ?it/s]"
      ]
     },
     "metadata": {},
     "output_type": "display_data"
    },
    {
     "name": "stdout",
     "output_type": "stream",
     "text": [
      "run 141 of 190 total------------------------------sentiment_value=0.5000000000000001 iteration 1 of 10\n",
      "\n",
      "Building partition fixed_sentiment of 1000 agents\n",
      "\n",
      "  all agents tot_wealth will be: 10000\n",
      "  all agents sigma_prop will be: 0.5\n"
     ]
    },
    {
     "data": {
      "application/vnd.jupyter.widget-view+json": {
       "model_id": "86c2f46ba9b44bdda98a07ff63448e53",
       "version_major": 2,
       "version_minor": 0
      },
      "text/plain": [
       "  0%|          | 0/150 [00:00<?, ?it/s]"
      ]
     },
     "metadata": {},
     "output_type": "display_data"
    },
    {
     "name": "stdout",
     "output_type": "stream",
     "text": [
      "run 142 of 190 total------------------------------sentiment_value=0.5000000000000001 iteration 2 of 10\n",
      "\n",
      "Building partition fixed_sentiment of 1000 agents\n",
      "\n",
      "  all agents tot_wealth will be: 10000\n",
      "  all agents sigma_prop will be: 0.5\n"
     ]
    },
    {
     "data": {
      "application/vnd.jupyter.widget-view+json": {
       "model_id": "739e5b0cf09546f7a77aa6b31b4e2bed",
       "version_major": 2,
       "version_minor": 0
      },
      "text/plain": [
       "  0%|          | 0/150 [00:00<?, ?it/s]"
      ]
     },
     "metadata": {},
     "output_type": "display_data"
    },
    {
     "name": "stdout",
     "output_type": "stream",
     "text": [
      "run 143 of 190 total------------------------------sentiment_value=0.5000000000000001 iteration 3 of 10\n",
      "\n",
      "Building partition fixed_sentiment of 1000 agents\n",
      "\n",
      "  all agents tot_wealth will be: 10000\n",
      "  all agents sigma_prop will be: 0.5\n"
     ]
    },
    {
     "data": {
      "application/vnd.jupyter.widget-view+json": {
       "model_id": "f821137e853d4588adacf82f5647a322",
       "version_major": 2,
       "version_minor": 0
      },
      "text/plain": [
       "  0%|          | 0/150 [00:00<?, ?it/s]"
      ]
     },
     "metadata": {},
     "output_type": "display_data"
    },
    {
     "name": "stdout",
     "output_type": "stream",
     "text": [
      "run 144 of 190 total------------------------------sentiment_value=0.5000000000000001 iteration 4 of 10\n",
      "\n",
      "Building partition fixed_sentiment of 1000 agents\n",
      "\n",
      "  all agents tot_wealth will be: 10000\n",
      "  all agents sigma_prop will be: 0.5\n"
     ]
    },
    {
     "data": {
      "application/vnd.jupyter.widget-view+json": {
       "model_id": "ba9183484aa64f389f2999ad663d401f",
       "version_major": 2,
       "version_minor": 0
      },
      "text/plain": [
       "  0%|          | 0/150 [00:00<?, ?it/s]"
      ]
     },
     "metadata": {},
     "output_type": "display_data"
    },
    {
     "name": "stdout",
     "output_type": "stream",
     "text": [
      "run 145 of 190 total------------------------------sentiment_value=0.5000000000000001 iteration 5 of 10\n",
      "\n",
      "Building partition fixed_sentiment of 1000 agents\n",
      "\n",
      "  all agents tot_wealth will be: 10000\n",
      "  all agents sigma_prop will be: 0.5\n"
     ]
    },
    {
     "data": {
      "application/vnd.jupyter.widget-view+json": {
       "model_id": "c4fc41689558464ca76443db56eb6003",
       "version_major": 2,
       "version_minor": 0
      },
      "text/plain": [
       "  0%|          | 0/150 [00:00<?, ?it/s]"
      ]
     },
     "metadata": {},
     "output_type": "display_data"
    },
    {
     "name": "stdout",
     "output_type": "stream",
     "text": [
      "run 146 of 190 total------------------------------sentiment_value=0.5000000000000001 iteration 6 of 10\n",
      "\n",
      "Building partition fixed_sentiment of 1000 agents\n",
      "\n",
      "  all agents tot_wealth will be: 10000\n",
      "  all agents sigma_prop will be: 0.5\n"
     ]
    },
    {
     "data": {
      "application/vnd.jupyter.widget-view+json": {
       "model_id": "49a36155dfa74170bddb2fcde7388587",
       "version_major": 2,
       "version_minor": 0
      },
      "text/plain": [
       "  0%|          | 0/150 [00:00<?, ?it/s]"
      ]
     },
     "metadata": {},
     "output_type": "display_data"
    },
    {
     "name": "stdout",
     "output_type": "stream",
     "text": [
      "run 147 of 190 total------------------------------sentiment_value=0.5000000000000001 iteration 7 of 10\n",
      "\n",
      "Building partition fixed_sentiment of 1000 agents\n",
      "\n",
      "  all agents tot_wealth will be: 10000\n",
      "  all agents sigma_prop will be: 0.5\n"
     ]
    },
    {
     "data": {
      "application/vnd.jupyter.widget-view+json": {
       "model_id": "b73ea7a108f04b4ba299965a24310ed8",
       "version_major": 2,
       "version_minor": 0
      },
      "text/plain": [
       "  0%|          | 0/150 [00:00<?, ?it/s]"
      ]
     },
     "metadata": {},
     "output_type": "display_data"
    },
    {
     "name": "stdout",
     "output_type": "stream",
     "text": [
      "run 148 of 190 total------------------------------sentiment_value=0.5000000000000001 iteration 8 of 10\n",
      "\n",
      "Building partition fixed_sentiment of 1000 agents\n",
      "\n",
      "  all agents tot_wealth will be: 10000\n",
      "  all agents sigma_prop will be: 0.5\n"
     ]
    },
    {
     "data": {
      "application/vnd.jupyter.widget-view+json": {
       "model_id": "95be8e7e1302488997866b1223d21ef0",
       "version_major": 2,
       "version_minor": 0
      },
      "text/plain": [
       "  0%|          | 0/150 [00:00<?, ?it/s]"
      ]
     },
     "metadata": {},
     "output_type": "display_data"
    },
    {
     "name": "stdout",
     "output_type": "stream",
     "text": [
      "run 149 of 190 total------------------------------sentiment_value=0.5000000000000001 iteration 9 of 10\n",
      "\n",
      "Building partition fixed_sentiment of 1000 agents\n",
      "\n",
      "  all agents tot_wealth will be: 10000\n",
      "  all agents sigma_prop will be: 0.5\n"
     ]
    },
    {
     "data": {
      "application/vnd.jupyter.widget-view+json": {
       "model_id": "0adfae1642c54c22971f6cf17479d8d1",
       "version_major": 2,
       "version_minor": 0
      },
      "text/plain": [
       "  0%|          | 0/150 [00:00<?, ?it/s]"
      ]
     },
     "metadata": {},
     "output_type": "display_data"
    },
    {
     "name": "stdout",
     "output_type": "stream",
     "text": [
      "run 150 of 190 total------------------------------sentiment_value=0.5000000000000001 iteration 10 of 10\n",
      "\n",
      "Building partition fixed_sentiment of 1000 agents\n",
      "\n",
      "  all agents tot_wealth will be: 10000\n",
      "  all agents sigma_prop will be: 0.5\n"
     ]
    },
    {
     "data": {
      "application/vnd.jupyter.widget-view+json": {
       "model_id": "96e14d8ce13c4d2dad03e511dc486795",
       "version_major": 2,
       "version_minor": 0
      },
      "text/plain": [
       "  0%|          | 0/150 [00:00<?, ?it/s]"
      ]
     },
     "metadata": {},
     "output_type": "display_data"
    },
    {
     "name": "stdout",
     "output_type": "stream",
     "text": [
      "run 151 of 190 total------------------------------sentiment_value=0.6 iteration 1 of 10\n",
      "\n",
      "Building partition fixed_sentiment of 1000 agents\n",
      "\n",
      "  all agents tot_wealth will be: 10000\n",
      "  all agents sigma_prop will be: 0.5\n"
     ]
    },
    {
     "data": {
      "application/vnd.jupyter.widget-view+json": {
       "model_id": "adf9963381d9446b9a456f75e9669739",
       "version_major": 2,
       "version_minor": 0
      },
      "text/plain": [
       "  0%|          | 0/150 [00:00<?, ?it/s]"
      ]
     },
     "metadata": {},
     "output_type": "display_data"
    },
    {
     "name": "stdout",
     "output_type": "stream",
     "text": [
      "run 152 of 190 total------------------------------sentiment_value=0.6 iteration 2 of 10\n",
      "\n",
      "Building partition fixed_sentiment of 1000 agents\n",
      "\n",
      "  all agents tot_wealth will be: 10000\n",
      "  all agents sigma_prop will be: 0.5\n"
     ]
    },
    {
     "data": {
      "application/vnd.jupyter.widget-view+json": {
       "model_id": "178fdddec5d84d4186f9b70252dab00c",
       "version_major": 2,
       "version_minor": 0
      },
      "text/plain": [
       "  0%|          | 0/150 [00:00<?, ?it/s]"
      ]
     },
     "metadata": {},
     "output_type": "display_data"
    },
    {
     "name": "stdout",
     "output_type": "stream",
     "text": [
      "run 153 of 190 total------------------------------sentiment_value=0.6 iteration 3 of 10\n",
      "\n",
      "Building partition fixed_sentiment of 1000 agents\n",
      "\n",
      "  all agents tot_wealth will be: 10000\n",
      "  all agents sigma_prop will be: 0.5\n"
     ]
    },
    {
     "data": {
      "application/vnd.jupyter.widget-view+json": {
       "model_id": "25f0d323369f4b7bba7067f374d4ad02",
       "version_major": 2,
       "version_minor": 0
      },
      "text/plain": [
       "  0%|          | 0/150 [00:00<?, ?it/s]"
      ]
     },
     "metadata": {},
     "output_type": "display_data"
    },
    {
     "name": "stdout",
     "output_type": "stream",
     "text": [
      "run 154 of 190 total------------------------------sentiment_value=0.6 iteration 4 of 10\n",
      "\n",
      "Building partition fixed_sentiment of 1000 agents\n",
      "\n",
      "  all agents tot_wealth will be: 10000\n",
      "  all agents sigma_prop will be: 0.5\n"
     ]
    },
    {
     "data": {
      "application/vnd.jupyter.widget-view+json": {
       "model_id": "aead3995718b484da1f5717e133c401e",
       "version_major": 2,
       "version_minor": 0
      },
      "text/plain": [
       "  0%|          | 0/150 [00:00<?, ?it/s]"
      ]
     },
     "metadata": {},
     "output_type": "display_data"
    },
    {
     "name": "stdout",
     "output_type": "stream",
     "text": [
      "run 155 of 190 total------------------------------sentiment_value=0.6 iteration 5 of 10\n",
      "\n",
      "Building partition fixed_sentiment of 1000 agents\n",
      "\n",
      "  all agents tot_wealth will be: 10000\n",
      "  all agents sigma_prop will be: 0.5\n"
     ]
    },
    {
     "data": {
      "application/vnd.jupyter.widget-view+json": {
       "model_id": "72e3c41da687420faffd94c32118392c",
       "version_major": 2,
       "version_minor": 0
      },
      "text/plain": [
       "  0%|          | 0/150 [00:00<?, ?it/s]"
      ]
     },
     "metadata": {},
     "output_type": "display_data"
    },
    {
     "name": "stdout",
     "output_type": "stream",
     "text": [
      "run 156 of 190 total------------------------------sentiment_value=0.6 iteration 6 of 10\n",
      "\n",
      "Building partition fixed_sentiment of 1000 agents\n",
      "\n",
      "  all agents tot_wealth will be: 10000\n",
      "  all agents sigma_prop will be: 0.5\n"
     ]
    },
    {
     "data": {
      "application/vnd.jupyter.widget-view+json": {
       "model_id": "be0ddba450aa420f8cc1e3ad21021acc",
       "version_major": 2,
       "version_minor": 0
      },
      "text/plain": [
       "  0%|          | 0/150 [00:00<?, ?it/s]"
      ]
     },
     "metadata": {},
     "output_type": "display_data"
    },
    {
     "name": "stdout",
     "output_type": "stream",
     "text": [
      "run 157 of 190 total------------------------------sentiment_value=0.6 iteration 7 of 10\n",
      "\n",
      "Building partition fixed_sentiment of 1000 agents\n",
      "\n",
      "  all agents tot_wealth will be: 10000\n",
      "  all agents sigma_prop will be: 0.5\n"
     ]
    },
    {
     "data": {
      "application/vnd.jupyter.widget-view+json": {
       "model_id": "f790194b0cc441f8b935766d5c459570",
       "version_major": 2,
       "version_minor": 0
      },
      "text/plain": [
       "  0%|          | 0/150 [00:00<?, ?it/s]"
      ]
     },
     "metadata": {},
     "output_type": "display_data"
    },
    {
     "name": "stdout",
     "output_type": "stream",
     "text": [
      "run 158 of 190 total------------------------------sentiment_value=0.6 iteration 8 of 10\n",
      "\n",
      "Building partition fixed_sentiment of 1000 agents\n",
      "\n",
      "  all agents tot_wealth will be: 10000\n",
      "  all agents sigma_prop will be: 0.5\n"
     ]
    },
    {
     "data": {
      "application/vnd.jupyter.widget-view+json": {
       "model_id": "508b016db9e1481eab71385dc04895cf",
       "version_major": 2,
       "version_minor": 0
      },
      "text/plain": [
       "  0%|          | 0/150 [00:00<?, ?it/s]"
      ]
     },
     "metadata": {},
     "output_type": "display_data"
    },
    {
     "name": "stdout",
     "output_type": "stream",
     "text": [
      "run 159 of 190 total------------------------------sentiment_value=0.6 iteration 9 of 10\n",
      "\n",
      "Building partition fixed_sentiment of 1000 agents\n",
      "\n",
      "  all agents tot_wealth will be: 10000\n",
      "  all agents sigma_prop will be: 0.5\n"
     ]
    },
    {
     "data": {
      "application/vnd.jupyter.widget-view+json": {
       "model_id": "4e280795f5894619b832c5f7cf9cf39f",
       "version_major": 2,
       "version_minor": 0
      },
      "text/plain": [
       "  0%|          | 0/150 [00:00<?, ?it/s]"
      ]
     },
     "metadata": {},
     "output_type": "display_data"
    },
    {
     "name": "stdout",
     "output_type": "stream",
     "text": [
      "run 160 of 190 total------------------------------sentiment_value=0.6 iteration 10 of 10\n",
      "\n",
      "Building partition fixed_sentiment of 1000 agents\n",
      "\n",
      "  all agents tot_wealth will be: 10000\n",
      "  all agents sigma_prop will be: 0.5\n"
     ]
    },
    {
     "data": {
      "application/vnd.jupyter.widget-view+json": {
       "model_id": "a7170462a0494542a6f41d20f2c460d3",
       "version_major": 2,
       "version_minor": 0
      },
      "text/plain": [
       "  0%|          | 0/150 [00:00<?, ?it/s]"
      ]
     },
     "metadata": {},
     "output_type": "display_data"
    },
    {
     "name": "stdout",
     "output_type": "stream",
     "text": [
      "run 161 of 190 total------------------------------sentiment_value=0.7000000000000001 iteration 1 of 10\n",
      "\n",
      "Building partition fixed_sentiment of 1000 agents\n",
      "\n",
      "  all agents tot_wealth will be: 10000\n",
      "  all agents sigma_prop will be: 0.5\n"
     ]
    },
    {
     "data": {
      "application/vnd.jupyter.widget-view+json": {
       "model_id": "f8393cce057d4a189538fcf898269bfd",
       "version_major": 2,
       "version_minor": 0
      },
      "text/plain": [
       "  0%|          | 0/150 [00:00<?, ?it/s]"
      ]
     },
     "metadata": {},
     "output_type": "display_data"
    },
    {
     "name": "stdout",
     "output_type": "stream",
     "text": [
      "run 162 of 190 total------------------------------sentiment_value=0.7000000000000001 iteration 2 of 10\n",
      "\n",
      "Building partition fixed_sentiment of 1000 agents\n",
      "\n",
      "  all agents tot_wealth will be: 10000\n",
      "  all agents sigma_prop will be: 0.5\n"
     ]
    },
    {
     "data": {
      "application/vnd.jupyter.widget-view+json": {
       "model_id": "719dc68635a6409ca5423edc1f52707d",
       "version_major": 2,
       "version_minor": 0
      },
      "text/plain": [
       "  0%|          | 0/150 [00:00<?, ?it/s]"
      ]
     },
     "metadata": {},
     "output_type": "display_data"
    },
    {
     "name": "stdout",
     "output_type": "stream",
     "text": [
      "run 163 of 190 total------------------------------sentiment_value=0.7000000000000001 iteration 3 of 10\n",
      "\n",
      "Building partition fixed_sentiment of 1000 agents\n",
      "\n",
      "  all agents tot_wealth will be: 10000\n",
      "  all agents sigma_prop will be: 0.5\n"
     ]
    },
    {
     "data": {
      "application/vnd.jupyter.widget-view+json": {
       "model_id": "ccbe9683fdff463fbca018607e1e6db5",
       "version_major": 2,
       "version_minor": 0
      },
      "text/plain": [
       "  0%|          | 0/150 [00:00<?, ?it/s]"
      ]
     },
     "metadata": {},
     "output_type": "display_data"
    },
    {
     "name": "stdout",
     "output_type": "stream",
     "text": [
      "run 164 of 190 total------------------------------sentiment_value=0.7000000000000001 iteration 4 of 10\n",
      "\n",
      "Building partition fixed_sentiment of 1000 agents\n",
      "\n",
      "  all agents tot_wealth will be: 10000\n",
      "  all agents sigma_prop will be: 0.5\n"
     ]
    },
    {
     "data": {
      "application/vnd.jupyter.widget-view+json": {
       "model_id": "1e2cdfd334ab45f7b4eb517256c58efd",
       "version_major": 2,
       "version_minor": 0
      },
      "text/plain": [
       "  0%|          | 0/150 [00:00<?, ?it/s]"
      ]
     },
     "metadata": {},
     "output_type": "display_data"
    },
    {
     "name": "stdout",
     "output_type": "stream",
     "text": [
      "run 165 of 190 total------------------------------sentiment_value=0.7000000000000001 iteration 5 of 10\n",
      "\n",
      "Building partition fixed_sentiment of 1000 agents\n",
      "\n",
      "  all agents tot_wealth will be: 10000\n",
      "  all agents sigma_prop will be: 0.5\n"
     ]
    },
    {
     "data": {
      "application/vnd.jupyter.widget-view+json": {
       "model_id": "3a6bacf86bb04b019970e572eb2d72bc",
       "version_major": 2,
       "version_minor": 0
      },
      "text/plain": [
       "  0%|          | 0/150 [00:00<?, ?it/s]"
      ]
     },
     "metadata": {},
     "output_type": "display_data"
    },
    {
     "name": "stdout",
     "output_type": "stream",
     "text": [
      "run 166 of 190 total------------------------------sentiment_value=0.7000000000000001 iteration 6 of 10\n",
      "\n",
      "Building partition fixed_sentiment of 1000 agents\n",
      "\n",
      "  all agents tot_wealth will be: 10000\n",
      "  all agents sigma_prop will be: 0.5\n"
     ]
    },
    {
     "data": {
      "application/vnd.jupyter.widget-view+json": {
       "model_id": "c8766a40dc994f3eb172c641f0065957",
       "version_major": 2,
       "version_minor": 0
      },
      "text/plain": [
       "  0%|          | 0/150 [00:00<?, ?it/s]"
      ]
     },
     "metadata": {},
     "output_type": "display_data"
    },
    {
     "name": "stdout",
     "output_type": "stream",
     "text": [
      "run 167 of 190 total------------------------------sentiment_value=0.7000000000000001 iteration 7 of 10\n",
      "\n",
      "Building partition fixed_sentiment of 1000 agents\n",
      "\n",
      "  all agents tot_wealth will be: 10000\n",
      "  all agents sigma_prop will be: 0.5\n"
     ]
    },
    {
     "data": {
      "application/vnd.jupyter.widget-view+json": {
       "model_id": "05e9932dad2d4d79b27db016fcbffec2",
       "version_major": 2,
       "version_minor": 0
      },
      "text/plain": [
       "  0%|          | 0/150 [00:00<?, ?it/s]"
      ]
     },
     "metadata": {},
     "output_type": "display_data"
    },
    {
     "name": "stdout",
     "output_type": "stream",
     "text": [
      "run 168 of 190 total------------------------------sentiment_value=0.7000000000000001 iteration 8 of 10\n",
      "\n",
      "Building partition fixed_sentiment of 1000 agents\n",
      "\n",
      "  all agents tot_wealth will be: 10000\n",
      "  all agents sigma_prop will be: 0.5\n"
     ]
    },
    {
     "data": {
      "application/vnd.jupyter.widget-view+json": {
       "model_id": "26b4c2c110f740149ae37bdf6460b5e5",
       "version_major": 2,
       "version_minor": 0
      },
      "text/plain": [
       "  0%|          | 0/150 [00:00<?, ?it/s]"
      ]
     },
     "metadata": {},
     "output_type": "display_data"
    },
    {
     "name": "stdout",
     "output_type": "stream",
     "text": [
      "run 169 of 190 total------------------------------sentiment_value=0.7000000000000001 iteration 9 of 10\n",
      "\n",
      "Building partition fixed_sentiment of 1000 agents\n",
      "\n",
      "  all agents tot_wealth will be: 10000\n",
      "  all agents sigma_prop will be: 0.5\n"
     ]
    },
    {
     "data": {
      "application/vnd.jupyter.widget-view+json": {
       "model_id": "8d7f4da0f5bb4391b8a223782d1a4efd",
       "version_major": 2,
       "version_minor": 0
      },
      "text/plain": [
       "  0%|          | 0/150 [00:00<?, ?it/s]"
      ]
     },
     "metadata": {},
     "output_type": "display_data"
    },
    {
     "name": "stdout",
     "output_type": "stream",
     "text": [
      "run 170 of 190 total------------------------------sentiment_value=0.7000000000000001 iteration 10 of 10\n",
      "\n",
      "Building partition fixed_sentiment of 1000 agents\n",
      "\n",
      "  all agents tot_wealth will be: 10000\n",
      "  all agents sigma_prop will be: 0.5\n"
     ]
    },
    {
     "data": {
      "application/vnd.jupyter.widget-view+json": {
       "model_id": "97dc8a766e8b47f18c52b5fff603f8c4",
       "version_major": 2,
       "version_minor": 0
      },
      "text/plain": [
       "  0%|          | 0/150 [00:00<?, ?it/s]"
      ]
     },
     "metadata": {},
     "output_type": "display_data"
    },
    {
     "name": "stdout",
     "output_type": "stream",
     "text": [
      "run 171 of 190 total------------------------------sentiment_value=0.8000000000000002 iteration 1 of 10\n",
      "\n",
      "Building partition fixed_sentiment of 1000 agents\n",
      "\n",
      "  all agents tot_wealth will be: 10000\n",
      "  all agents sigma_prop will be: 0.5\n"
     ]
    },
    {
     "data": {
      "application/vnd.jupyter.widget-view+json": {
       "model_id": "249f394e3d054d5b8f6626ef9f04eacb",
       "version_major": 2,
       "version_minor": 0
      },
      "text/plain": [
       "  0%|          | 0/150 [00:00<?, ?it/s]"
      ]
     },
     "metadata": {},
     "output_type": "display_data"
    },
    {
     "name": "stdout",
     "output_type": "stream",
     "text": [
      "run 172 of 190 total------------------------------sentiment_value=0.8000000000000002 iteration 2 of 10\n",
      "\n",
      "Building partition fixed_sentiment of 1000 agents\n",
      "\n",
      "  all agents tot_wealth will be: 10000\n",
      "  all agents sigma_prop will be: 0.5\n"
     ]
    },
    {
     "data": {
      "application/vnd.jupyter.widget-view+json": {
       "model_id": "af32d0e2313d444f852a315b20fd52a4",
       "version_major": 2,
       "version_minor": 0
      },
      "text/plain": [
       "  0%|          | 0/150 [00:00<?, ?it/s]"
      ]
     },
     "metadata": {},
     "output_type": "display_data"
    },
    {
     "name": "stdout",
     "output_type": "stream",
     "text": [
      "run 173 of 190 total------------------------------sentiment_value=0.8000000000000002 iteration 3 of 10\n",
      "\n",
      "Building partition fixed_sentiment of 1000 agents\n",
      "\n",
      "  all agents tot_wealth will be: 10000\n",
      "  all agents sigma_prop will be: 0.5\n"
     ]
    },
    {
     "data": {
      "application/vnd.jupyter.widget-view+json": {
       "model_id": "e18b62fb81324349a055bcd10a3d2666",
       "version_major": 2,
       "version_minor": 0
      },
      "text/plain": [
       "  0%|          | 0/150 [00:00<?, ?it/s]"
      ]
     },
     "metadata": {},
     "output_type": "display_data"
    },
    {
     "name": "stdout",
     "output_type": "stream",
     "text": [
      "run 174 of 190 total------------------------------sentiment_value=0.8000000000000002 iteration 4 of 10\n",
      "\n",
      "Building partition fixed_sentiment of 1000 agents\n",
      "\n",
      "  all agents tot_wealth will be: 10000\n",
      "  all agents sigma_prop will be: 0.5\n"
     ]
    },
    {
     "data": {
      "application/vnd.jupyter.widget-view+json": {
       "model_id": "ededc4f5b9dd4100ac3ac83ca1be9e6d",
       "version_major": 2,
       "version_minor": 0
      },
      "text/plain": [
       "  0%|          | 0/150 [00:00<?, ?it/s]"
      ]
     },
     "metadata": {},
     "output_type": "display_data"
    },
    {
     "name": "stdout",
     "output_type": "stream",
     "text": [
      "run 175 of 190 total------------------------------sentiment_value=0.8000000000000002 iteration 5 of 10\n",
      "\n",
      "Building partition fixed_sentiment of 1000 agents\n",
      "\n",
      "  all agents tot_wealth will be: 10000\n",
      "  all agents sigma_prop will be: 0.5\n"
     ]
    },
    {
     "data": {
      "application/vnd.jupyter.widget-view+json": {
       "model_id": "580d82583a384d3ea9601d945e91199a",
       "version_major": 2,
       "version_minor": 0
      },
      "text/plain": [
       "  0%|          | 0/150 [00:00<?, ?it/s]"
      ]
     },
     "metadata": {},
     "output_type": "display_data"
    },
    {
     "name": "stdout",
     "output_type": "stream",
     "text": [
      "run 176 of 190 total------------------------------sentiment_value=0.8000000000000002 iteration 6 of 10\n",
      "\n",
      "Building partition fixed_sentiment of 1000 agents\n",
      "\n",
      "  all agents tot_wealth will be: 10000\n",
      "  all agents sigma_prop will be: 0.5\n"
     ]
    },
    {
     "data": {
      "application/vnd.jupyter.widget-view+json": {
       "model_id": "1f2afdd1d434454aa0a78c1209b8e606",
       "version_major": 2,
       "version_minor": 0
      },
      "text/plain": [
       "  0%|          | 0/150 [00:00<?, ?it/s]"
      ]
     },
     "metadata": {},
     "output_type": "display_data"
    },
    {
     "name": "stdout",
     "output_type": "stream",
     "text": [
      "run 177 of 190 total------------------------------sentiment_value=0.8000000000000002 iteration 7 of 10\n",
      "\n",
      "Building partition fixed_sentiment of 1000 agents\n",
      "\n",
      "  all agents tot_wealth will be: 10000\n",
      "  all agents sigma_prop will be: 0.5\n"
     ]
    },
    {
     "data": {
      "application/vnd.jupyter.widget-view+json": {
       "model_id": "163a7fb6377f4f59a023f46ae1cfb29b",
       "version_major": 2,
       "version_minor": 0
      },
      "text/plain": [
       "  0%|          | 0/150 [00:00<?, ?it/s]"
      ]
     },
     "metadata": {},
     "output_type": "display_data"
    },
    {
     "name": "stdout",
     "output_type": "stream",
     "text": [
      "run 178 of 190 total------------------------------sentiment_value=0.8000000000000002 iteration 8 of 10\n",
      "\n",
      "Building partition fixed_sentiment of 1000 agents\n",
      "\n",
      "  all agents tot_wealth will be: 10000\n",
      "  all agents sigma_prop will be: 0.5\n"
     ]
    },
    {
     "data": {
      "application/vnd.jupyter.widget-view+json": {
       "model_id": "41a9c0b986494b67ae189544338cc980",
       "version_major": 2,
       "version_minor": 0
      },
      "text/plain": [
       "  0%|          | 0/150 [00:00<?, ?it/s]"
      ]
     },
     "metadata": {},
     "output_type": "display_data"
    },
    {
     "name": "stdout",
     "output_type": "stream",
     "text": [
      "run 179 of 190 total------------------------------sentiment_value=0.8000000000000002 iteration 9 of 10\n",
      "\n",
      "Building partition fixed_sentiment of 1000 agents\n",
      "\n",
      "  all agents tot_wealth will be: 10000\n",
      "  all agents sigma_prop will be: 0.5\n"
     ]
    },
    {
     "data": {
      "application/vnd.jupyter.widget-view+json": {
       "model_id": "8156c3a2ae1e463b9809e91d32c524c5",
       "version_major": 2,
       "version_minor": 0
      },
      "text/plain": [
       "  0%|          | 0/150 [00:00<?, ?it/s]"
      ]
     },
     "metadata": {},
     "output_type": "display_data"
    },
    {
     "name": "stdout",
     "output_type": "stream",
     "text": [
      "run 180 of 190 total------------------------------sentiment_value=0.8000000000000002 iteration 10 of 10\n",
      "\n",
      "Building partition fixed_sentiment of 1000 agents\n",
      "\n",
      "  all agents tot_wealth will be: 10000\n",
      "  all agents sigma_prop will be: 0.5\n"
     ]
    },
    {
     "data": {
      "application/vnd.jupyter.widget-view+json": {
       "model_id": "1e6438f019da411c8c54e8ca9b8c9c9c",
       "version_major": 2,
       "version_minor": 0
      },
      "text/plain": [
       "  0%|          | 0/150 [00:00<?, ?it/s]"
      ]
     },
     "metadata": {},
     "output_type": "display_data"
    },
    {
     "name": "stdout",
     "output_type": "stream",
     "text": [
      "run 181 of 190 total------------------------------sentiment_value=0.9 iteration 1 of 10\n",
      "\n",
      "Building partition fixed_sentiment of 1000 agents\n",
      "\n",
      "  all agents tot_wealth will be: 10000\n",
      "  all agents sigma_prop will be: 0.5\n"
     ]
    },
    {
     "data": {
      "application/vnd.jupyter.widget-view+json": {
       "model_id": "6abade49a21c43d69de5fec0312c0790",
       "version_major": 2,
       "version_minor": 0
      },
      "text/plain": [
       "  0%|          | 0/150 [00:00<?, ?it/s]"
      ]
     },
     "metadata": {},
     "output_type": "display_data"
    },
    {
     "name": "stdout",
     "output_type": "stream",
     "text": [
      "run 182 of 190 total------------------------------sentiment_value=0.9 iteration 2 of 10\n",
      "\n",
      "Building partition fixed_sentiment of 1000 agents\n",
      "\n",
      "  all agents tot_wealth will be: 10000\n",
      "  all agents sigma_prop will be: 0.5\n"
     ]
    },
    {
     "data": {
      "application/vnd.jupyter.widget-view+json": {
       "model_id": "4bbdac12d46e457bbcb41cba59402755",
       "version_major": 2,
       "version_minor": 0
      },
      "text/plain": [
       "  0%|          | 0/150 [00:00<?, ?it/s]"
      ]
     },
     "metadata": {},
     "output_type": "display_data"
    },
    {
     "name": "stdout",
     "output_type": "stream",
     "text": [
      "run 183 of 190 total------------------------------sentiment_value=0.9 iteration 3 of 10\n",
      "\n",
      "Building partition fixed_sentiment of 1000 agents\n",
      "\n",
      "  all agents tot_wealth will be: 10000\n",
      "  all agents sigma_prop will be: 0.5\n"
     ]
    },
    {
     "data": {
      "application/vnd.jupyter.widget-view+json": {
       "model_id": "3ca81385104846febfa95d483f83142b",
       "version_major": 2,
       "version_minor": 0
      },
      "text/plain": [
       "  0%|          | 0/150 [00:00<?, ?it/s]"
      ]
     },
     "metadata": {},
     "output_type": "display_data"
    },
    {
     "name": "stdout",
     "output_type": "stream",
     "text": [
      "run 184 of 190 total------------------------------sentiment_value=0.9 iteration 4 of 10\n",
      "\n",
      "Building partition fixed_sentiment of 1000 agents\n",
      "\n",
      "  all agents tot_wealth will be: 10000\n",
      "  all agents sigma_prop will be: 0.5\n"
     ]
    },
    {
     "data": {
      "application/vnd.jupyter.widget-view+json": {
       "model_id": "4a908306c1ca4c5e93f950b4c9a2b094",
       "version_major": 2,
       "version_minor": 0
      },
      "text/plain": [
       "  0%|          | 0/150 [00:00<?, ?it/s]"
      ]
     },
     "metadata": {},
     "output_type": "display_data"
    },
    {
     "name": "stdout",
     "output_type": "stream",
     "text": [
      "run 185 of 190 total------------------------------sentiment_value=0.9 iteration 5 of 10\n",
      "\n",
      "Building partition fixed_sentiment of 1000 agents\n",
      "\n",
      "  all agents tot_wealth will be: 10000\n",
      "  all agents sigma_prop will be: 0.5\n"
     ]
    },
    {
     "data": {
      "application/vnd.jupyter.widget-view+json": {
       "model_id": "cf56f67942354bebb0dce276929f3f26",
       "version_major": 2,
       "version_minor": 0
      },
      "text/plain": [
       "  0%|          | 0/150 [00:00<?, ?it/s]"
      ]
     },
     "metadata": {},
     "output_type": "display_data"
    },
    {
     "name": "stdout",
     "output_type": "stream",
     "text": [
      "run 186 of 190 total------------------------------sentiment_value=0.9 iteration 6 of 10\n",
      "\n",
      "Building partition fixed_sentiment of 1000 agents\n",
      "\n",
      "  all agents tot_wealth will be: 10000\n",
      "  all agents sigma_prop will be: 0.5\n"
     ]
    },
    {
     "data": {
      "application/vnd.jupyter.widget-view+json": {
       "model_id": "843677195d194c119e7c13c98d94d0ae",
       "version_major": 2,
       "version_minor": 0
      },
      "text/plain": [
       "  0%|          | 0/150 [00:00<?, ?it/s]"
      ]
     },
     "metadata": {},
     "output_type": "display_data"
    },
    {
     "name": "stdout",
     "output_type": "stream",
     "text": [
      "run 187 of 190 total------------------------------sentiment_value=0.9 iteration 7 of 10\n",
      "\n",
      "Building partition fixed_sentiment of 1000 agents\n",
      "\n",
      "  all agents tot_wealth will be: 10000\n",
      "  all agents sigma_prop will be: 0.5\n"
     ]
    },
    {
     "data": {
      "application/vnd.jupyter.widget-view+json": {
       "model_id": "cb43ba1b55c2496dae80d715d4ee91a3",
       "version_major": 2,
       "version_minor": 0
      },
      "text/plain": [
       "  0%|          | 0/150 [00:00<?, ?it/s]"
      ]
     },
     "metadata": {},
     "output_type": "display_data"
    },
    {
     "name": "stdout",
     "output_type": "stream",
     "text": [
      "run 188 of 190 total------------------------------sentiment_value=0.9 iteration 8 of 10\n",
      "\n",
      "Building partition fixed_sentiment of 1000 agents\n",
      "\n",
      "  all agents tot_wealth will be: 10000\n",
      "  all agents sigma_prop will be: 0.5\n"
     ]
    },
    {
     "data": {
      "application/vnd.jupyter.widget-view+json": {
       "model_id": "0fb21f5d17a7415f84eb54db242e072e",
       "version_major": 2,
       "version_minor": 0
      },
      "text/plain": [
       "  0%|          | 0/150 [00:00<?, ?it/s]"
      ]
     },
     "metadata": {},
     "output_type": "display_data"
    },
    {
     "name": "stdout",
     "output_type": "stream",
     "text": [
      "run 189 of 190 total------------------------------sentiment_value=0.9 iteration 9 of 10\n",
      "\n",
      "Building partition fixed_sentiment of 1000 agents\n",
      "\n",
      "  all agents tot_wealth will be: 10000\n",
      "  all agents sigma_prop will be: 0.5\n"
     ]
    },
    {
     "data": {
      "application/vnd.jupyter.widget-view+json": {
       "model_id": "a7aa5cbb41eb46abafe7836b21bac17e",
       "version_major": 2,
       "version_minor": 0
      },
      "text/plain": [
       "  0%|          | 0/150 [00:00<?, ?it/s]"
      ]
     },
     "metadata": {},
     "output_type": "display_data"
    },
    {
     "name": "stdout",
     "output_type": "stream",
     "text": [
      "run 190 of 190 total------------------------------sentiment_value=0.9 iteration 10 of 10\n",
      "\n",
      "Building partition fixed_sentiment of 1000 agents\n",
      "\n",
      "  all agents tot_wealth will be: 10000\n",
      "  all agents sigma_prop will be: 0.5\n"
     ]
    },
    {
     "data": {
      "application/vnd.jupyter.widget-view+json": {
       "model_id": "562b7665d33844e580a7728b3ae881e4",
       "version_major": 2,
       "version_minor": 0
      },
      "text/plain": [
       "  0%|          | 0/150 [00:00<?, ?it/s]"
      ]
     },
     "metadata": {},
     "output_type": "display_data"
    }
   ],
   "source": [
    "lab.param_run(150, 'sentiment_value',sentiment_values, iter_same_point=10 )"
   ]
  },
  {
   "cell_type": "code",
   "execution_count": 8,
   "id": "052ae1d3",
   "metadata": {},
   "outputs": [
    {
     "data": {
      "application/vnd.jupyter.widget-view+json": {
       "model_id": "8b52846fb3b64f4aae7959f887c3e60c",
       "version_major": 2,
       "version_minor": 0
      },
      "text/plain": [
       "exp fitting abs_avg_eq_dist:   0%|          | 0/19 [00:00<?, ?it/s]"
      ]
     },
     "metadata": {},
     "output_type": "display_data"
    },
    {
     "data": {
      "application/vnd.jupyter.widget-view+json": {
       "model_id": "ace81f893a814763ab2782423a60e9fd",
       "version_major": 2,
       "version_minor": 0
      },
      "text/plain": [
       "lin fitting abs_avg_eq_dist:   0%|          | 0/19 [00:00<?, ?it/s]"
      ]
     },
     "metadata": {},
     "output_type": "display_data"
    }
   ],
   "source": [
    "# lab.fit_metric('avg_sigma', 'pol', end_slice=100, poly_order=3,fit_name='pol_fit', weight_coeff=2)\n",
    "# lab.fit_metric('sct_abs_eq_dist', 'exp', end_slice=100, fit_name='exp_fit', weight_coeff=1/2)\n",
    "lab.fit_metric('abs_avg_eq_dist', 'exp', end_slice=100, fit_name='exp_fit', weight_coeff=2)\n",
    "lab.fit_metric('abs_avg_eq_dist', 'lin', end_slice=50,  fit_name='lin_fit', weight_coeff=2)"
   ]
  },
  {
   "cell_type": "code",
   "execution_count": 9,
   "id": "3dba2ce3",
   "metadata": {},
   "outputs": [
    {
     "name": "stdout",
     "output_type": "stream",
     "text": [
      "\n",
      "\n",
      "-------------------------------------------------- METRICS INFO\n",
      "\n",
      "----------metric name: avg_price\n",
      "          performed on parameters:\n",
      "               sentiment_value=-0.9,-0.8,-0.7,-0.6,-0.5,-0.4,-0.29999999999999993,-0.19999999999999996,-0.09999999999999998,0.0,0.09999999999999998,0.20000000000000007,0.30000000000000016,0.4,0.5000000000000001,0.6,0.7000000000000001,0.8000000000000002,0.9\n",
      "----------metric name: avg_sigma\n",
      "          performed on parameters:\n",
      "               sentiment_value=-0.9,-0.8,-0.7,-0.6,-0.5,-0.4,-0.29999999999999993,-0.19999999999999996,-0.09999999999999998,0.0,0.09999999999999998,0.20000000000000007,0.30000000000000016,0.4,0.5000000000000001,0.6,0.7000000000000001,0.8000000000000002,0.9\n",
      "----------metric name: abs_avg_eq_dist\n",
      "          performed on parameters:\n",
      "               sentiment_value=-0.9,-0.8,-0.7,-0.6,-0.5,-0.4,-0.29999999999999993,-0.19999999999999996,-0.09999999999999998,0.0,0.09999999999999998,0.20000000000000007,0.30000000000000016,0.4,0.5000000000000001,0.6,0.7000000000000001,0.8000000000000002,0.9\n",
      "----------metric name: sct_abs_eq_dist\n",
      "          performed on parameters:\n",
      "               sentiment_value=-0.9,-0.8,-0.7,-0.6,-0.5,-0.4,-0.29999999999999993,-0.19999999999999996,-0.09999999999999998,0.0,0.09999999999999998,0.20000000000000007,0.30000000000000016,0.4,0.5000000000000001,0.6,0.7000000000000001,0.8000000000000002,0.9\n",
      "\n",
      "\n",
      "################################################## FITS INFO\n",
      "\n",
      "######### fit name: exp_fit\n",
      "          dominio from 0 to (included) 99 of size 100\n",
      "          performed on metrics: abs_avg_eq_dist\n",
      "######### fit name: lin_fit\n",
      "          dominio from 0 to (included) 49 of size 50\n",
      "          performed on metrics: abs_avg_eq_dist\n"
     ]
    }
   ],
   "source": [
    "lab.print_mtr_summary()\n",
    "lab.print_fit_summary()"
   ]
  },
  {
   "cell_type": "code",
   "execution_count": 10,
   "id": "32e78bd7",
   "metadata": {},
   "outputs": [
    {
     "data": {
      "image/png": "[encoded data removed]",
      "text/plain": [
       "<Figure size 1296x10944 with 19 Axes>"
      ]
     },
     "metadata": {
      "needs_background": "light"
     },
     "output_type": "display_data"
    },
    {
     "name": "stdout",
     "output_type": "stream",
     "text": [
      "sentiment_=-0.90000------------------------------\n",
      "    subrun 0: \n",
      "        exp_fit        :  C[ 0]=  -0.02060;  C[ 1]=  -0.82086; \n",
      "        lin_fit        :  C[ 0]=  -0.00636;  C[ 1]=   0.42816; \n",
      "    subrun 1: \n",
      "        exp_fit        :  C[ 0]=  -0.02119;  C[ 1]=  -0.82938; \n",
      "        lin_fit        :  C[ 0]=  -0.00649;  C[ 1]=   0.42464; \n",
      "    subrun 2: \n",
      "        exp_fit        :  C[ 0]=  -0.02088;  C[ 1]=  -0.82470; \n",
      "        lin_fit        :  C[ 0]=  -0.00638;  C[ 1]=   0.42603; \n",
      "    subrun 3: \n",
      "        exp_fit        :  C[ 0]=  -0.02198;  C[ 1]=  -0.81822; \n",
      "        lin_fit        :  C[ 0]=  -0.00675;  C[ 1]=   0.42880; \n",
      "    subrun 4: \n",
      "        exp_fit        :  C[ 0]=  -0.02096;  C[ 1]=  -0.82569; \n",
      "        lin_fit        :  C[ 0]=  -0.00641;  C[ 1]=   0.42578; \n",
      "    subrun 5: \n",
      "        exp_fit        :  C[ 0]=  -0.02261;  C[ 1]=  -0.81853; \n",
      "        lin_fit        :  C[ 0]=  -0.00695;  C[ 1]=   0.42908; \n",
      "    subrun 6: \n",
      "        exp_fit        :  C[ 0]=  -0.02174;  C[ 1]=  -0.81171; \n",
      "        lin_fit        :  C[ 0]=  -0.00670;  C[ 1]=   0.43136; \n",
      "    subrun 7: \n",
      "        exp_fit        :  C[ 0]=  -0.02115;  C[ 1]=  -0.81869; \n",
      "        lin_fit        :  C[ 0]=  -0.00652;  C[ 1]=   0.42891; \n",
      "    subrun 8: \n",
      "        exp_fit        :  C[ 0]=  -0.02110;  C[ 1]=  -0.82056; \n",
      "        lin_fit        :  C[ 0]=  -0.00649;  C[ 1]=   0.42816; \n",
      "    subrun 9: \n",
      "        exp_fit        :  C[ 0]=  -0.02092;  C[ 1]=  -0.82025; \n",
      "        lin_fit        :  C[ 0]=  -0.00645;  C[ 1]=   0.42834; \n",
      "sentiment_=-0.80000------------------------------\n",
      "    subrun 0: \n",
      "        exp_fit        :  C[ 0]=  -0.02781;  C[ 1]=  -0.96194; \n",
      "        lin_fit        :  C[ 0]=  -0.00729;  C[ 1]=   0.37136; \n",
      "    subrun 1: \n",
      "        exp_fit        :  C[ 0]=  -0.02797;  C[ 1]=  -0.94748; \n",
      "        lin_fit        :  C[ 0]=  -0.00739;  C[ 1]=   0.37615; \n",
      "    subrun 2: \n",
      "        exp_fit        :  C[ 0]=  -0.02886;  C[ 1]=  -0.95097; \n",
      "        lin_fit        :  C[ 0]=  -0.00761;  C[ 1]=   0.37505; \n",
      "    subrun 3: \n",
      "        exp_fit        :  C[ 0]=  -0.02754;  C[ 1]=  -0.95431; \n",
      "        lin_fit        :  C[ 0]=  -0.00731;  C[ 1]=   0.37438; \n",
      "    subrun 4: \n",
      "        exp_fit        :  C[ 0]=  -0.02766;  C[ 1]=  -0.95086; \n",
      "        lin_fit        :  C[ 0]=  -0.00725;  C[ 1]=   0.37442; \n",
      "    subrun 5: \n",
      "        exp_fit        :  C[ 0]=  -0.02813;  C[ 1]=  -0.96335; \n",
      "        lin_fit        :  C[ 0]=  -0.00741;  C[ 1]=   0.37135; \n",
      "    subrun 6: \n",
      "        exp_fit        :  C[ 0]=  -0.02913;  C[ 1]=  -0.94935; \n",
      "        lin_fit        :  C[ 0]=  -0.00769;  C[ 1]=   0.37563; \n",
      "    subrun 7: \n",
      "        exp_fit        :  C[ 0]=  -0.02824;  C[ 1]=  -0.96485; \n",
      "        lin_fit        :  C[ 0]=  -0.00739;  C[ 1]=   0.37028; \n",
      "    subrun 8: \n",
      "        exp_fit        :  C[ 0]=  -0.02734;  C[ 1]=  -0.95632; \n",
      "        lin_fit        :  C[ 0]=  -0.00719;  C[ 1]=   0.37320; \n",
      "    subrun 9: \n",
      "        exp_fit        :  C[ 0]=  -0.02891;  C[ 1]=  -0.93932; \n",
      "        lin_fit        :  C[ 0]=  -0.00762;  C[ 1]=   0.37848; \n",
      "sentiment_=-0.70000------------------------------\n",
      "    subrun 0: \n",
      "        exp_fit        :  C[ 0]=  -0.02821;  C[ 1]=  -1.08964; \n",
      "        lin_fit        :  C[ 0]=  -0.00652;  C[ 1]=   0.32706; \n",
      "    subrun 1: \n",
      "        exp_fit        :  C[ 0]=  -0.02988;  C[ 1]=  -1.07951; \n",
      "        lin_fit        :  C[ 0]=  -0.00686;  C[ 1]=   0.32950; \n",
      "    subrun 2: \n",
      "        exp_fit        :  C[ 0]=  -0.02856;  C[ 1]=  -1.09195; \n",
      "        lin_fit        :  C[ 0]=  -0.00660;  C[ 1]=   0.32651; \n",
      "    subrun 3: \n",
      "        exp_fit        :  C[ 0]=  -0.02887;  C[ 1]=  -1.08373; \n",
      "        lin_fit        :  C[ 0]=  -0.00677;  C[ 1]=   0.32936; \n",
      "    subrun 4: \n",
      "        exp_fit        :  C[ 0]=  -0.02760;  C[ 1]=  -1.09473; \n",
      "        lin_fit        :  C[ 0]=  -0.00638;  C[ 1]=   0.32573; \n",
      "    subrun 5: \n",
      "        exp_fit        :  C[ 0]=  -0.02893;  C[ 1]=  -1.09253; \n",
      "        lin_fit        :  C[ 0]=  -0.00668;  C[ 1]=   0.32638; \n",
      "    subrun 6: \n",
      "        exp_fit        :  C[ 0]=  -0.02823;  C[ 1]=  -1.09803; \n",
      "        lin_fit        :  C[ 0]=  -0.00658;  C[ 1]=   0.32531; \n",
      "    subrun 7: \n",
      "        exp_fit        :  C[ 0]=  -0.02874;  C[ 1]=  -1.08535; \n",
      "        lin_fit        :  C[ 0]=  -0.00670;  C[ 1]=   0.32860; \n",
      "    subrun 8: \n",
      "        exp_fit        :  C[ 0]=  -0.02988;  C[ 1]=  -1.10350; \n",
      "        lin_fit        :  C[ 0]=  -0.00689;  C[ 1]=   0.32341; \n",
      "    subrun 9: \n",
      "        exp_fit        :  C[ 0]=  -0.02909;  C[ 1]=  -1.08513; \n",
      "        lin_fit        :  C[ 0]=  -0.00673;  C[ 1]=   0.32828; \n",
      "sentiment_=-0.60000------------------------------\n",
      "    subrun 0: \n",
      "        exp_fit        :  C[ 0]=  -0.02565;  C[ 1]=  -1.24220; \n",
      "        lin_fit        :  C[ 0]=  -0.00524;  C[ 1]=   0.28192; \n",
      "    subrun 1: \n",
      "        exp_fit        :  C[ 0]=  -0.02715;  C[ 1]=  -1.25261; \n",
      "        lin_fit        :  C[ 0]=  -0.00553;  C[ 1]=   0.27950; \n",
      "    subrun 2: \n",
      "        exp_fit        :  C[ 0]=  -0.02569;  C[ 1]=  -1.26021; \n",
      "        lin_fit        :  C[ 0]=  -0.00520;  C[ 1]=   0.27766; \n",
      "    subrun 3: \n",
      "        exp_fit        :  C[ 0]=  -0.02672;  C[ 1]=  -1.27282; \n",
      "        lin_fit        :  C[ 0]=  -0.00530;  C[ 1]=   0.27417; \n",
      "    subrun 4: \n",
      "        exp_fit        :  C[ 0]=  -0.02453;  C[ 1]=  -1.26413; \n",
      "        lin_fit        :  C[ 0]=  -0.00489;  C[ 1]=   0.27583; \n",
      "    subrun 5: \n",
      "        exp_fit        :  C[ 0]=  -0.02554;  C[ 1]=  -1.26014; \n",
      "        lin_fit        :  C[ 0]=  -0.00517;  C[ 1]=   0.27759; \n",
      "    subrun 6: \n",
      "        exp_fit        :  C[ 0]=  -0.02424;  C[ 1]=  -1.26969; \n",
      "        lin_fit        :  C[ 0]=  -0.00505;  C[ 1]=   0.27661; \n",
      "    subrun 7: \n",
      "        exp_fit        :  C[ 0]=  -0.02574;  C[ 1]=  -1.25632; \n",
      "        lin_fit        :  C[ 0]=  -0.00513;  C[ 1]=   0.27753; \n",
      "    subrun 8: \n",
      "        exp_fit        :  C[ 0]=  -0.02702;  C[ 1]=  -1.25378; \n",
      "        lin_fit        :  C[ 0]=  -0.00546;  C[ 1]=   0.27886; \n",
      "    subrun 9: \n",
      "        exp_fit        :  C[ 0]=  -0.02603;  C[ 1]=  -1.25630; \n",
      "        lin_fit        :  C[ 0]=  -0.00521;  C[ 1]=   0.27788; \n",
      "sentiment_=-0.50000------------------------------\n",
      "    subrun 0: \n",
      "        exp_fit        :  C[ 0]=  -0.02332;  C[ 1]=  -1.46356; \n",
      "        lin_fit        :  C[ 0]=  -0.00398;  C[ 1]=   0.22750; \n",
      "    subrun 1: \n",
      "        exp_fit        :  C[ 0]=  -0.02278;  C[ 1]=  -1.43642; \n",
      "        lin_fit        :  C[ 0]=  -0.00381;  C[ 1]=   0.23176; \n",
      "    subrun 2: \n",
      "        exp_fit        :  C[ 0]=  -0.02071;  C[ 1]=  -1.45518; \n",
      "        lin_fit        :  C[ 0]=  -0.00360;  C[ 1]=   0.22962; \n",
      "    subrun 3: \n",
      "        exp_fit        :  C[ 0]=  -0.02410;  C[ 1]=  -1.43518; \n",
      "        lin_fit        :  C[ 0]=  -0.00411;  C[ 1]=   0.23295; \n",
      "    subrun 4: \n",
      "        exp_fit        :  C[ 0]=  -0.02305;  C[ 1]=  -1.43358; \n",
      "        lin_fit        :  C[ 0]=  -0.00410;  C[ 1]=   0.23483; \n",
      "    subrun 5: \n",
      "        exp_fit        :  C[ 0]=  -0.02148;  C[ 1]=  -1.44381; \n",
      "        lin_fit        :  C[ 0]=  -0.00376;  C[ 1]=   0.23198; \n",
      "    subrun 6: \n",
      "        exp_fit        :  C[ 0]=  -0.02527;  C[ 1]=  -1.45116; \n",
      "        lin_fit        :  C[ 0]=  -0.00436;  C[ 1]=   0.23078; \n",
      "    subrun 7: \n",
      "        exp_fit        :  C[ 0]=  -0.02244;  C[ 1]=  -1.47234; \n",
      "        lin_fit        :  C[ 0]=  -0.00399;  C[ 1]=   0.22756; \n",
      "    subrun 8: \n",
      "        exp_fit        :  C[ 0]=  -0.02214;  C[ 1]=  -1.43664; \n",
      "        lin_fit        :  C[ 0]=  -0.00383;  C[ 1]=   0.23302; \n",
      "    subrun 9: \n",
      "        exp_fit        :  C[ 0]=  -0.02243;  C[ 1]=  -1.43964; \n",
      "        lin_fit        :  C[ 0]=  -0.00390;  C[ 1]=   0.23252; \n",
      "sentiment_=-0.40000------------------------------\n",
      "    subrun 0: \n",
      "        exp_fit        :  C[ 0]=  -0.01735;  C[ 1]=  -1.64447; \n",
      "        lin_fit        :  C[ 0]=  -0.00261;  C[ 1]=   0.19095; \n",
      "    subrun 1: \n",
      "        exp_fit        :  C[ 0]=  -0.02028;  C[ 1]=  -1.67171; \n",
      "        lin_fit        :  C[ 0]=  -0.00284;  C[ 1]=   0.18489; \n",
      "    subrun 2: \n",
      "        exp_fit        :  C[ 0]=  -0.01712;  C[ 1]=  -1.66821; \n",
      "        lin_fit        :  C[ 0]=  -0.00246;  C[ 1]=   0.18565; \n",
      "    subrun 3: \n",
      "        exp_fit        :  C[ 0]=  -0.02080;  C[ 1]=  -1.62224; \n",
      "        lin_fit        :  C[ 0]=  -0.00288;  C[ 1]=   0.19207; \n",
      "    subrun 4: \n",
      "        exp_fit        :  C[ 0]=  -0.01760;  C[ 1]=  -1.65337; \n",
      "        lin_fit        :  C[ 0]=  -0.00264;  C[ 1]=   0.18940; \n",
      "    subrun 5: \n",
      "        exp_fit        :  C[ 0]=  -0.01849;  C[ 1]=  -1.64563; \n",
      "        lin_fit        :  C[ 0]=  -0.00271;  C[ 1]=   0.18986; \n",
      "    subrun 6: \n",
      "        exp_fit        :  C[ 0]=  -0.01790;  C[ 1]=  -1.65784; \n",
      "        lin_fit        :  C[ 0]=  -0.00257;  C[ 1]=   0.18733; \n",
      "    subrun 7: \n",
      "        exp_fit        :  C[ 0]=  -0.01872;  C[ 1]=  -1.67844; \n",
      "        lin_fit        :  C[ 0]=  -0.00271;  C[ 1]=   0.18470; \n",
      "    subrun 8: \n",
      "        exp_fit        :  C[ 0]=  -0.01840;  C[ 1]=  -1.69389; \n",
      "        lin_fit        :  C[ 0]=  -0.00267;  C[ 1]=   0.18236; \n",
      "    subrun 9: \n",
      "        exp_fit        :  C[ 0]=  -0.01924;  C[ 1]=  -1.64672; \n",
      "        lin_fit        :  C[ 0]=  -0.00274;  C[ 1]=   0.18887; \n",
      "sentiment_=-0.30000------------------------------\n",
      "    subrun 0: \n",
      "        exp_fit        :  C[ 0]=  -0.01328;  C[ 1]=  -1.93979; \n",
      "        lin_fit        :  C[ 0]=  -0.00145;  C[ 1]=   0.14110; \n",
      "    subrun 1: \n",
      "        exp_fit        :  C[ 0]=  -0.01526;  C[ 1]=  -1.92939; \n",
      "        lin_fit        :  C[ 0]=  -0.00173;  C[ 1]=   0.14328; \n",
      "    subrun 2: \n",
      "        exp_fit        :  C[ 0]=  -0.01680;  C[ 1]=  -1.90095; \n",
      "        lin_fit        :  C[ 0]=  -0.00191;  C[ 1]=   0.14705; \n",
      "    subrun 3: \n",
      "        exp_fit        :  C[ 0]=  -0.01589;  C[ 1]=  -1.93668; \n",
      "        lin_fit        :  C[ 0]=  -0.00173;  C[ 1]=   0.14162; \n",
      "    subrun 4: \n",
      "        exp_fit        :  C[ 0]=  -0.01671;  C[ 1]=  -1.90218; \n",
      "        lin_fit        :  C[ 0]=  -0.00172;  C[ 1]=   0.14444; \n",
      "    subrun 5: \n",
      "        exp_fit        :  C[ 0]=  -0.01556;  C[ 1]=  -1.92860; \n",
      "        lin_fit        :  C[ 0]=  -0.00172;  C[ 1]=   0.14307; \n",
      "    subrun 6: \n",
      "        exp_fit        :  C[ 0]=  -0.01469;  C[ 1]=  -1.89577; \n",
      "        lin_fit        :  C[ 0]=  -0.00163;  C[ 1]=   0.14693; \n",
      "    subrun 7: \n",
      "        exp_fit        :  C[ 0]=  -0.01632;  C[ 1]=  -1.93193; \n",
      "        lin_fit        :  C[ 0]=  -0.00176;  C[ 1]=   0.14196; \n",
      "    subrun 8: \n",
      "        exp_fit        :  C[ 0]=  -0.01620;  C[ 1]=  -1.96508; \n",
      "        lin_fit        :  C[ 0]=  -0.00185;  C[ 1]=   0.13943; \n",
      "    subrun 9: \n",
      "        exp_fit        :  C[ 0]=  -0.01695;  C[ 1]=  -1.92087; \n",
      "        lin_fit        :  C[ 0]=  -0.00195;  C[ 1]=   0.14479; \n",
      "sentiment_=-0.20000------------------------------\n",
      "    subrun 0: \n",
      "        exp_fit        :  C[ 0]=  -0.01538;  C[ 1]=  -2.28886; \n",
      "        lin_fit        :  C[ 0]=  -0.00112;  C[ 1]=   0.09870; \n",
      "    subrun 1: \n",
      "        exp_fit        :  C[ 0]=  -0.01424;  C[ 1]=  -2.34679; \n",
      "        lin_fit        :  C[ 0]=  -0.00110;  C[ 1]=   0.09489; \n",
      "    subrun 2: \n",
      "        exp_fit        :  C[ 0]=  -0.01214;  C[ 1]=  -2.26068; \n",
      "        lin_fit        :  C[ 0]=  -0.00089;  C[ 1]=   0.10122; \n",
      "    subrun 3: \n",
      "        exp_fit        :  C[ 0]=  -0.01255;  C[ 1]=  -2.35110; \n",
      "        lin_fit        :  C[ 0]=  -0.00096;  C[ 1]=   0.09436; \n",
      "    subrun 4: \n",
      "        exp_fit        :  C[ 0]=  -0.01239;  C[ 1]=  -2.34477; \n",
      "        lin_fit        :  C[ 0]=  -0.00092;  C[ 1]=   0.09432; \n",
      "    subrun 5: \n",
      "        exp_fit        :  C[ 0]=  -0.01286;  C[ 1]=  -2.30936; \n",
      "        lin_fit        :  C[ 0]=  -0.00095;  C[ 1]=   0.09718; \n",
      "    subrun 6: \n",
      "        exp_fit        :  C[ 0]=  -0.01254;  C[ 1]=  -2.35514; \n",
      "        lin_fit        :  C[ 0]=  -0.00098;  C[ 1]=   0.09431; \n",
      "    subrun 7: \n",
      "        exp_fit        :  C[ 0]=  -0.01236;  C[ 1]=  -2.33629; \n",
      "        lin_fit        :  C[ 0]=  -0.00096;  C[ 1]=   0.09558; \n",
      "    subrun 8: \n",
      "        exp_fit        :  C[ 0]=  -0.01345;  C[ 1]=  -2.29471; \n",
      "        lin_fit        :  C[ 0]=  -0.00098;  C[ 1]=   0.09817; \n",
      "    subrun 9: \n",
      "        exp_fit        :  C[ 0]=  -0.01419;  C[ 1]=  -2.27525; \n",
      "        lin_fit        :  C[ 0]=  -0.00104;  C[ 1]=   0.10000; \n",
      "sentiment_=-0.10000------------------------------\n",
      "    subrun 0: \n",
      "        exp_fit        :  C[ 0]=  -0.00946;  C[ 1]=  -3.01285; \n",
      "        lin_fit        :  C[ 0]=  -0.00038;  C[ 1]=   0.04858; \n",
      "    subrun 1: \n",
      "        exp_fit        :  C[ 0]=  -0.01209;  C[ 1]=  -2.93501; \n",
      "        lin_fit        :  C[ 0]=  -0.00040;  C[ 1]=   0.05068; \n",
      "    subrun 2: \n",
      "        exp_fit        :  C[ 0]=  -0.01096;  C[ 1]=  -3.09321; \n",
      "        lin_fit        :  C[ 0]=  -0.00042;  C[ 1]=   0.04504; \n",
      "    subrun 3: \n",
      "        exp_fit        :  C[ 0]=  -0.00908;  C[ 1]=  -2.99938; \n",
      "        lin_fit        :  C[ 0]=  -0.00038;  C[ 1]=   0.04939; \n",
      "    subrun 4: \n",
      "        exp_fit        :  C[ 0]=  -0.00973;  C[ 1]=  -2.99605; \n",
      "        lin_fit        :  C[ 0]=  -0.00044;  C[ 1]=   0.05006; \n",
      "    subrun 5: \n",
      "        exp_fit        :  C[ 0]=  -0.01153;  C[ 1]=  -2.93448; \n",
      "        lin_fit        :  C[ 0]=  -0.00043;  C[ 1]=   0.05155; \n",
      "    subrun 6: \n",
      "        exp_fit        :  C[ 0]=  -0.01396;  C[ 1]=  -3.03909; \n",
      "        lin_fit        :  C[ 0]=  -0.00065;  C[ 1]=   0.04869; \n",
      "    subrun 7: \n",
      "        exp_fit        :  C[ 0]=  -0.00959;  C[ 1]=  -3.07528; \n",
      "        lin_fit        :  C[ 0]=  -0.00037;  C[ 1]=   0.04589; \n",
      "    subrun 8: \n",
      "        exp_fit        :  C[ 0]=  -0.01453;  C[ 1]=  -3.03843; \n",
      "        lin_fit        :  C[ 0]=  -0.00064;  C[ 1]=   0.04853; \n",
      "    subrun 9: \n",
      "        exp_fit        :  C[ 0]=  -0.00994;  C[ 1]=  -2.95429; \n",
      "        lin_fit        :  C[ 0]=  -0.00034;  C[ 1]=   0.05016; \n",
      "sentiment_=0.00000------------------------------\n",
      "    subrun 0: \n",
      "        exp_fit        :  C[ 0]=  -0.00407;  C[ 1]=  -4.83934; \n",
      "        lin_fit        :  C[ 0]=   0.00009;  C[ 1]=   0.00107; \n",
      "    subrun 1: \n",
      "        exp_fit        :  C[ 0]=  -0.00518;  C[ 1]=  -4.47154; \n",
      "        lin_fit        :  C[ 0]=   0.00026;  C[ 1]=  -0.00290; \n",
      "    subrun 2: \n",
      "        exp_fit        :  C[ 0]=   0.00525;  C[ 1]=  -5.86637; \n",
      "        lin_fit        :  C[ 0]=  -0.00004;  C[ 1]=   0.00330; \n",
      "    subrun 3: \n",
      "        exp_fit        :  C[ 0]=   0.00390;  C[ 1]=  -5.83043; \n",
      "        lin_fit        :  C[ 0]=   0.00000;  C[ 1]=   0.00326; \n",
      "    subrun 4: \n",
      "        exp_fit        :  C[ 0]=   0.00238;  C[ 1]=  -5.91797; \n",
      "        lin_fit        :  C[ 0]=  -0.00007;  C[ 1]=   0.00326; \n",
      "    subrun 5: \n",
      "        exp_fit        :  C[ 0]=   0.00613;  C[ 1]=  -5.09990; \n",
      "        lin_fit        :  C[ 0]=   0.00003;  C[ 1]=   0.00359; \n",
      "    subrun 6: \n",
      "        exp_fit        :  C[ 0]=   0.00408;  C[ 1]=  -5.75195; \n",
      "        lin_fit        :  C[ 0]=  -0.00003;  C[ 1]=   0.00419; \n",
      "    subrun 7: \n",
      "        exp_fit        :  C[ 0]=   0.00799;  C[ 1]=  -5.65272; \n",
      "        lin_fit        :  C[ 0]=   0.00014;  C[ 1]=  -0.00277; \n",
      "    subrun 8: \n",
      "        exp_fit        :  C[ 0]=   0.00585;  C[ 1]=  -5.07397; \n",
      "        lin_fit        :  C[ 0]=   0.00010;  C[ 1]=   0.00321; \n",
      "    subrun 9: \n",
      "        exp_fit        :  C[ 0]=   0.00057;  C[ 1]=  -5.76844; \n",
      "        lin_fit        :  C[ 0]=   0.00001;  C[ 1]=   0.00286; \n",
      "sentiment_=0.10000------------------------------\n",
      "    subrun 0: \n",
      "        exp_fit        :  C[ 0]=  -0.01387;  C[ 1]=  -3.07402; \n",
      "        lin_fit        :  C[ 0]=  -0.00066;  C[ 1]=   0.04750; \n",
      "    subrun 1: \n",
      "        exp_fit        :  C[ 0]=  -0.01504;  C[ 1]=  -3.01369; \n",
      "        lin_fit        :  C[ 0]=  -0.00057;  C[ 1]=   0.04840; \n",
      "    subrun 2: \n",
      "        exp_fit        :  C[ 0]=  -0.01636;  C[ 1]=  -2.97647; \n",
      "        lin_fit        :  C[ 0]=  -0.00065;  C[ 1]=   0.05033; \n",
      "    subrun 3: \n",
      "        exp_fit        :  C[ 0]=  -0.01275;  C[ 1]=  -3.00548; \n",
      "        lin_fit        :  C[ 0]=  -0.00047;  C[ 1]=   0.04836; \n",
      "    subrun 4: \n",
      "        exp_fit        :  C[ 0]=  -0.01501;  C[ 1]=  -2.98297; \n",
      "        lin_fit        :  C[ 0]=  -0.00060;  C[ 1]=   0.05000; \n",
      "    subrun 5: \n",
      "        exp_fit        :  C[ 0]=  -0.00886;  C[ 1]=  -3.06905; \n",
      "        lin_fit        :  C[ 0]=  -0.00043;  C[ 1]=   0.04738; \n",
      "    subrun 6: \n",
      "        exp_fit        :  C[ 0]=  -0.00983;  C[ 1]=  -2.92049; \n",
      "        lin_fit        :  C[ 0]=  -0.00034;  C[ 1]=   0.05174; \n",
      "    subrun 7: \n",
      "        exp_fit        :  C[ 0]=  -0.00997;  C[ 1]=  -3.01054; \n",
      "        lin_fit        :  C[ 0]=  -0.00036;  C[ 1]=   0.04811; \n",
      "    subrun 8: \n",
      "        exp_fit        :  C[ 0]=  -0.01345;  C[ 1]=  -2.97151; \n",
      "        lin_fit        :  C[ 0]=  -0.00050;  C[ 1]=   0.04993; \n",
      "    subrun 9: \n",
      "        exp_fit        :  C[ 0]=  -0.01132;  C[ 1]=  -2.97592; \n",
      "        lin_fit        :  C[ 0]=  -0.00041;  C[ 1]=   0.04955; \n",
      "sentiment_=0.20000------------------------------\n",
      "    subrun 0: \n",
      "        exp_fit        :  C[ 0]=  -0.01377;  C[ 1]=  -2.30266; \n",
      "        lin_fit        :  C[ 0]=  -0.00102;  C[ 1]=   0.09777; \n",
      "    subrun 1: \n",
      "        exp_fit        :  C[ 0]=  -0.01133;  C[ 1]=  -2.33927; \n",
      "        lin_fit        :  C[ 0]=  -0.00091;  C[ 1]=   0.09580; \n",
      "    subrun 2: \n",
      "        exp_fit        :  C[ 0]=  -0.01391;  C[ 1]=  -2.33635; \n",
      "        lin_fit        :  C[ 0]=  -0.00107;  C[ 1]=   0.09558; \n",
      "    subrun 3: \n",
      "        exp_fit        :  C[ 0]=  -0.01498;  C[ 1]=  -2.33247; \n",
      "        lin_fit        :  C[ 0]=  -0.00111;  C[ 1]=   0.09552; \n",
      "    subrun 4: \n",
      "        exp_fit        :  C[ 0]=  -0.00943;  C[ 1]=  -2.38106; \n",
      "        lin_fit        :  C[ 0]=  -0.00076;  C[ 1]=   0.09236; \n",
      "    subrun 5: \n",
      "        exp_fit        :  C[ 0]=  -0.01729;  C[ 1]=  -2.32180; \n",
      "        lin_fit        :  C[ 0]=  -0.00130;  C[ 1]=   0.09663; \n",
      "    subrun 6: \n",
      "        exp_fit        :  C[ 0]=  -0.01130;  C[ 1]=  -2.35341; \n",
      "        lin_fit        :  C[ 0]=  -0.00099;  C[ 1]=   0.09563; \n",
      "    subrun 7: \n",
      "        exp_fit        :  C[ 0]=  -0.01448;  C[ 1]=  -2.27539; \n",
      "        lin_fit        :  C[ 0]=  -0.00106;  C[ 1]=   0.10000; \n",
      "    subrun 8: \n",
      "        exp_fit        :  C[ 0]=  -0.01156;  C[ 1]=  -2.27301; \n",
      "        lin_fit        :  C[ 0]=  -0.00082;  C[ 1]=   0.09970; \n",
      "    subrun 9: \n",
      "        exp_fit        :  C[ 0]=  -0.01305;  C[ 1]=  -2.33040; \n",
      "        lin_fit        :  C[ 0]=  -0.00107;  C[ 1]=   0.09689; \n",
      "sentiment_=0.30000------------------------------\n",
      "    subrun 0: \n",
      "        exp_fit        :  C[ 0]=  -0.01453;  C[ 1]=  -1.92688; \n",
      "        lin_fit        :  C[ 0]=  -0.00154;  C[ 1]=   0.14222; \n",
      "    subrun 1: \n",
      "        exp_fit        :  C[ 0]=  -0.01437;  C[ 1]=  -1.92885; \n",
      "        lin_fit        :  C[ 0]=  -0.00150;  C[ 1]=   0.14176; \n",
      "    subrun 2: \n",
      "        exp_fit        :  C[ 0]=  -0.01609;  C[ 1]=  -1.91775; \n",
      "        lin_fit        :  C[ 0]=  -0.00172;  C[ 1]=   0.14345; \n",
      "    subrun 3: \n",
      "        exp_fit        :  C[ 0]=  -0.01663;  C[ 1]=  -1.94399; \n",
      "        lin_fit        :  C[ 0]=  -0.00181;  C[ 1]=   0.14084; \n",
      "    subrun 4: \n",
      "        exp_fit        :  C[ 0]=  -0.01622;  C[ 1]=  -1.94904; \n",
      "        lin_fit        :  C[ 0]=  -0.00171;  C[ 1]=   0.13957; \n",
      "    subrun 5: \n",
      "        exp_fit        :  C[ 0]=  -0.01610;  C[ 1]=  -1.96124; \n",
      "        lin_fit        :  C[ 0]=  -0.00178;  C[ 1]=   0.13914; \n",
      "    subrun 6: \n",
      "        exp_fit        :  C[ 0]=  -0.01478;  C[ 1]=  -1.93106; \n",
      "        lin_fit        :  C[ 0]=  -0.00167;  C[ 1]=   0.14313; \n",
      "    subrun 7: \n",
      "        exp_fit        :  C[ 0]=  -0.01453;  C[ 1]=  -1.95610; \n",
      "        lin_fit        :  C[ 0]=  -0.00164;  C[ 1]=   0.13990; \n",
      "    subrun 8: \n",
      "        exp_fit        :  C[ 0]=  -0.01519;  C[ 1]=  -1.91293; \n",
      "        lin_fit        :  C[ 0]=  -0.00164;  C[ 1]=   0.14422; \n",
      "    subrun 9: \n",
      "        exp_fit        :  C[ 0]=  -0.01587;  C[ 1]=  -1.94861; \n",
      "        lin_fit        :  C[ 0]=  -0.00161;  C[ 1]=   0.13861; \n",
      "sentiment_=0.40000------------------------------\n",
      "    subrun 0: \n",
      "        exp_fit        :  C[ 0]=  -0.01835;  C[ 1]=  -1.65955; \n",
      "        lin_fit        :  C[ 0]=  -0.00271;  C[ 1]=   0.18785; \n",
      "    subrun 1: \n",
      "        exp_fit        :  C[ 0]=  -0.01704;  C[ 1]=  -1.66049; \n",
      "        lin_fit        :  C[ 0]=  -0.00246;  C[ 1]=   0.18703; \n",
      "    subrun 2: \n",
      "        exp_fit        :  C[ 0]=  -0.01708;  C[ 1]=  -1.66718; \n",
      "        lin_fit        :  C[ 0]=  -0.00247;  C[ 1]=   0.18617; \n",
      "    subrun 3: \n",
      "        exp_fit        :  C[ 0]=  -0.01847;  C[ 1]=  -1.64780; \n",
      "        lin_fit        :  C[ 0]=  -0.00264;  C[ 1]=   0.18905; \n",
      "    subrun 4: \n",
      "        exp_fit        :  C[ 0]=  -0.01849;  C[ 1]=  -1.69073; \n",
      "        lin_fit        :  C[ 0]=  -0.00248;  C[ 1]=   0.18047; \n",
      "    subrun 5: \n",
      "        exp_fit        :  C[ 0]=  -0.01720;  C[ 1]=  -1.68458; \n",
      "        lin_fit        :  C[ 0]=  -0.00245;  C[ 1]=   0.18297; \n",
      "    subrun 6: \n",
      "        exp_fit        :  C[ 0]=  -0.01836;  C[ 1]=  -1.65001; \n",
      "        lin_fit        :  C[ 0]=  -0.00265;  C[ 1]=   0.18875; \n",
      "    subrun 7: \n",
      "        exp_fit        :  C[ 0]=  -0.01873;  C[ 1]=  -1.63794; \n",
      "        lin_fit        :  C[ 0]=  -0.00268;  C[ 1]=   0.19058; \n",
      "    subrun 8: \n",
      "        exp_fit        :  C[ 0]=  -0.01636;  C[ 1]=  -1.69051; \n",
      "        lin_fit        :  C[ 0]=  -0.00236;  C[ 1]=   0.18226; \n",
      "    subrun 9: \n",
      "        exp_fit        :  C[ 0]=  -0.01988;  C[ 1]=  -1.64940; \n",
      "        lin_fit        :  C[ 0]=  -0.00279;  C[ 1]=   0.18821; \n",
      "sentiment_=0.50000------------------------------\n",
      "    subrun 0: \n",
      "        exp_fit        :  C[ 0]=  -0.02196;  C[ 1]=  -1.45543; \n",
      "        lin_fit        :  C[ 0]=  -0.00387;  C[ 1]=   0.23041; \n",
      "    subrun 1: \n",
      "        exp_fit        :  C[ 0]=  -0.02244;  C[ 1]=  -1.45466; \n",
      "        lin_fit        :  C[ 0]=  -0.00379;  C[ 1]=   0.22895; \n",
      "    subrun 2: \n",
      "        exp_fit        :  C[ 0]=  -0.02278;  C[ 1]=  -1.43337; \n",
      "        lin_fit        :  C[ 0]=  -0.00385;  C[ 1]=   0.23284; \n",
      "    subrun 3: \n",
      "        exp_fit        :  C[ 0]=  -0.02312;  C[ 1]=  -1.42245; \n",
      "        lin_fit        :  C[ 0]=  -0.00409;  C[ 1]=   0.23673; \n",
      "    subrun 4: \n",
      "        exp_fit        :  C[ 0]=  -0.02483;  C[ 1]=  -1.44663; \n",
      "        lin_fit        :  C[ 0]=  -0.00430;  C[ 1]=   0.23157; \n",
      "    subrun 5: \n",
      "        exp_fit        :  C[ 0]=  -0.02234;  C[ 1]=  -1.42055; \n",
      "        lin_fit        :  C[ 0]=  -0.00385;  C[ 1]=   0.23599; \n",
      "    subrun 6: \n",
      "        exp_fit        :  C[ 0]=  -0.02106;  C[ 1]=  -1.45843; \n",
      "        lin_fit        :  C[ 0]=  -0.00369;  C[ 1]=   0.22931; \n",
      "    subrun 7: \n",
      "        exp_fit        :  C[ 0]=  -0.02428;  C[ 1]=  -1.42940; \n",
      "        lin_fit        :  C[ 0]=  -0.00416;  C[ 1]=   0.23417; \n",
      "    subrun 8: \n",
      "        exp_fit        :  C[ 0]=  -0.02163;  C[ 1]=  -1.44425; \n",
      "        lin_fit        :  C[ 0]=  -0.00376;  C[ 1]=   0.23186; \n",
      "    subrun 9: \n",
      "        exp_fit        :  C[ 0]=  -0.02252;  C[ 1]=  -1.46161; \n",
      "        lin_fit        :  C[ 0]=  -0.00394;  C[ 1]=   0.22900; \n",
      "sentiment_=0.60000------------------------------\n",
      "    subrun 0: \n",
      "        exp_fit        :  C[ 0]=  -0.02783;  C[ 1]=  -1.23640; \n",
      "        lin_fit        :  C[ 0]=  -0.00565;  C[ 1]=   0.28306; \n",
      "    subrun 1: \n",
      "        exp_fit        :  C[ 0]=  -0.02410;  C[ 1]=  -1.24930; \n",
      "        lin_fit        :  C[ 0]=  -0.00497;  C[ 1]=   0.28057; \n",
      "    subrun 2: \n",
      "        exp_fit        :  C[ 0]=  -0.02655;  C[ 1]=  -1.24622; \n",
      "        lin_fit        :  C[ 0]=  -0.00535;  C[ 1]=   0.28059; \n",
      "    subrun 3: \n",
      "        exp_fit        :  C[ 0]=  -0.02495;  C[ 1]=  -1.24189; \n",
      "        lin_fit        :  C[ 0]=  -0.00503;  C[ 1]=   0.28118; \n",
      "    subrun 4: \n",
      "        exp_fit        :  C[ 0]=  -0.02555;  C[ 1]=  -1.24782; \n",
      "        lin_fit        :  C[ 0]=  -0.00520;  C[ 1]=   0.28046; \n",
      "    subrun 5: \n",
      "        exp_fit        :  C[ 0]=  -0.02497;  C[ 1]=  -1.25878; \n",
      "        lin_fit        :  C[ 0]=  -0.00512;  C[ 1]=   0.27851; \n",
      "    subrun 6: \n",
      "        exp_fit        :  C[ 0]=  -0.02558;  C[ 1]=  -1.25508; \n",
      "        lin_fit        :  C[ 0]=  -0.00514;  C[ 1]=   0.27827; \n",
      "    subrun 7: \n",
      "        exp_fit        :  C[ 0]=  -0.02698;  C[ 1]=  -1.23945; \n",
      "        lin_fit        :  C[ 0]=  -0.00542;  C[ 1]=   0.28182; \n",
      "    subrun 8: \n",
      "        exp_fit        :  C[ 0]=  -0.02586;  C[ 1]=  -1.25474; \n",
      "        lin_fit        :  C[ 0]=  -0.00532;  C[ 1]=   0.27980; \n",
      "    subrun 9: \n",
      "        exp_fit        :  C[ 0]=  -0.02633;  C[ 1]=  -1.25752; \n",
      "        lin_fit        :  C[ 0]=  -0.00530;  C[ 1]=   0.27793; \n",
      "sentiment_=0.70000------------------------------\n",
      "    subrun 0: \n",
      "        exp_fit        :  C[ 0]=  -0.02929;  C[ 1]=  -1.10392; \n",
      "        lin_fit        :  C[ 0]=  -0.00667;  C[ 1]=   0.32247; \n",
      "    subrun 1: \n",
      "        exp_fit        :  C[ 0]=  -0.02772;  C[ 1]=  -1.08254; \n",
      "        lin_fit        :  C[ 0]=  -0.00649;  C[ 1]=   0.32940; \n",
      "    subrun 2: \n",
      "        exp_fit        :  C[ 0]=  -0.02872;  C[ 1]=  -1.08787; \n",
      "        lin_fit        :  C[ 0]=  -0.00659;  C[ 1]=   0.32702; \n",
      "    subrun 3: \n",
      "        exp_fit        :  C[ 0]=  -0.02976;  C[ 1]=  -1.08847; \n",
      "        lin_fit        :  C[ 0]=  -0.00691;  C[ 1]=   0.32766; \n",
      "    subrun 4: \n",
      "        exp_fit        :  C[ 0]=  -0.02923;  C[ 1]=  -1.09925; \n",
      "        lin_fit        :  C[ 0]=  -0.00667;  C[ 1]=   0.32414; \n",
      "    subrun 5: \n",
      "        exp_fit        :  C[ 0]=  -0.02829;  C[ 1]=  -1.09240; \n",
      "        lin_fit        :  C[ 0]=  -0.00655;  C[ 1]=   0.32645; \n",
      "    subrun 6: \n",
      "        exp_fit        :  C[ 0]=  -0.02835;  C[ 1]=  -1.09673; \n",
      "        lin_fit        :  C[ 0]=  -0.00654;  C[ 1]=   0.32497; \n",
      "    subrun 7: \n",
      "        exp_fit        :  C[ 0]=  -0.02850;  C[ 1]=  -1.09155; \n",
      "        lin_fit        :  C[ 0]=  -0.00657;  C[ 1]=   0.32637; \n",
      "    subrun 8: \n",
      "        exp_fit        :  C[ 0]=  -0.02859;  C[ 1]=  -1.09514; \n",
      "        lin_fit        :  C[ 0]=  -0.00658;  C[ 1]=   0.32574; \n",
      "    subrun 9: \n",
      "        exp_fit        :  C[ 0]=  -0.02863;  C[ 1]=  -1.09707; \n",
      "        lin_fit        :  C[ 0]=  -0.00669;  C[ 1]=   0.32591; \n",
      "sentiment_=0.80000------------------------------\n",
      "    subrun 0: \n",
      "        exp_fit        :  C[ 0]=  -0.02803;  C[ 1]=  -0.94620; \n",
      "        lin_fit        :  C[ 0]=  -0.00741;  C[ 1]=   0.37664; \n",
      "    subrun 1: \n",
      "        exp_fit        :  C[ 0]=  -0.02753;  C[ 1]=  -0.93788; \n",
      "        lin_fit        :  C[ 0]=  -0.00736;  C[ 1]=   0.37994; \n",
      "    subrun 2: \n",
      "        exp_fit        :  C[ 0]=  -0.02772;  C[ 1]=  -0.94967; \n",
      "        lin_fit        :  C[ 0]=  -0.00733;  C[ 1]=   0.37546; \n",
      "    subrun 3: \n",
      "        exp_fit        :  C[ 0]=  -0.02863;  C[ 1]=  -0.95103; \n",
      "        lin_fit        :  C[ 0]=  -0.00755;  C[ 1]=   0.37519; \n",
      "    subrun 4: \n",
      "        exp_fit        :  C[ 0]=  -0.02855;  C[ 1]=  -0.94475; \n",
      "        lin_fit        :  C[ 0]=  -0.00755;  C[ 1]=   0.37719; \n",
      "    subrun 5: \n",
      "        exp_fit        :  C[ 0]=  -0.02717;  C[ 1]=  -0.95856; \n",
      "        lin_fit        :  C[ 0]=  -0.00712;  C[ 1]=   0.37218; \n",
      "    subrun 6: \n",
      "        exp_fit        :  C[ 0]=  -0.02887;  C[ 1]=  -0.94902; \n",
      "        lin_fit        :  C[ 0]=  -0.00760;  C[ 1]=   0.37550; \n",
      "    subrun 7: \n",
      "        exp_fit        :  C[ 0]=  -0.02747;  C[ 1]=  -0.95311; \n",
      "        lin_fit        :  C[ 0]=  -0.00721;  C[ 1]=   0.37390; \n",
      "    subrun 8: \n",
      "        exp_fit        :  C[ 0]=  -0.02782;  C[ 1]=  -0.95373; \n",
      "        lin_fit        :  C[ 0]=  -0.00735;  C[ 1]=   0.37434; \n",
      "    subrun 9: \n",
      "        exp_fit        :  C[ 0]=  -0.02813;  C[ 1]=  -0.94421; \n",
      "        lin_fit        :  C[ 0]=  -0.00744;  C[ 1]=   0.37701; \n",
      "sentiment_=0.90000------------------------------\n",
      "    subrun 0: \n",
      "        exp_fit        :  C[ 0]=  -0.02056;  C[ 1]=  -0.81757; \n",
      "        lin_fit        :  C[ 0]=  -0.00635;  C[ 1]=   0.42933; \n",
      "    subrun 1: \n",
      "        exp_fit        :  C[ 0]=  -0.02164;  C[ 1]=  -0.81616; \n",
      "        lin_fit        :  C[ 0]=  -0.00665;  C[ 1]=   0.42962; \n",
      "    subrun 2: \n",
      "        exp_fit        :  C[ 0]=  -0.02069;  C[ 1]=  -0.81206; \n",
      "        lin_fit        :  C[ 0]=  -0.00641;  C[ 1]=   0.43157; \n",
      "    subrun 3: \n",
      "        exp_fit        :  C[ 0]=  -0.02118;  C[ 1]=  -0.81977; \n",
      "        lin_fit        :  C[ 0]=  -0.00652;  C[ 1]=   0.42847; \n",
      "    subrun 4: \n",
      "        exp_fit        :  C[ 0]=  -0.02101;  C[ 1]=  -0.82354; \n",
      "        lin_fit        :  C[ 0]=  -0.00645;  C[ 1]=   0.42689; \n",
      "    subrun 5: \n",
      "        exp_fit        :  C[ 0]=  -0.02153;  C[ 1]=  -0.81704; \n",
      "        lin_fit        :  C[ 0]=  -0.00662;  C[ 1]=   0.42933; \n",
      "    subrun 6: \n",
      "        exp_fit        :  C[ 0]=  -0.02201;  C[ 1]=  -0.81589; \n",
      "        lin_fit        :  C[ 0]=  -0.00675;  C[ 1]=   0.42949; \n",
      "    subrun 7: \n",
      "        exp_fit        :  C[ 0]=  -0.02122;  C[ 1]=  -0.81490; \n",
      "        lin_fit        :  C[ 0]=  -0.00652;  C[ 1]=   0.42985; \n",
      "    subrun 8: \n",
      "        exp_fit        :  C[ 0]=  -0.02158;  C[ 1]=  -0.81945; \n",
      "        lin_fit        :  C[ 0]=  -0.00660;  C[ 1]=   0.42797; \n",
      "    subrun 9: \n",
      "        exp_fit        :  C[ 0]=  -0.02157;  C[ 1]=  -0.81901; \n",
      "        lin_fit        :  C[ 0]=  -0.00664;  C[ 1]=   0.42888; \n"
     ]
    }
   ],
   "source": [
    "lab.show_fit_results( ['exp_fit', 'lin_fit'], 'abs_avg_eq_dist', n_columns=5, same_y_scale=True, legend_loc='upper right')"
   ]
  },
  {
   "cell_type": "code",
   "execution_count": 11,
   "id": "61831dbd",
   "metadata": {},
   "outputs": [
    {
     "data": {
      "image/png": "[encoded data removed]",
      "text/plain": [
       "<Figure size 1296x432 with 2 Axes>"
      ]
     },
     "metadata": {
      "needs_background": "light"
     },
     "output_type": "display_data"
    },
    {
     "data": {
      "image/png": "[encoded data removed]",
      "text/plain": [
       "<Figure size 1296x432 with 2 Axes>"
      ]
     },
     "metadata": {
      "needs_background": "light"
     },
     "output_type": "display_data"
    }
   ],
   "source": [
    "lab.show_fit_coeff('exp_fit', 'abs_avg_eq_dist', coeff_names=['-1/parameter', 'intercept'], y_k_mapping='def', omitt=[(0,'any')])\n",
    "lab.show_fit_coeff('lin_fit', 'abs_avg_eq_dist', coeff_names=['parameter', 'intercept'], y_k_mapping='def')"
   ]
  },
  {
   "cell_type": "code",
   "execution_count": null,
   "id": "8640fb48",
   "metadata": {},
   "outputs": [],
   "source": []
  },
  {
   "cell_type": "code",
   "execution_count": 12,
   "id": "a2db72cc",
   "metadata": {},
   "outputs": [],
   "source": [
    "def model_builder_bysent_andinit(sentiment_value, initial_sigma_value):\n",
    "    assert np.abs(sentiment_value)<=1\n",
    "    mkt=bm.Market()\n",
    "    mkt.add_partition(1000, 'fixed_sentiment', sigma_prop=initial_sigma_value)             #<---- setting initial sigma value\n",
    "    mkt.set_part_sentiment('fixed_sentiment', bm.sentiment_start_at_value(sentiment_value))#<---- setting sentiment value\n",
    "#     mkt.add_metric('sigma_scatter', bm.mtr_sigma_scatter)\n",
    "    mkt.add_metric('avg_sigma', bm.mtr_avg_sigma)\n",
    "    mkt.add_metric('sct_abs_eq_dist', bm.mtr_sct_abs_eq_dist) #<--- tutti i valori della distanza in valore assoluto dall'equilibrio\n",
    "    mkt.add_metric('abs_avg_eq_dist', bm.mtr_abs_avg_eq_dist) #<--- valore assoluto della distanza media dall'equilibrio\n",
    "    return mkt"
   ]
  },
  {
   "cell_type": "code",
   "execution_count": 13,
   "id": "93b3b210",
   "metadata": {},
   "outputs": [
    {
     "name": "stdout",
     "output_type": "stream",
     "text": [
      "added required result avg_price\n",
      "added required result avg_sigma\n",
      "added required result abs_avg_eq_dist\n",
      "added required result sct_abs_eq_dist\n"
     ]
    }
   ],
   "source": [
    "lab_diff=bm.Lab(model_builder_bysent_andinit)\n",
    "# lab.add_metric('sigma_scatter')\n",
    "lab_diff.add_metric('avg_sigma')\n",
    "# lab.add_metric('avg_eq_dist')\n",
    "lab_diff.add_metric('abs_avg_eq_dist')\n",
    "lab_diff.add_metric('sct_abs_eq_dist')"
   ]
  },
  {
   "cell_type": "code",
   "execution_count": 14,
   "id": "0e5bbef9",
   "metadata": {},
   "outputs": [],
   "source": [
    "DIFF=0.3\n",
    "\n",
    "sentiment_values    =np.array([v/10 for v in range(-6, 10)])\n",
    "initial_sigma_values=(sentiment_values-DIFF+1)/2\n",
    "\n",
    "test_values=list(zip(sentiment_values, initial_sigma_values))"
   ]
  },
  {
   "cell_type": "code",
   "execution_count": 15,
   "id": "1fa18afc",
   "metadata": {},
   "outputs": [
    {
     "name": "stdout",
     "output_type": "stream",
     "text": [
      "test_values=[(-0.6, 0.050000000000000044), (-0.5, 0.09999999999999998), (-0.4, 0.15000000000000002), (-0.3, 0.2), (-0.2, 0.25), (-0.1, 0.3), (0.0, 0.35), (0.1, 0.4), (0.2, 0.45), (0.3, 0.5), (0.4, 0.55), (0.5, 0.6), (0.6, 0.65), (0.7, 0.7), (0.8, 0.75), (0.9, 0.8)]\n"
     ]
    }
   ],
   "source": [
    "print(f\"{test_values=}\")"
   ]
  },
  {
   "cell_type": "code",
   "execution_count": 16,
   "id": "96c89503",
   "metadata": {},
   "outputs": [
    {
     "name": "stdout",
     "output_type": "stream",
     "text": [
      "run 1 of 160 total--------------------------------('sentiment_value', 'initial_sigma_value')=(-0.6, 0.050000000000000044) iteration 1 of 10\n",
      "\n",
      "Building partition fixed_sentiment of 1000 agents\n",
      "\n",
      "  all agents tot_wealth will be: 10000\n",
      "  all agents sigma_prop will be: 0.050000000000000044\n"
     ]
    },
    {
     "data": {
      "application/vnd.jupyter.widget-view+json": {
       "model_id": "c09ac1cfce3d495f8de2433f37899ec9",
       "version_major": 2,
       "version_minor": 0
      },
      "text/plain": [
       "  0%|          | 0/150 [00:00<?, ?it/s]"
      ]
     },
     "metadata": {},
     "output_type": "display_data"
    },
    {
     "name": "stdout",
     "output_type": "stream",
     "text": [
      "run 2 of 160 total--------------------------------('sentiment_value', 'initial_sigma_value')=(-0.6, 0.050000000000000044) iteration 2 of 10\n",
      "\n",
      "Building partition fixed_sentiment of 1000 agents\n",
      "\n",
      "  all agents tot_wealth will be: 10000\n",
      "  all agents sigma_prop will be: 0.050000000000000044\n"
     ]
    },
    {
     "data": {
      "application/vnd.jupyter.widget-view+json": {
       "model_id": "675ab35625b5408d930bfb2deecd179f",
       "version_major": 2,
       "version_minor": 0
      },
      "text/plain": [
       "  0%|          | 0/150 [00:00<?, ?it/s]"
      ]
     },
     "metadata": {},
     "output_type": "display_data"
    },
    {
     "name": "stdout",
     "output_type": "stream",
     "text": [
      "run 3 of 160 total--------------------------------('sentiment_value', 'initial_sigma_value')=(-0.6, 0.050000000000000044) iteration 3 of 10\n",
      "\n",
      "Building partition fixed_sentiment of 1000 agents\n",
      "\n",
      "  all agents tot_wealth will be: 10000\n",
      "  all agents sigma_prop will be: 0.050000000000000044\n"
     ]
    },
    {
     "data": {
      "application/vnd.jupyter.widget-view+json": {
       "model_id": "c033a39720d14997930bf96231117a5c",
       "version_major": 2,
       "version_minor": 0
      },
      "text/plain": [
       "  0%|          | 0/150 [00:00<?, ?it/s]"
      ]
     },
     "metadata": {},
     "output_type": "display_data"
    },
    {
     "name": "stdout",
     "output_type": "stream",
     "text": [
      "run 4 of 160 total--------------------------------('sentiment_value', 'initial_sigma_value')=(-0.6, 0.050000000000000044) iteration 4 of 10\n",
      "\n",
      "Building partition fixed_sentiment of 1000 agents\n",
      "\n",
      "  all agents tot_wealth will be: 10000\n",
      "  all agents sigma_prop will be: 0.050000000000000044\n"
     ]
    },
    {
     "data": {
      "application/vnd.jupyter.widget-view+json": {
       "model_id": "498ce630ab2042588b38301d98ace75a",
       "version_major": 2,
       "version_minor": 0
      },
      "text/plain": [
       "  0%|          | 0/150 [00:00<?, ?it/s]"
      ]
     },
     "metadata": {},
     "output_type": "display_data"
    },
    {
     "name": "stdout",
     "output_type": "stream",
     "text": [
      "run 5 of 160 total--------------------------------('sentiment_value', 'initial_sigma_value')=(-0.6, 0.050000000000000044) iteration 5 of 10\n",
      "\n",
      "Building partition fixed_sentiment of 1000 agents\n",
      "\n",
      "  all agents tot_wealth will be: 10000\n",
      "  all agents sigma_prop will be: 0.050000000000000044\n"
     ]
    },
    {
     "data": {
      "application/vnd.jupyter.widget-view+json": {
       "model_id": "8124e88a7d424f88a3ab3bdda05b226a",
       "version_major": 2,
       "version_minor": 0
      },
      "text/plain": [
       "  0%|          | 0/150 [00:00<?, ?it/s]"
      ]
     },
     "metadata": {},
     "output_type": "display_data"
    },
    {
     "name": "stdout",
     "output_type": "stream",
     "text": [
      "run 6 of 160 total--------------------------------('sentiment_value', 'initial_sigma_value')=(-0.6, 0.050000000000000044) iteration 6 of 10\n",
      "\n",
      "Building partition fixed_sentiment of 1000 agents\n",
      "\n",
      "  all agents tot_wealth will be: 10000\n",
      "  all agents sigma_prop will be: 0.050000000000000044\n"
     ]
    },
    {
     "data": {
      "application/vnd.jupyter.widget-view+json": {
       "model_id": "45c4928ab54d41e6b3c40cb606b09b5d",
       "version_major": 2,
       "version_minor": 0
      },
      "text/plain": [
       "  0%|          | 0/150 [00:00<?, ?it/s]"
      ]
     },
     "metadata": {},
     "output_type": "display_data"
    },
    {
     "name": "stdout",
     "output_type": "stream",
     "text": [
      "run 7 of 160 total--------------------------------('sentiment_value', 'initial_sigma_value')=(-0.6, 0.050000000000000044) iteration 7 of 10\n",
      "\n",
      "Building partition fixed_sentiment of 1000 agents\n",
      "\n",
      "  all agents tot_wealth will be: 10000\n",
      "  all agents sigma_prop will be: 0.050000000000000044\n"
     ]
    },
    {
     "data": {
      "application/vnd.jupyter.widget-view+json": {
       "model_id": "9bac6bc4c7a64ec8b532837863837797",
       "version_major": 2,
       "version_minor": 0
      },
      "text/plain": [
       "  0%|          | 0/150 [00:00<?, ?it/s]"
      ]
     },
     "metadata": {},
     "output_type": "display_data"
    },
    {
     "name": "stdout",
     "output_type": "stream",
     "text": [
      "run 8 of 160 total--------------------------------('sentiment_value', 'initial_sigma_value')=(-0.6, 0.050000000000000044) iteration 8 of 10\n",
      "\n",
      "Building partition fixed_sentiment of 1000 agents\n",
      "\n",
      "  all agents tot_wealth will be: 10000\n",
      "  all agents sigma_prop will be: 0.050000000000000044\n"
     ]
    },
    {
     "data": {
      "application/vnd.jupyter.widget-view+json": {
       "model_id": "24bd4df99d8546169e080ee65831ec84",
       "version_major": 2,
       "version_minor": 0
      },
      "text/plain": [
       "  0%|          | 0/150 [00:00<?, ?it/s]"
      ]
     },
     "metadata": {},
     "output_type": "display_data"
    },
    {
     "name": "stdout",
     "output_type": "stream",
     "text": [
      "run 9 of 160 total--------------------------------('sentiment_value', 'initial_sigma_value')=(-0.6, 0.050000000000000044) iteration 9 of 10\n",
      "\n",
      "Building partition fixed_sentiment of 1000 agents\n",
      "\n",
      "  all agents tot_wealth will be: 10000\n",
      "  all agents sigma_prop will be: 0.050000000000000044\n"
     ]
    },
    {
     "data": {
      "application/vnd.jupyter.widget-view+json": {
       "model_id": "86669307de7c4bdaaf33b2ec435942e4",
       "version_major": 2,
       "version_minor": 0
      },
      "text/plain": [
       "  0%|          | 0/150 [00:00<?, ?it/s]"
      ]
     },
     "metadata": {},
     "output_type": "display_data"
    },
    {
     "name": "stdout",
     "output_type": "stream",
     "text": [
      "run 10 of 160 total-------------------------------('sentiment_value', 'initial_sigma_value')=(-0.6, 0.050000000000000044) iteration 10 of 10\n",
      "\n",
      "Building partition fixed_sentiment of 1000 agents\n",
      "\n",
      "  all agents tot_wealth will be: 10000\n",
      "  all agents sigma_prop will be: 0.050000000000000044\n"
     ]
    },
    {
     "data": {
      "application/vnd.jupyter.widget-view+json": {
       "model_id": "7769579227d14ce781226f83c9adb499",
       "version_major": 2,
       "version_minor": 0
      },
      "text/plain": [
       "  0%|          | 0/150 [00:00<?, ?it/s]"
      ]
     },
     "metadata": {},
     "output_type": "display_data"
    },
    {
     "name": "stdout",
     "output_type": "stream",
     "text": [
      "run 11 of 160 total-------------------------------('sentiment_value', 'initial_sigma_value')=(-0.5, 0.09999999999999998) iteration 1 of 10\n",
      "\n",
      "Building partition fixed_sentiment of 1000 agents\n",
      "\n",
      "  all agents tot_wealth will be: 10000\n",
      "  all agents sigma_prop will be: 0.09999999999999998\n"
     ]
    },
    {
     "data": {
      "application/vnd.jupyter.widget-view+json": {
       "model_id": "6d148b8d0bd64a1e8c04112a58aa0f0c",
       "version_major": 2,
       "version_minor": 0
      },
      "text/plain": [
       "  0%|          | 0/150 [00:00<?, ?it/s]"
      ]
     },
     "metadata": {},
     "output_type": "display_data"
    },
    {
     "name": "stdout",
     "output_type": "stream",
     "text": [
      "run 12 of 160 total-------------------------------('sentiment_value', 'initial_sigma_value')=(-0.5, 0.09999999999999998) iteration 2 of 10\n",
      "\n",
      "Building partition fixed_sentiment of 1000 agents\n",
      "\n",
      "  all agents tot_wealth will be: 10000\n",
      "  all agents sigma_prop will be: 0.09999999999999998\n"
     ]
    },
    {
     "data": {
      "application/vnd.jupyter.widget-view+json": {
       "model_id": "5cde7dc46ddc49d984f7b2dcccf8b821",
       "version_major": 2,
       "version_minor": 0
      },
      "text/plain": [
       "  0%|          | 0/150 [00:00<?, ?it/s]"
      ]
     },
     "metadata": {},
     "output_type": "display_data"
    },
    {
     "name": "stdout",
     "output_type": "stream",
     "text": [
      "run 13 of 160 total-------------------------------('sentiment_value', 'initial_sigma_value')=(-0.5, 0.09999999999999998) iteration 3 of 10\n",
      "\n",
      "Building partition fixed_sentiment of 1000 agents\n",
      "\n",
      "  all agents tot_wealth will be: 10000\n",
      "  all agents sigma_prop will be: 0.09999999999999998\n"
     ]
    },
    {
     "data": {
      "application/vnd.jupyter.widget-view+json": {
       "model_id": "e1cc33ea4f9d4655b172afaabc12d206",
       "version_major": 2,
       "version_minor": 0
      },
      "text/plain": [
       "  0%|          | 0/150 [00:00<?, ?it/s]"
      ]
     },
     "metadata": {},
     "output_type": "display_data"
    },
    {
     "name": "stdout",
     "output_type": "stream",
     "text": [
      "run 14 of 160 total-------------------------------('sentiment_value', 'initial_sigma_value')=(-0.5, 0.09999999999999998) iteration 4 of 10\n",
      "\n",
      "Building partition fixed_sentiment of 1000 agents\n",
      "\n",
      "  all agents tot_wealth will be: 10000\n",
      "  all agents sigma_prop will be: 0.09999999999999998\n"
     ]
    },
    {
     "data": {
      "application/vnd.jupyter.widget-view+json": {
       "model_id": "81574bc0972943fba13f379d707bdaf8",
       "version_major": 2,
       "version_minor": 0
      },
      "text/plain": [
       "  0%|          | 0/150 [00:00<?, ?it/s]"
      ]
     },
     "metadata": {},
     "output_type": "display_data"
    },
    {
     "name": "stdout",
     "output_type": "stream",
     "text": [
      "run 15 of 160 total-------------------------------('sentiment_value', 'initial_sigma_value')=(-0.5, 0.09999999999999998) iteration 5 of 10\n",
      "\n",
      "Building partition fixed_sentiment of 1000 agents\n",
      "\n",
      "  all agents tot_wealth will be: 10000\n",
      "  all agents sigma_prop will be: 0.09999999999999998\n"
     ]
    },
    {
     "data": {
      "application/vnd.jupyter.widget-view+json": {
       "model_id": "c7b1443aba414f55b6fe574a2c74d45e",
       "version_major": 2,
       "version_minor": 0
      },
      "text/plain": [
       "  0%|          | 0/150 [00:00<?, ?it/s]"
      ]
     },
     "metadata": {},
     "output_type": "display_data"
    },
    {
     "name": "stdout",
     "output_type": "stream",
     "text": [
      "run 16 of 160 total-------------------------------('sentiment_value', 'initial_sigma_value')=(-0.5, 0.09999999999999998) iteration 6 of 10\n",
      "\n",
      "Building partition fixed_sentiment of 1000 agents\n",
      "\n",
      "  all agents tot_wealth will be: 10000\n",
      "  all agents sigma_prop will be: 0.09999999999999998\n"
     ]
    },
    {
     "data": {
      "application/vnd.jupyter.widget-view+json": {
       "model_id": "dcb6491a6f9847148df2da4dd663fe0b",
       "version_major": 2,
       "version_minor": 0
      },
      "text/plain": [
       "  0%|          | 0/150 [00:00<?, ?it/s]"
      ]
     },
     "metadata": {},
     "output_type": "display_data"
    },
    {
     "name": "stdout",
     "output_type": "stream",
     "text": [
      "run 17 of 160 total-------------------------------('sentiment_value', 'initial_sigma_value')=(-0.5, 0.09999999999999998) iteration 7 of 10\n",
      "\n",
      "Building partition fixed_sentiment of 1000 agents\n",
      "\n",
      "  all agents tot_wealth will be: 10000\n",
      "  all agents sigma_prop will be: 0.09999999999999998\n"
     ]
    },
    {
     "data": {
      "application/vnd.jupyter.widget-view+json": {
       "model_id": "1935b12184f24f09b5da4f1400d3f77e",
       "version_major": 2,
       "version_minor": 0
      },
      "text/plain": [
       "  0%|          | 0/150 [00:00<?, ?it/s]"
      ]
     },
     "metadata": {},
     "output_type": "display_data"
    },
    {
     "name": "stdout",
     "output_type": "stream",
     "text": [
      "run 18 of 160 total-------------------------------('sentiment_value', 'initial_sigma_value')=(-0.5, 0.09999999999999998) iteration 8 of 10\n",
      "\n",
      "Building partition fixed_sentiment of 1000 agents\n",
      "\n",
      "  all agents tot_wealth will be: 10000\n",
      "  all agents sigma_prop will be: 0.09999999999999998\n"
     ]
    },
    {
     "data": {
      "application/vnd.jupyter.widget-view+json": {
       "model_id": "432d4df9fda14553828017ab8df41677",
       "version_major": 2,
       "version_minor": 0
      },
      "text/plain": [
       "  0%|          | 0/150 [00:00<?, ?it/s]"
      ]
     },
     "metadata": {},
     "output_type": "display_data"
    },
    {
     "name": "stdout",
     "output_type": "stream",
     "text": [
      "run 19 of 160 total-------------------------------('sentiment_value', 'initial_sigma_value')=(-0.5, 0.09999999999999998) iteration 9 of 10\n",
      "\n",
      "Building partition fixed_sentiment of 1000 agents\n",
      "\n",
      "  all agents tot_wealth will be: 10000\n",
      "  all agents sigma_prop will be: 0.09999999999999998\n"
     ]
    },
    {
     "data": {
      "application/vnd.jupyter.widget-view+json": {
       "model_id": "8b00a884352d46f8818a7194452838b1",
       "version_major": 2,
       "version_minor": 0
      },
      "text/plain": [
       "  0%|          | 0/150 [00:00<?, ?it/s]"
      ]
     },
     "metadata": {},
     "output_type": "display_data"
    },
    {
     "name": "stdout",
     "output_type": "stream",
     "text": [
      "run 20 of 160 total-------------------------------('sentiment_value', 'initial_sigma_value')=(-0.5, 0.09999999999999998) iteration 10 of 10\n",
      "\n",
      "Building partition fixed_sentiment of 1000 agents\n",
      "\n",
      "  all agents tot_wealth will be: 10000\n",
      "  all agents sigma_prop will be: 0.09999999999999998\n"
     ]
    },
    {
     "data": {
      "application/vnd.jupyter.widget-view+json": {
       "model_id": "08e3e53d7c4e4f10896e4bc94d8982be",
       "version_major": 2,
       "version_minor": 0
      },
      "text/plain": [
       "  0%|          | 0/150 [00:00<?, ?it/s]"
      ]
     },
     "metadata": {},
     "output_type": "display_data"
    },
    {
     "name": "stdout",
     "output_type": "stream",
     "text": [
      "run 21 of 160 total-------------------------------('sentiment_value', 'initial_sigma_value')=(-0.4, 0.15000000000000002) iteration 1 of 10\n",
      "\n",
      "Building partition fixed_sentiment of 1000 agents\n",
      "\n",
      "  all agents tot_wealth will be: 10000\n",
      "  all agents sigma_prop will be: 0.15000000000000002\n"
     ]
    },
    {
     "data": {
      "application/vnd.jupyter.widget-view+json": {
       "model_id": "4f046fe6664a4a3c8ed1f3edeb37d8f7",
       "version_major": 2,
       "version_minor": 0
      },
      "text/plain": [
       "  0%|          | 0/150 [00:00<?, ?it/s]"
      ]
     },
     "metadata": {},
     "output_type": "display_data"
    },
    {
     "name": "stdout",
     "output_type": "stream",
     "text": [
      "run 22 of 160 total-------------------------------('sentiment_value', 'initial_sigma_value')=(-0.4, 0.15000000000000002) iteration 2 of 10\n",
      "\n",
      "Building partition fixed_sentiment of 1000 agents\n",
      "\n",
      "  all agents tot_wealth will be: 10000\n",
      "  all agents sigma_prop will be: 0.15000000000000002\n"
     ]
    },
    {
     "data": {
      "application/vnd.jupyter.widget-view+json": {
       "model_id": "2bb652d9a4f945678c471e975e414f59",
       "version_major": 2,
       "version_minor": 0
      },
      "text/plain": [
       "  0%|          | 0/150 [00:00<?, ?it/s]"
      ]
     },
     "metadata": {},
     "output_type": "display_data"
    },
    {
     "name": "stdout",
     "output_type": "stream",
     "text": [
      "run 23 of 160 total-------------------------------('sentiment_value', 'initial_sigma_value')=(-0.4, 0.15000000000000002) iteration 3 of 10\n",
      "\n",
      "Building partition fixed_sentiment of 1000 agents\n",
      "\n",
      "  all agents tot_wealth will be: 10000\n",
      "  all agents sigma_prop will be: 0.15000000000000002\n"
     ]
    },
    {
     "data": {
      "application/vnd.jupyter.widget-view+json": {
       "model_id": "8b0e78c7aa65476186d73768f6bab3b1",
       "version_major": 2,
       "version_minor": 0
      },
      "text/plain": [
       "  0%|          | 0/150 [00:00<?, ?it/s]"
      ]
     },
     "metadata": {},
     "output_type": "display_data"
    },
    {
     "name": "stdout",
     "output_type": "stream",
     "text": [
      "run 24 of 160 total-------------------------------('sentiment_value', 'initial_sigma_value')=(-0.4, 0.15000000000000002) iteration 4 of 10\n",
      "\n",
      "Building partition fixed_sentiment of 1000 agents\n",
      "\n",
      "  all agents tot_wealth will be: 10000\n",
      "  all agents sigma_prop will be: 0.15000000000000002\n"
     ]
    },
    {
     "data": {
      "application/vnd.jupyter.widget-view+json": {
       "model_id": "0ce98964736f45709e6ac6744ccbc89e",
       "version_major": 2,
       "version_minor": 0
      },
      "text/plain": [
       "  0%|          | 0/150 [00:00<?, ?it/s]"
      ]
     },
     "metadata": {},
     "output_type": "display_data"
    },
    {
     "name": "stdout",
     "output_type": "stream",
     "text": [
      "run 25 of 160 total-------------------------------('sentiment_value', 'initial_sigma_value')=(-0.4, 0.15000000000000002) iteration 5 of 10\n",
      "\n",
      "Building partition fixed_sentiment of 1000 agents\n",
      "\n",
      "  all agents tot_wealth will be: 10000\n",
      "  all agents sigma_prop will be: 0.15000000000000002\n"
     ]
    },
    {
     "data": {
      "application/vnd.jupyter.widget-view+json": {
       "model_id": "f65477dbd0434ef08905012f86608cce",
       "version_major": 2,
       "version_minor": 0
      },
      "text/plain": [
       "  0%|          | 0/150 [00:00<?, ?it/s]"
      ]
     },
     "metadata": {},
     "output_type": "display_data"
    },
    {
     "name": "stdout",
     "output_type": "stream",
     "text": [
      "run 26 of 160 total-------------------------------('sentiment_value', 'initial_sigma_value')=(-0.4, 0.15000000000000002) iteration 6 of 10\n",
      "\n",
      "Building partition fixed_sentiment of 1000 agents\n",
      "\n",
      "  all agents tot_wealth will be: 10000\n",
      "  all agents sigma_prop will be: 0.15000000000000002\n"
     ]
    },
    {
     "data": {
      "application/vnd.jupyter.widget-view+json": {
       "model_id": "006787a2fdaf42f5b885632ffb256fcd",
       "version_major": 2,
       "version_minor": 0
      },
      "text/plain": [
       "  0%|          | 0/150 [00:00<?, ?it/s]"
      ]
     },
     "metadata": {},
     "output_type": "display_data"
    },
    {
     "name": "stdout",
     "output_type": "stream",
     "text": [
      "run 27 of 160 total-------------------------------('sentiment_value', 'initial_sigma_value')=(-0.4, 0.15000000000000002) iteration 7 of 10\n",
      "\n",
      "Building partition fixed_sentiment of 1000 agents\n",
      "\n",
      "  all agents tot_wealth will be: 10000\n",
      "  all agents sigma_prop will be: 0.15000000000000002\n"
     ]
    },
    {
     "data": {
      "application/vnd.jupyter.widget-view+json": {
       "model_id": "fcb017acb16f4db1b5f8016dcef3865b",
       "version_major": 2,
       "version_minor": 0
      },
      "text/plain": [
       "  0%|          | 0/150 [00:00<?, ?it/s]"
      ]
     },
     "metadata": {},
     "output_type": "display_data"
    },
    {
     "name": "stdout",
     "output_type": "stream",
     "text": [
      "run 28 of 160 total-------------------------------('sentiment_value', 'initial_sigma_value')=(-0.4, 0.15000000000000002) iteration 8 of 10\n",
      "\n",
      "Building partition fixed_sentiment of 1000 agents\n",
      "\n",
      "  all agents tot_wealth will be: 10000\n",
      "  all agents sigma_prop will be: 0.15000000000000002\n"
     ]
    },
    {
     "data": {
      "application/vnd.jupyter.widget-view+json": {
       "model_id": "ae3544a9c51548c19a3493a70c9613b5",
       "version_major": 2,
       "version_minor": 0
      },
      "text/plain": [
       "  0%|          | 0/150 [00:00<?, ?it/s]"
      ]
     },
     "metadata": {},
     "output_type": "display_data"
    },
    {
     "name": "stdout",
     "output_type": "stream",
     "text": [
      "run 29 of 160 total-------------------------------('sentiment_value', 'initial_sigma_value')=(-0.4, 0.15000000000000002) iteration 9 of 10\n",
      "\n",
      "Building partition fixed_sentiment of 1000 agents\n",
      "\n",
      "  all agents tot_wealth will be: 10000\n",
      "  all agents sigma_prop will be: 0.15000000000000002\n"
     ]
    },
    {
     "data": {
      "application/vnd.jupyter.widget-view+json": {
       "model_id": "47a4ed597b5e48c1b2e0848f51fc7229",
       "version_major": 2,
       "version_minor": 0
      },
      "text/plain": [
       "  0%|          | 0/150 [00:00<?, ?it/s]"
      ]
     },
     "metadata": {},
     "output_type": "display_data"
    },
    {
     "name": "stdout",
     "output_type": "stream",
     "text": [
      "run 30 of 160 total-------------------------------('sentiment_value', 'initial_sigma_value')=(-0.4, 0.15000000000000002) iteration 10 of 10\n",
      "\n",
      "Building partition fixed_sentiment of 1000 agents\n",
      "\n",
      "  all agents tot_wealth will be: 10000\n",
      "  all agents sigma_prop will be: 0.15000000000000002\n"
     ]
    },
    {
     "data": {
      "application/vnd.jupyter.widget-view+json": {
       "model_id": "9bea612bfe7544c2820295d0a8384879",
       "version_major": 2,
       "version_minor": 0
      },
      "text/plain": [
       "  0%|          | 0/150 [00:00<?, ?it/s]"
      ]
     },
     "metadata": {},
     "output_type": "display_data"
    },
    {
     "name": "stdout",
     "output_type": "stream",
     "text": [
      "run 31 of 160 total-------------------------------('sentiment_value', 'initial_sigma_value')=(-0.3, 0.2) iteration 1 of 10\n",
      "\n",
      "Building partition fixed_sentiment of 1000 agents\n",
      "\n",
      "  all agents tot_wealth will be: 10000\n",
      "  all agents sigma_prop will be: 0.2\n"
     ]
    },
    {
     "data": {
      "application/vnd.jupyter.widget-view+json": {
       "model_id": "195d1298c97441e5829b81a7c409ebdc",
       "version_major": 2,
       "version_minor": 0
      },
      "text/plain": [
       "  0%|          | 0/150 [00:00<?, ?it/s]"
      ]
     },
     "metadata": {},
     "output_type": "display_data"
    },
    {
     "name": "stdout",
     "output_type": "stream",
     "text": [
      "run 32 of 160 total-------------------------------('sentiment_value', 'initial_sigma_value')=(-0.3, 0.2) iteration 2 of 10\n",
      "\n",
      "Building partition fixed_sentiment of 1000 agents\n",
      "\n",
      "  all agents tot_wealth will be: 10000\n",
      "  all agents sigma_prop will be: 0.2\n"
     ]
    },
    {
     "data": {
      "application/vnd.jupyter.widget-view+json": {
       "model_id": "a45858467c944534af2f7a74d5effc50",
       "version_major": 2,
       "version_minor": 0
      },
      "text/plain": [
       "  0%|          | 0/150 [00:00<?, ?it/s]"
      ]
     },
     "metadata": {},
     "output_type": "display_data"
    },
    {
     "name": "stdout",
     "output_type": "stream",
     "text": [
      "run 33 of 160 total-------------------------------('sentiment_value', 'initial_sigma_value')=(-0.3, 0.2) iteration 3 of 10\n",
      "\n",
      "Building partition fixed_sentiment of 1000 agents\n",
      "\n",
      "  all agents tot_wealth will be: 10000\n",
      "  all agents sigma_prop will be: 0.2\n"
     ]
    },
    {
     "data": {
      "application/vnd.jupyter.widget-view+json": {
       "model_id": "ffbd5b6b70ec418193d8484e2880afd2",
       "version_major": 2,
       "version_minor": 0
      },
      "text/plain": [
       "  0%|          | 0/150 [00:00<?, ?it/s]"
      ]
     },
     "metadata": {},
     "output_type": "display_data"
    },
    {
     "name": "stdout",
     "output_type": "stream",
     "text": [
      "run 34 of 160 total-------------------------------('sentiment_value', 'initial_sigma_value')=(-0.3, 0.2) iteration 4 of 10\n",
      "\n",
      "Building partition fixed_sentiment of 1000 agents\n",
      "\n",
      "  all agents tot_wealth will be: 10000\n",
      "  all agents sigma_prop will be: 0.2\n"
     ]
    },
    {
     "data": {
      "application/vnd.jupyter.widget-view+json": {
       "model_id": "d48905b2633d4d12a742fef8d79b110f",
       "version_major": 2,
       "version_minor": 0
      },
      "text/plain": [
       "  0%|          | 0/150 [00:00<?, ?it/s]"
      ]
     },
     "metadata": {},
     "output_type": "display_data"
    },
    {
     "name": "stdout",
     "output_type": "stream",
     "text": [
      "run 35 of 160 total-------------------------------('sentiment_value', 'initial_sigma_value')=(-0.3, 0.2) iteration 5 of 10\n",
      "\n",
      "Building partition fixed_sentiment of 1000 agents\n",
      "\n",
      "  all agents tot_wealth will be: 10000\n",
      "  all agents sigma_prop will be: 0.2\n"
     ]
    },
    {
     "data": {
      "application/vnd.jupyter.widget-view+json": {
       "model_id": "f26548e0af62441aaff5ef912d2bb070",
       "version_major": 2,
       "version_minor": 0
      },
      "text/plain": [
       "  0%|          | 0/150 [00:00<?, ?it/s]"
      ]
     },
     "metadata": {},
     "output_type": "display_data"
    },
    {
     "name": "stdout",
     "output_type": "stream",
     "text": [
      "run 36 of 160 total-------------------------------('sentiment_value', 'initial_sigma_value')=(-0.3, 0.2) iteration 6 of 10\n",
      "\n",
      "Building partition fixed_sentiment of 1000 agents\n",
      "\n",
      "  all agents tot_wealth will be: 10000\n",
      "  all agents sigma_prop will be: 0.2\n"
     ]
    },
    {
     "data": {
      "application/vnd.jupyter.widget-view+json": {
       "model_id": "dde144f1a74a41f1aa0e8ec5daf7654e",
       "version_major": 2,
       "version_minor": 0
      },
      "text/plain": [
       "  0%|          | 0/150 [00:00<?, ?it/s]"
      ]
     },
     "metadata": {},
     "output_type": "display_data"
    },
    {
     "name": "stdout",
     "output_type": "stream",
     "text": [
      "run 37 of 160 total-------------------------------('sentiment_value', 'initial_sigma_value')=(-0.3, 0.2) iteration 7 of 10\n",
      "\n",
      "Building partition fixed_sentiment of 1000 agents\n",
      "\n",
      "  all agents tot_wealth will be: 10000\n",
      "  all agents sigma_prop will be: 0.2\n"
     ]
    },
    {
     "data": {
      "application/vnd.jupyter.widget-view+json": {
       "model_id": "ca5549a6a332498e91a6614e36e29fa3",
       "version_major": 2,
       "version_minor": 0
      },
      "text/plain": [
       "  0%|          | 0/150 [00:00<?, ?it/s]"
      ]
     },
     "metadata": {},
     "output_type": "display_data"
    },
    {
     "name": "stdout",
     "output_type": "stream",
     "text": [
      "run 38 of 160 total-------------------------------('sentiment_value', 'initial_sigma_value')=(-0.3, 0.2) iteration 8 of 10\n",
      "\n",
      "Building partition fixed_sentiment of 1000 agents\n",
      "\n",
      "  all agents tot_wealth will be: 10000\n",
      "  all agents sigma_prop will be: 0.2\n"
     ]
    },
    {
     "data": {
      "application/vnd.jupyter.widget-view+json": {
       "model_id": "b730ebc76935439dbb8743cde9b08534",
       "version_major": 2,
       "version_minor": 0
      },
      "text/plain": [
       "  0%|          | 0/150 [00:00<?, ?it/s]"
      ]
     },
     "metadata": {},
     "output_type": "display_data"
    },
    {
     "name": "stdout",
     "output_type": "stream",
     "text": [
      "run 39 of 160 total-------------------------------('sentiment_value', 'initial_sigma_value')=(-0.3, 0.2) iteration 9 of 10\n",
      "\n",
      "Building partition fixed_sentiment of 1000 agents\n",
      "\n",
      "  all agents tot_wealth will be: 10000\n",
      "  all agents sigma_prop will be: 0.2\n"
     ]
    },
    {
     "data": {
      "application/vnd.jupyter.widget-view+json": {
       "model_id": "45624013b67d40fa8d7bd173ee3affb6",
       "version_major": 2,
       "version_minor": 0
      },
      "text/plain": [
       "  0%|          | 0/150 [00:00<?, ?it/s]"
      ]
     },
     "metadata": {},
     "output_type": "display_data"
    },
    {
     "name": "stdout",
     "output_type": "stream",
     "text": [
      "run 40 of 160 total-------------------------------('sentiment_value', 'initial_sigma_value')=(-0.3, 0.2) iteration 10 of 10\n",
      "\n",
      "Building partition fixed_sentiment of 1000 agents\n",
      "\n",
      "  all agents tot_wealth will be: 10000\n",
      "  all agents sigma_prop will be: 0.2\n"
     ]
    },
    {
     "data": {
      "application/vnd.jupyter.widget-view+json": {
       "model_id": "477e623635624e7b9c93991bcc1199df",
       "version_major": 2,
       "version_minor": 0
      },
      "text/plain": [
       "  0%|          | 0/150 [00:00<?, ?it/s]"
      ]
     },
     "metadata": {},
     "output_type": "display_data"
    },
    {
     "name": "stdout",
     "output_type": "stream",
     "text": [
      "run 41 of 160 total-------------------------------('sentiment_value', 'initial_sigma_value')=(-0.2, 0.25) iteration 1 of 10\n",
      "\n",
      "Building partition fixed_sentiment of 1000 agents\n",
      "\n",
      "  all agents tot_wealth will be: 10000\n",
      "  all agents sigma_prop will be: 0.25\n"
     ]
    },
    {
     "data": {
      "application/vnd.jupyter.widget-view+json": {
       "model_id": "810ef88a0ffe433fbde517483898230e",
       "version_major": 2,
       "version_minor": 0
      },
      "text/plain": [
       "  0%|          | 0/150 [00:00<?, ?it/s]"
      ]
     },
     "metadata": {},
     "output_type": "display_data"
    },
    {
     "name": "stdout",
     "output_type": "stream",
     "text": [
      "run 42 of 160 total-------------------------------('sentiment_value', 'initial_sigma_value')=(-0.2, 0.25) iteration 2 of 10\n",
      "\n",
      "Building partition fixed_sentiment of 1000 agents\n",
      "\n",
      "  all agents tot_wealth will be: 10000\n",
      "  all agents sigma_prop will be: 0.25\n"
     ]
    },
    {
     "data": {
      "application/vnd.jupyter.widget-view+json": {
       "model_id": "39762a10f73d415c98fe7f6c7b7875c4",
       "version_major": 2,
       "version_minor": 0
      },
      "text/plain": [
       "  0%|          | 0/150 [00:00<?, ?it/s]"
      ]
     },
     "metadata": {},
     "output_type": "display_data"
    },
    {
     "name": "stdout",
     "output_type": "stream",
     "text": [
      "run 43 of 160 total-------------------------------('sentiment_value', 'initial_sigma_value')=(-0.2, 0.25) iteration 3 of 10\n",
      "\n",
      "Building partition fixed_sentiment of 1000 agents\n",
      "\n",
      "  all agents tot_wealth will be: 10000\n",
      "  all agents sigma_prop will be: 0.25\n"
     ]
    },
    {
     "data": {
      "application/vnd.jupyter.widget-view+json": {
       "model_id": "95edac48cf3647c8b7f70188f9e80420",
       "version_major": 2,
       "version_minor": 0
      },
      "text/plain": [
       "  0%|          | 0/150 [00:00<?, ?it/s]"
      ]
     },
     "metadata": {},
     "output_type": "display_data"
    },
    {
     "name": "stdout",
     "output_type": "stream",
     "text": [
      "run 44 of 160 total-------------------------------('sentiment_value', 'initial_sigma_value')=(-0.2, 0.25) iteration 4 of 10\n",
      "\n",
      "Building partition fixed_sentiment of 1000 agents\n",
      "\n",
      "  all agents tot_wealth will be: 10000\n",
      "  all agents sigma_prop will be: 0.25\n"
     ]
    },
    {
     "data": {
      "application/vnd.jupyter.widget-view+json": {
       "model_id": "4137f9d6dc04412bae7aca2136326011",
       "version_major": 2,
       "version_minor": 0
      },
      "text/plain": [
       "  0%|          | 0/150 [00:00<?, ?it/s]"
      ]
     },
     "metadata": {},
     "output_type": "display_data"
    },
    {
     "name": "stdout",
     "output_type": "stream",
     "text": [
      "run 45 of 160 total-------------------------------('sentiment_value', 'initial_sigma_value')=(-0.2, 0.25) iteration 5 of 10\n",
      "\n",
      "Building partition fixed_sentiment of 1000 agents\n",
      "\n",
      "  all agents tot_wealth will be: 10000\n",
      "  all agents sigma_prop will be: 0.25\n"
     ]
    },
    {
     "data": {
      "application/vnd.jupyter.widget-view+json": {
       "model_id": "08b7ce94c0404839b164d69d11fd1a5c",
       "version_major": 2,
       "version_minor": 0
      },
      "text/plain": [
       "  0%|          | 0/150 [00:00<?, ?it/s]"
      ]
     },
     "metadata": {},
     "output_type": "display_data"
    },
    {
     "name": "stdout",
     "output_type": "stream",
     "text": [
      "run 46 of 160 total-------------------------------('sentiment_value', 'initial_sigma_value')=(-0.2, 0.25) iteration 6 of 10\n",
      "\n",
      "Building partition fixed_sentiment of 1000 agents\n",
      "\n",
      "  all agents tot_wealth will be: 10000\n",
      "  all agents sigma_prop will be: 0.25\n"
     ]
    },
    {
     "data": {
      "application/vnd.jupyter.widget-view+json": {
       "model_id": "9a07d960c457440aa14f1dcf837a49ed",
       "version_major": 2,
       "version_minor": 0
      },
      "text/plain": [
       "  0%|          | 0/150 [00:00<?, ?it/s]"
      ]
     },
     "metadata": {},
     "output_type": "display_data"
    },
    {
     "name": "stdout",
     "output_type": "stream",
     "text": [
      "run 47 of 160 total-------------------------------('sentiment_value', 'initial_sigma_value')=(-0.2, 0.25) iteration 7 of 10\n",
      "\n",
      "Building partition fixed_sentiment of 1000 agents\n",
      "\n",
      "  all agents tot_wealth will be: 10000\n",
      "  all agents sigma_prop will be: 0.25\n"
     ]
    },
    {
     "data": {
      "application/vnd.jupyter.widget-view+json": {
       "model_id": "e0cb458da90a44cba780aab74f225010",
       "version_major": 2,
       "version_minor": 0
      },
      "text/plain": [
       "  0%|          | 0/150 [00:00<?, ?it/s]"
      ]
     },
     "metadata": {},
     "output_type": "display_data"
    },
    {
     "name": "stdout",
     "output_type": "stream",
     "text": [
      "run 48 of 160 total-------------------------------('sentiment_value', 'initial_sigma_value')=(-0.2, 0.25) iteration 8 of 10\n",
      "\n",
      "Building partition fixed_sentiment of 1000 agents\n",
      "\n",
      "  all agents tot_wealth will be: 10000\n",
      "  all agents sigma_prop will be: 0.25\n"
     ]
    },
    {
     "data": {
      "application/vnd.jupyter.widget-view+json": {
       "model_id": "1cfe47a128df4ee5880331c5964e25d1",
       "version_major": 2,
       "version_minor": 0
      },
      "text/plain": [
       "  0%|          | 0/150 [00:00<?, ?it/s]"
      ]
     },
     "metadata": {},
     "output_type": "display_data"
    },
    {
     "name": "stdout",
     "output_type": "stream",
     "text": [
      "run 49 of 160 total-------------------------------('sentiment_value', 'initial_sigma_value')=(-0.2, 0.25) iteration 9 of 10\n",
      "\n",
      "Building partition fixed_sentiment of 1000 agents\n",
      "\n",
      "  all agents tot_wealth will be: 10000\n",
      "  all agents sigma_prop will be: 0.25\n"
     ]
    },
    {
     "data": {
      "application/vnd.jupyter.widget-view+json": {
       "model_id": "aca43b73ebc44313bda8ed5b4ab9039f",
       "version_major": 2,
       "version_minor": 0
      },
      "text/plain": [
       "  0%|          | 0/150 [00:00<?, ?it/s]"
      ]
     },
     "metadata": {},
     "output_type": "display_data"
    },
    {
     "name": "stdout",
     "output_type": "stream",
     "text": [
      "run 50 of 160 total-------------------------------('sentiment_value', 'initial_sigma_value')=(-0.2, 0.25) iteration 10 of 10\n",
      "\n",
      "Building partition fixed_sentiment of 1000 agents\n",
      "\n",
      "  all agents tot_wealth will be: 10000\n",
      "  all agents sigma_prop will be: 0.25\n"
     ]
    },
    {
     "data": {
      "application/vnd.jupyter.widget-view+json": {
       "model_id": "325747ffb32841e3a52a6c7661551573",
       "version_major": 2,
       "version_minor": 0
      },
      "text/plain": [
       "  0%|          | 0/150 [00:00<?, ?it/s]"
      ]
     },
     "metadata": {},
     "output_type": "display_data"
    },
    {
     "name": "stdout",
     "output_type": "stream",
     "text": [
      "run 51 of 160 total-------------------------------('sentiment_value', 'initial_sigma_value')=(-0.1, 0.3) iteration 1 of 10\n",
      "\n",
      "Building partition fixed_sentiment of 1000 agents\n",
      "\n",
      "  all agents tot_wealth will be: 10000\n",
      "  all agents sigma_prop will be: 0.3\n"
     ]
    },
    {
     "data": {
      "application/vnd.jupyter.widget-view+json": {
       "model_id": "07b3425259074498a63916c76e4117eb",
       "version_major": 2,
       "version_minor": 0
      },
      "text/plain": [
       "  0%|          | 0/150 [00:00<?, ?it/s]"
      ]
     },
     "metadata": {},
     "output_type": "display_data"
    },
    {
     "name": "stdout",
     "output_type": "stream",
     "text": [
      "run 52 of 160 total-------------------------------('sentiment_value', 'initial_sigma_value')=(-0.1, 0.3) iteration 2 of 10\n",
      "\n",
      "Building partition fixed_sentiment of 1000 agents\n",
      "\n",
      "  all agents tot_wealth will be: 10000\n",
      "  all agents sigma_prop will be: 0.3\n"
     ]
    },
    {
     "data": {
      "application/vnd.jupyter.widget-view+json": {
       "model_id": "7a14828c41a547e1be3dfab7d122c8b7",
       "version_major": 2,
       "version_minor": 0
      },
      "text/plain": [
       "  0%|          | 0/150 [00:00<?, ?it/s]"
      ]
     },
     "metadata": {},
     "output_type": "display_data"
    },
    {
     "name": "stdout",
     "output_type": "stream",
     "text": [
      "run 53 of 160 total-------------------------------('sentiment_value', 'initial_sigma_value')=(-0.1, 0.3) iteration 3 of 10\n",
      "\n",
      "Building partition fixed_sentiment of 1000 agents\n",
      "\n",
      "  all agents tot_wealth will be: 10000\n",
      "  all agents sigma_prop will be: 0.3\n"
     ]
    },
    {
     "data": {
      "application/vnd.jupyter.widget-view+json": {
       "model_id": "041e5ac28c204af9a515ce5a9b22e49c",
       "version_major": 2,
       "version_minor": 0
      },
      "text/plain": [
       "  0%|          | 0/150 [00:00<?, ?it/s]"
      ]
     },
     "metadata": {},
     "output_type": "display_data"
    },
    {
     "name": "stdout",
     "output_type": "stream",
     "text": [
      "run 54 of 160 total-------------------------------('sentiment_value', 'initial_sigma_value')=(-0.1, 0.3) iteration 4 of 10\n",
      "\n",
      "Building partition fixed_sentiment of 1000 agents\n",
      "\n",
      "  all agents tot_wealth will be: 10000\n",
      "  all agents sigma_prop will be: 0.3\n"
     ]
    },
    {
     "data": {
      "application/vnd.jupyter.widget-view+json": {
       "model_id": "b1ad703a313f465193af5ff2f6a72cde",
       "version_major": 2,
       "version_minor": 0
      },
      "text/plain": [
       "  0%|          | 0/150 [00:00<?, ?it/s]"
      ]
     },
     "metadata": {},
     "output_type": "display_data"
    },
    {
     "name": "stdout",
     "output_type": "stream",
     "text": [
      "run 55 of 160 total-------------------------------('sentiment_value', 'initial_sigma_value')=(-0.1, 0.3) iteration 5 of 10\n",
      "\n",
      "Building partition fixed_sentiment of 1000 agents\n",
      "\n",
      "  all agents tot_wealth will be: 10000\n",
      "  all agents sigma_prop will be: 0.3\n"
     ]
    },
    {
     "data": {
      "application/vnd.jupyter.widget-view+json": {
       "model_id": "dfc28d8d8e1b428998bc995cfd7a84e8",
       "version_major": 2,
       "version_minor": 0
      },
      "text/plain": [
       "  0%|          | 0/150 [00:00<?, ?it/s]"
      ]
     },
     "metadata": {},
     "output_type": "display_data"
    },
    {
     "name": "stdout",
     "output_type": "stream",
     "text": [
      "run 56 of 160 total-------------------------------('sentiment_value', 'initial_sigma_value')=(-0.1, 0.3) iteration 6 of 10\n",
      "\n",
      "Building partition fixed_sentiment of 1000 agents\n",
      "\n",
      "  all agents tot_wealth will be: 10000\n",
      "  all agents sigma_prop will be: 0.3\n"
     ]
    },
    {
     "data": {
      "application/vnd.jupyter.widget-view+json": {
       "model_id": "94582a5df43e4c9b9bf5b88403a68d62",
       "version_major": 2,
       "version_minor": 0
      },
      "text/plain": [
       "  0%|          | 0/150 [00:00<?, ?it/s]"
      ]
     },
     "metadata": {},
     "output_type": "display_data"
    },
    {
     "name": "stdout",
     "output_type": "stream",
     "text": [
      "run 57 of 160 total-------------------------------('sentiment_value', 'initial_sigma_value')=(-0.1, 0.3) iteration 7 of 10\n",
      "\n",
      "Building partition fixed_sentiment of 1000 agents\n",
      "\n",
      "  all agents tot_wealth will be: 10000\n",
      "  all agents sigma_prop will be: 0.3\n"
     ]
    },
    {
     "data": {
      "application/vnd.jupyter.widget-view+json": {
       "model_id": "89cc17f6778f4cbf8fa92e6d1d632511",
       "version_major": 2,
       "version_minor": 0
      },
      "text/plain": [
       "  0%|          | 0/150 [00:00<?, ?it/s]"
      ]
     },
     "metadata": {},
     "output_type": "display_data"
    },
    {
     "name": "stdout",
     "output_type": "stream",
     "text": [
      "run 58 of 160 total-------------------------------('sentiment_value', 'initial_sigma_value')=(-0.1, 0.3) iteration 8 of 10\n",
      "\n",
      "Building partition fixed_sentiment of 1000 agents\n",
      "\n",
      "  all agents tot_wealth will be: 10000\n",
      "  all agents sigma_prop will be: 0.3\n"
     ]
    },
    {
     "data": {
      "application/vnd.jupyter.widget-view+json": {
       "model_id": "8a768edc996c4a04bb944d588351d674",
       "version_major": 2,
       "version_minor": 0
      },
      "text/plain": [
       "  0%|          | 0/150 [00:00<?, ?it/s]"
      ]
     },
     "metadata": {},
     "output_type": "display_data"
    },
    {
     "name": "stdout",
     "output_type": "stream",
     "text": [
      "run 59 of 160 total-------------------------------('sentiment_value', 'initial_sigma_value')=(-0.1, 0.3) iteration 9 of 10\n",
      "\n",
      "Building partition fixed_sentiment of 1000 agents\n",
      "\n",
      "  all agents tot_wealth will be: 10000\n",
      "  all agents sigma_prop will be: 0.3\n"
     ]
    },
    {
     "data": {
      "application/vnd.jupyter.widget-view+json": {
       "model_id": "91f4057ca97e4458ad8f4d426d0f42a6",
       "version_major": 2,
       "version_minor": 0
      },
      "text/plain": [
       "  0%|          | 0/150 [00:00<?, ?it/s]"
      ]
     },
     "metadata": {},
     "output_type": "display_data"
    },
    {
     "name": "stdout",
     "output_type": "stream",
     "text": [
      "run 60 of 160 total-------------------------------('sentiment_value', 'initial_sigma_value')=(-0.1, 0.3) iteration 10 of 10\n",
      "\n",
      "Building partition fixed_sentiment of 1000 agents\n",
      "\n",
      "  all agents tot_wealth will be: 10000\n",
      "  all agents sigma_prop will be: 0.3\n"
     ]
    },
    {
     "data": {
      "application/vnd.jupyter.widget-view+json": {
       "model_id": "7e9ab4b92c2d4a09a100eca1fcb07854",
       "version_major": 2,
       "version_minor": 0
      },
      "text/plain": [
       "  0%|          | 0/150 [00:00<?, ?it/s]"
      ]
     },
     "metadata": {},
     "output_type": "display_data"
    },
    {
     "name": "stdout",
     "output_type": "stream",
     "text": [
      "run 61 of 160 total-------------------------------('sentiment_value', 'initial_sigma_value')=(0.0, 0.35) iteration 1 of 10\n",
      "\n",
      "Building partition fixed_sentiment of 1000 agents\n",
      "\n",
      "  all agents tot_wealth will be: 10000\n",
      "  all agents sigma_prop will be: 0.35\n"
     ]
    },
    {
     "data": {
      "application/vnd.jupyter.widget-view+json": {
       "model_id": "1b84f3776bdd45a98f5e69b3acee7081",
       "version_major": 2,
       "version_minor": 0
      },
      "text/plain": [
       "  0%|          | 0/150 [00:00<?, ?it/s]"
      ]
     },
     "metadata": {},
     "output_type": "display_data"
    },
    {
     "name": "stdout",
     "output_type": "stream",
     "text": [
      "run 62 of 160 total-------------------------------('sentiment_value', 'initial_sigma_value')=(0.0, 0.35) iteration 2 of 10\n",
      "\n",
      "Building partition fixed_sentiment of 1000 agents\n",
      "\n",
      "  all agents tot_wealth will be: 10000\n",
      "  all agents sigma_prop will be: 0.35\n"
     ]
    },
    {
     "data": {
      "application/vnd.jupyter.widget-view+json": {
       "model_id": "26bea3eb8b65473c91febdfb97cbe9cf",
       "version_major": 2,
       "version_minor": 0
      },
      "text/plain": [
       "  0%|          | 0/150 [00:00<?, ?it/s]"
      ]
     },
     "metadata": {},
     "output_type": "display_data"
    },
    {
     "name": "stdout",
     "output_type": "stream",
     "text": [
      "run 63 of 160 total-------------------------------('sentiment_value', 'initial_sigma_value')=(0.0, 0.35) iteration 3 of 10\n",
      "\n",
      "Building partition fixed_sentiment of 1000 agents\n",
      "\n",
      "  all agents tot_wealth will be: 10000\n",
      "  all agents sigma_prop will be: 0.35\n"
     ]
    },
    {
     "data": {
      "application/vnd.jupyter.widget-view+json": {
       "model_id": "900536bb87e148c589e4a7b583a09a68",
       "version_major": 2,
       "version_minor": 0
      },
      "text/plain": [
       "  0%|          | 0/150 [00:00<?, ?it/s]"
      ]
     },
     "metadata": {},
     "output_type": "display_data"
    },
    {
     "name": "stdout",
     "output_type": "stream",
     "text": [
      "run 64 of 160 total-------------------------------('sentiment_value', 'initial_sigma_value')=(0.0, 0.35) iteration 4 of 10\n",
      "\n",
      "Building partition fixed_sentiment of 1000 agents\n",
      "\n",
      "  all agents tot_wealth will be: 10000\n",
      "  all agents sigma_prop will be: 0.35\n"
     ]
    },
    {
     "data": {
      "application/vnd.jupyter.widget-view+json": {
       "model_id": "a78792cde4c447aeaff52ae185bbc014",
       "version_major": 2,
       "version_minor": 0
      },
      "text/plain": [
       "  0%|          | 0/150 [00:00<?, ?it/s]"
      ]
     },
     "metadata": {},
     "output_type": "display_data"
    },
    {
     "name": "stdout",
     "output_type": "stream",
     "text": [
      "run 65 of 160 total-------------------------------('sentiment_value', 'initial_sigma_value')=(0.0, 0.35) iteration 5 of 10\n",
      "\n",
      "Building partition fixed_sentiment of 1000 agents\n",
      "\n",
      "  all agents tot_wealth will be: 10000\n",
      "  all agents sigma_prop will be: 0.35\n"
     ]
    },
    {
     "data": {
      "application/vnd.jupyter.widget-view+json": {
       "model_id": "3416b2d32a224516bf9e9c438f1e4c6c",
       "version_major": 2,
       "version_minor": 0
      },
      "text/plain": [
       "  0%|          | 0/150 [00:00<?, ?it/s]"
      ]
     },
     "metadata": {},
     "output_type": "display_data"
    },
    {
     "name": "stdout",
     "output_type": "stream",
     "text": [
      "run 66 of 160 total-------------------------------('sentiment_value', 'initial_sigma_value')=(0.0, 0.35) iteration 6 of 10\n",
      "\n",
      "Building partition fixed_sentiment of 1000 agents\n",
      "\n",
      "  all agents tot_wealth will be: 10000\n",
      "  all agents sigma_prop will be: 0.35\n"
     ]
    },
    {
     "data": {
      "application/vnd.jupyter.widget-view+json": {
       "model_id": "66640bc2f83b4a959ef1edbf8945db0c",
       "version_major": 2,
       "version_minor": 0
      },
      "text/plain": [
       "  0%|          | 0/150 [00:00<?, ?it/s]"
      ]
     },
     "metadata": {},
     "output_type": "display_data"
    },
    {
     "name": "stdout",
     "output_type": "stream",
     "text": [
      "run 67 of 160 total-------------------------------('sentiment_value', 'initial_sigma_value')=(0.0, 0.35) iteration 7 of 10\n",
      "\n",
      "Building partition fixed_sentiment of 1000 agents\n",
      "\n",
      "  all agents tot_wealth will be: 10000\n",
      "  all agents sigma_prop will be: 0.35\n"
     ]
    },
    {
     "data": {
      "application/vnd.jupyter.widget-view+json": {
       "model_id": "e6ee09dae96d42de99068b187830e68a",
       "version_major": 2,
       "version_minor": 0
      },
      "text/plain": [
       "  0%|          | 0/150 [00:00<?, ?it/s]"
      ]
     },
     "metadata": {},
     "output_type": "display_data"
    },
    {
     "name": "stdout",
     "output_type": "stream",
     "text": [
      "run 68 of 160 total-------------------------------('sentiment_value', 'initial_sigma_value')=(0.0, 0.35) iteration 8 of 10\n",
      "\n",
      "Building partition fixed_sentiment of 1000 agents\n",
      "\n",
      "  all agents tot_wealth will be: 10000\n",
      "  all agents sigma_prop will be: 0.35\n"
     ]
    },
    {
     "data": {
      "application/vnd.jupyter.widget-view+json": {
       "model_id": "1229bf5d808e46f2b1347e1966aa1a60",
       "version_major": 2,
       "version_minor": 0
      },
      "text/plain": [
       "  0%|          | 0/150 [00:00<?, ?it/s]"
      ]
     },
     "metadata": {},
     "output_type": "display_data"
    },
    {
     "name": "stdout",
     "output_type": "stream",
     "text": [
      "run 69 of 160 total-------------------------------('sentiment_value', 'initial_sigma_value')=(0.0, 0.35) iteration 9 of 10\n",
      "\n",
      "Building partition fixed_sentiment of 1000 agents\n",
      "\n",
      "  all agents tot_wealth will be: 10000\n",
      "  all agents sigma_prop will be: 0.35\n"
     ]
    },
    {
     "data": {
      "application/vnd.jupyter.widget-view+json": {
       "model_id": "b646eb16f338451684f543d061f10b52",
       "version_major": 2,
       "version_minor": 0
      },
      "text/plain": [
       "  0%|          | 0/150 [00:00<?, ?it/s]"
      ]
     },
     "metadata": {},
     "output_type": "display_data"
    },
    {
     "name": "stdout",
     "output_type": "stream",
     "text": [
      "run 70 of 160 total-------------------------------('sentiment_value', 'initial_sigma_value')=(0.0, 0.35) iteration 10 of 10\n",
      "\n",
      "Building partition fixed_sentiment of 1000 agents\n",
      "\n",
      "  all agents tot_wealth will be: 10000\n",
      "  all agents sigma_prop will be: 0.35\n"
     ]
    },
    {
     "data": {
      "application/vnd.jupyter.widget-view+json": {
       "model_id": "997de1ee79d4443a900340496cc10034",
       "version_major": 2,
       "version_minor": 0
      },
      "text/plain": [
       "  0%|          | 0/150 [00:00<?, ?it/s]"
      ]
     },
     "metadata": {},
     "output_type": "display_data"
    },
    {
     "name": "stdout",
     "output_type": "stream",
     "text": [
      "run 71 of 160 total-------------------------------('sentiment_value', 'initial_sigma_value')=(0.1, 0.4) iteration 1 of 10\n",
      "\n",
      "Building partition fixed_sentiment of 1000 agents\n",
      "\n",
      "  all agents tot_wealth will be: 10000\n",
      "  all agents sigma_prop will be: 0.4\n"
     ]
    },
    {
     "data": {
      "application/vnd.jupyter.widget-view+json": {
       "model_id": "6878b7583382443fb470bb9a86afe653",
       "version_major": 2,
       "version_minor": 0
      },
      "text/plain": [
       "  0%|          | 0/150 [00:00<?, ?it/s]"
      ]
     },
     "metadata": {},
     "output_type": "display_data"
    },
    {
     "name": "stdout",
     "output_type": "stream",
     "text": [
      "run 72 of 160 total-------------------------------('sentiment_value', 'initial_sigma_value')=(0.1, 0.4) iteration 2 of 10\n",
      "\n",
      "Building partition fixed_sentiment of 1000 agents\n",
      "\n",
      "  all agents tot_wealth will be: 10000\n",
      "  all agents sigma_prop will be: 0.4\n"
     ]
    },
    {
     "data": {
      "application/vnd.jupyter.widget-view+json": {
       "model_id": "f9f0e6a0852b409e9a34297d30b7c69a",
       "version_major": 2,
       "version_minor": 0
      },
      "text/plain": [
       "  0%|          | 0/150 [00:00<?, ?it/s]"
      ]
     },
     "metadata": {},
     "output_type": "display_data"
    },
    {
     "name": "stdout",
     "output_type": "stream",
     "text": [
      "run 73 of 160 total-------------------------------('sentiment_value', 'initial_sigma_value')=(0.1, 0.4) iteration 3 of 10\n",
      "\n",
      "Building partition fixed_sentiment of 1000 agents\n",
      "\n",
      "  all agents tot_wealth will be: 10000\n",
      "  all agents sigma_prop will be: 0.4\n"
     ]
    },
    {
     "data": {
      "application/vnd.jupyter.widget-view+json": {
       "model_id": "b068fb72815d46239b38d7dc290f4d0b",
       "version_major": 2,
       "version_minor": 0
      },
      "text/plain": [
       "  0%|          | 0/150 [00:00<?, ?it/s]"
      ]
     },
     "metadata": {},
     "output_type": "display_data"
    },
    {
     "name": "stdout",
     "output_type": "stream",
     "text": [
      "run 74 of 160 total-------------------------------('sentiment_value', 'initial_sigma_value')=(0.1, 0.4) iteration 4 of 10\n",
      "\n",
      "Building partition fixed_sentiment of 1000 agents\n",
      "\n",
      "  all agents tot_wealth will be: 10000\n",
      "  all agents sigma_prop will be: 0.4\n"
     ]
    },
    {
     "data": {
      "application/vnd.jupyter.widget-view+json": {
       "model_id": "7dea8f96f78d483191f315c9f6e604a3",
       "version_major": 2,
       "version_minor": 0
      },
      "text/plain": [
       "  0%|          | 0/150 [00:00<?, ?it/s]"
      ]
     },
     "metadata": {},
     "output_type": "display_data"
    },
    {
     "name": "stdout",
     "output_type": "stream",
     "text": [
      "run 75 of 160 total-------------------------------('sentiment_value', 'initial_sigma_value')=(0.1, 0.4) iteration 5 of 10\n",
      "\n",
      "Building partition fixed_sentiment of 1000 agents\n",
      "\n",
      "  all agents tot_wealth will be: 10000\n",
      "  all agents sigma_prop will be: 0.4\n"
     ]
    },
    {
     "data": {
      "application/vnd.jupyter.widget-view+json": {
       "model_id": "e3de2d6940df4ff6b410e4eeac856c40",
       "version_major": 2,
       "version_minor": 0
      },
      "text/plain": [
       "  0%|          | 0/150 [00:00<?, ?it/s]"
      ]
     },
     "metadata": {},
     "output_type": "display_data"
    },
    {
     "name": "stdout",
     "output_type": "stream",
     "text": [
      "run 76 of 160 total-------------------------------('sentiment_value', 'initial_sigma_value')=(0.1, 0.4) iteration 6 of 10\n",
      "\n",
      "Building partition fixed_sentiment of 1000 agents\n",
      "\n",
      "  all agents tot_wealth will be: 10000\n",
      "  all agents sigma_prop will be: 0.4\n"
     ]
    },
    {
     "data": {
      "application/vnd.jupyter.widget-view+json": {
       "model_id": "639315f153064957b23ab9aa2e09e07a",
       "version_major": 2,
       "version_minor": 0
      },
      "text/plain": [
       "  0%|          | 0/150 [00:00<?, ?it/s]"
      ]
     },
     "metadata": {},
     "output_type": "display_data"
    },
    {
     "name": "stdout",
     "output_type": "stream",
     "text": [
      "run 77 of 160 total-------------------------------('sentiment_value', 'initial_sigma_value')=(0.1, 0.4) iteration 7 of 10\n",
      "\n",
      "Building partition fixed_sentiment of 1000 agents\n",
      "\n",
      "  all agents tot_wealth will be: 10000\n",
      "  all agents sigma_prop will be: 0.4\n"
     ]
    },
    {
     "data": {
      "application/vnd.jupyter.widget-view+json": {
       "model_id": "fabaa4bfd7684d268856647278e57180",
       "version_major": 2,
       "version_minor": 0
      },
      "text/plain": [
       "  0%|          | 0/150 [00:00<?, ?it/s]"
      ]
     },
     "metadata": {},
     "output_type": "display_data"
    },
    {
     "name": "stdout",
     "output_type": "stream",
     "text": [
      "run 78 of 160 total-------------------------------('sentiment_value', 'initial_sigma_value')=(0.1, 0.4) iteration 8 of 10\n",
      "\n",
      "Building partition fixed_sentiment of 1000 agents\n",
      "\n",
      "  all agents tot_wealth will be: 10000\n",
      "  all agents sigma_prop will be: 0.4\n"
     ]
    },
    {
     "data": {
      "application/vnd.jupyter.widget-view+json": {
       "model_id": "ea5001b7de834c5d8d09ebc58008b8cb",
       "version_major": 2,
       "version_minor": 0
      },
      "text/plain": [
       "  0%|          | 0/150 [00:00<?, ?it/s]"
      ]
     },
     "metadata": {},
     "output_type": "display_data"
    },
    {
     "name": "stdout",
     "output_type": "stream",
     "text": [
      "run 79 of 160 total-------------------------------('sentiment_value', 'initial_sigma_value')=(0.1, 0.4) iteration 9 of 10\n",
      "\n",
      "Building partition fixed_sentiment of 1000 agents\n",
      "\n",
      "  all agents tot_wealth will be: 10000\n",
      "  all agents sigma_prop will be: 0.4\n"
     ]
    },
    {
     "data": {
      "application/vnd.jupyter.widget-view+json": {
       "model_id": "a6489fa47757416c981c3b9d80b53cc1",
       "version_major": 2,
       "version_minor": 0
      },
      "text/plain": [
       "  0%|          | 0/150 [00:00<?, ?it/s]"
      ]
     },
     "metadata": {},
     "output_type": "display_data"
    },
    {
     "name": "stdout",
     "output_type": "stream",
     "text": [
      "run 80 of 160 total-------------------------------('sentiment_value', 'initial_sigma_value')=(0.1, 0.4) iteration 10 of 10\n",
      "\n",
      "Building partition fixed_sentiment of 1000 agents\n",
      "\n",
      "  all agents tot_wealth will be: 10000\n",
      "  all agents sigma_prop will be: 0.4\n"
     ]
    },
    {
     "data": {
      "application/vnd.jupyter.widget-view+json": {
       "model_id": "014caa2942304b96a9b6dbefa17b386f",
       "version_major": 2,
       "version_minor": 0
      },
      "text/plain": [
       "  0%|          | 0/150 [00:00<?, ?it/s]"
      ]
     },
     "metadata": {},
     "output_type": "display_data"
    },
    {
     "name": "stdout",
     "output_type": "stream",
     "text": [
      "run 81 of 160 total-------------------------------('sentiment_value', 'initial_sigma_value')=(0.2, 0.45) iteration 1 of 10\n",
      "\n",
      "Building partition fixed_sentiment of 1000 agents\n",
      "\n",
      "  all agents tot_wealth will be: 10000\n",
      "  all agents sigma_prop will be: 0.45\n"
     ]
    },
    {
     "data": {
      "application/vnd.jupyter.widget-view+json": {
       "model_id": "8a751f6bbf05474faefa316ea2d4b3de",
       "version_major": 2,
       "version_minor": 0
      },
      "text/plain": [
       "  0%|          | 0/150 [00:00<?, ?it/s]"
      ]
     },
     "metadata": {},
     "output_type": "display_data"
    },
    {
     "name": "stdout",
     "output_type": "stream",
     "text": [
      "run 82 of 160 total-------------------------------('sentiment_value', 'initial_sigma_value')=(0.2, 0.45) iteration 2 of 10\n",
      "\n",
      "Building partition fixed_sentiment of 1000 agents\n",
      "\n",
      "  all agents tot_wealth will be: 10000\n",
      "  all agents sigma_prop will be: 0.45\n"
     ]
    },
    {
     "data": {
      "application/vnd.jupyter.widget-view+json": {
       "model_id": "82d04ebfa85e4ce5b0ebe577b43b0e8d",
       "version_major": 2,
       "version_minor": 0
      },
      "text/plain": [
       "  0%|          | 0/150 [00:00<?, ?it/s]"
      ]
     },
     "metadata": {},
     "output_type": "display_data"
    },
    {
     "name": "stdout",
     "output_type": "stream",
     "text": [
      "run 83 of 160 total-------------------------------('sentiment_value', 'initial_sigma_value')=(0.2, 0.45) iteration 3 of 10\n",
      "\n",
      "Building partition fixed_sentiment of 1000 agents\n",
      "\n",
      "  all agents tot_wealth will be: 10000\n",
      "  all agents sigma_prop will be: 0.45\n"
     ]
    },
    {
     "data": {
      "application/vnd.jupyter.widget-view+json": {
       "model_id": "56b8e6fe66f2450d9190b6cd64568e34",
       "version_major": 2,
       "version_minor": 0
      },
      "text/plain": [
       "  0%|          | 0/150 [00:00<?, ?it/s]"
      ]
     },
     "metadata": {},
     "output_type": "display_data"
    },
    {
     "name": "stdout",
     "output_type": "stream",
     "text": [
      "run 84 of 160 total-------------------------------('sentiment_value', 'initial_sigma_value')=(0.2, 0.45) iteration 4 of 10\n",
      "\n",
      "Building partition fixed_sentiment of 1000 agents\n",
      "\n",
      "  all agents tot_wealth will be: 10000\n",
      "  all agents sigma_prop will be: 0.45\n"
     ]
    },
    {
     "data": {
      "application/vnd.jupyter.widget-view+json": {
       "model_id": "a64eb33d85a549c79ea82b73f70c1ec7",
       "version_major": 2,
       "version_minor": 0
      },
      "text/plain": [
       "  0%|          | 0/150 [00:00<?, ?it/s]"
      ]
     },
     "metadata": {},
     "output_type": "display_data"
    },
    {
     "name": "stdout",
     "output_type": "stream",
     "text": [
      "run 85 of 160 total-------------------------------('sentiment_value', 'initial_sigma_value')=(0.2, 0.45) iteration 5 of 10\n",
      "\n",
      "Building partition fixed_sentiment of 1000 agents\n",
      "\n",
      "  all agents tot_wealth will be: 10000\n",
      "  all agents sigma_prop will be: 0.45\n"
     ]
    },
    {
     "data": {
      "application/vnd.jupyter.widget-view+json": {
       "model_id": "3acab10bb78740fba94a5a5836467a44",
       "version_major": 2,
       "version_minor": 0
      },
      "text/plain": [
       "  0%|          | 0/150 [00:00<?, ?it/s]"
      ]
     },
     "metadata": {},
     "output_type": "display_data"
    },
    {
     "name": "stdout",
     "output_type": "stream",
     "text": [
      "run 86 of 160 total-------------------------------('sentiment_value', 'initial_sigma_value')=(0.2, 0.45) iteration 6 of 10\n",
      "\n",
      "Building partition fixed_sentiment of 1000 agents\n",
      "\n",
      "  all agents tot_wealth will be: 10000\n",
      "  all agents sigma_prop will be: 0.45\n"
     ]
    },
    {
     "data": {
      "application/vnd.jupyter.widget-view+json": {
       "model_id": "49c9a41f0e9a4908a3c66cf04a248b9c",
       "version_major": 2,
       "version_minor": 0
      },
      "text/plain": [
       "  0%|          | 0/150 [00:00<?, ?it/s]"
      ]
     },
     "metadata": {},
     "output_type": "display_data"
    },
    {
     "name": "stdout",
     "output_type": "stream",
     "text": [
      "run 87 of 160 total-------------------------------('sentiment_value', 'initial_sigma_value')=(0.2, 0.45) iteration 7 of 10\n",
      "\n",
      "Building partition fixed_sentiment of 1000 agents\n",
      "\n",
      "  all agents tot_wealth will be: 10000\n",
      "  all agents sigma_prop will be: 0.45\n"
     ]
    },
    {
     "data": {
      "application/vnd.jupyter.widget-view+json": {
       "model_id": "24da6ba88b154b788585ffd3581629a5",
       "version_major": 2,
       "version_minor": 0
      },
      "text/plain": [
       "  0%|          | 0/150 [00:00<?, ?it/s]"
      ]
     },
     "metadata": {},
     "output_type": "display_data"
    },
    {
     "name": "stdout",
     "output_type": "stream",
     "text": [
      "run 88 of 160 total-------------------------------('sentiment_value', 'initial_sigma_value')=(0.2, 0.45) iteration 8 of 10\n",
      "\n",
      "Building partition fixed_sentiment of 1000 agents\n",
      "\n",
      "  all agents tot_wealth will be: 10000\n",
      "  all agents sigma_prop will be: 0.45\n"
     ]
    },
    {
     "data": {
      "application/vnd.jupyter.widget-view+json": {
       "model_id": "913da842185b44b29515af110fc4ffa6",
       "version_major": 2,
       "version_minor": 0
      },
      "text/plain": [
       "  0%|          | 0/150 [00:00<?, ?it/s]"
      ]
     },
     "metadata": {},
     "output_type": "display_data"
    },
    {
     "name": "stdout",
     "output_type": "stream",
     "text": [
      "run 89 of 160 total-------------------------------('sentiment_value', 'initial_sigma_value')=(0.2, 0.45) iteration 9 of 10\n",
      "\n",
      "Building partition fixed_sentiment of 1000 agents\n",
      "\n",
      "  all agents tot_wealth will be: 10000\n",
      "  all agents sigma_prop will be: 0.45\n"
     ]
    },
    {
     "data": {
      "application/vnd.jupyter.widget-view+json": {
       "model_id": "e15078c3cce4467fb380806d26ab4a89",
       "version_major": 2,
       "version_minor": 0
      },
      "text/plain": [
       "  0%|          | 0/150 [00:00<?, ?it/s]"
      ]
     },
     "metadata": {},
     "output_type": "display_data"
    },
    {
     "name": "stdout",
     "output_type": "stream",
     "text": [
      "run 90 of 160 total-------------------------------('sentiment_value', 'initial_sigma_value')=(0.2, 0.45) iteration 10 of 10\n",
      "\n",
      "Building partition fixed_sentiment of 1000 agents\n",
      "\n",
      "  all agents tot_wealth will be: 10000\n",
      "  all agents sigma_prop will be: 0.45\n"
     ]
    },
    {
     "data": {
      "application/vnd.jupyter.widget-view+json": {
       "model_id": "fb1fa966b89f4cbd8da34b30e1fdc850",
       "version_major": 2,
       "version_minor": 0
      },
      "text/plain": [
       "  0%|          | 0/150 [00:00<?, ?it/s]"
      ]
     },
     "metadata": {},
     "output_type": "display_data"
    },
    {
     "name": "stdout",
     "output_type": "stream",
     "text": [
      "run 91 of 160 total-------------------------------('sentiment_value', 'initial_sigma_value')=(0.3, 0.5) iteration 1 of 10\n",
      "\n",
      "Building partition fixed_sentiment of 1000 agents\n",
      "\n",
      "  all agents tot_wealth will be: 10000\n",
      "  all agents sigma_prop will be: 0.5\n"
     ]
    },
    {
     "data": {
      "application/vnd.jupyter.widget-view+json": {
       "model_id": "ba17bf01a0564a5bb65b77af40b3ef3f",
       "version_major": 2,
       "version_minor": 0
      },
      "text/plain": [
       "  0%|          | 0/150 [00:00<?, ?it/s]"
      ]
     },
     "metadata": {},
     "output_type": "display_data"
    },
    {
     "name": "stdout",
     "output_type": "stream",
     "text": [
      "run 92 of 160 total-------------------------------('sentiment_value', 'initial_sigma_value')=(0.3, 0.5) iteration 2 of 10\n",
      "\n",
      "Building partition fixed_sentiment of 1000 agents\n",
      "\n",
      "  all agents tot_wealth will be: 10000\n",
      "  all agents sigma_prop will be: 0.5\n"
     ]
    },
    {
     "data": {
      "application/vnd.jupyter.widget-view+json": {
       "model_id": "f7ade7bd2cf24109b631a8471ef4fbe4",
       "version_major": 2,
       "version_minor": 0
      },
      "text/plain": [
       "  0%|          | 0/150 [00:00<?, ?it/s]"
      ]
     },
     "metadata": {},
     "output_type": "display_data"
    },
    {
     "name": "stdout",
     "output_type": "stream",
     "text": [
      "run 93 of 160 total-------------------------------('sentiment_value', 'initial_sigma_value')=(0.3, 0.5) iteration 3 of 10\n",
      "\n",
      "Building partition fixed_sentiment of 1000 agents\n",
      "\n",
      "  all agents tot_wealth will be: 10000\n",
      "  all agents sigma_prop will be: 0.5\n"
     ]
    },
    {
     "data": {
      "application/vnd.jupyter.widget-view+json": {
       "model_id": "bb263f8fb82d4e8e9bd17784b9c87381",
       "version_major": 2,
       "version_minor": 0
      },
      "text/plain": [
       "  0%|          | 0/150 [00:00<?, ?it/s]"
      ]
     },
     "metadata": {},
     "output_type": "display_data"
    },
    {
     "name": "stdout",
     "output_type": "stream",
     "text": [
      "run 94 of 160 total-------------------------------('sentiment_value', 'initial_sigma_value')=(0.3, 0.5) iteration 4 of 10\n",
      "\n",
      "Building partition fixed_sentiment of 1000 agents\n",
      "\n",
      "  all agents tot_wealth will be: 10000\n",
      "  all agents sigma_prop will be: 0.5\n"
     ]
    },
    {
     "data": {
      "application/vnd.jupyter.widget-view+json": {
       "model_id": "e18591dac4fe44f8bf616ce43a27eba6",
       "version_major": 2,
       "version_minor": 0
      },
      "text/plain": [
       "  0%|          | 0/150 [00:00<?, ?it/s]"
      ]
     },
     "metadata": {},
     "output_type": "display_data"
    },
    {
     "name": "stdout",
     "output_type": "stream",
     "text": [
      "run 95 of 160 total-------------------------------('sentiment_value', 'initial_sigma_value')=(0.3, 0.5) iteration 5 of 10\n",
      "\n",
      "Building partition fixed_sentiment of 1000 agents\n",
      "\n",
      "  all agents tot_wealth will be: 10000\n",
      "  all agents sigma_prop will be: 0.5\n"
     ]
    },
    {
     "data": {
      "application/vnd.jupyter.widget-view+json": {
       "model_id": "2aaa35c9d5e6470e84ec1b0566b90afb",
       "version_major": 2,
       "version_minor": 0
      },
      "text/plain": [
       "  0%|          | 0/150 [00:00<?, ?it/s]"
      ]
     },
     "metadata": {},
     "output_type": "display_data"
    },
    {
     "name": "stdout",
     "output_type": "stream",
     "text": [
      "run 96 of 160 total-------------------------------('sentiment_value', 'initial_sigma_value')=(0.3, 0.5) iteration 6 of 10\n",
      "\n",
      "Building partition fixed_sentiment of 1000 agents\n",
      "\n",
      "  all agents tot_wealth will be: 10000\n",
      "  all agents sigma_prop will be: 0.5\n"
     ]
    },
    {
     "data": {
      "application/vnd.jupyter.widget-view+json": {
       "model_id": "b67d0d2c34f842829f65539fd527d389",
       "version_major": 2,
       "version_minor": 0
      },
      "text/plain": [
       "  0%|          | 0/150 [00:00<?, ?it/s]"
      ]
     },
     "metadata": {},
     "output_type": "display_data"
    },
    {
     "name": "stdout",
     "output_type": "stream",
     "text": [
      "run 97 of 160 total-------------------------------('sentiment_value', 'initial_sigma_value')=(0.3, 0.5) iteration 7 of 10\n",
      "\n",
      "Building partition fixed_sentiment of 1000 agents\n",
      "\n",
      "  all agents tot_wealth will be: 10000\n",
      "  all agents sigma_prop will be: 0.5\n"
     ]
    },
    {
     "data": {
      "application/vnd.jupyter.widget-view+json": {
       "model_id": "2b910bc4360e4dce8ff02139a4856871",
       "version_major": 2,
       "version_minor": 0
      },
      "text/plain": [
       "  0%|          | 0/150 [00:00<?, ?it/s]"
      ]
     },
     "metadata": {},
     "output_type": "display_data"
    },
    {
     "name": "stdout",
     "output_type": "stream",
     "text": [
      "run 98 of 160 total-------------------------------('sentiment_value', 'initial_sigma_value')=(0.3, 0.5) iteration 8 of 10\n",
      "\n",
      "Building partition fixed_sentiment of 1000 agents\n",
      "\n",
      "  all agents tot_wealth will be: 10000\n",
      "  all agents sigma_prop will be: 0.5\n"
     ]
    },
    {
     "data": {
      "application/vnd.jupyter.widget-view+json": {
       "model_id": "5f0f9e957778498ba6b892034d8b9b71",
       "version_major": 2,
       "version_minor": 0
      },
      "text/plain": [
       "  0%|          | 0/150 [00:00<?, ?it/s]"
      ]
     },
     "metadata": {},
     "output_type": "display_data"
    },
    {
     "name": "stdout",
     "output_type": "stream",
     "text": [
      "run 99 of 160 total-------------------------------('sentiment_value', 'initial_sigma_value')=(0.3, 0.5) iteration 9 of 10\n",
      "\n",
      "Building partition fixed_sentiment of 1000 agents\n",
      "\n",
      "  all agents tot_wealth will be: 10000\n",
      "  all agents sigma_prop will be: 0.5\n"
     ]
    },
    {
     "data": {
      "application/vnd.jupyter.widget-view+json": {
       "model_id": "ae75aeeda9f047aaabd66d19b3c1763b",
       "version_major": 2,
       "version_minor": 0
      },
      "text/plain": [
       "  0%|          | 0/150 [00:00<?, ?it/s]"
      ]
     },
     "metadata": {},
     "output_type": "display_data"
    },
    {
     "name": "stdout",
     "output_type": "stream",
     "text": [
      "run 100 of 160 total------------------------------('sentiment_value', 'initial_sigma_value')=(0.3, 0.5) iteration 10 of 10\n",
      "\n",
      "Building partition fixed_sentiment of 1000 agents\n",
      "\n",
      "  all agents tot_wealth will be: 10000\n",
      "  all agents sigma_prop will be: 0.5\n"
     ]
    },
    {
     "data": {
      "application/vnd.jupyter.widget-view+json": {
       "model_id": "6c31599733c945e389f7c995e1612585",
       "version_major": 2,
       "version_minor": 0
      },
      "text/plain": [
       "  0%|          | 0/150 [00:00<?, ?it/s]"
      ]
     },
     "metadata": {},
     "output_type": "display_data"
    },
    {
     "name": "stdout",
     "output_type": "stream",
     "text": [
      "run 101 of 160 total------------------------------('sentiment_value', 'initial_sigma_value')=(0.4, 0.55) iteration 1 of 10\n",
      "\n",
      "Building partition fixed_sentiment of 1000 agents\n",
      "\n",
      "  all agents tot_wealth will be: 10000\n",
      "  all agents sigma_prop will be: 0.55\n"
     ]
    },
    {
     "data": {
      "application/vnd.jupyter.widget-view+json": {
       "model_id": "393287c5e5ea4f40932df50595695f9a",
       "version_major": 2,
       "version_minor": 0
      },
      "text/plain": [
       "  0%|          | 0/150 [00:00<?, ?it/s]"
      ]
     },
     "metadata": {},
     "output_type": "display_data"
    },
    {
     "name": "stdout",
     "output_type": "stream",
     "text": [
      "run 102 of 160 total------------------------------('sentiment_value', 'initial_sigma_value')=(0.4, 0.55) iteration 2 of 10\n",
      "\n",
      "Building partition fixed_sentiment of 1000 agents\n",
      "\n",
      "  all agents tot_wealth will be: 10000\n",
      "  all agents sigma_prop will be: 0.55\n"
     ]
    },
    {
     "data": {
      "application/vnd.jupyter.widget-view+json": {
       "model_id": "a9d41db5f45d47159149be9742694f19",
       "version_major": 2,
       "version_minor": 0
      },
      "text/plain": [
       "  0%|          | 0/150 [00:00<?, ?it/s]"
      ]
     },
     "metadata": {},
     "output_type": "display_data"
    },
    {
     "name": "stdout",
     "output_type": "stream",
     "text": [
      "run 103 of 160 total------------------------------('sentiment_value', 'initial_sigma_value')=(0.4, 0.55) iteration 3 of 10\n",
      "\n",
      "Building partition fixed_sentiment of 1000 agents\n",
      "\n",
      "  all agents tot_wealth will be: 10000\n",
      "  all agents sigma_prop will be: 0.55\n"
     ]
    },
    {
     "data": {
      "application/vnd.jupyter.widget-view+json": {
       "model_id": "1c366e5e4dad476da96e212a7d4759cf",
       "version_major": 2,
       "version_minor": 0
      },
      "text/plain": [
       "  0%|          | 0/150 [00:00<?, ?it/s]"
      ]
     },
     "metadata": {},
     "output_type": "display_data"
    },
    {
     "name": "stdout",
     "output_type": "stream",
     "text": [
      "run 104 of 160 total------------------------------('sentiment_value', 'initial_sigma_value')=(0.4, 0.55) iteration 4 of 10\n",
      "\n",
      "Building partition fixed_sentiment of 1000 agents\n",
      "\n",
      "  all agents tot_wealth will be: 10000\n",
      "  all agents sigma_prop will be: 0.55\n"
     ]
    },
    {
     "data": {
      "application/vnd.jupyter.widget-view+json": {
       "model_id": "56d5bf03449f4f9aabb1be9dcd148cf1",
       "version_major": 2,
       "version_minor": 0
      },
      "text/plain": [
       "  0%|          | 0/150 [00:00<?, ?it/s]"
      ]
     },
     "metadata": {},
     "output_type": "display_data"
    },
    {
     "name": "stdout",
     "output_type": "stream",
     "text": [
      "run 105 of 160 total------------------------------('sentiment_value', 'initial_sigma_value')=(0.4, 0.55) iteration 5 of 10\n",
      "\n",
      "Building partition fixed_sentiment of 1000 agents\n",
      "\n",
      "  all agents tot_wealth will be: 10000\n",
      "  all agents sigma_prop will be: 0.55\n"
     ]
    },
    {
     "data": {
      "application/vnd.jupyter.widget-view+json": {
       "model_id": "9c02ea0d79c141eb8a953c3818abb395",
       "version_major": 2,
       "version_minor": 0
      },
      "text/plain": [
       "  0%|          | 0/150 [00:00<?, ?it/s]"
      ]
     },
     "metadata": {},
     "output_type": "display_data"
    },
    {
     "name": "stdout",
     "output_type": "stream",
     "text": [
      "run 106 of 160 total------------------------------('sentiment_value', 'initial_sigma_value')=(0.4, 0.55) iteration 6 of 10\n",
      "\n",
      "Building partition fixed_sentiment of 1000 agents\n",
      "\n",
      "  all agents tot_wealth will be: 10000\n",
      "  all agents sigma_prop will be: 0.55\n"
     ]
    },
    {
     "data": {
      "application/vnd.jupyter.widget-view+json": {
       "model_id": "62af85fbe9394a1b916b2b1df6912abf",
       "version_major": 2,
       "version_minor": 0
      },
      "text/plain": [
       "  0%|          | 0/150 [00:00<?, ?it/s]"
      ]
     },
     "metadata": {},
     "output_type": "display_data"
    },
    {
     "name": "stdout",
     "output_type": "stream",
     "text": [
      "run 107 of 160 total------------------------------('sentiment_value', 'initial_sigma_value')=(0.4, 0.55) iteration 7 of 10\n",
      "\n",
      "Building partition fixed_sentiment of 1000 agents\n",
      "\n",
      "  all agents tot_wealth will be: 10000\n",
      "  all agents sigma_prop will be: 0.55\n"
     ]
    },
    {
     "data": {
      "application/vnd.jupyter.widget-view+json": {
       "model_id": "6ca17e7dadd149d18282358e38636a52",
       "version_major": 2,
       "version_minor": 0
      },
      "text/plain": [
       "  0%|          | 0/150 [00:00<?, ?it/s]"
      ]
     },
     "metadata": {},
     "output_type": "display_data"
    },
    {
     "name": "stdout",
     "output_type": "stream",
     "text": [
      "run 108 of 160 total------------------------------('sentiment_value', 'initial_sigma_value')=(0.4, 0.55) iteration 8 of 10\n",
      "\n",
      "Building partition fixed_sentiment of 1000 agents\n",
      "\n",
      "  all agents tot_wealth will be: 10000\n",
      "  all agents sigma_prop will be: 0.55\n"
     ]
    },
    {
     "data": {
      "application/vnd.jupyter.widget-view+json": {
       "model_id": "e1e429ce75f54e398b36f46e7ab9c805",
       "version_major": 2,
       "version_minor": 0
      },
      "text/plain": [
       "  0%|          | 0/150 [00:00<?, ?it/s]"
      ]
     },
     "metadata": {},
     "output_type": "display_data"
    },
    {
     "name": "stdout",
     "output_type": "stream",
     "text": [
      "run 109 of 160 total------------------------------('sentiment_value', 'initial_sigma_value')=(0.4, 0.55) iteration 9 of 10\n",
      "\n",
      "Building partition fixed_sentiment of 1000 agents\n",
      "\n",
      "  all agents tot_wealth will be: 10000\n",
      "  all agents sigma_prop will be: 0.55\n"
     ]
    },
    {
     "data": {
      "application/vnd.jupyter.widget-view+json": {
       "model_id": "d81cff4ede4f45d6b3f63cfd37938e83",
       "version_major": 2,
       "version_minor": 0
      },
      "text/plain": [
       "  0%|          | 0/150 [00:00<?, ?it/s]"
      ]
     },
     "metadata": {},
     "output_type": "display_data"
    },
    {
     "name": "stdout",
     "output_type": "stream",
     "text": [
      "run 110 of 160 total------------------------------('sentiment_value', 'initial_sigma_value')=(0.4, 0.55) iteration 10 of 10\n",
      "\n",
      "Building partition fixed_sentiment of 1000 agents\n",
      "\n",
      "  all agents tot_wealth will be: 10000\n",
      "  all agents sigma_prop will be: 0.55\n"
     ]
    },
    {
     "data": {
      "application/vnd.jupyter.widget-view+json": {
       "model_id": "fb8b14d8f60a4aff94d8f86027028016",
       "version_major": 2,
       "version_minor": 0
      },
      "text/plain": [
       "  0%|          | 0/150 [00:00<?, ?it/s]"
      ]
     },
     "metadata": {},
     "output_type": "display_data"
    },
    {
     "name": "stdout",
     "output_type": "stream",
     "text": [
      "run 111 of 160 total------------------------------('sentiment_value', 'initial_sigma_value')=(0.5, 0.6) iteration 1 of 10\n",
      "\n",
      "Building partition fixed_sentiment of 1000 agents\n",
      "\n",
      "  all agents tot_wealth will be: 10000\n",
      "  all agents sigma_prop will be: 0.6\n"
     ]
    },
    {
     "data": {
      "application/vnd.jupyter.widget-view+json": {
       "model_id": "c058f03027b945faabced5db2ed06066",
       "version_major": 2,
       "version_minor": 0
      },
      "text/plain": [
       "  0%|          | 0/150 [00:00<?, ?it/s]"
      ]
     },
     "metadata": {},
     "output_type": "display_data"
    },
    {
     "name": "stdout",
     "output_type": "stream",
     "text": [
      "run 112 of 160 total------------------------------('sentiment_value', 'initial_sigma_value')=(0.5, 0.6) iteration 2 of 10\n",
      "\n",
      "Building partition fixed_sentiment of 1000 agents\n",
      "\n",
      "  all agents tot_wealth will be: 10000\n",
      "  all agents sigma_prop will be: 0.6\n"
     ]
    },
    {
     "data": {
      "application/vnd.jupyter.widget-view+json": {
       "model_id": "a48b3ab44cd74fedb9a9e3558199e270",
       "version_major": 2,
       "version_minor": 0
      },
      "text/plain": [
       "  0%|          | 0/150 [00:00<?, ?it/s]"
      ]
     },
     "metadata": {},
     "output_type": "display_data"
    },
    {
     "name": "stdout",
     "output_type": "stream",
     "text": [
      "run 113 of 160 total------------------------------('sentiment_value', 'initial_sigma_value')=(0.5, 0.6) iteration 3 of 10\n",
      "\n",
      "Building partition fixed_sentiment of 1000 agents\n",
      "\n",
      "  all agents tot_wealth will be: 10000\n",
      "  all agents sigma_prop will be: 0.6\n"
     ]
    },
    {
     "data": {
      "application/vnd.jupyter.widget-view+json": {
       "model_id": "cfdc7b82a911401cbc84fb5352928884",
       "version_major": 2,
       "version_minor": 0
      },
      "text/plain": [
       "  0%|          | 0/150 [00:00<?, ?it/s]"
      ]
     },
     "metadata": {},
     "output_type": "display_data"
    },
    {
     "name": "stdout",
     "output_type": "stream",
     "text": [
      "run 114 of 160 total------------------------------('sentiment_value', 'initial_sigma_value')=(0.5, 0.6) iteration 4 of 10\n",
      "\n",
      "Building partition fixed_sentiment of 1000 agents\n",
      "\n",
      "  all agents tot_wealth will be: 10000\n",
      "  all agents sigma_prop will be: 0.6\n"
     ]
    },
    {
     "data": {
      "application/vnd.jupyter.widget-view+json": {
       "model_id": "1148685462a54ce4814414f6eea9f29b",
       "version_major": 2,
       "version_minor": 0
      },
      "text/plain": [
       "  0%|          | 0/150 [00:00<?, ?it/s]"
      ]
     },
     "metadata": {},
     "output_type": "display_data"
    },
    {
     "name": "stdout",
     "output_type": "stream",
     "text": [
      "run 115 of 160 total------------------------------('sentiment_value', 'initial_sigma_value')=(0.5, 0.6) iteration 5 of 10\n",
      "\n",
      "Building partition fixed_sentiment of 1000 agents\n",
      "\n",
      "  all agents tot_wealth will be: 10000\n",
      "  all agents sigma_prop will be: 0.6\n"
     ]
    },
    {
     "data": {
      "application/vnd.jupyter.widget-view+json": {
       "model_id": "8b93030c953f4274a6950ca129dd14fe",
       "version_major": 2,
       "version_minor": 0
      },
      "text/plain": [
       "  0%|          | 0/150 [00:00<?, ?it/s]"
      ]
     },
     "metadata": {},
     "output_type": "display_data"
    },
    {
     "name": "stdout",
     "output_type": "stream",
     "text": [
      "run 116 of 160 total------------------------------('sentiment_value', 'initial_sigma_value')=(0.5, 0.6) iteration 6 of 10\n",
      "\n",
      "Building partition fixed_sentiment of 1000 agents\n",
      "\n",
      "  all agents tot_wealth will be: 10000\n",
      "  all agents sigma_prop will be: 0.6\n"
     ]
    },
    {
     "data": {
      "application/vnd.jupyter.widget-view+json": {
       "model_id": "a36a2e7ce03b4fa6b340e0057ef901da",
       "version_major": 2,
       "version_minor": 0
      },
      "text/plain": [
       "  0%|          | 0/150 [00:00<?, ?it/s]"
      ]
     },
     "metadata": {},
     "output_type": "display_data"
    },
    {
     "name": "stdout",
     "output_type": "stream",
     "text": [
      "run 117 of 160 total------------------------------('sentiment_value', 'initial_sigma_value')=(0.5, 0.6) iteration 7 of 10\n",
      "\n",
      "Building partition fixed_sentiment of 1000 agents\n",
      "\n",
      "  all agents tot_wealth will be: 10000\n",
      "  all agents sigma_prop will be: 0.6\n"
     ]
    },
    {
     "data": {
      "application/vnd.jupyter.widget-view+json": {
       "model_id": "cc89e90fa74c4dc6b4c3fec95f571067",
       "version_major": 2,
       "version_minor": 0
      },
      "text/plain": [
       "  0%|          | 0/150 [00:00<?, ?it/s]"
      ]
     },
     "metadata": {},
     "output_type": "display_data"
    },
    {
     "name": "stdout",
     "output_type": "stream",
     "text": [
      "run 118 of 160 total------------------------------('sentiment_value', 'initial_sigma_value')=(0.5, 0.6) iteration 8 of 10\n",
      "\n",
      "Building partition fixed_sentiment of 1000 agents\n",
      "\n",
      "  all agents tot_wealth will be: 10000\n",
      "  all agents sigma_prop will be: 0.6\n"
     ]
    },
    {
     "data": {
      "application/vnd.jupyter.widget-view+json": {
       "model_id": "6e1646c0a682453e8581afb583763beb",
       "version_major": 2,
       "version_minor": 0
      },
      "text/plain": [
       "  0%|          | 0/150 [00:00<?, ?it/s]"
      ]
     },
     "metadata": {},
     "output_type": "display_data"
    },
    {
     "name": "stdout",
     "output_type": "stream",
     "text": [
      "run 119 of 160 total------------------------------('sentiment_value', 'initial_sigma_value')=(0.5, 0.6) iteration 9 of 10\n",
      "\n",
      "Building partition fixed_sentiment of 1000 agents\n",
      "\n",
      "  all agents tot_wealth will be: 10000\n",
      "  all agents sigma_prop will be: 0.6\n"
     ]
    },
    {
     "data": {
      "application/vnd.jupyter.widget-view+json": {
       "model_id": "2fca6b8e21934b3093af4c7bb2367b5f",
       "version_major": 2,
       "version_minor": 0
      },
      "text/plain": [
       "  0%|          | 0/150 [00:00<?, ?it/s]"
      ]
     },
     "metadata": {},
     "output_type": "display_data"
    },
    {
     "name": "stdout",
     "output_type": "stream",
     "text": [
      "run 120 of 160 total------------------------------('sentiment_value', 'initial_sigma_value')=(0.5, 0.6) iteration 10 of 10\n",
      "\n",
      "Building partition fixed_sentiment of 1000 agents\n",
      "\n",
      "  all agents tot_wealth will be: 10000\n",
      "  all agents sigma_prop will be: 0.6\n"
     ]
    },
    {
     "data": {
      "application/vnd.jupyter.widget-view+json": {
       "model_id": "8e48b243f7c7410381430dc9c353db1d",
       "version_major": 2,
       "version_minor": 0
      },
      "text/plain": [
       "  0%|          | 0/150 [00:00<?, ?it/s]"
      ]
     },
     "metadata": {},
     "output_type": "display_data"
    },
    {
     "name": "stdout",
     "output_type": "stream",
     "text": [
      "run 121 of 160 total------------------------------('sentiment_value', 'initial_sigma_value')=(0.6, 0.65) iteration 1 of 10\n",
      "\n",
      "Building partition fixed_sentiment of 1000 agents\n",
      "\n",
      "  all agents tot_wealth will be: 10000\n",
      "  all agents sigma_prop will be: 0.65\n"
     ]
    },
    {
     "data": {
      "application/vnd.jupyter.widget-view+json": {
       "model_id": "93a84a211ba64dd89ca938ff1ba8c98f",
       "version_major": 2,
       "version_minor": 0
      },
      "text/plain": [
       "  0%|          | 0/150 [00:00<?, ?it/s]"
      ]
     },
     "metadata": {},
     "output_type": "display_data"
    },
    {
     "name": "stdout",
     "output_type": "stream",
     "text": [
      "run 122 of 160 total------------------------------('sentiment_value', 'initial_sigma_value')=(0.6, 0.65) iteration 2 of 10\n",
      "\n",
      "Building partition fixed_sentiment of 1000 agents\n",
      "\n",
      "  all agents tot_wealth will be: 10000\n",
      "  all agents sigma_prop will be: 0.65\n"
     ]
    },
    {
     "data": {
      "application/vnd.jupyter.widget-view+json": {
       "model_id": "a8a38853f3ed4c7a99638ab7b0ab2a01",
       "version_major": 2,
       "version_minor": 0
      },
      "text/plain": [
       "  0%|          | 0/150 [00:00<?, ?it/s]"
      ]
     },
     "metadata": {},
     "output_type": "display_data"
    },
    {
     "name": "stdout",
     "output_type": "stream",
     "text": [
      "run 123 of 160 total------------------------------('sentiment_value', 'initial_sigma_value')=(0.6, 0.65) iteration 3 of 10\n",
      "\n",
      "Building partition fixed_sentiment of 1000 agents\n",
      "\n",
      "  all agents tot_wealth will be: 10000\n",
      "  all agents sigma_prop will be: 0.65\n"
     ]
    },
    {
     "data": {
      "application/vnd.jupyter.widget-view+json": {
       "model_id": "d846014745be434d95b068fbf36704b0",
       "version_major": 2,
       "version_minor": 0
      },
      "text/plain": [
       "  0%|          | 0/150 [00:00<?, ?it/s]"
      ]
     },
     "metadata": {},
     "output_type": "display_data"
    },
    {
     "name": "stdout",
     "output_type": "stream",
     "text": [
      "run 124 of 160 total------------------------------('sentiment_value', 'initial_sigma_value')=(0.6, 0.65) iteration 4 of 10\n",
      "\n",
      "Building partition fixed_sentiment of 1000 agents\n",
      "\n",
      "  all agents tot_wealth will be: 10000\n",
      "  all agents sigma_prop will be: 0.65\n"
     ]
    },
    {
     "data": {
      "application/vnd.jupyter.widget-view+json": {
       "model_id": "7e0d33a51bd944fca73fa5b3c4ec5484",
       "version_major": 2,
       "version_minor": 0
      },
      "text/plain": [
       "  0%|          | 0/150 [00:00<?, ?it/s]"
      ]
     },
     "metadata": {},
     "output_type": "display_data"
    },
    {
     "name": "stdout",
     "output_type": "stream",
     "text": [
      "run 125 of 160 total------------------------------('sentiment_value', 'initial_sigma_value')=(0.6, 0.65) iteration 5 of 10\n",
      "\n",
      "Building partition fixed_sentiment of 1000 agents\n",
      "\n",
      "  all agents tot_wealth will be: 10000\n",
      "  all agents sigma_prop will be: 0.65\n"
     ]
    },
    {
     "data": {
      "application/vnd.jupyter.widget-view+json": {
       "model_id": "5a1a40fd7b16415589dadfa941501e36",
       "version_major": 2,
       "version_minor": 0
      },
      "text/plain": [
       "  0%|          | 0/150 [00:00<?, ?it/s]"
      ]
     },
     "metadata": {},
     "output_type": "display_data"
    },
    {
     "name": "stdout",
     "output_type": "stream",
     "text": [
      "run 126 of 160 total------------------------------('sentiment_value', 'initial_sigma_value')=(0.6, 0.65) iteration 6 of 10\n",
      "\n",
      "Building partition fixed_sentiment of 1000 agents\n",
      "\n",
      "  all agents tot_wealth will be: 10000\n",
      "  all agents sigma_prop will be: 0.65\n"
     ]
    },
    {
     "data": {
      "application/vnd.jupyter.widget-view+json": {
       "model_id": "1b6ce4bb3c354699b9abd96807fe9bf4",
       "version_major": 2,
       "version_minor": 0
      },
      "text/plain": [
       "  0%|          | 0/150 [00:00<?, ?it/s]"
      ]
     },
     "metadata": {},
     "output_type": "display_data"
    },
    {
     "name": "stdout",
     "output_type": "stream",
     "text": [
      "run 127 of 160 total------------------------------('sentiment_value', 'initial_sigma_value')=(0.6, 0.65) iteration 7 of 10\n",
      "\n",
      "Building partition fixed_sentiment of 1000 agents\n",
      "\n",
      "  all agents tot_wealth will be: 10000\n",
      "  all agents sigma_prop will be: 0.65\n"
     ]
    },
    {
     "data": {
      "application/vnd.jupyter.widget-view+json": {
       "model_id": "701a0209c56d449898bab72d8aa1fb37",
       "version_major": 2,
       "version_minor": 0
      },
      "text/plain": [
       "  0%|          | 0/150 [00:00<?, ?it/s]"
      ]
     },
     "metadata": {},
     "output_type": "display_data"
    },
    {
     "name": "stdout",
     "output_type": "stream",
     "text": [
      "run 128 of 160 total------------------------------('sentiment_value', 'initial_sigma_value')=(0.6, 0.65) iteration 8 of 10\n",
      "\n",
      "Building partition fixed_sentiment of 1000 agents\n",
      "\n",
      "  all agents tot_wealth will be: 10000\n",
      "  all agents sigma_prop will be: 0.65\n"
     ]
    },
    {
     "data": {
      "application/vnd.jupyter.widget-view+json": {
       "model_id": "84e3c9aa47824c0f8aa8c92423d45654",
       "version_major": 2,
       "version_minor": 0
      },
      "text/plain": [
       "  0%|          | 0/150 [00:00<?, ?it/s]"
      ]
     },
     "metadata": {},
     "output_type": "display_data"
    },
    {
     "name": "stdout",
     "output_type": "stream",
     "text": [
      "run 129 of 160 total------------------------------('sentiment_value', 'initial_sigma_value')=(0.6, 0.65) iteration 9 of 10\n",
      "\n",
      "Building partition fixed_sentiment of 1000 agents\n",
      "\n",
      "  all agents tot_wealth will be: 10000\n",
      "  all agents sigma_prop will be: 0.65\n"
     ]
    },
    {
     "data": {
      "application/vnd.jupyter.widget-view+json": {
       "model_id": "b1cc25fbc65c49d9ae895de36bc8a483",
       "version_major": 2,
       "version_minor": 0
      },
      "text/plain": [
       "  0%|          | 0/150 [00:00<?, ?it/s]"
      ]
     },
     "metadata": {},
     "output_type": "display_data"
    },
    {
     "name": "stdout",
     "output_type": "stream",
     "text": [
      "run 130 of 160 total------------------------------('sentiment_value', 'initial_sigma_value')=(0.6, 0.65) iteration 10 of 10\n",
      "\n",
      "Building partition fixed_sentiment of 1000 agents\n",
      "\n",
      "  all agents tot_wealth will be: 10000\n",
      "  all agents sigma_prop will be: 0.65\n"
     ]
    },
    {
     "data": {
      "application/vnd.jupyter.widget-view+json": {
       "model_id": "f7a2f9945b23425897aa2815592e47ca",
       "version_major": 2,
       "version_minor": 0
      },
      "text/plain": [
       "  0%|          | 0/150 [00:00<?, ?it/s]"
      ]
     },
     "metadata": {},
     "output_type": "display_data"
    },
    {
     "name": "stdout",
     "output_type": "stream",
     "text": [
      "run 131 of 160 total------------------------------('sentiment_value', 'initial_sigma_value')=(0.7, 0.7) iteration 1 of 10\n",
      "\n",
      "Building partition fixed_sentiment of 1000 agents\n",
      "\n",
      "  all agents tot_wealth will be: 10000\n",
      "  all agents sigma_prop will be: 0.7\n"
     ]
    },
    {
     "data": {
      "application/vnd.jupyter.widget-view+json": {
       "model_id": "7938f22c094448fbbe6d7412215626a3",
       "version_major": 2,
       "version_minor": 0
      },
      "text/plain": [
       "  0%|          | 0/150 [00:00<?, ?it/s]"
      ]
     },
     "metadata": {},
     "output_type": "display_data"
    },
    {
     "name": "stdout",
     "output_type": "stream",
     "text": [
      "run 132 of 160 total------------------------------('sentiment_value', 'initial_sigma_value')=(0.7, 0.7) iteration 2 of 10\n",
      "\n",
      "Building partition fixed_sentiment of 1000 agents\n",
      "\n",
      "  all agents tot_wealth will be: 10000\n",
      "  all agents sigma_prop will be: 0.7\n"
     ]
    },
    {
     "data": {
      "application/vnd.jupyter.widget-view+json": {
       "model_id": "d6da0033451047d1901fd85522339ac6",
       "version_major": 2,
       "version_minor": 0
      },
      "text/plain": [
       "  0%|          | 0/150 [00:00<?, ?it/s]"
      ]
     },
     "metadata": {},
     "output_type": "display_data"
    },
    {
     "name": "stdout",
     "output_type": "stream",
     "text": [
      "run 133 of 160 total------------------------------('sentiment_value', 'initial_sigma_value')=(0.7, 0.7) iteration 3 of 10\n",
      "\n",
      "Building partition fixed_sentiment of 1000 agents\n",
      "\n",
      "  all agents tot_wealth will be: 10000\n",
      "  all agents sigma_prop will be: 0.7\n"
     ]
    },
    {
     "data": {
      "application/vnd.jupyter.widget-view+json": {
       "model_id": "7e69cd21c8244509a5c4110195e12edb",
       "version_major": 2,
       "version_minor": 0
      },
      "text/plain": [
       "  0%|          | 0/150 [00:00<?, ?it/s]"
      ]
     },
     "metadata": {},
     "output_type": "display_data"
    },
    {
     "name": "stdout",
     "output_type": "stream",
     "text": [
      "run 134 of 160 total------------------------------('sentiment_value', 'initial_sigma_value')=(0.7, 0.7) iteration 4 of 10\n",
      "\n",
      "Building partition fixed_sentiment of 1000 agents\n",
      "\n",
      "  all agents tot_wealth will be: 10000\n",
      "  all agents sigma_prop will be: 0.7\n"
     ]
    },
    {
     "data": {
      "application/vnd.jupyter.widget-view+json": {
       "model_id": "d4ff121879774af4bbc8861e4abe4871",
       "version_major": 2,
       "version_minor": 0
      },
      "text/plain": [
       "  0%|          | 0/150 [00:00<?, ?it/s]"
      ]
     },
     "metadata": {},
     "output_type": "display_data"
    },
    {
     "name": "stdout",
     "output_type": "stream",
     "text": [
      "run 135 of 160 total------------------------------('sentiment_value', 'initial_sigma_value')=(0.7, 0.7) iteration 5 of 10\n",
      "\n",
      "Building partition fixed_sentiment of 1000 agents\n",
      "\n",
      "  all agents tot_wealth will be: 10000\n",
      "  all agents sigma_prop will be: 0.7\n"
     ]
    },
    {
     "data": {
      "application/vnd.jupyter.widget-view+json": {
       "model_id": "e43e82f8d22643208950d3f3b7ac7049",
       "version_major": 2,
       "version_minor": 0
      },
      "text/plain": [
       "  0%|          | 0/150 [00:00<?, ?it/s]"
      ]
     },
     "metadata": {},
     "output_type": "display_data"
    },
    {
     "name": "stdout",
     "output_type": "stream",
     "text": [
      "run 136 of 160 total------------------------------('sentiment_value', 'initial_sigma_value')=(0.7, 0.7) iteration 6 of 10\n",
      "\n",
      "Building partition fixed_sentiment of 1000 agents\n",
      "\n",
      "  all agents tot_wealth will be: 10000\n",
      "  all agents sigma_prop will be: 0.7\n"
     ]
    },
    {
     "data": {
      "application/vnd.jupyter.widget-view+json": {
       "model_id": "1f160e42ccfa4ac2b4d528024dc84926",
       "version_major": 2,
       "version_minor": 0
      },
      "text/plain": [
       "  0%|          | 0/150 [00:00<?, ?it/s]"
      ]
     },
     "metadata": {},
     "output_type": "display_data"
    },
    {
     "name": "stdout",
     "output_type": "stream",
     "text": [
      "run 137 of 160 total------------------------------('sentiment_value', 'initial_sigma_value')=(0.7, 0.7) iteration 7 of 10\n",
      "\n",
      "Building partition fixed_sentiment of 1000 agents\n",
      "\n",
      "  all agents tot_wealth will be: 10000\n",
      "  all agents sigma_prop will be: 0.7\n"
     ]
    },
    {
     "data": {
      "application/vnd.jupyter.widget-view+json": {
       "model_id": "2011e3cabe0d4041ba5f36256118e046",
       "version_major": 2,
       "version_minor": 0
      },
      "text/plain": [
       "  0%|          | 0/150 [00:00<?, ?it/s]"
      ]
     },
     "metadata": {},
     "output_type": "display_data"
    },
    {
     "name": "stdout",
     "output_type": "stream",
     "text": [
      "run 138 of 160 total------------------------------('sentiment_value', 'initial_sigma_value')=(0.7, 0.7) iteration 8 of 10\n",
      "\n",
      "Building partition fixed_sentiment of 1000 agents\n",
      "\n",
      "  all agents tot_wealth will be: 10000\n",
      "  all agents sigma_prop will be: 0.7\n"
     ]
    },
    {
     "data": {
      "application/vnd.jupyter.widget-view+json": {
       "model_id": "441afc7ee8dc49a2b878cff582816822",
       "version_major": 2,
       "version_minor": 0
      },
      "text/plain": [
       "  0%|          | 0/150 [00:00<?, ?it/s]"
      ]
     },
     "metadata": {},
     "output_type": "display_data"
    },
    {
     "name": "stdout",
     "output_type": "stream",
     "text": [
      "run 139 of 160 total------------------------------('sentiment_value', 'initial_sigma_value')=(0.7, 0.7) iteration 9 of 10\n",
      "\n",
      "Building partition fixed_sentiment of 1000 agents\n",
      "\n",
      "  all agents tot_wealth will be: 10000\n",
      "  all agents sigma_prop will be: 0.7\n"
     ]
    },
    {
     "data": {
      "application/vnd.jupyter.widget-view+json": {
       "model_id": "00e059359ede4b27890f86b38af88b28",
       "version_major": 2,
       "version_minor": 0
      },
      "text/plain": [
       "  0%|          | 0/150 [00:00<?, ?it/s]"
      ]
     },
     "metadata": {},
     "output_type": "display_data"
    },
    {
     "name": "stdout",
     "output_type": "stream",
     "text": [
      "run 140 of 160 total------------------------------('sentiment_value', 'initial_sigma_value')=(0.7, 0.7) iteration 10 of 10\n",
      "\n",
      "Building partition fixed_sentiment of 1000 agents\n",
      "\n",
      "  all agents tot_wealth will be: 10000\n",
      "  all agents sigma_prop will be: 0.7\n"
     ]
    },
    {
     "data": {
      "application/vnd.jupyter.widget-view+json": {
       "model_id": "c16bf0f836184b60a37b195604bb41fb",
       "version_major": 2,
       "version_minor": 0
      },
      "text/plain": [
       "  0%|          | 0/150 [00:00<?, ?it/s]"
      ]
     },
     "metadata": {},
     "output_type": "display_data"
    },
    {
     "name": "stdout",
     "output_type": "stream",
     "text": [
      "run 141 of 160 total------------------------------('sentiment_value', 'initial_sigma_value')=(0.8, 0.75) iteration 1 of 10\n",
      "\n",
      "Building partition fixed_sentiment of 1000 agents\n",
      "\n",
      "  all agents tot_wealth will be: 10000\n",
      "  all agents sigma_prop will be: 0.75\n"
     ]
    },
    {
     "data": {
      "application/vnd.jupyter.widget-view+json": {
       "model_id": "fb9fc5a09b014e60b84459667b0b95d4",
       "version_major": 2,
       "version_minor": 0
      },
      "text/plain": [
       "  0%|          | 0/150 [00:00<?, ?it/s]"
      ]
     },
     "metadata": {},
     "output_type": "display_data"
    },
    {
     "name": "stdout",
     "output_type": "stream",
     "text": [
      "run 142 of 160 total------------------------------('sentiment_value', 'initial_sigma_value')=(0.8, 0.75) iteration 2 of 10\n",
      "\n",
      "Building partition fixed_sentiment of 1000 agents\n",
      "\n",
      "  all agents tot_wealth will be: 10000\n",
      "  all agents sigma_prop will be: 0.75\n"
     ]
    },
    {
     "data": {
      "application/vnd.jupyter.widget-view+json": {
       "model_id": "a99f3ef4b6334bdc89ce978f03d21114",
       "version_major": 2,
       "version_minor": 0
      },
      "text/plain": [
       "  0%|          | 0/150 [00:00<?, ?it/s]"
      ]
     },
     "metadata": {},
     "output_type": "display_data"
    },
    {
     "name": "stdout",
     "output_type": "stream",
     "text": [
      "run 143 of 160 total------------------------------('sentiment_value', 'initial_sigma_value')=(0.8, 0.75) iteration 3 of 10\n",
      "\n",
      "Building partition fixed_sentiment of 1000 agents\n",
      "\n",
      "  all agents tot_wealth will be: 10000\n",
      "  all agents sigma_prop will be: 0.75\n"
     ]
    },
    {
     "data": {
      "application/vnd.jupyter.widget-view+json": {
       "model_id": "3877f7893fb24647beae803906d68d79",
       "version_major": 2,
       "version_minor": 0
      },
      "text/plain": [
       "  0%|          | 0/150 [00:00<?, ?it/s]"
      ]
     },
     "metadata": {},
     "output_type": "display_data"
    },
    {
     "name": "stdout",
     "output_type": "stream",
     "text": [
      "run 144 of 160 total------------------------------('sentiment_value', 'initial_sigma_value')=(0.8, 0.75) iteration 4 of 10\n",
      "\n",
      "Building partition fixed_sentiment of 1000 agents\n",
      "\n",
      "  all agents tot_wealth will be: 10000\n",
      "  all agents sigma_prop will be: 0.75\n"
     ]
    },
    {
     "data": {
      "application/vnd.jupyter.widget-view+json": {
       "model_id": "47957da5797a42328a47cc496d298f1b",
       "version_major": 2,
       "version_minor": 0
      },
      "text/plain": [
       "  0%|          | 0/150 [00:00<?, ?it/s]"
      ]
     },
     "metadata": {},
     "output_type": "display_data"
    },
    {
     "name": "stdout",
     "output_type": "stream",
     "text": [
      "run 145 of 160 total------------------------------('sentiment_value', 'initial_sigma_value')=(0.8, 0.75) iteration 5 of 10\n",
      "\n",
      "Building partition fixed_sentiment of 1000 agents\n",
      "\n",
      "  all agents tot_wealth will be: 10000\n",
      "  all agents sigma_prop will be: 0.75\n"
     ]
    },
    {
     "data": {
      "application/vnd.jupyter.widget-view+json": {
       "model_id": "dd5415e687504ae9a3e3bccbe5db5efd",
       "version_major": 2,
       "version_minor": 0
      },
      "text/plain": [
       "  0%|          | 0/150 [00:00<?, ?it/s]"
      ]
     },
     "metadata": {},
     "output_type": "display_data"
    },
    {
     "name": "stdout",
     "output_type": "stream",
     "text": [
      "run 146 of 160 total------------------------------('sentiment_value', 'initial_sigma_value')=(0.8, 0.75) iteration 6 of 10\n",
      "\n",
      "Building partition fixed_sentiment of 1000 agents\n",
      "\n",
      "  all agents tot_wealth will be: 10000\n",
      "  all agents sigma_prop will be: 0.75\n"
     ]
    },
    {
     "data": {
      "application/vnd.jupyter.widget-view+json": {
       "model_id": "9bc8ebf6e76744eab9e2fb15e2969c7b",
       "version_major": 2,
       "version_minor": 0
      },
      "text/plain": [
       "  0%|          | 0/150 [00:00<?, ?it/s]"
      ]
     },
     "metadata": {},
     "output_type": "display_data"
    },
    {
     "name": "stdout",
     "output_type": "stream",
     "text": [
      "run 147 of 160 total------------------------------('sentiment_value', 'initial_sigma_value')=(0.8, 0.75) iteration 7 of 10\n",
      "\n",
      "Building partition fixed_sentiment of 1000 agents\n",
      "\n",
      "  all agents tot_wealth will be: 10000\n",
      "  all agents sigma_prop will be: 0.75\n"
     ]
    },
    {
     "data": {
      "application/vnd.jupyter.widget-view+json": {
       "model_id": "810051f5f7f449c8ac05a656a753f2c0",
       "version_major": 2,
       "version_minor": 0
      },
      "text/plain": [
       "  0%|          | 0/150 [00:00<?, ?it/s]"
      ]
     },
     "metadata": {},
     "output_type": "display_data"
    },
    {
     "name": "stdout",
     "output_type": "stream",
     "text": [
      "run 148 of 160 total------------------------------('sentiment_value', 'initial_sigma_value')=(0.8, 0.75) iteration 8 of 10\n",
      "\n",
      "Building partition fixed_sentiment of 1000 agents\n",
      "\n",
      "  all agents tot_wealth will be: 10000\n",
      "  all agents sigma_prop will be: 0.75\n"
     ]
    },
    {
     "data": {
      "application/vnd.jupyter.widget-view+json": {
       "model_id": "bfc67d6c53134114b184bd29cb7cd154",
       "version_major": 2,
       "version_minor": 0
      },
      "text/plain": [
       "  0%|          | 0/150 [00:00<?, ?it/s]"
      ]
     },
     "metadata": {},
     "output_type": "display_data"
    },
    {
     "name": "stdout",
     "output_type": "stream",
     "text": [
      "run 149 of 160 total------------------------------('sentiment_value', 'initial_sigma_value')=(0.8, 0.75) iteration 9 of 10\n",
      "\n",
      "Building partition fixed_sentiment of 1000 agents\n",
      "\n",
      "  all agents tot_wealth will be: 10000\n",
      "  all agents sigma_prop will be: 0.75\n"
     ]
    },
    {
     "data": {
      "application/vnd.jupyter.widget-view+json": {
       "model_id": "f5c931ab695f44e8a4556c61b200d24e",
       "version_major": 2,
       "version_minor": 0
      },
      "text/plain": [
       "  0%|          | 0/150 [00:00<?, ?it/s]"
      ]
     },
     "metadata": {},
     "output_type": "display_data"
    },
    {
     "name": "stdout",
     "output_type": "stream",
     "text": [
      "run 150 of 160 total------------------------------('sentiment_value', 'initial_sigma_value')=(0.8, 0.75) iteration 10 of 10\n",
      "\n",
      "Building partition fixed_sentiment of 1000 agents\n",
      "\n",
      "  all agents tot_wealth will be: 10000\n",
      "  all agents sigma_prop will be: 0.75\n"
     ]
    },
    {
     "data": {
      "application/vnd.jupyter.widget-view+json": {
       "model_id": "d4b71824639744ab870b76c55f422168",
       "version_major": 2,
       "version_minor": 0
      },
      "text/plain": [
       "  0%|          | 0/150 [00:00<?, ?it/s]"
      ]
     },
     "metadata": {},
     "output_type": "display_data"
    },
    {
     "name": "stdout",
     "output_type": "stream",
     "text": [
      "run 151 of 160 total------------------------------('sentiment_value', 'initial_sigma_value')=(0.9, 0.8) iteration 1 of 10\n",
      "\n",
      "Building partition fixed_sentiment of 1000 agents\n",
      "\n",
      "  all agents tot_wealth will be: 10000\n",
      "  all agents sigma_prop will be: 0.8\n"
     ]
    },
    {
     "data": {
      "application/vnd.jupyter.widget-view+json": {
       "model_id": "a50adfa4f2254e78afc59d919c9de89a",
       "version_major": 2,
       "version_minor": 0
      },
      "text/plain": [
       "  0%|          | 0/150 [00:00<?, ?it/s]"
      ]
     },
     "metadata": {},
     "output_type": "display_data"
    },
    {
     "name": "stdout",
     "output_type": "stream",
     "text": [
      "run 152 of 160 total------------------------------('sentiment_value', 'initial_sigma_value')=(0.9, 0.8) iteration 2 of 10\n",
      "\n",
      "Building partition fixed_sentiment of 1000 agents\n",
      "\n",
      "  all agents tot_wealth will be: 10000\n",
      "  all agents sigma_prop will be: 0.8\n"
     ]
    },
    {
     "data": {
      "application/vnd.jupyter.widget-view+json": {
       "model_id": "9a3bbfd2c39b41f0bbba469b1f74e0e4",
       "version_major": 2,
       "version_minor": 0
      },
      "text/plain": [
       "  0%|          | 0/150 [00:00<?, ?it/s]"
      ]
     },
     "metadata": {},
     "output_type": "display_data"
    },
    {
     "name": "stdout",
     "output_type": "stream",
     "text": [
      "run 153 of 160 total------------------------------('sentiment_value', 'initial_sigma_value')=(0.9, 0.8) iteration 3 of 10\n",
      "\n",
      "Building partition fixed_sentiment of 1000 agents\n",
      "\n",
      "  all agents tot_wealth will be: 10000\n",
      "  all agents sigma_prop will be: 0.8\n"
     ]
    },
    {
     "data": {
      "application/vnd.jupyter.widget-view+json": {
       "model_id": "a0645757b88341ada6afde46968a09a7",
       "version_major": 2,
       "version_minor": 0
      },
      "text/plain": [
       "  0%|          | 0/150 [00:00<?, ?it/s]"
      ]
     },
     "metadata": {},
     "output_type": "display_data"
    },
    {
     "name": "stdout",
     "output_type": "stream",
     "text": [
      "run 154 of 160 total------------------------------('sentiment_value', 'initial_sigma_value')=(0.9, 0.8) iteration 4 of 10\n",
      "\n",
      "Building partition fixed_sentiment of 1000 agents\n",
      "\n",
      "  all agents tot_wealth will be: 10000\n",
      "  all agents sigma_prop will be: 0.8\n"
     ]
    },
    {
     "data": {
      "application/vnd.jupyter.widget-view+json": {
       "model_id": "1288d9f7ccf34a80bb5f996626e41a63",
       "version_major": 2,
       "version_minor": 0
      },
      "text/plain": [
       "  0%|          | 0/150 [00:00<?, ?it/s]"
      ]
     },
     "metadata": {},
     "output_type": "display_data"
    },
    {
     "name": "stdout",
     "output_type": "stream",
     "text": [
      "run 155 of 160 total------------------------------('sentiment_value', 'initial_sigma_value')=(0.9, 0.8) iteration 5 of 10\n",
      "\n",
      "Building partition fixed_sentiment of 1000 agents\n",
      "\n",
      "  all agents tot_wealth will be: 10000\n",
      "  all agents sigma_prop will be: 0.8\n"
     ]
    },
    {
     "data": {
      "application/vnd.jupyter.widget-view+json": {
       "model_id": "1cb3995c9f64492a8637e2b8c7719c82",
       "version_major": 2,
       "version_minor": 0
      },
      "text/plain": [
       "  0%|          | 0/150 [00:00<?, ?it/s]"
      ]
     },
     "metadata": {},
     "output_type": "display_data"
    },
    {
     "name": "stdout",
     "output_type": "stream",
     "text": [
      "run 156 of 160 total------------------------------('sentiment_value', 'initial_sigma_value')=(0.9, 0.8) iteration 6 of 10\n",
      "\n",
      "Building partition fixed_sentiment of 1000 agents\n",
      "\n",
      "  all agents tot_wealth will be: 10000\n",
      "  all agents sigma_prop will be: 0.8\n"
     ]
    },
    {
     "data": {
      "application/vnd.jupyter.widget-view+json": {
       "model_id": "65cf1c287e184566a65c2db1df371074",
       "version_major": 2,
       "version_minor": 0
      },
      "text/plain": [
       "  0%|          | 0/150 [00:00<?, ?it/s]"
      ]
     },
     "metadata": {},
     "output_type": "display_data"
    },
    {
     "name": "stdout",
     "output_type": "stream",
     "text": [
      "run 157 of 160 total------------------------------('sentiment_value', 'initial_sigma_value')=(0.9, 0.8) iteration 7 of 10\n",
      "\n",
      "Building partition fixed_sentiment of 1000 agents\n",
      "\n",
      "  all agents tot_wealth will be: 10000\n",
      "  all agents sigma_prop will be: 0.8\n"
     ]
    },
    {
     "data": {
      "application/vnd.jupyter.widget-view+json": {
       "model_id": "caeddd2e64bd40bc92f9e2ad36895464",
       "version_major": 2,
       "version_minor": 0
      },
      "text/plain": [
       "  0%|          | 0/150 [00:00<?, ?it/s]"
      ]
     },
     "metadata": {},
     "output_type": "display_data"
    },
    {
     "name": "stdout",
     "output_type": "stream",
     "text": [
      "run 158 of 160 total------------------------------('sentiment_value', 'initial_sigma_value')=(0.9, 0.8) iteration 8 of 10\n",
      "\n",
      "Building partition fixed_sentiment of 1000 agents\n",
      "\n",
      "  all agents tot_wealth will be: 10000\n",
      "  all agents sigma_prop will be: 0.8\n"
     ]
    },
    {
     "data": {
      "application/vnd.jupyter.widget-view+json": {
       "model_id": "7ad665bb9a2841a49297c5ae490b4558",
       "version_major": 2,
       "version_minor": 0
      },
      "text/plain": [
       "  0%|          | 0/150 [00:00<?, ?it/s]"
      ]
     },
     "metadata": {},
     "output_type": "display_data"
    },
    {
     "name": "stdout",
     "output_type": "stream",
     "text": [
      "run 159 of 160 total------------------------------('sentiment_value', 'initial_sigma_value')=(0.9, 0.8) iteration 9 of 10\n",
      "\n",
      "Building partition fixed_sentiment of 1000 agents\n",
      "\n",
      "  all agents tot_wealth will be: 10000\n",
      "  all agents sigma_prop will be: 0.8\n"
     ]
    },
    {
     "data": {
      "application/vnd.jupyter.widget-view+json": {
       "model_id": "d9a9c2b89a3e4c3bbd3d9a9515533052",
       "version_major": 2,
       "version_minor": 0
      },
      "text/plain": [
       "  0%|          | 0/150 [00:00<?, ?it/s]"
      ]
     },
     "metadata": {},
     "output_type": "display_data"
    },
    {
     "name": "stdout",
     "output_type": "stream",
     "text": [
      "run 160 of 160 total------------------------------('sentiment_value', 'initial_sigma_value')=(0.9, 0.8) iteration 10 of 10\n",
      "\n",
      "Building partition fixed_sentiment of 1000 agents\n",
      "\n",
      "  all agents tot_wealth will be: 10000\n",
      "  all agents sigma_prop will be: 0.8\n"
     ]
    },
    {
     "data": {
      "application/vnd.jupyter.widget-view+json": {
       "model_id": "9e7d1d8a8d974aaeb7d9cb8979883d93",
       "version_major": 2,
       "version_minor": 0
      },
      "text/plain": [
       "  0%|          | 0/150 [00:00<?, ?it/s]"
      ]
     },
     "metadata": {},
     "output_type": "display_data"
    }
   ],
   "source": [
    "lab_diff.param_run(150, ('sentiment_value','initial_sigma_value'),test_values, iter_same_point=10 )"
   ]
  },
  {
   "cell_type": "code",
   "execution_count": 17,
   "id": "c15b6936",
   "metadata": {},
   "outputs": [
    {
     "data": {
      "application/vnd.jupyter.widget-view+json": {
       "model_id": "5552fa262cab4165a815570de40a4b4a",
       "version_major": 2,
       "version_minor": 0
      },
      "text/plain": [
       "exp fitting abs_avg_eq_dist:   0%|          | 0/16 [00:00<?, ?it/s]"
      ]
     },
     "metadata": {},
     "output_type": "display_data"
    },
    {
     "data": {
      "application/vnd.jupyter.widget-view+json": {
       "model_id": "090c166b60b046ebb093435e5169d5f7",
       "version_major": 2,
       "version_minor": 0
      },
      "text/plain": [
       "lin fitting abs_avg_eq_dist:   0%|          | 0/16 [00:00<?, ?it/s]"
      ]
     },
     "metadata": {},
     "output_type": "display_data"
    }
   ],
   "source": [
    "# lab.fit_metric('avg_sigma', 'pol', end_slice=100, poly_order=3,fit_name='pol_fit', weight_coeff=2)\n",
    "# lab.fit_metric('sct_abs_eq_dist', 'exp', end_slice=100, fit_name='exp_fit', weight_coeff=1/2)\n",
    "lab_diff.fit_metric('abs_avg_eq_dist', 'exp', end_slice=100, fit_name='exp_fit', weight_coeff=2)\n",
    "lab_diff.fit_metric('abs_avg_eq_dist', 'lin', end_slice=50,  fit_name='lin_fit', weight_coeff=2)"
   ]
  },
  {
   "cell_type": "code",
   "execution_count": 18,
   "id": "90f3b32c",
   "metadata": {},
   "outputs": [
    {
     "name": "stdout",
     "output_type": "stream",
     "text": [
      "\n",
      "\n",
      "-------------------------------------------------- METRICS INFO\n",
      "\n",
      "----------metric name: avg_price\n",
      "          performed on parameters:\n",
      "               ('sentiment_value', 'initial_sigma_value')=(-0.6, 0.050000000000000044),(-0.5, 0.09999999999999998),(-0.4, 0.15000000000000002),(-0.3, 0.2),(-0.2, 0.25),(-0.1, 0.3),(0.0, 0.35),(0.1, 0.4),(0.2, 0.45),(0.3, 0.5),(0.4, 0.55),(0.5, 0.6),(0.6, 0.65),(0.7, 0.7),(0.8, 0.75),(0.9, 0.8)\n",
      "----------metric name: avg_sigma\n",
      "          performed on parameters:\n",
      "               ('sentiment_value', 'initial_sigma_value')=(-0.6, 0.050000000000000044),(-0.5, 0.09999999999999998),(-0.4, 0.15000000000000002),(-0.3, 0.2),(-0.2, 0.25),(-0.1, 0.3),(0.0, 0.35),(0.1, 0.4),(0.2, 0.45),(0.3, 0.5),(0.4, 0.55),(0.5, 0.6),(0.6, 0.65),(0.7, 0.7),(0.8, 0.75),(0.9, 0.8)\n",
      "----------metric name: abs_avg_eq_dist\n",
      "          performed on parameters:\n",
      "               ('sentiment_value', 'initial_sigma_value')=(-0.6, 0.050000000000000044),(-0.5, 0.09999999999999998),(-0.4, 0.15000000000000002),(-0.3, 0.2),(-0.2, 0.25),(-0.1, 0.3),(0.0, 0.35),(0.1, 0.4),(0.2, 0.45),(0.3, 0.5),(0.4, 0.55),(0.5, 0.6),(0.6, 0.65),(0.7, 0.7),(0.8, 0.75),(0.9, 0.8)\n",
      "----------metric name: sct_abs_eq_dist\n",
      "          performed on parameters:\n",
      "               ('sentiment_value', 'initial_sigma_value')=(-0.6, 0.050000000000000044),(-0.5, 0.09999999999999998),(-0.4, 0.15000000000000002),(-0.3, 0.2),(-0.2, 0.25),(-0.1, 0.3),(0.0, 0.35),(0.1, 0.4),(0.2, 0.45),(0.3, 0.5),(0.4, 0.55),(0.5, 0.6),(0.6, 0.65),(0.7, 0.7),(0.8, 0.75),(0.9, 0.8)\n",
      "\n",
      "\n",
      "################################################## FITS INFO\n",
      "\n",
      "######### fit name: exp_fit\n",
      "          dominio from 0 to (included) 99 of size 100\n",
      "          performed on metrics: abs_avg_eq_dist\n",
      "######### fit name: lin_fit\n",
      "          dominio from 0 to (included) 49 of size 50\n",
      "          performed on metrics: abs_avg_eq_dist\n"
     ]
    }
   ],
   "source": [
    "lab_diff.print_mtr_summary()\n",
    "lab_diff.print_fit_summary()"
   ]
  },
  {
   "cell_type": "code",
   "execution_count": 19,
   "id": "4472a639",
   "metadata": {},
   "outputs": [
    {
     "data": {
      "image/png": "[encoded data removed]",
      "text/plain": [
       "<Figure size 1296x9216 with 16 Axes>"
      ]
     },
     "metadata": {
      "needs_background": "light"
     },
     "output_type": "display_data"
    },
    {
     "name": "stdout",
     "output_type": "stream",
     "text": [
      "senti -0.6;initi 0.05------------------------------\n",
      "    subrun 0: \n",
      "        exp_fit        :  C[ 0]=  -0.01017;  C[ 1]=  -1.88182; \n",
      "        lin_fit        :  C[ 0]=  -0.00113;  C[ 1]=   0.14862; \n",
      "    subrun 1: \n",
      "        exp_fit        :  C[ 0]=  -0.01127;  C[ 1]=  -1.87099; \n",
      "        lin_fit        :  C[ 0]=  -0.00122;  C[ 1]=   0.14947; \n",
      "    subrun 2: \n",
      "        exp_fit        :  C[ 0]=  -0.01014;  C[ 1]=  -1.87232; \n",
      "        lin_fit        :  C[ 0]=  -0.00116;  C[ 1]=   0.15037; \n",
      "    subrun 3: \n",
      "        exp_fit        :  C[ 0]=  -0.00988;  C[ 1]=  -1.88421; \n",
      "        lin_fit        :  C[ 0]=  -0.00116;  C[ 1]=   0.14942; \n",
      "    subrun 4: \n",
      "        exp_fit        :  C[ 0]=  -0.01131;  C[ 1]=  -1.87874; \n",
      "        lin_fit        :  C[ 0]=  -0.00126;  C[ 1]=   0.14901; \n",
      "    subrun 5: \n",
      "        exp_fit        :  C[ 0]=  -0.01033;  C[ 1]=  -1.88284; \n",
      "        lin_fit        :  C[ 0]=  -0.00121;  C[ 1]=   0.14940; \n",
      "    subrun 6: \n",
      "        exp_fit        :  C[ 0]=  -0.01042;  C[ 1]=  -1.89631; \n",
      "        lin_fit        :  C[ 0]=  -0.00122;  C[ 1]=   0.14763; \n",
      "    subrun 7: \n",
      "        exp_fit        :  C[ 0]=  -0.01113;  C[ 1]=  -1.88318; \n",
      "        lin_fit        :  C[ 0]=  -0.00127;  C[ 1]=   0.14887; \n",
      "    subrun 8: \n",
      "        exp_fit        :  C[ 0]=  -0.01091;  C[ 1]=  -1.86618; \n",
      "        lin_fit        :  C[ 0]=  -0.00121;  C[ 1]=   0.15052; \n",
      "    subrun 9: \n",
      "        exp_fit        :  C[ 0]=  -0.01223;  C[ 1]=  -1.86242; \n",
      "        lin_fit        :  C[ 0]=  -0.00134;  C[ 1]=   0.15075; \n",
      "senti -0.5;initi 0.09------------------------------\n",
      "    subrun 0: \n",
      "        exp_fit        :  C[ 0]=  -0.01197;  C[ 1]=  -1.90301; \n",
      "        lin_fit        :  C[ 0]=  -0.00132;  C[ 1]=   0.14574; \n",
      "    subrun 1: \n",
      "        exp_fit        :  C[ 0]=  -0.01111;  C[ 1]=  -1.90591; \n",
      "        lin_fit        :  C[ 0]=  -0.00134;  C[ 1]=   0.14708; \n",
      "    subrun 2: \n",
      "        exp_fit        :  C[ 0]=  -0.01222;  C[ 1]=  -1.91522; \n",
      "        lin_fit        :  C[ 0]=  -0.00138;  C[ 1]=   0.14474; \n",
      "    subrun 3: \n",
      "        exp_fit        :  C[ 0]=  -0.01296;  C[ 1]=  -1.91259; \n",
      "        lin_fit        :  C[ 0]=  -0.00149;  C[ 1]=   0.14561; \n",
      "    subrun 4: \n",
      "        exp_fit        :  C[ 0]=  -0.01267;  C[ 1]=  -1.89386; \n",
      "        lin_fit        :  C[ 0]=  -0.00148;  C[ 1]=   0.14805; \n",
      "    subrun 5: \n",
      "        exp_fit        :  C[ 0]=  -0.01230;  C[ 1]=  -1.90099; \n",
      "        lin_fit        :  C[ 0]=  -0.00146;  C[ 1]=   0.14753; \n",
      "    subrun 6: \n",
      "        exp_fit        :  C[ 0]=  -0.01237;  C[ 1]=  -1.90007; \n",
      "        lin_fit        :  C[ 0]=  -0.00140;  C[ 1]=   0.14662; \n",
      "    subrun 7: \n",
      "        exp_fit        :  C[ 0]=  -0.01242;  C[ 1]=  -1.89214; \n",
      "        lin_fit        :  C[ 0]=  -0.00143;  C[ 1]=   0.14805; \n",
      "    subrun 8: \n",
      "        exp_fit        :  C[ 0]=  -0.01208;  C[ 1]=  -1.90007; \n",
      "        lin_fit        :  C[ 0]=  -0.00134;  C[ 1]=   0.14631; \n",
      "    subrun 9: \n",
      "        exp_fit        :  C[ 0]=  -0.01220;  C[ 1]=  -1.91156; \n",
      "        lin_fit        :  C[ 0]=  -0.00137;  C[ 1]=   0.14512; \n",
      "senti -0.4;initi 0.15------------------------------\n",
      "    subrun 0: \n",
      "        exp_fit        :  C[ 0]=  -0.01215;  C[ 1]=  -1.90960; \n",
      "        lin_fit        :  C[ 0]=  -0.00147;  C[ 1]=   0.14680; \n",
      "    subrun 1: \n",
      "        exp_fit        :  C[ 0]=  -0.01157;  C[ 1]=  -1.92133; \n",
      "        lin_fit        :  C[ 0]=  -0.00146;  C[ 1]=   0.14623; \n",
      "    subrun 2: \n",
      "        exp_fit        :  C[ 0]=  -0.01262;  C[ 1]=  -1.90052; \n",
      "        lin_fit        :  C[ 0]=  -0.00144;  C[ 1]=   0.14675; \n",
      "    subrun 3: \n",
      "        exp_fit        :  C[ 0]=  -0.01284;  C[ 1]=  -1.89277; \n",
      "        lin_fit        :  C[ 0]=  -0.00144;  C[ 1]=   0.14736; \n",
      "    subrun 4: \n",
      "        exp_fit        :  C[ 0]=  -0.01190;  C[ 1]=  -1.94971; \n",
      "        lin_fit        :  C[ 0]=  -0.00145;  C[ 1]=   0.14210; \n",
      "    subrun 5: \n",
      "        exp_fit        :  C[ 0]=  -0.01107;  C[ 1]=  -1.88688; \n",
      "        lin_fit        :  C[ 0]=  -0.00127;  C[ 1]=   0.14861; \n",
      "    subrun 6: \n",
      "        exp_fit        :  C[ 0]=  -0.01248;  C[ 1]=  -1.90056; \n",
      "        lin_fit        :  C[ 0]=  -0.00137;  C[ 1]=   0.14606; \n",
      "    subrun 7: \n",
      "        exp_fit        :  C[ 0]=  -0.01217;  C[ 1]=  -1.94162; \n",
      "        lin_fit        :  C[ 0]=  -0.00155;  C[ 1]=   0.14401; \n",
      "    subrun 8: \n",
      "        exp_fit        :  C[ 0]=  -0.01323;  C[ 1]=  -1.91722; \n",
      "        lin_fit        :  C[ 0]=  -0.00140;  C[ 1]=   0.14324; \n",
      "    subrun 9: \n",
      "        exp_fit        :  C[ 0]=  -0.01085;  C[ 1]=  -1.93568; \n",
      "        lin_fit        :  C[ 0]=  -0.00130;  C[ 1]=   0.14333; \n",
      "senti -0.3;initi 0.2------------------------------\n",
      "    subrun 0: \n",
      "        exp_fit        :  C[ 0]=  -0.01180;  C[ 1]=  -1.90755; \n",
      "        lin_fit        :  C[ 0]=  -0.00148;  C[ 1]=   0.14787; \n",
      "    subrun 1: \n",
      "        exp_fit        :  C[ 0]=  -0.01217;  C[ 1]=  -1.93032; \n",
      "        lin_fit        :  C[ 0]=  -0.00146;  C[ 1]=   0.14414; \n",
      "    subrun 2: \n",
      "        exp_fit        :  C[ 0]=  -0.01373;  C[ 1]=  -1.91629; \n",
      "        lin_fit        :  C[ 0]=  -0.00158;  C[ 1]=   0.14508; \n",
      "    subrun 3: \n",
      "        exp_fit        :  C[ 0]=  -0.01118;  C[ 1]=  -1.96515; \n",
      "        lin_fit        :  C[ 0]=  -0.00131;  C[ 1]=   0.13932; \n",
      "    subrun 4: \n",
      "        exp_fit        :  C[ 0]=  -0.01261;  C[ 1]=  -1.90613; \n",
      "        lin_fit        :  C[ 0]=  -0.00145;  C[ 1]=   0.14629; \n",
      "    subrun 5: \n",
      "        exp_fit        :  C[ 0]=  -0.01336;  C[ 1]=  -1.92550; \n",
      "        lin_fit        :  C[ 0]=  -0.00157;  C[ 1]=   0.14430; \n",
      "    subrun 6: \n",
      "        exp_fit        :  C[ 0]=  -0.01137;  C[ 1]=  -1.89881; \n",
      "        lin_fit        :  C[ 0]=  -0.00144;  C[ 1]=   0.14888; \n",
      "    subrun 7: \n",
      "        exp_fit        :  C[ 0]=  -0.01072;  C[ 1]=  -1.93596; \n",
      "        lin_fit        :  C[ 0]=  -0.00125;  C[ 1]=   0.14266; \n",
      "    subrun 8: \n",
      "        exp_fit        :  C[ 0]=  -0.01260;  C[ 1]=  -1.90098; \n",
      "        lin_fit        :  C[ 0]=  -0.00149;  C[ 1]=   0.14750; \n",
      "    subrun 9: \n",
      "        exp_fit        :  C[ 0]=  -0.01056;  C[ 1]=  -1.91362; \n",
      "        lin_fit        :  C[ 0]=  -0.00128;  C[ 1]=   0.14608; \n",
      "senti -0.2;initi 0.25------------------------------\n",
      "    subrun 0: \n",
      "        exp_fit        :  C[ 0]=  -0.01298;  C[ 1]=  -1.90863; \n",
      "        lin_fit        :  C[ 0]=  -0.00152;  C[ 1]=   0.14642; \n",
      "    subrun 1: \n",
      "        exp_fit        :  C[ 0]=  -0.01344;  C[ 1]=  -1.85943; \n",
      "        lin_fit        :  C[ 0]=  -0.00153;  C[ 1]=   0.15199; \n",
      "    subrun 2: \n",
      "        exp_fit        :  C[ 0]=  -0.01355;  C[ 1]=  -1.92864; \n",
      "        lin_fit        :  C[ 0]=  -0.00149;  C[ 1]=   0.14269; \n",
      "    subrun 3: \n",
      "        exp_fit        :  C[ 0]=  -0.01485;  C[ 1]=  -1.88241; \n",
      "        lin_fit        :  C[ 0]=  -0.00155;  C[ 1]=   0.14717; \n",
      "    subrun 4: \n",
      "        exp_fit        :  C[ 0]=  -0.01278;  C[ 1]=  -1.89390; \n",
      "        lin_fit        :  C[ 0]=  -0.00147;  C[ 1]=   0.14767; \n",
      "    subrun 5: \n",
      "        exp_fit        :  C[ 0]=  -0.01267;  C[ 1]=  -1.94769; \n",
      "        lin_fit        :  C[ 0]=  -0.00145;  C[ 1]=   0.14095; \n",
      "    subrun 6: \n",
      "        exp_fit        :  C[ 0]=  -0.01138;  C[ 1]=  -1.95246; \n",
      "        lin_fit        :  C[ 0]=  -0.00129;  C[ 1]=   0.14026; \n",
      "    subrun 7: \n",
      "        exp_fit        :  C[ 0]=  -0.01254;  C[ 1]=  -1.90368; \n",
      "        lin_fit        :  C[ 0]=  -0.00154;  C[ 1]=   0.14800; \n",
      "    subrun 8: \n",
      "        exp_fit        :  C[ 0]=  -0.01294;  C[ 1]=  -1.93962; \n",
      "        lin_fit        :  C[ 0]=  -0.00155;  C[ 1]=   0.14301; \n",
      "    subrun 9: \n",
      "        exp_fit        :  C[ 0]=  -0.01196;  C[ 1]=  -1.89834; \n",
      "        lin_fit        :  C[ 0]=  -0.00134;  C[ 1]=   0.14669; \n",
      "senti -0.1;initi 0.3------------------------------\n",
      "    subrun 0: \n",
      "        exp_fit        :  C[ 0]=  -0.01178;  C[ 1]=  -1.92804; \n",
      "        lin_fit        :  C[ 0]=  -0.00136;  C[ 1]=   0.14365; \n",
      "    subrun 1: \n",
      "        exp_fit        :  C[ 0]=  -0.01252;  C[ 1]=  -1.91214; \n",
      "        lin_fit        :  C[ 0]=  -0.00139;  C[ 1]=   0.14478; \n",
      "    subrun 2: \n",
      "        exp_fit        :  C[ 0]=  -0.01245;  C[ 1]=  -1.94757; \n",
      "        lin_fit        :  C[ 0]=  -0.00157;  C[ 1]=   0.14322; \n",
      "    subrun 3: \n",
      "        exp_fit        :  C[ 0]=  -0.01252;  C[ 1]=  -1.90772; \n",
      "        lin_fit        :  C[ 0]=  -0.00147;  C[ 1]=   0.14660; \n",
      "    subrun 4: \n",
      "        exp_fit        :  C[ 0]=  -0.01269;  C[ 1]=  -1.90552; \n",
      "        lin_fit        :  C[ 0]=  -0.00140;  C[ 1]=   0.14544; \n",
      "    subrun 5: \n",
      "        exp_fit        :  C[ 0]=  -0.01131;  C[ 1]=  -1.91182; \n",
      "        lin_fit        :  C[ 0]=  -0.00129;  C[ 1]=   0.14523; \n",
      "    subrun 6: \n",
      "        exp_fit        :  C[ 0]=  -0.01282;  C[ 1]=  -1.94660; \n",
      "        lin_fit        :  C[ 0]=  -0.00147;  C[ 1]=   0.14135; \n",
      "    subrun 7: \n",
      "        exp_fit        :  C[ 0]=  -0.01097;  C[ 1]=  -1.89761; \n",
      "        lin_fit        :  C[ 0]=  -0.00124;  C[ 1]=   0.14694; \n",
      "    subrun 8: \n",
      "        exp_fit        :  C[ 0]=  -0.01271;  C[ 1]=  -1.93796; \n",
      "        lin_fit        :  C[ 0]=  -0.00138;  C[ 1]=   0.14128; \n",
      "    subrun 9: \n",
      "        exp_fit        :  C[ 0]=  -0.01215;  C[ 1]=  -1.92522; \n",
      "        lin_fit        :  C[ 0]=  -0.00151;  C[ 1]=   0.14551; \n",
      "senti 0.0;initi 0.35------------------------------\n",
      "    subrun 0: \n",
      "        exp_fit        :  C[ 0]=  -0.01433;  C[ 1]=  -1.90056; \n",
      "        lin_fit        :  C[ 0]=  -0.00162;  C[ 1]=   0.14662; \n",
      "    subrun 1: \n",
      "        exp_fit        :  C[ 0]=  -0.01279;  C[ 1]=  -1.91594; \n",
      "        lin_fit        :  C[ 0]=  -0.00163;  C[ 1]=   0.14727; \n",
      "    subrun 2: \n",
      "        exp_fit        :  C[ 0]=  -0.01214;  C[ 1]=  -1.89245; \n",
      "        lin_fit        :  C[ 0]=  -0.00129;  C[ 1]=   0.14634; \n",
      "    subrun 3: \n",
      "        exp_fit        :  C[ 0]=  -0.01476;  C[ 1]=  -1.93987; \n",
      "        lin_fit        :  C[ 0]=  -0.00167;  C[ 1]=   0.14198; \n",
      "    subrun 4: \n",
      "        exp_fit        :  C[ 0]=  -0.01220;  C[ 1]=  -1.93103; \n",
      "        lin_fit        :  C[ 0]=  -0.00140;  C[ 1]=   0.14313; \n",
      "    subrun 5: \n",
      "        exp_fit        :  C[ 0]=  -0.01193;  C[ 1]=  -1.92455; \n",
      "        lin_fit        :  C[ 0]=  -0.00139;  C[ 1]=   0.14411; \n",
      "    subrun 6: \n",
      "        exp_fit        :  C[ 0]=  -0.01239;  C[ 1]=  -1.91502; \n",
      "        lin_fit        :  C[ 0]=  -0.00138;  C[ 1]=   0.14445; \n",
      "    subrun 7: \n",
      "        exp_fit        :  C[ 0]=  -0.01307;  C[ 1]=  -1.88991; \n",
      "        lin_fit        :  C[ 0]=  -0.00145;  C[ 1]=   0.14756; \n",
      "    subrun 8: \n",
      "        exp_fit        :  C[ 0]=  -0.01405;  C[ 1]=  -1.90835; \n",
      "        lin_fit        :  C[ 0]=  -0.00155;  C[ 1]=   0.14521; \n",
      "    subrun 9: \n",
      "        exp_fit        :  C[ 0]=  -0.01400;  C[ 1]=  -1.91332; \n",
      "        lin_fit        :  C[ 0]=  -0.00147;  C[ 1]=   0.14354; \n",
      "senti 0.1;initi 0.4------------------------------\n",
      "    subrun 0: \n",
      "        exp_fit        :  C[ 0]=  -0.01218;  C[ 1]=  -1.92239; \n",
      "        lin_fit        :  C[ 0]=  -0.00146;  C[ 1]=   0.14513; \n",
      "    subrun 1: \n",
      "        exp_fit        :  C[ 0]=  -0.01342;  C[ 1]=  -1.91109; \n",
      "        lin_fit        :  C[ 0]=  -0.00152;  C[ 1]=   0.14542; \n",
      "    subrun 2: \n",
      "        exp_fit        :  C[ 0]=  -0.01567;  C[ 1]=  -1.91288; \n",
      "        lin_fit        :  C[ 0]=  -0.00182;  C[ 1]=   0.14599; \n",
      "    subrun 3: \n",
      "        exp_fit        :  C[ 0]=  -0.01390;  C[ 1]=  -1.90280; \n",
      "        lin_fit        :  C[ 0]=  -0.00150;  C[ 1]=   0.14550; \n",
      "    subrun 4: \n",
      "        exp_fit        :  C[ 0]=  -0.01461;  C[ 1]=  -1.90514; \n",
      "        lin_fit        :  C[ 0]=  -0.00164;  C[ 1]=   0.14606; \n",
      "    subrun 5: \n",
      "        exp_fit        :  C[ 0]=  -0.01273;  C[ 1]=  -1.92983; \n",
      "        lin_fit        :  C[ 0]=  -0.00137;  C[ 1]=   0.14192; \n",
      "    subrun 6: \n",
      "        exp_fit        :  C[ 0]=  -0.01189;  C[ 1]=  -1.91491; \n",
      "        lin_fit        :  C[ 0]=  -0.00130;  C[ 1]=   0.14411; \n",
      "    subrun 7: \n",
      "        exp_fit        :  C[ 0]=  -0.01260;  C[ 1]=  -1.94081; \n",
      "        lin_fit        :  C[ 0]=  -0.00141;  C[ 1]=   0.14155; \n",
      "    subrun 8: \n",
      "        exp_fit        :  C[ 0]=  -0.01224;  C[ 1]=  -1.91584; \n",
      "        lin_fit        :  C[ 0]=  -0.00146;  C[ 1]=   0.14575; \n",
      "    subrun 9: \n",
      "        exp_fit        :  C[ 0]=  -0.01276;  C[ 1]=  -1.90158; \n",
      "        lin_fit        :  C[ 0]=  -0.00139;  C[ 1]=   0.14581; \n",
      "senti 0.2;initi 0.45------------------------------\n",
      "    subrun 0: \n",
      "        exp_fit        :  C[ 0]=  -0.01485;  C[ 1]=  -1.91862; \n",
      "        lin_fit        :  C[ 0]=  -0.00158;  C[ 1]=   0.14323; \n",
      "    subrun 1: \n",
      "        exp_fit        :  C[ 0]=  -0.01409;  C[ 1]=  -1.91995; \n",
      "        lin_fit        :  C[ 0]=  -0.00151;  C[ 1]=   0.14312; \n",
      "    subrun 2: \n",
      "        exp_fit        :  C[ 0]=  -0.01338;  C[ 1]=  -1.95394; \n",
      "        lin_fit        :  C[ 0]=  -0.00158;  C[ 1]=   0.14110; \n",
      "    subrun 3: \n",
      "        exp_fit        :  C[ 0]=  -0.01440;  C[ 1]=  -1.93384; \n",
      "        lin_fit        :  C[ 0]=  -0.00154;  C[ 1]=   0.14143; \n",
      "    subrun 4: \n",
      "        exp_fit        :  C[ 0]=  -0.01288;  C[ 1]=  -1.92317; \n",
      "        lin_fit        :  C[ 0]=  -0.00154;  C[ 1]=   0.14511; \n",
      "    subrun 5: \n",
      "        exp_fit        :  C[ 0]=  -0.01585;  C[ 1]=  -1.91853; \n",
      "        lin_fit        :  C[ 0]=  -0.00163;  C[ 1]=   0.14244; \n",
      "    subrun 6: \n",
      "        exp_fit        :  C[ 0]=  -0.01206;  C[ 1]=  -1.94672; \n",
      "        lin_fit        :  C[ 0]=  -0.00146;  C[ 1]=   0.14237; \n",
      "    subrun 7: \n",
      "        exp_fit        :  C[ 0]=  -0.01564;  C[ 1]=  -1.96769; \n",
      "        lin_fit        :  C[ 0]=  -0.00177;  C[ 1]=   0.13894; \n",
      "    subrun 8: \n",
      "        exp_fit        :  C[ 0]=  -0.01537;  C[ 1]=  -1.89529; \n",
      "        lin_fit        :  C[ 0]=  -0.00173;  C[ 1]=   0.14735; \n",
      "    subrun 9: \n",
      "        exp_fit        :  C[ 0]=  -0.01412;  C[ 1]=  -1.93667; \n",
      "        lin_fit        :  C[ 0]=  -0.00160;  C[ 1]=   0.14232; \n",
      "senti 0.3;initi 0.5------------------------------\n",
      "    subrun 0: \n",
      "        exp_fit        :  C[ 0]=  -0.01619;  C[ 1]=  -1.93187; \n",
      "        lin_fit        :  C[ 0]=  -0.00173;  C[ 1]=   0.14178; \n",
      "    subrun 1: \n",
      "        exp_fit        :  C[ 0]=  -0.01386;  C[ 1]=  -1.93447; \n",
      "        lin_fit        :  C[ 0]=  -0.00156;  C[ 1]=   0.14258; \n",
      "    subrun 2: \n",
      "        exp_fit        :  C[ 0]=  -0.01820;  C[ 1]=  -1.97024; \n",
      "        lin_fit        :  C[ 0]=  -0.00187;  C[ 1]=   0.13674; \n",
      "    subrun 3: \n",
      "        exp_fit        :  C[ 0]=  -0.01786;  C[ 1]=  -1.95556; \n",
      "        lin_fit        :  C[ 0]=  -0.00186;  C[ 1]=   0.13871; \n",
      "    subrun 4: \n",
      "        exp_fit        :  C[ 0]=  -0.01709;  C[ 1]=  -1.90357; \n",
      "        lin_fit        :  C[ 0]=  -0.00184;  C[ 1]=   0.14557; \n",
      "    subrun 5: \n",
      "        exp_fit        :  C[ 0]=  -0.01427;  C[ 1]=  -1.92981; \n",
      "        lin_fit        :  C[ 0]=  -0.00175;  C[ 1]=   0.14473; \n",
      "    subrun 6: \n",
      "        exp_fit        :  C[ 0]=  -0.01327;  C[ 1]=  -1.91788; \n",
      "        lin_fit        :  C[ 0]=  -0.00153;  C[ 1]=   0.14485; \n",
      "    subrun 7: \n",
      "        exp_fit        :  C[ 0]=  -0.01570;  C[ 1]=  -1.95586; \n",
      "        lin_fit        :  C[ 0]=  -0.00181;  C[ 1]=   0.14064; \n",
      "    subrun 8: \n",
      "        exp_fit        :  C[ 0]=  -0.01627;  C[ 1]=  -1.95108; \n",
      "        lin_fit        :  C[ 0]=  -0.00175;  C[ 1]=   0.13980; \n",
      "    subrun 9: \n",
      "        exp_fit        :  C[ 0]=  -0.01448;  C[ 1]=  -1.94477; \n",
      "        lin_fit        :  C[ 0]=  -0.00165;  C[ 1]=   0.14169; \n",
      "senti 0.4;initi 0.55------------------------------\n",
      "    subrun 0: \n",
      "        exp_fit        :  C[ 0]=  -0.01398;  C[ 1]=  -1.95905; \n",
      "        lin_fit        :  C[ 0]=  -0.00158;  C[ 1]=   0.13963; \n",
      "    subrun 1: \n",
      "        exp_fit        :  C[ 0]=  -0.01926;  C[ 1]=  -1.89213; \n",
      "        lin_fit        :  C[ 0]=  -0.00217;  C[ 1]=   0.14803; \n",
      "    subrun 2: \n",
      "        exp_fit        :  C[ 0]=  -0.01727;  C[ 1]=  -1.93856; \n",
      "        lin_fit        :  C[ 0]=  -0.00187;  C[ 1]=   0.14144; \n",
      "    subrun 3: \n",
      "        exp_fit        :  C[ 0]=  -0.01735;  C[ 1]=  -1.96068; \n",
      "        lin_fit        :  C[ 0]=  -0.00190;  C[ 1]=   0.13921; \n",
      "    subrun 4: \n",
      "        exp_fit        :  C[ 0]=  -0.01983;  C[ 1]=  -1.92847; \n",
      "        lin_fit        :  C[ 0]=  -0.00211;  C[ 1]=   0.14242; \n",
      "    subrun 5: \n",
      "        exp_fit        :  C[ 0]=  -0.01723;  C[ 1]=  -1.92528; \n",
      "        lin_fit        :  C[ 0]=  -0.00187;  C[ 1]=   0.14290; \n",
      "    subrun 6: \n",
      "        exp_fit        :  C[ 0]=  -0.01748;  C[ 1]=  -1.91322; \n",
      "        lin_fit        :  C[ 0]=  -0.00186;  C[ 1]=   0.14389; \n",
      "    subrun 7: \n",
      "        exp_fit        :  C[ 0]=  -0.01887;  C[ 1]=  -1.93472; \n",
      "        lin_fit        :  C[ 0]=  -0.00219;  C[ 1]=   0.14367; \n",
      "    subrun 8: \n",
      "        exp_fit        :  C[ 0]=  -0.01810;  C[ 1]=  -1.89692; \n",
      "        lin_fit        :  C[ 0]=  -0.00191;  C[ 1]=   0.14569; \n",
      "    subrun 9: \n",
      "        exp_fit        :  C[ 0]=  -0.01802;  C[ 1]=  -1.94268; \n",
      "        lin_fit        :  C[ 0]=  -0.00196;  C[ 1]=   0.14143; \n",
      "senti 0.5;initi 0.6------------------------------\n",
      "    subrun 0: \n",
      "        exp_fit        :  C[ 0]=  -0.01819;  C[ 1]=  -1.97329; \n",
      "        lin_fit        :  C[ 0]=  -0.00179;  C[ 1]=   0.13536; \n",
      "    subrun 1: \n",
      "        exp_fit        :  C[ 0]=  -0.01752;  C[ 1]=  -1.95576; \n",
      "        lin_fit        :  C[ 0]=  -0.00184;  C[ 1]=   0.13866; \n",
      "    subrun 2: \n",
      "        exp_fit        :  C[ 0]=  -0.01700;  C[ 1]=  -1.98774; \n",
      "        lin_fit        :  C[ 0]=  -0.00178;  C[ 1]=   0.13511; \n",
      "    subrun 3: \n",
      "        exp_fit        :  C[ 0]=  -0.01809;  C[ 1]=  -1.98817; \n",
      "        lin_fit        :  C[ 0]=  -0.00194;  C[ 1]=   0.13586; \n",
      "    subrun 4: \n",
      "        exp_fit        :  C[ 0]=  -0.01903;  C[ 1]=  -1.91944; \n",
      "        lin_fit        :  C[ 0]=  -0.00200;  C[ 1]=   0.14296; \n",
      "    subrun 5: \n",
      "        exp_fit        :  C[ 0]=  -0.01980;  C[ 1]=  -1.92462; \n",
      "        lin_fit        :  C[ 0]=  -0.00203;  C[ 1]=   0.14191; \n",
      "    subrun 6: \n",
      "        exp_fit        :  C[ 0]=  -0.01900;  C[ 1]=  -1.95608; \n",
      "        lin_fit        :  C[ 0]=  -0.00202;  C[ 1]=   0.13925; \n",
      "    subrun 7: \n",
      "        exp_fit        :  C[ 0]=  -0.01663;  C[ 1]=  -1.94593; \n",
      "        lin_fit        :  C[ 0]=  -0.00184;  C[ 1]=   0.14108; \n",
      "    subrun 8: \n",
      "        exp_fit        :  C[ 0]=  -0.01896;  C[ 1]=  -1.92023; \n",
      "        lin_fit        :  C[ 0]=  -0.00206;  C[ 1]=   0.14381; \n",
      "    subrun 9: \n",
      "        exp_fit        :  C[ 0]=  -0.01739;  C[ 1]=  -1.94250; \n",
      "        lin_fit        :  C[ 0]=  -0.00183;  C[ 1]=   0.14042; \n",
      "senti 0.6;initi 0.65------------------------------\n",
      "    subrun 0: \n",
      "        exp_fit        :  C[ 0]=  -0.01841;  C[ 1]=  -1.95979; \n",
      "        lin_fit        :  C[ 0]=  -0.00200;  C[ 1]=   0.13929; \n",
      "    subrun 1: \n",
      "        exp_fit        :  C[ 0]=  -0.02042;  C[ 1]=  -1.96900; \n",
      "        lin_fit        :  C[ 0]=  -0.00203;  C[ 1]=   0.13629; \n",
      "    subrun 2: \n",
      "        exp_fit        :  C[ 0]=  -0.02124;  C[ 1]=  -1.92269; \n",
      "        lin_fit        :  C[ 0]=  -0.00217;  C[ 1]=   0.14210; \n",
      "    subrun 3: \n",
      "        exp_fit        :  C[ 0]=  -0.02108;  C[ 1]=  -1.94987; \n",
      "        lin_fit        :  C[ 0]=  -0.00217;  C[ 1]=   0.13920; \n",
      "    subrun 4: \n",
      "        exp_fit        :  C[ 0]=  -0.01881;  C[ 1]=  -1.92936; \n",
      "        lin_fit        :  C[ 0]=  -0.00196;  C[ 1]=   0.14178; \n",
      "    subrun 5: \n",
      "        exp_fit        :  C[ 0]=  -0.02222;  C[ 1]=  -1.91665; \n",
      "        lin_fit        :  C[ 0]=  -0.00230;  C[ 1]=   0.14331; \n",
      "    subrun 6: \n",
      "        exp_fit        :  C[ 0]=  -0.02111;  C[ 1]=  -1.93440; \n",
      "        lin_fit        :  C[ 0]=  -0.00227;  C[ 1]=   0.14213; \n",
      "    subrun 7: \n",
      "        exp_fit        :  C[ 0]=  -0.02171;  C[ 1]=  -1.95691; \n",
      "        lin_fit        :  C[ 0]=  -0.00222;  C[ 1]=   0.13828; \n",
      "    subrun 8: \n",
      "        exp_fit        :  C[ 0]=  -0.02117;  C[ 1]=  -1.95184; \n",
      "        lin_fit        :  C[ 0]=  -0.00221;  C[ 1]=   0.13944; \n",
      "    subrun 9: \n",
      "        exp_fit        :  C[ 0]=  -0.01919;  C[ 1]=  -1.95888; \n",
      "        lin_fit        :  C[ 0]=  -0.00203;  C[ 1]=   0.13873; \n",
      "senti 0.7;initi 0.7------------------------------\n",
      "    subrun 0: \n",
      "        exp_fit        :  C[ 0]=  -0.02179;  C[ 1]=  -1.98327; \n",
      "        lin_fit        :  C[ 0]=  -0.00228;  C[ 1]=   0.13635; \n",
      "    subrun 1: \n",
      "        exp_fit        :  C[ 0]=  -0.02124;  C[ 1]=  -1.93063; \n",
      "        lin_fit        :  C[ 0]=  -0.00220;  C[ 1]=   0.14161; \n",
      "    subrun 2: \n",
      "        exp_fit        :  C[ 0]=  -0.02341;  C[ 1]=  -1.92985; \n",
      "        lin_fit        :  C[ 0]=  -0.00248;  C[ 1]=   0.14229; \n",
      "    subrun 3: \n",
      "        exp_fit        :  C[ 0]=  -0.02238;  C[ 1]=  -1.92563; \n",
      "        lin_fit        :  C[ 0]=  -0.00241;  C[ 1]=   0.14310; \n",
      "    subrun 4: \n",
      "        exp_fit        :  C[ 0]=  -0.02187;  C[ 1]=  -1.96288; \n",
      "        lin_fit        :  C[ 0]=  -0.00231;  C[ 1]=   0.13845; \n",
      "    subrun 5: \n",
      "        exp_fit        :  C[ 0]=  -0.02250;  C[ 1]=  -1.95193; \n",
      "        lin_fit        :  C[ 0]=  -0.00236;  C[ 1]=   0.13957; \n",
      "    subrun 6: \n",
      "        exp_fit        :  C[ 0]=  -0.02086;  C[ 1]=  -1.92943; \n",
      "        lin_fit        :  C[ 0]=  -0.00213;  C[ 1]=   0.14142; \n",
      "    subrun 7: \n",
      "        exp_fit        :  C[ 0]=  -0.02385;  C[ 1]=  -1.96776; \n",
      "        lin_fit        :  C[ 0]=  -0.00247;  C[ 1]=   0.13768; \n",
      "    subrun 8: \n",
      "        exp_fit        :  C[ 0]=  -0.02199;  C[ 1]=  -1.92986; \n",
      "        lin_fit        :  C[ 0]=  -0.00233;  C[ 1]=   0.14233; \n",
      "    subrun 9: \n",
      "        exp_fit        :  C[ 0]=  -0.02163;  C[ 1]=  -1.97545; \n",
      "        lin_fit        :  C[ 0]=  -0.00223;  C[ 1]=   0.13651; \n",
      "senti 0.8;initi 0.75------------------------------\n",
      "    subrun 0: \n",
      "        exp_fit        :  C[ 0]=  -0.02224;  C[ 1]=  -1.95027; \n",
      "        lin_fit        :  C[ 0]=  -0.00235;  C[ 1]=   0.13985; \n",
      "    subrun 1: \n",
      "        exp_fit        :  C[ 0]=  -0.02295;  C[ 1]=  -1.93821; \n",
      "        lin_fit        :  C[ 0]=  -0.00237;  C[ 1]=   0.14087; \n",
      "    subrun 2: \n",
      "        exp_fit        :  C[ 0]=  -0.02258;  C[ 1]=  -1.93036; \n",
      "        lin_fit        :  C[ 0]=  -0.00233;  C[ 1]=   0.14144; \n",
      "    subrun 3: \n",
      "        exp_fit        :  C[ 0]=  -0.02128;  C[ 1]=  -1.95823; \n",
      "        lin_fit        :  C[ 0]=  -0.00224;  C[ 1]=   0.13876; \n",
      "    subrun 4: \n",
      "        exp_fit        :  C[ 0]=  -0.02269;  C[ 1]=  -1.94252; \n",
      "        lin_fit        :  C[ 0]=  -0.00238;  C[ 1]=   0.14065; \n",
      "    subrun 5: \n",
      "        exp_fit        :  C[ 0]=  -0.02176;  C[ 1]=  -1.93296; \n",
      "        lin_fit        :  C[ 0]=  -0.00223;  C[ 1]=   0.14118; \n",
      "    subrun 6: \n",
      "        exp_fit        :  C[ 0]=  -0.02260;  C[ 1]=  -1.93547; \n",
      "        lin_fit        :  C[ 0]=  -0.00233;  C[ 1]=   0.14079; \n",
      "    subrun 7: \n",
      "        exp_fit        :  C[ 0]=  -0.02221;  C[ 1]=  -1.95788; \n",
      "        lin_fit        :  C[ 0]=  -0.00236;  C[ 1]=   0.13918; \n",
      "    subrun 8: \n",
      "        exp_fit        :  C[ 0]=  -0.02509;  C[ 1]=  -1.95826; \n",
      "        lin_fit        :  C[ 0]=  -0.00256;  C[ 1]=   0.13841; \n",
      "    subrun 9: \n",
      "        exp_fit        :  C[ 0]=  -0.02325;  C[ 1]=  -1.90516; \n",
      "        lin_fit        :  C[ 0]=  -0.00241;  C[ 1]=   0.14469; \n",
      "senti 0.9;initi 0.8------------------------------\n",
      "    subrun 0: \n",
      "        exp_fit        :  C[ 0]=  -0.01938;  C[ 1]=  -1.91978; \n",
      "        lin_fit        :  C[ 0]=  -0.00204;  C[ 1]=   0.14311; \n",
      "    subrun 1: \n",
      "        exp_fit        :  C[ 0]=  -0.01896;  C[ 1]=  -1.92266; \n",
      "        lin_fit        :  C[ 0]=  -0.00200;  C[ 1]=   0.14273; \n",
      "    subrun 2: \n",
      "        exp_fit        :  C[ 0]=  -0.01908;  C[ 1]=  -1.91527; \n",
      "        lin_fit        :  C[ 0]=  -0.00207;  C[ 1]=   0.14430; \n",
      "    subrun 3: \n",
      "        exp_fit        :  C[ 0]=  -0.01926;  C[ 1]=  -1.93269; \n",
      "        lin_fit        :  C[ 0]=  -0.00206;  C[ 1]=   0.14197; \n",
      "    subrun 4: \n",
      "        exp_fit        :  C[ 0]=  -0.01844;  C[ 1]=  -1.92877; \n",
      "        lin_fit        :  C[ 0]=  -0.00197;  C[ 1]=   0.14235; \n",
      "    subrun 5: \n",
      "        exp_fit        :  C[ 0]=  -0.01902;  C[ 1]=  -1.92130; \n",
      "        lin_fit        :  C[ 0]=  -0.00201;  C[ 1]=   0.14298; \n",
      "    subrun 6: \n",
      "        exp_fit        :  C[ 0]=  -0.01929;  C[ 1]=  -1.92398; \n",
      "        lin_fit        :  C[ 0]=  -0.00203;  C[ 1]=   0.14254; \n",
      "    subrun 7: \n",
      "        exp_fit        :  C[ 0]=  -0.01818;  C[ 1]=  -1.92642; \n",
      "        lin_fit        :  C[ 0]=  -0.00195;  C[ 1]=   0.14266; \n",
      "    subrun 8: \n",
      "        exp_fit        :  C[ 0]=  -0.01860;  C[ 1]=  -1.92312; \n",
      "        lin_fit        :  C[ 0]=  -0.00197;  C[ 1]=   0.14278; \n",
      "    subrun 9: \n",
      "        exp_fit        :  C[ 0]=  -0.01968;  C[ 1]=  -1.93174; \n",
      "        lin_fit        :  C[ 0]=  -0.00211;  C[ 1]=   0.14213; \n"
     ]
    }
   ],
   "source": [
    "lab_diff.show_fit_results( ['exp_fit', 'lin_fit'], 'abs_avg_eq_dist', n_columns=5, same_y_scale=True, legend_loc='upper right')"
   ]
  },
  {
   "cell_type": "code",
   "execution_count": 20,
   "id": "7aaa2d61",
   "metadata": {
    "scrolled": true
   },
   "outputs": [
    {
     "data": {
      "image/png": "[encoded data removed]",
      "text/plain": [
       "<Figure size 1296x432 with 2 Axes>"
      ]
     },
     "metadata": {
      "needs_background": "light"
     },
     "output_type": "display_data"
    },
    {
     "data": {
      "image/png": "[encoded data removed]",
      "text/plain": [
       "<Figure size 1296x432 with 2 Axes>"
      ]
     },
     "metadata": {
      "needs_background": "light"
     },
     "output_type": "display_data"
    }
   ],
   "source": [
    "lab_diff.show_fit_coeff('exp_fit', 'abs_avg_eq_dist', coeff_names=['-1/parameter', 'intercept'], y_k_mapping='def')\n",
    "lab_diff.show_fit_coeff('lin_fit', 'abs_avg_eq_dist', coeff_names=['parameter', 'intercept'], y_k_mapping='def')"
   ]
  },
  {
   "cell_type": "code",
   "execution_count": null,
   "id": "b125a223",
   "metadata": {},
   "outputs": [],
   "source": []
  },
  {
   "cell_type": "code",
   "execution_count": null,
   "id": "6eb2416c",
   "metadata": {},
   "outputs": [],
   "source": []
  },
  {
   "cell_type": "code",
   "execution_count": null,
   "id": "bdfedfbb",
   "metadata": {},
   "outputs": [],
   "source": []
  },
  {
   "cell_type": "code",
   "execution_count": 21,
   "id": "12345ab4",
   "metadata": {},
   "outputs": [
    {
     "data": {
      "image/png": "[encoded data removed]",
      "text/plain": [
       "<Figure size 432x288 with 1 Axes>"
      ]
     },
     "metadata": {
      "needs_background": "light"
     },
     "output_type": "display_data"
    }
   ],
   "source": [
    "x=np.arange(0,150)\n",
    "\n",
    "for A, T in zip([0.6,0.5,0.4,0.3,0.2, 0.1],range(30,91,10)):\n",
    "    plt.plot(A*np.exp(-1/T*x), label=str(T)+\" \"+str(A/T))\n",
    "plt.legend()\n",
    "plt.show()"
   ]
  },
  {
   "cell_type": "code",
   "execution_count": 22,
   "id": "f6578874",
   "metadata": {},
   "outputs": [
    {
     "data": {
      "text/plain": [
       "0.36787944117144233"
      ]
     },
     "execution_count": 22,
     "metadata": {},
     "output_type": "execute_result"
    }
   ],
   "source": [
    "1/np.e"
   ]
  },
  {
   "cell_type": "code",
   "execution_count": null,
   "id": "814021c0",
   "metadata": {},
   "outputs": [],
   "source": []
  }
 ],
 "metadata": {
  "kernelspec": {
   "display_name": "beam",
   "language": "python",
   "name": "beam"
  },
  "language_info": {
   "codemirror_mode": {
    "name": "ipython",
    "version": 3
   },
   "file_extension": ".py",
   "mimetype": "text/x-python",
   "name": "python",
   "nbconvert_exporter": "python",
   "pygments_lexer": "ipython3",
   "version": "3.8.5"
  }
 },
 "nbformat": 4,
 "nbformat_minor": 5
}
